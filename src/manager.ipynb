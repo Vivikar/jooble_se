{
 "cells": [
  {
   "cell_type": "code",
   "execution_count": 1,
   "metadata": {},
   "outputs": [],
   "source": [
    "import json\n",
    "import gzip\n",
    "import os\n",
    "\n",
    "import requests\n",
    "import pandas as pd\n"
   ]
  },
  {
   "cell_type": "code",
   "execution_count": null,
   "metadata": {},
   "outputs": [],
   "source": [
    "indexer_url = \"http://127.0.0.1:13500/\"\n",
    "text_processing_url = \"http://127.0.0.1:13501/\"\n",
    "ranking_url = \"http://127.0.0.1:13502/\"\n",
    "snippets_url = \"http://127.0.0.1:13503/\"\n",
    "res_page_form_url = \"http://127.0.0.1:13504/\"\n"
   ]
  },
  {
   "cell_type": "code",
   "execution_count": null,
   "metadata": {},
   "outputs": [],
   "source": [
    "r = requests.post(indexer_url)\n",
    "print(r.status_code)\n",
    "print(r.text)\n",
    "\n",
    "#  normalize the document\n",
    "r = requests.post(text_processing_url + \"normalize_document\",\n",
    "                  json={\"id\": 7, \"title\": \"Садоводство\",\n",
    "                        \"text\": \"Саженцы декоративных и плодовых культур. \"\n",
    "                                \"Могилев. Гарантия.\"})\n",
    "print(r.status_code)\n",
    "print(json.loads(r.text))\n",
    "document = json.loads(r.text, encoding=\"utf-8\")\n",
    "\n",
    "#  add the document to index\n",
    "r = requests.post(indexer_url + \"indexer\", json=document)\n",
    "print(r.status_code)\n",
    "print(r.text)\n",
    "\n",
    "#  normalize the search query\n",
    "r = requests.post(text_processing_url + \"normalize_query\",\n",
    "                  json=\"плодовые культуры\")\n",
    "print(r.status_code)\n",
    "print(str(r.text))\n",
    "search_query = r.text\n",
    "\n",
    "# search in index\n",
    "r = requests.post(indexer_url + \"search\",\n",
    "                  json=search_query)\n",
    "print(r.status_code)\n",
    "print(r.text)\n",
    "\n",
    "# search in index\n",
    "r = requests.post(indexer_url + \"search\",\n",
    "                  json=\"водител\")\n",
    "print(r.status_code)\n",
    "print(r.text)"
   ]
  }
 ],
 "metadata": {
  "kernelspec": {
   "display_name": "Python 3",
   "language": "python",
   "name": "python3"
  },
  "language_info": {
   "codemirror_mode": {
    "name": "ipython",
    "version": 3
   },
   "file_extension": ".py",
   "mimetype": "text/x-python",
   "name": "python",
   "nbconvert_exporter": "python",
   "pygments_lexer": "ipython3",
   "version": "3.6.5"
  }
 },
 "nbformat": 4,
 "nbformat_minor": 2
}
