{
 "cells": [
  {
   "cell_type": "code",
   "execution_count": null,
   "metadata": {
    "collapsed": true
   },
   "outputs": [],
   "source": [
    "import requests\n",
    "from flask import Flask, request, render_template\n",
    "from wtforms import Form, TextField, validators\n",
    "\n",
    "import config\n",
    "\n",
    "indexer_url = config.indexer_url\n",
    "text_processing_url = config.text_processing_url\n",
    "ranking_url = config.ranking_url\n",
    "snippets_url = config.snippets_url\n",
    "res_page_form_url = config.res_page_form_url\n"
   ]
  },
  {
   "cell_type": "code",
   "execution_count": null,
   "metadata": {},
   "outputs": [],
   "source": [
    "class ReusableForm(Form):\n",
    "    name = TextField('Enter your request:', validators=[validators.DataRequired()])\n",
    "\n",
    "\n",
    "app = Flask(__name__)\n",
    "\n",
    "\n",
    "@app.route('/', methods=['GET', 'POST'])\n",
    "def index():\n",
    "    \"\"\"\n",
    "    If GET -> renders Main page from templates/index.html\n",
    "    If POST -> renders ranged search results\n",
    "    Parameters:\n",
    "    query: str\n",
    "\n",
    "    Returns\n",
    "    dictionary like {\"lang\": \"language\", \"text\": query, \"stemmed_text\": stemme\n",
    "    \"\"\"\n",
    "    form = ReusableForm(request.form)\n",
    "    if request.method == 'POST':\n",
    "        query = request.form['name']\n",
    "        print(text_processing_url + \"normalize_query\")\n",
    "        r = requests.post(text_processing_url + \"normalize_query\", json=query)\n",
    "        search_query = r.text\n",
    "        r = requests.post(indexer_url + \"search\", json=search_query)\n",
    "        search_results = r.text\n",
    "        r = requests.post(snippets_url + \"snippets\", json=search_results)\n",
    "        snipets = r.text\n",
    "        r = requests.post(res_page_form_url + \"result_page\", json=snipets)\n",
    "        result_page = r.text\n",
    "        return result_page\n",
    "    else:\n",
    "        return render_template('index.html', form=form)\n"
   ]
  },
  {
   "cell_type": "code",
   "execution_count": null,
   "metadata": {},
   "outputs": [],
   "source": [
    "\n",
    "if __name__ == \"__main__\":\n",
    "    app.run(port=config.MANAGER_PORT)\n",
    "    # app.run(host='0.0.0.0', port=config.MANAGER_PORT)\n"
   ]
  }
 ],
 "metadata": {
  "kernelspec": {
   "display_name": "Python 3",
   "language": "python",
   "name": "python3"
  },
  "language_info": {
   "codemirror_mode": {
    "name": "ipython",
    "version": 3
   },
   "file_extension": ".py",
   "mimetype": "text/x-python",
   "name": "python",
   "nbconvert_exporter": "python",
   "pygments_lexer": "ipython3",
   "version": "3.6.5"
  }
 },
 "nbformat": 4,
 "nbformat_minor": 2
}
