{
 "cells": [
  {
   "cell_type": "code",
   "execution_count": 13,
   "metadata": {
    "collapsed": true
   },
   "outputs": [],
   "source": [
    "import sqlite3\n",
    "import requests\n",
    "import json\n",
    "\n",
    "import doc_classes"
   ]
  },
  {
   "cell_type": "markdown",
   "metadata": {},
   "source": [
    "#### Describe class Document, or use it from module doc_classes"
   ]
  },
  {
   "cell_type": "code",
   "execution_count": 16,
   "metadata": {
    "collapsed": true
   },
   "outputs": [],
   "source": [
    " class Document():\n",
    "    \"\"\"Class for storing different information about a document.\"\"\"\n",
    "    \n",
    "    def __init__(self, **kwargs):\n",
    "        \"\"\"\n",
    "        Transform values of dictionary kwargs to class attributes.\n",
    "        \"\"\"\n",
    "        self.__dict__.update(kwargs)\n",
    "\n",
    "        \n",
    "    def __str__(self):\n",
    "        return str(self.__dict__)\n",
    "    \n",
    "    \n",
    "    def to_dict(self):\n",
    "        \"\"\"\n",
    "        Transform instance of class to dictionary.\n",
    "        Returns:\n",
    "        dictionary with class attributes and values\n",
    "        \"\"\"\n",
    "        return self.__dict__\n",
    "      \n",
    "        \n",
    "    def toJSON(self):\n",
    "        \"\"\"\n",
    "        Transform instance of class to json format.\n",
    "        Returns:\n",
    "        string\n",
    "        \"\"\"\n",
    "        return json.dumps(self, default=lambda obj: obj.__dict__)\n",
    "    "
   ]
  },
  {
   "cell_type": "code",
   "execution_count": 17,
   "metadata": {},
   "outputs": [
    {
     "name": "stdout",
     "output_type": "stream",
     "text": [
      "200\n",
      "The about page\n"
     ]
    }
   ],
   "source": [
    "r = requests.get(\"http://127.0.0.1:5000/about\")\n",
    "print(r.status_code)\n",
    "print(r.text)"
   ]
  },
  {
   "cell_type": "code",
   "execution_count": 18,
   "metadata": {
    "collapsed": true
   },
   "outputs": [],
   "source": [
    "document = Document(id=0, header=\"head\", metadata=\"some_data\")\n",
    "document2 = doc_classes.Document(id=2, header=\"head2\", metadata=\"some_data2\")"
   ]
  },
  {
   "cell_type": "markdown",
   "metadata": {},
   "source": [
    "### 1. Test ranging API"
   ]
  },
  {
   "cell_type": "code",
   "execution_count": 19,
   "metadata": {},
   "outputs": [
    {
     "name": "stdout",
     "output_type": "stream",
     "text": [
      "200\n",
      "[{\"id\": 0, \"header\": \"head\", \"metadata\": \"some_data\"}, {\"id\": 2, \"header\": \"head2\", \"metadata\": \"some_data2\"}]\n"
     ]
    }
   ],
   "source": [
    "r = requests.post('http://127.0.0.1:5000/ranging', json=[document.to_dict(),\n",
    "                                                        document2.to_dict()])\n",
    "print(r.status_code)\n",
    "print(r.text)"
   ]
  },
  {
   "cell_type": "code",
   "execution_count": null,
   "metadata": {
    "collapsed": true
   },
   "outputs": [],
   "source": [
    "#r = requests.post('http://127.0.0.1:13502/ranging',  json=[document.to_dict(),\n",
    "#                                                          document2.to_dict()])\n",
    "#print(r.status_code)\n",
    "#print(r.text)"
   ]
  },
  {
   "cell_type": "markdown",
   "metadata": {},
   "source": [
    "### 2. Test snippets API"
   ]
  },
  {
   "cell_type": "code",
   "execution_count": 20,
   "metadata": {},
   "outputs": [
    {
     "name": "stdout",
     "output_type": "stream",
     "text": [
      "200\n",
      "[{\"id\": 0, \"header\": \"head\", \"metadata\": \"some_data\"}, {\"id\": 2, \"header\": \"head2\", \"metadata\": \"some_data2\"}]\n"
     ]
    }
   ],
   "source": [
    "r = requests.post('http://127.0.0.1:5000/snippets', json=[document.to_dict(),\n",
    "                                                          document2.to_dict()])\n",
    "print(r.status_code)\n",
    "print(r.text)"
   ]
  },
  {
   "cell_type": "code",
   "execution_count": 8,
   "metadata": {
    "collapsed": true
   },
   "outputs": [],
   "source": [
    "#r = requests.post('http://127.0.0.1:13502/snippets', json=[document.to_dict(),\n",
    "#                                                          document2.to_dict()])\n",
    "#print(r.status_code)\n",
    "#print(r.text)"
   ]
  },
  {
   "cell_type": "markdown",
   "metadata": {},
   "source": [
    "### 3. Test SERP API"
   ]
  },
  {
   "cell_type": "code",
   "execution_count": 21,
   "metadata": {},
   "outputs": [
    {
     "name": "stdout",
     "output_type": "stream",
     "text": [
      "200\n",
      "html\n"
     ]
    }
   ],
   "source": [
    "r = requests.post('http://127.0.0.1:5000/return_page', json=[document.to_dict(),\n",
    "                                                             document2.to_dict()])\n",
    "print(r.status_code)\n",
    "print(r.text)"
   ]
  },
  {
   "cell_type": "code",
   "execution_count": 10,
   "metadata": {
    "collapsed": true
   },
   "outputs": [],
   "source": [
    "#r = requests.post('http://127.0.0.1:13502/return_page', json=[document.to_dict(),\n",
    "#                                                             document2.to_dict()])\n",
    "#print(r.status_code)\n",
    "#print(r.text)"
   ]
  },
  {
   "cell_type": "code",
   "execution_count": null,
   "metadata": {
    "collapsed": true
   },
   "outputs": [],
   "source": []
  }
 ],
 "metadata": {
  "kernelspec": {
   "display_name": "Python 3",
   "language": "python",
   "name": "python3"
  },
  "language_info": {
   "codemirror_mode": {
    "name": "ipython",
    "version": 3
   },
   "file_extension": ".py",
   "mimetype": "text/x-python",
   "name": "python",
   "nbconvert_exporter": "python",
   "pygments_lexer": "ipython3",
   "version": "3.6.3"
  }
 },
 "nbformat": 4,
 "nbformat_minor": 2
}
