{
 "cells": [
  {
   "cell_type": "code",
   "execution_count": 1,
   "metadata": {},
   "outputs": [],
   "source": [
    "from flask import Flask, request, render_template\n",
    "import json\n",
    "from textblob import TextBlob\n",
    "\n",
    "import pandas as pd"
   ]
  },
  {
   "cell_type": "code",
   "execution_count": 23,
   "metadata": {},
   "outputs": [
    {
     "name": "stdout",
     "output_type": "stream",
     "text": [
      "[nltk_data] Downloading package stopwords to\n",
      "[nltk_data]     /home/vzalevskyi/nltk_data...\n",
      "[nltk_data]   Package stopwords is already up-to-date!\n",
      "[nltk_data] Downloading package punkt to /home/vzalevskyi/nltk_data...\n",
      "[nltk_data]   Package punkt is already up-to-date!\n"
     ]
    }
   ],
   "source": [
    "from nltk import wordpunct_tokenize\n",
    "from nltk.corpus import stopwords\n",
    "import nltk\n",
    "nltk.download('stopwords')\n",
    "nltk.download('punkt')\n",
    "\n",
    "def _calculate_languages_ratios(text):\n",
    "    \"\"\"\n",
    "    Calculate probability of given text to be written in several languages and\n",
    "    return a dictionary that looks like {'french': 2, 'spanish': 4, 'english': 0}\n",
    "    \n",
    "    @param text: Text whose language want to be detected\n",
    "    @type text: str\n",
    "    \n",
    "    @return: Dictionary with languages and unique stopwords seen in analyzed text\n",
    "    @rtype: dict\n",
    "    \"\"\"\n",
    "\n",
    "    languages_ratios = {}\n",
    "\n",
    "    '''\n",
    "    nltk.wordpunct_tokenize() splits all punctuations into separate tokens\n",
    "    \n",
    "    >>> wordpunct_tokenize(\"That's thirty minutes away. I'll be there in ten.\")\n",
    "    ['That', \"'\", 's', 'thirty', 'minutes', 'away', '.', 'I', \"'\", 'll', 'be', 'there', 'in', 'ten', '.']\n",
    "    '''\n",
    "\n",
    "    tokens = wordpunct_tokenize(text)\n",
    "    words = [word.lower() for word in tokens]\n",
    "\n",
    "    # Compute per language included in nltk number of unique stopwords appearing in analyzed text\n",
    "    for language in stopwords.fileids():\n",
    "        stopwords_set = set(stopwords.words(language))\n",
    "        words_set = set(words)\n",
    "        common_elements = words_set.intersection(stopwords_set)\n",
    "\n",
    "        languages_ratios[language] = len(common_elements) # language \"score\"\n",
    "\n",
    "    return languages_ratios\n",
    "\n",
    "\n",
    "#----------------------------------------------------------------------\n",
    "def detect_language(text):\n",
    "    \"\"\"\n",
    "    Calculate probability of given text to be written in several languages and\n",
    "    return the highest scored.\n",
    "    \n",
    "    It uses a stopwords based approach, counting how many unique stopwords\n",
    "    are seen in analyzed text.\n",
    "    \n",
    "    @param text: Text whose language want to be detected\n",
    "    @type text: str\n",
    "    \n",
    "    @return: Most scored language guessed\n",
    "    @rtype: str\n",
    "    \"\"\"\n",
    "\n",
    "    ratios = _calculate_languages_ratios(text)\n",
    "\n",
    "    most_rated_language = max(ratios, key=ratios.get)\n",
    "\n",
    "    return most_rated_language\n",
    "\n",
    "def stemm_analyze (text, lang):\n",
    "    #Stemming\n",
    "    from nltk.stem import PorterStemmer\n",
    "    from nltk.stem.snowball import RussianStemmer\n",
    "    from nltk.tokenize import sent_tokenize, word_tokenize\n",
    "    import nltk\n",
    "\n",
    "    new_text = text\n",
    "    ps = RussianStemmer()\n",
    "    words = word_tokenize(new_text)\n",
    "    tokenized_words = []\n",
    "    for w in words:\n",
    "        tokenized_words.append(ps.stem(w))\n",
    "\n",
    "    #Excluding Stop-words\n",
    "    from nltk.corpus import stopwords\n",
    "    filtered_words = [word.lower() for word in tokenized_words if word not in stopwords.words('english') and word.isalpha()]\n",
    "    return filtered_words "
   ]
  },
  {
   "cell_type": "code",
   "execution_count": 20,
   "metadata": {},
   "outputs": [
    {
     "ename": "KeyboardInterrupt",
     "evalue": "",
     "output_type": "error",
     "traceback": [
      "\u001b[0;31m---------------------------------------------------------------------------\u001b[0m",
      "\u001b[0;31mKeyboardInterrupt\u001b[0m                         Traceback (most recent call last)",
      "\u001b[0;32m<ipython-input-20-826519df0346>\u001b[0m in \u001b[0;36m<module>\u001b[0;34m()\u001b[0m\n\u001b[0;32m----> 1\u001b[0;31m \u001b[0mdf\u001b[0m \u001b[0;34m=\u001b[0m \u001b[0mpd\u001b[0m\u001b[0;34m.\u001b[0m\u001b[0mread_csv\u001b[0m\u001b[0;34m(\u001b[0m\u001b[0;34m\"../../Downloads/eval_texts.csv\"\u001b[0m\u001b[0;34m,\u001b[0m \u001b[0msep\u001b[0m\u001b[0;34m=\u001b[0m\u001b[0;34m'\\t'\u001b[0m\u001b[0;34m)\u001b[0m\u001b[0;34m\u001b[0m\u001b[0m\n\u001b[0m\u001b[1;32m      2\u001b[0m \u001b[0mdf\u001b[0m \u001b[0;34m=\u001b[0m \u001b[0mdf\u001b[0m\u001b[0;34m[\u001b[0m\u001b[0;34m:\u001b[0m\u001b[0;36m100\u001b[0m\u001b[0;34m]\u001b[0m\u001b[0;34m\u001b[0m\u001b[0m\n",
      "\u001b[0;31mKeyboardInterrupt\u001b[0m: "
     ]
    }
   ],
   "source": [
    "df = pd.read_csv(\"../../Downloads/eval_texts.csv\", sep='\\t')\n",
    "df = df[:100]"
   ]
  },
  {
   "cell_type": "code",
   "execution_count": 4,
   "metadata": {},
   "outputs": [],
   "source": [
    "inverted_index = {}\n",
    "forward_index = []\n",
    "documents_id = []"
   ]
  },
  {
   "cell_type": "code",
   "execution_count": 5,
   "metadata": {},
   "outputs": [],
   "source": [
    "def add_forward_index(document):\n",
    "    if document[\"id\"] not in documents_id:\n",
    "        documents_id.append(document[\"id\"])\n",
    "        forward_index.append({\"doc_id\": int(document[\"id\"]), \"text\": document[\"text\"]})"
   ]
  },
  {
   "cell_type": "code",
   "execution_count": null,
   "metadata": {},
   "outputs": [],
   "source": [
    "def search_one(words):\n",
    "    idx = []\n",
    "    words = words.split(\" \")\n",
    "      \n",
    "    for word in words:\n",
    "        if word in inverted_index.keys():\n",
    "            idx.append(set( [doc[\"doc_id\"] for doc in inverted_index[word]]))     \n",
    "    \n",
    "    indexes = idx[0]\n",
    "    for doc_set in idx:\n",
    "        indexes = indexes.intersection(doc_set)\n",
    "    \n",
    "    return list(indexes)"
   ]
  },
  {
   "cell_type": "code",
   "execution_count": null,
   "metadata": {},
   "outputs": [],
   "source": [
    "def add_inverted_index(document):\n",
    "    tokens = TextBlob(document[\"text_searchable\"]).words\n",
    "    \n",
    "    if document[\"id\"] not in documents_id:\n",
    "        documents_id.append(document[\"id\"])\n",
    "        for token in tokens:\n",
    "            if token in inverted_index.keys():\n",
    "                inverted_index[token].append({\"doc_id\": int(document[\"id\"])})\n",
    "            else:\n",
    "                inverted_index[token] = [{\"doc_id\": int(document[\"id\"])}]\n",
    "          "
   ]
  },
  {
   "cell_type": "code",
   "execution_count": null,
   "metadata": {},
   "outputs": [],
   "source": [
    "%%time\n",
    "for i in range(len(df)):\n",
    "    doc = df.loc[i].to_dict()\n",
    "    add_inverted_index(doc)\n",
    "    add_forward_index(doc)"
   ]
  },
  {
   "cell_type": "code",
   "execution_count": 9,
   "metadata": {},
   "outputs": [],
   "source": [
    "def add_inverted_index(document):\n",
    "    tokens = TextBlob(document[\"text_searchable\"]).words\n",
    "    \n",
    "    if document[\"id\"] not in documents_id:\n",
    "        for token in tokens:\n",
    "            if token in inverted_index.keys():\n",
    "                inverted_index[token].append({\"doc_id\": document[\"id\"]})\n",
    "            else:\n",
    "                inverted_index[token] = [{\"doc_id\": document[\"id\"]}]"
   ]
  },
  {
   "cell_type": "code",
   "execution_count": 10,
   "metadata": {},
   "outputs": [],
   "source": [
    "inverse_ind = {\"w1\":{\"docid\":[1]}}"
   ]
  },
  {
   "cell_type": "code",
   "execution_count": 11,
   "metadata": {},
   "outputs": [],
   "source": [
    "def searchsearch_word(search_word):\n",
    "    #search_word = request.json[\"search_word\"]\n",
    "    idx = []\n",
    "    for word in inverse_ind.keys():\n",
    "        if search_word==word:\n",
    "            idx.append(inverse_ind[word])\n",
    "    return idx"
   ]
  },
  {
   "cell_type": "code",
   "execution_count": 12,
   "metadata": {
    "scrolled": true
   },
   "outputs": [
    {
     "data": {
      "text/plain": [
       "[{'docid': [1]}]"
      ]
     },
     "execution_count": 12,
     "metadata": {},
     "output_type": "execute_result"
    }
   ],
   "source": [
    "searchsearch_word(\"w1\")"
   ]
  },
  {
   "cell_type": "code",
   "execution_count": 13,
   "metadata": {},
   "outputs": [
    {
     "name": "stderr",
     "output_type": "stream",
     "text": [
      "/home/vzalevskyi/.local/lib/python3.6/site-packages/ipykernel_launcher.py:4: DeprecationWarning: Required is going away in WTForms 3.0, use DataRequired\n",
      "  after removing the cwd from sys.path.\n"
     ]
    }
   ],
   "source": [
    "from wtforms import Form, TextField, TextAreaField, validators, StringField, SubmitField\n",
    "\n",
    "class ReusableForm(Form):\n",
    "    name = TextField('Enter your request:', validators=[validators.required()])"
   ]
  },
  {
   "cell_type": "code",
   "execution_count": 29,
   "metadata": {},
   "outputs": [],
   "source": [
    "import requests"
   ]
  },
  {
   "cell_type": "code",
   "execution_count": 61,
   "metadata": {
    "scrolled": true
   },
   "outputs": [],
   "source": [
    "app = Flask(__name__)\n",
    "\n",
    "@app.route('/', methods=['GET', 'POST'])\n",
    "def index():\n",
    "    form = ReusableForm(request.form)\n",
    "    if request.method == 'POST':\n",
    "        query = request.form['name']\n",
    "        query = stemm_serv(query)[\"stemmed_text\"]\n",
    "        result = get_snippets(q=query)\n",
    "        return result\n",
    " \n",
    "    return render_template('index.html', form=form)\n",
    "    \n",
    "@app.route(\"/test\", methods=[\"POST\"])\n",
    "def test(j):\n",
    "    #j = request.json\n",
    "    l = detect_language(j)\n",
    "    return json.dumps({\"status\":\"ok\", \"got_data\":j, \"data_len\":l})\n",
    "    \n",
    "@app.route(\"/det_lang\", methods=[\"POST\"])\n",
    "def det_lang(query):\n",
    "    #j = request.json\n",
    "    l = detect_language(query)\n",
    "    return {\"status\":\"ok\", \"got_data\":query, \"language\":l}\n",
    "    \n",
    "\n",
    "@app.route(\"/stemm\", methods=[\"POST\"])\n",
    "def stemm_serv(query):\n",
    "    lang_out = det_lang(query)\n",
    "    stemmed = stemm_analyze(query, lang_out[\"language\"])\n",
    "    stemmed = \" \".join(str(x) for x in stemmed)\n",
    "    return {\"lang\":lang_out[\"language\"], \"text\":query, \"stemmed_text\":stemmed}\n",
    "    \n",
    "@app.route(\"/rev_ind\", methods=[\"POST\"])\n",
    "def rev_ind(query):\n",
    "    stemmed = stemm_serv(query)\n",
    "    stemmed_text = stemmed[\"stemmed_text\"]\n",
    "    idx = []\n",
    "    #j = request.json\n",
    "    for word in stemmed_text:\n",
    "        idx.append(len(word))\n",
    "    return json.dumps({\"idxs\":idx, \"stemmed_text\":stemmed_text}, ensure_ascii=False)\n",
    "\n",
    "@app.route(\"/logging\", methods=[\"POST\"])\n",
    "def loggs():\n",
    "    stemmed_text = request.json[\"stemmed_text\"]\n",
    "    idx = []\n",
    "    j = request.json\n",
    "    for word in stemmed_text:\n",
    "        idx.append(len(word))\n",
    "    return json.dumps({\"idxs\":idx, \"tstemmed_textext\":j[\"stemmed_text\"]})\n",
    "\n",
    "    \n",
    "@app.route('/about')\n",
    "def about():\n",
    "    return 'The about page'\n",
    "        \n",
    "\n",
    "@app.route('/ranging', methods=[\"POST\"])\n",
    "def ranging():\n",
    "    \"\"\"\n",
    "    Returns:\n",
    "    List with dictionaries according to ranged documents ID as json file\n",
    "    \"\"\"\n",
    "    list_of_dicts = request.json \n",
    "    documents = [Document(**doc) for doc in list_of_dicts]\n",
    "    return json.dumps([doc.to_dict() for doc in documents])\n",
    "    \n",
    "\n",
    "@app.route('/return_page', methods=[\"POST\"])\n",
    "def return_page():\n",
    "    \"\"\"\n",
    "    Returns:\n",
    "    \n",
    "    \"\"\"\n",
    "    list_of_dicts = request.json \n",
    "    documents = [Document(**doc) for doc in list_of_dicts]\n",
    "    result = [doc.to_dict() for doc in documents]\n",
    "    \n",
    "    return \"html\"\n",
    "\n",
    "@app.route('/indexator',  methods=[\"POST\"])\n",
    "def add_to_index():\n",
    "    \"\"\"\n",
    "    Returns:\n",
    "    \n",
    "    \"\"\"\n",
    "    document = request.json \n",
    "    add_inverted_index(document)\n",
    "    add_forward_index(document)\n",
    "   \n",
    "    return \"added to index\"\n",
    "\n",
    "\n",
    "@app.route(\"/search\", methods=[\"POST\"])\n",
    "def search():\n",
    "    search_words = request.json[\"search_word\"]\n",
    "    \n",
    "    result = search_one(search_words)\n",
    "    \n",
    "    return json.dumps(result)\n",
    "\n",
    "\n",
    "@app.route('/snippets', methods=[\"POST\"])\n",
    "def get_snippets(q=None):\n",
    "    \"\"\"\n",
    "    Returns:   \n",
    "    \"\"\" \n",
    "    if q == None:\n",
    "        search_words = request.json[\"search_words\"]\n",
    "        print(type(search_words))\n",
    "        result = search_one(search_words)\n",
    "        dicts = []\n",
    "        for doc_id in result:\n",
    "            val = list(df[df.id==doc_id].text.values)\n",
    "            dicts.append({str(doc_id): val})\n",
    "        return json.dumps(dicts, ensure_ascii=False)\n",
    "    else:\n",
    "        search_words = q\n",
    "        result = search_one(search_words)\n",
    "        dicts = []\n",
    "        for doc_id in result:\n",
    "            val = list(df[df.id==doc_id].text.values)\n",
    "            dicts.append({str(doc_id): val})\n",
    "        return json.dumps(dicts, ensure_ascii=False)"
   ]
  },
  {
   "cell_type": "code",
   "execution_count": 62,
   "metadata": {},
   "outputs": [
    {
     "name": "stdout",
     "output_type": "stream",
     "text": [
      " * Serving Flask app \"__main__\" (lazy loading)\n",
      " * Environment: production\n",
      "   WARNING: Do not use the development server in a production environment.\n",
      "   Use a production WSGI server instead.\n",
      " * Debug mode: off\n"
     ]
    },
    {
     "name": "stderr",
     "output_type": "stream",
     "text": [
      " * Running on http://0.0.0.0:13502/ (Press CTRL+C to quit)\n",
      "127.0.0.1 - - [12/Nov/2018 00:11:07] \"GET /favicon.ico HTTP/1.1\" 404 -\n",
      "127.0.0.1 - - [12/Nov/2018 00:11:08] \"POST / HTTP/1.1\" 200 -\n",
      "127.0.0.1 - - [12/Nov/2018 00:11:09] \"GET /favicon.ico HTTP/1.1\" 404 -\n",
      "127.0.0.1 - - [12/Nov/2018 00:11:10] \"GET /favicon.ico HTTP/1.1\" 404 -\n",
      "127.0.0.1 - - [12/Nov/2018 00:11:13] \"POST / HTTP/1.1\" 200 -\n",
      "127.0.0.1 - - [12/Nov/2018 00:11:13] \"GET /favicon.ico HTTP/1.1\" 404 -\n",
      "127.0.0.1 - - [12/Nov/2018 00:11:14] \"GET /favicon.ico HTTP/1.1\" 404 -\n",
      "127.0.0.1 - - [12/Nov/2018 00:11:17] \"POST / HTTP/1.1\" 200 -\n",
      "127.0.0.1 - - [12/Nov/2018 00:11:18] \"GET /favicon.ico HTTP/1.1\" 404 -\n",
      "127.0.0.1 - - [12/Nov/2018 00:11:19] \"GET /favicon.ico HTTP/1.1\" 404 -\n",
      "127.0.0.1 - - [12/Nov/2018 00:11:26] \"POST / HTTP/1.1\" 200 -\n",
      "127.0.0.1 - - [12/Nov/2018 00:11:27] \"GET /favicon.ico HTTP/1.1\" 404 -\n",
      "127.0.0.1 - - [12/Nov/2018 00:11:28] \"GET /favicon.ico HTTP/1.1\" 404 -\n",
      "127.0.0.1 - - [12/Nov/2018 00:11:31] \"POST / HTTP/1.1\" 200 -\n",
      "127.0.0.1 - - [12/Nov/2018 00:11:31] \"GET /favicon.ico HTTP/1.1\" 404 -\n",
      "127.0.0.1 - - [12/Nov/2018 00:11:32] \"GET /favicon.ico HTTP/1.1\" 404 -\n",
      "127.0.0.1 - - [12/Nov/2018 00:11:35] \"POST / HTTP/1.1\" 200 -\n",
      "127.0.0.1 - - [12/Nov/2018 00:11:35] \"GET /favicon.ico HTTP/1.1\" 404 -\n",
      "127.0.0.1 - - [12/Nov/2018 00:11:36] \"GET /favicon.ico HTTP/1.1\" 404 -\n",
      "[2018-11-12 00:11:52,750] ERROR in app: Exception on / [POST]\n",
      "Traceback (most recent call last):\n",
      "  File \"/home/vzalevskyi/anaconda3/lib/python3.6/site-packages/flask/app.py\", line 2292, in wsgi_app\n",
      "    response = self.full_dispatch_request()\n",
      "  File \"/home/vzalevskyi/anaconda3/lib/python3.6/site-packages/flask/app.py\", line 1815, in full_dispatch_request\n",
      "    rv = self.handle_user_exception(e)\n",
      "  File \"/home/vzalevskyi/anaconda3/lib/python3.6/site-packages/flask/app.py\", line 1718, in handle_user_exception\n",
      "    reraise(exc_type, exc_value, tb)\n",
      "  File \"/home/vzalevskyi/anaconda3/lib/python3.6/site-packages/flask/_compat.py\", line 35, in reraise\n",
      "    raise value\n",
      "  File \"/home/vzalevskyi/anaconda3/lib/python3.6/site-packages/flask/app.py\", line 1813, in full_dispatch_request\n",
      "    rv = self.dispatch_request()\n",
      "  File \"/home/vzalevskyi/anaconda3/lib/python3.6/site-packages/flask/app.py\", line 1799, in dispatch_request\n",
      "    return self.view_functions[rule.endpoint](**req.view_args)\n",
      "  File \"<ipython-input-61-2a753079c98b>\", line 9, in index\n",
      "    result = get_snippets(q=query)\n",
      "  File \"<ipython-input-61-2a753079c98b>\", line 120, in get_snippets\n",
      "    result = search_one(search_words)\n",
      "  File \"<ipython-input-6-d5faddae0ced>\", line 9, in search_one\n",
      "    indexes = idx[0]\n",
      "IndexError: list index out of range\n",
      "127.0.0.1 - - [12/Nov/2018 00:11:52] \"POST / HTTP/1.1\" 500 -\n",
      "127.0.0.1 - - [12/Nov/2018 00:11:53] \"GET /favicon.ico HTTP/1.1\" 404 -\n",
      "127.0.0.1 - - [12/Nov/2018 00:12:07] \"GET /favicon.ico HTTP/1.1\" 404 -\n",
      "[2018-11-12 00:12:09,489] ERROR in app: Exception on / [POST]\n",
      "Traceback (most recent call last):\n",
      "  File \"/home/vzalevskyi/anaconda3/lib/python3.6/site-packages/flask/app.py\", line 2292, in wsgi_app\n",
      "    response = self.full_dispatch_request()\n",
      "  File \"/home/vzalevskyi/anaconda3/lib/python3.6/site-packages/flask/app.py\", line 1815, in full_dispatch_request\n",
      "    rv = self.handle_user_exception(e)\n",
      "  File \"/home/vzalevskyi/anaconda3/lib/python3.6/site-packages/flask/app.py\", line 1718, in handle_user_exception\n",
      "    reraise(exc_type, exc_value, tb)\n",
      "  File \"/home/vzalevskyi/anaconda3/lib/python3.6/site-packages/flask/_compat.py\", line 35, in reraise\n",
      "    raise value\n",
      "  File \"/home/vzalevskyi/anaconda3/lib/python3.6/site-packages/flask/app.py\", line 1813, in full_dispatch_request\n",
      "    rv = self.dispatch_request()\n",
      "  File \"/home/vzalevskyi/anaconda3/lib/python3.6/site-packages/flask/app.py\", line 1799, in dispatch_request\n",
      "    return self.view_functions[rule.endpoint](**req.view_args)\n",
      "  File \"<ipython-input-61-2a753079c98b>\", line 9, in index\n",
      "    result = get_snippets(q=query)\n",
      "  File \"<ipython-input-61-2a753079c98b>\", line 120, in get_snippets\n",
      "    result = search_one(search_words)\n",
      "  File \"<ipython-input-6-d5faddae0ced>\", line 9, in search_one\n",
      "    indexes = idx[0]\n",
      "IndexError: list index out of range\n",
      "127.0.0.1 - - [12/Nov/2018 00:12:09] \"POST / HTTP/1.1\" 500 -\n",
      "127.0.0.1 - - [12/Nov/2018 00:12:10] \"GET /favicon.ico HTTP/1.1\" 404 -\n",
      "127.0.0.1 - - [12/Nov/2018 00:12:26] \"GET /favicon.ico HTTP/1.1\" 404 -\n",
      "127.0.0.1 - - [12/Nov/2018 00:12:30] \"POST / HTTP/1.1\" 200 -\n",
      "127.0.0.1 - - [12/Nov/2018 00:12:31] \"GET /favicon.ico HTTP/1.1\" 404 -\n"
     ]
    }
   ],
   "source": [
    "if __name__ == \"__main__\":\n",
    "    app.run(host='0.0.0.0', port=13502)"
   ]
  },
  {
   "cell_type": "code",
   "execution_count": 77,
   "metadata": {
    "collapsed": true
   },
   "outputs": [],
   "source": [
    "print(len(inverted_index))\n",
    "print(len(forward_index))"
   ]
  },
  {
   "cell_type": "code",
   "execution_count": 82,
   "metadata": {
    "collapsed": true
   },
   "outputs": [],
   "source": [
    "inverted_index.keys()"
   ]
  },
  {
   "cell_type": "code",
   "execution_count": 83,
   "metadata": {},
   "outputs": [
    {
     "data": {
      "text/html": [
       "<div>\n",
       "<style scoped>\n",
       "    .dataframe tbody tr th:only-of-type {\n",
       "        vertical-align: middle;\n",
       "    }\n",
       "\n",
       "    .dataframe tbody tr th {\n",
       "        vertical-align: top;\n",
       "    }\n",
       "\n",
       "    .dataframe thead th {\n",
       "        text-align: right;\n",
       "    }\n",
       "</style>\n",
       "<table border=\"1\" class=\"dataframe\">\n",
       "  <thead>\n",
       "    <tr style=\"text-align: right;\">\n",
       "      <th></th>\n",
       "      <th>id</th>\n",
       "      <th>text</th>\n",
       "    </tr>\n",
       "  </thead>\n",
       "  <tbody>\n",
       "    <tr>\n",
       "      <th>0</th>\n",
       "      <td>1</td>\n",
       "      <td>fdfdf</td>\n",
       "    </tr>\n",
       "    <tr>\n",
       "      <th>0</th>\n",
       "      <td>3334</td>\n",
       "      <td>fdffssgddfdfdf</td>\n",
       "    </tr>\n",
       "  </tbody>\n",
       "</table>\n",
       "</div>"
      ],
      "text/plain": [
       "     id            text\n",
       "0     1           fdfdf\n",
       "0  3334  fdffssgddfdfdf"
      ]
     },
     "execution_count": 83,
     "metadata": {},
     "output_type": "execute_result"
    }
   ],
   "source": [
    "add_forw_index(rrroww)"
   ]
  }
 ],
 "metadata": {
  "kernelspec": {
   "display_name": "Python 3",
   "language": "python",
   "name": "python3"
  },
  "language_info": {
   "codemirror_mode": {
    "name": "ipython",
    "version": 3
   },
   "file_extension": ".py",
   "mimetype": "text/x-python",
   "name": "python",
   "nbconvert_exporter": "python",
   "pygments_lexer": "ipython3",
   "version": "3.6.6"
  }
 },
 "nbformat": 4,
 "nbformat_minor": 2
}
