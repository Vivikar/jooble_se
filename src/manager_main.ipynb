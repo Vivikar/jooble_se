{
 "cells": [
  {
   "cell_type": "code",
   "execution_count": 1,
   "metadata": {
    "collapsed": true
   },
   "outputs": [],
   "source": [
    "import json\n",
    "import gzip\n",
    "import os\n",
    "import time\n",
    "\n",
    "import requests\n",
    "import pandas as pd\n",
    "\n",
    "import config\n",
    "\n",
    "indexer_url = config.indexer_url\n",
    "text_processing_url = config.text_processing_url\n",
    "ranking_url = config.ranking_url\n",
    "snippets_url = config.snippets_url\n",
    "res_page_form_url = config.res_page_form_url"
   ]
  },
  {
   "cell_type": "code",
   "execution_count": 2,
   "metadata": {
    "collapsed": true
   },
   "outputs": [],
   "source": [
    "def test_system():\n",
    "    r = requests.post(indexer_url)\n",
    "    print(r.status_code)\n",
    "    print(r.text)\n",
    "\n",
    "    #  normalize the document\n",
    "    r = requests.post(text_processing_url + \"normalize_document\",\n",
    "                      json={\"id\": 7, \"title\": \"Садоводство\",\n",
    "                            \"text\": \"Саженцы декоративных и плодовых культур. \"\n",
    "                                    \"Могилев. Гарантия.\"})\n",
    "    print(r.status_code)\n",
    "    print(json.loads(r.text))\n",
    "    document = json.loads(r.text, encoding=\"utf-8\")\n",
    "\n",
    "    #  add the document to index\n",
    "    r = requests.post(indexer_url + \"indexer\", json=document)\n",
    "    print(r.status_code)\n",
    "    print(r.text)\n",
    "\n",
    "    #  normalize the search query\n",
    "    r = requests.post(text_processing_url + \"normalize_query\",\n",
    "                      json=\"плодовые культуры\")\n",
    "    print(r.status_code)\n",
    "    print(str(r.text))\n",
    "    search_query = r.text\n",
    "\n",
    "    # search in index\n",
    "    r = requests.post(indexer_url + \"search\", json=search_query)\n",
    "    print(r.status_code)\n",
    "    print(r.text)\n",
    "\n",
    "    # search in index\n",
    "    r = requests.post(indexer_url + \"search\", json=\"водител\")\n",
    "    print(r.status_code)\n",
    "    print(r.text)\n",
    "    print(json.loads(r.text, encoding=\"utf-8\"))\n",
    "\n",
    "\n",
    "def load_data(data_path):\n",
    "    docs_info = []\n",
    "    docs_text = []\n",
    "    file_names = os.listdir(data_path)\n",
    "\n",
    "    for file in file_names:\n",
    "        if \"text\" in file:\n",
    "            with gzip.open(os.path.join(data_path, file), \"rb\") as f:\n",
    "                for line in f:\n",
    "                    vacancy = json.loads(line)\n",
    "                    docs_text.append(vacancy)\n",
    "        else:\n",
    "            with gzip.open(os.path.join(data_path, file), \"rb\") as inf:\n",
    "                for line in inf:\n",
    "                    vacancy = json.loads(line)\n",
    "                    docs_info.append(vacancy)\n",
    "\n",
    "    assert len(docs_info) == len(docs_text)\n",
    "    assert \"id\" in docs_info[0].keys()\n",
    "    assert \"id_job\" in docs_text[0].keys()\n",
    "\n",
    "    docs_info = pd.DataFrame(docs_info)\n",
    "    docs_text = pd.DataFrame(docs_text)\n",
    "    docs_info.drop_duplicates([\"id\"], inplace=True)\n",
    "    docs_text.drop_duplicates([\"id_job\"], inplace=True)\n",
    "    data = docs_info.merge(docs_text, left_on='id', right_on='id_job', how='outer')\n",
    "    return data\n",
    "\n",
    "\n",
    "def add_dataset_to_index(dataset):\n",
    "    for index, row in dataset.iterrows():\n",
    "        r = requests.post(text_processing_url + \"normalize_document\", json=row.to_dict())\n",
    "        status_normilizer = r.status_code\n",
    "        doc_normilized = json.loads(r.text)\n",
    "        r = requests.post(indexer_url + \"indexer\", json=doc_normilized)\n",
    "        status_indexer = r.status_code\n",
    "\n",
    "        if status_indexer != 200 or status_normilizer != 200:\n",
    "            print(\" Request number\", index, \": \")\n",
    "            print(\"error\")\n",
    "    print(\"dataset adding finished!\")"
   ]
  },
  {
   "cell_type": "code",
   "execution_count": null,
   "metadata": {
    "collapsed": true
   },
   "outputs": [],
   "source": [
    "#dataset_path = os.path.join(\"..\", \"data\", \"by_jobs\", \"by\")\n",
    "#documents = load_data(dataset_path)\n",
    "#print(\"Number of documents =\", len(documents))\n",
    "#print(\"Text of first five documents:\")\n",
    "#print(documents.head()[\"text\"])\n",
    "#\n",
    "#start = time.time()\n",
    "#add_dataset_to_index(documents.loc[:30000])\n",
    "#print(\"Adding time =\", time.time() - start)\n",
    "#r = requests.post(indexer_url + \"save_index\")\n",
    "#  search in index\n",
    "# r = requests.post(indexer_url + \"search\", json=\"вектор\")\n",
    "# print(r.status_code)\n",
    "# print(r.text)\n",
    "# print(json.loads(r.text, encoding=\"utf-8\"))\n",
    "\n",
    "# -------##--------##--------##--------##--------##--------##--------##--------#"
   ]
  },
  {
   "cell_type": "code",
   "execution_count": 5,
   "metadata": {},
   "outputs": [
    {
     "name": "stdout",
     "output_type": "stream",
     "text": [
      "200\n"
     ]
    }
   ],
   "source": [
    "r = requests.post(indexer_url + \"search\", json=\"вектор\")\n",
    "print(r.status_code)\n",
    "#print(r.text)\n",
    "#print(json.loads(r.text, encoding=\"utf-8\"))"
   ]
  },
  {
   "cell_type": "code",
   "execution_count": null,
   "metadata": {
    "collapsed": true
   },
   "outputs": [],
   "source": []
  }
 ],
 "metadata": {
  "kernelspec": {
   "display_name": "Python 3",
   "language": "python",
   "name": "python3"
  },
  "language_info": {
   "codemirror_mode": {
    "name": "ipython",
    "version": 3
   },
   "file_extension": ".py",
   "mimetype": "text/x-python",
   "name": "python",
   "nbconvert_exporter": "python",
   "pygments_lexer": "ipython3",
   "version": "3.6.3"
  }
 },
 "nbformat": 4,
 "nbformat_minor": 1
}
