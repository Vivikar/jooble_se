{
 "cells": [
  {
   "cell_type": "code",
   "execution_count": null,
   "metadata": {},
   "outputs": [],
   "source": [
    "import json\n",
    "\n",
    "from flask import Flask, request, render_template\n",
    "import jsonpickle\n",
    "import requests\n",
    "import config\n"
   ]
  },
  {
   "cell_type": "markdown",
   "metadata": {},
   "source": [
    "from wtforms import Form, StringField, SelectField\n",
    "\n",
    "class SearchForm(Form):\n",
    "    search = StringField('Enter your search request:')"
   ]
  },
  {
   "cell_type": "code",
   "execution_count": null,
   "metadata": {},
   "outputs": [],
   "source": [
    "from wtforms import Form, TextField, TextAreaField, validators, StringField, SubmitField\n",
    "\n",
    "class ReusableForm(Form):\n",
    "    query = TextField('Search Query: ', validators=[validators.required()])\n",
    "    skills = TextAreaField('Enster skils: ')"
   ]
  },
  {
   "cell_type": "code",
   "execution_count": null,
   "metadata": {},
   "outputs": [],
   "source": [
    "app = Flask(__name__)\n",
    "\n",
    "\n",
    "@app.route('/', methods=['GET', 'POST'])\n",
    "def index():\n",
    "    form = ReusableForm(request.form)\n",
    "    if request.method == 'POST':\n",
    "        query = request.form['query']\n",
    "        skills = request.form['skills']\n",
    "        r = requests.post(\"http://127.0.0.1:13505/\",\n",
    "                          json={\"query\":query})\n",
    "        \n",
    "\n",
    "    return render_template('main_page.html', form=form)\n",
    "\n",
    "\n",
    "@app.route('/result_page', methods=[\"POST\"])\n",
    "def get_result_page():\n",
    "    \"\"\"\n",
    "    :param dict params: Like {\"documents\": [list of Documents],\n",
    "                              \"query\": str query}\n",
    "                              \n",
    "    :return str serp: Search engine result page\n",
    "    \"\"\"\n",
    "    params = jsonpickle.decode(request.json)\n",
    "    #print(params)\n",
    "    form = ReusableForm(request.form)\n",
    "    #print(params[\"documents\"][0].snippet)\n",
    "    return render_template('result_page.html', form=form, documents = params[\"documents\"])\n"
   ]
  },
  {
   "cell_type": "code",
   "execution_count": null,
   "metadata": {
    "scrolled": true
   },
   "outputs": [],
   "source": [
    "if __name__ == \"__main__\":\n",
    "    app.run(host=config.RESULT_PAGE_HOST,\n",
    "            port=config.RESULT_PAGE_PORT)\n"
   ]
  }
 ],
 "metadata": {
  "kernelspec": {
   "display_name": "Python 3",
   "language": "python",
   "name": "python3"
  },
  "language_info": {
   "codemirror_mode": {
    "name": "ipython",
    "version": 3
   },
   "file_extension": ".py",
   "mimetype": "text/x-python",
   "name": "python",
   "nbconvert_exporter": "python",
   "pygments_lexer": "ipython3",
   "version": "3.6.6"
  }
 },
 "nbformat": 4,
 "nbformat_minor": 2
}
