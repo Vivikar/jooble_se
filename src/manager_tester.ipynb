{
 "cells": [
  {
   "cell_type": "code",
   "execution_count": 1,
   "metadata": {},
   "outputs": [],
   "source": [
    "import json\n",
    "import gzip\n",
    "import os\n",
    "\n",
    "import requests\n",
    "import pandas as pd\n",
    "\n",
    "import config\n"
   ]
  },
  {
   "cell_type": "code",
   "execution_count": 18,
   "metadata": {},
   "outputs": [],
   "source": [
    "indexer_url = config.indexer_url\n",
    "text_processing_url = config.text_processing_url\n",
    "ranking_url = config.ranking_url\n",
    "snippets_url = config.snippets_url\n",
    "res_page_form_url = config.res_page_form_url\n",
    "\n",
    "query = \"Саженцы культур\"\n"
   ]
  },
  {
   "cell_type": "code",
   "execution_count": 47,
   "metadata": {},
   "outputs": [
    {
     "name": "stdout",
     "output_type": "stream",
     "text": [
      "Accessing indexer\n",
      "200\n",
      "Main page of indexer\n",
      "\n",
      "Normalizing document\n",
      "200\n",
      "{'id': 7, 'title': 'Садоводство', 'text': 'Саженцы декоративных и плодовых культур. Могилев. Гарантия.', 'text_normalized': 'саженц декоративн и плодов культур . могил . гарант .', 'title_normalized': 'садоводств'}\n",
      "\n",
      "Adding document to index\n",
      "200\n",
      "Document already exist in index.\n",
      "\n",
      "Normalizing search query\n",
      "200\n",
      "саженц культур\n",
      "\n",
      "Searching in index\n",
      "200\n",
      "{\"documents\": [{\"id\": 7, \"title\": \"Садоводство\", \"text\": \"Саженцы декоративных и плодовых культур. Могилев. Гарантия.\", \"text_normalized\": \"саженц декоративн и плодов культур . могил . гарант .\", \"title_normalized\": \"садоводств\"}], \"terms\": [{\"term\": \"саженц\", \"inverted_index\": [{\"id\": 7, \"count\": 1, \"count_title\": 0, \"length\": 6, \"pos\": [0], \"pos_raw\": []}]}, {\"term\": \"культур\", \"inverted_index\": [{\"id\": 7, \"count\": 1, \"count_title\": 0, \"length\": 7, \"pos\": [27], \"pos_raw\": [32]}]}]}\n",
      "\n",
      "Getting snippet-list\n",
      "200\n",
      "{\"results\": [{\"id\": 7, \"title\": \"Садоводство\", \"text\": \"Саженцы декоративных и плодовых культур. Могилев. Гарантия.\", \"text_normalized\": \"саженц декоративн и плодов культур . могил . гарант .\", \"title_normalized\": \"садоводств\", \"snippet\": \"Саженцы декоративных и плодовых культур. Могилев. Гарантия\"}]}\n",
      "\n",
      "SERP results\n",
      "200\n",
      "\u001b[1mСадоводство\u001b[0;0m\n",
      "document id a.k.a. url: 7\n",
      "Саженцы декоративных и плодовых культур. Могилев. Гарантия\n",
      "....................................................................................................\n"
     ]
    }
   ],
   "source": [
    "print(\"Accessing indexer\")\n",
    "r = requests.post(indexer_url)\n",
    "print(r.status_code)\n",
    "print(r.text)\n",
    "\n",
    "print(\"\\nNormalizing document\")\n",
    "#  normalize the document\n",
    "r = requests.post(text_processing_url + \"normalize_document\",\n",
    "                  json={\"id\": 7, \"title\": \"Садоводство\",\n",
    "                        \"text\": \"Саженцы декоративных и плодовых культур. \"\n",
    "                                \"Могилев. Гарантия.\"})\n",
    "print(r.status_code)\n",
    "print(json.loads(r.text))\n",
    "document = json.loads(r.text, encoding=\"utf-8\")\n",
    "print(\"\\nAdding document to index\")\n",
    "\n",
    "#  add the document to index\n",
    "r = requests.post(indexer_url + \"indexer\", json=document)\n",
    "print(r.status_code)\n",
    "print(r.text)\n",
    "\n",
    "print(\"\\nNormalizing search query\")\n",
    "#  normalize the search query\n",
    "r = requests.post(text_processing_url + \"normalize_query\",\n",
    "                  json=query)\n",
    "print(r.status_code)\n",
    "print(str(r.text))\n",
    "search_query = r.text\n",
    "\n",
    "print(\"\\nSearching in index\")\n",
    "# search in index\n",
    "r = requests.post(indexer_url + \"search\",\n",
    "                  json=search_query)\n",
    "print(r.status_code)\n",
    "print(r.text)\n",
    "#search_results = type(json.loads(r.text, encoding=\"utf-8\"))\n",
    "search_results = r.text\n",
    "\n",
    "print(\"\\nGetting snippet-list\")\n",
    "# getting search results with snippets\n",
    "h_query = r.text\n",
    "\n",
    "r = requests.post(snippets_url + \"snippets\",\n",
    "                  json=search_results)\n",
    "print(r.status_code)\n",
    "print(r.text)\n",
    "srch_results = r.text\n",
    "\n",
    "print(\"\\nSERP results\")\n",
    "# getting search results with snippets\n",
    "h_query = r.text\n",
    "\n",
    "r = requests.post(res_page_form_url + \"result_page\",\n",
    "                  json=h_query)\n",
    "print(r.status_code)\n",
    "print(r.text)"
   ]
  }
 ],
 "metadata": {
  "kernelspec": {
   "display_name": "Python 3",
   "language": "python",
   "name": "python3"
  },
  "language_info": {
   "codemirror_mode": {
    "name": "ipython",
    "version": 3
   },
   "file_extension": ".py",
   "mimetype": "text/x-python",
   "name": "python",
   "nbconvert_exporter": "python",
   "pygments_lexer": "ipython3",
   "version": "3.6.6"
  }
 },
 "nbformat": 4,
 "nbformat_minor": 2
}
