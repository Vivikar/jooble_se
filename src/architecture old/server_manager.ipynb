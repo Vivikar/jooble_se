{
 "cells": [
  {
   "cell_type": "code",
   "execution_count": 3,
   "metadata": {},
   "outputs": [],
   "source": [
    "import json\n",
    "\n",
    "import requests\n",
    "from flask import Flask, request, render_template\n",
    "from wtforms import Form, TextField, validators, TextAreaField\n",
    "import jsonpickle\n",
    "\n",
    "import config\n",
    "from document import Document\n",
    "\n",
    "indexer_url = config.indexer_url\n",
    "text_processing_url = config.text_processing_url\n",
    "ranking_url = config.ranking_url\n",
    "snippets_url = config.snippets_url\n",
    "res_page_form_url = config.res_page_form_url\n"
   ]
  },
  {
   "cell_type": "code",
   "execution_count": 4,
   "metadata": {},
   "outputs": [
    {
     "name": "stderr",
     "output_type": "stream",
     "text": [
      "/home/vzalevskyi/.local/lib/python3.6/site-packages/ipykernel_launcher.py:2: DeprecationWarning: Required is going away in WTForms 3.0, use DataRequired\n",
      "  \n"
     ]
    }
   ],
   "source": [
    "class ReusableForm(Form):\n",
    "    query = TextField('Search Query: ', validators=[validators.required()])\n",
    "    skills = TextAreaField('Enster skils: ')\n",
    "\n",
    "\n",
    "app = Flask(__name__)\n",
    "\n",
    "\n",
    "@app.route('/', methods=['GET', 'POST'])\n",
    "def index():\n",
    "    \"\"\"\n",
    "    If GET -> renders Main page from templates/index.html\n",
    "    If POST -> renders ranged search results\n",
    "    \"\"\"\n",
    "    form = ReusableForm(request.form)\n",
    "    if request.method == 'POST':\n",
    "        query = request.form['query']\n",
    "        \n",
    "        # Normilize search query\n",
    "        r = requests.post(text_processing_url + config.NORMALIZE_QUERY_PATH,\n",
    "                          json=query)\n",
    "        search_query = r.text\n",
    "        \n",
    "        # Search\n",
    "        r = requests.post(indexer_url + config.SEARCH_PATH,\n",
    "                          json=search_query)\n",
    "        search_result = jsonpickle.decode(r.text)\n",
    "        documents = search_result[\"documents\"]\n",
    "        terms = search_result[\"terms\"]\n",
    "        \n",
    "        # Ranking\n",
    "        search_result = {\"documents\": documents, \"query\": search_query}\n",
    "        r = requests.post(ranking_url + config.RANK_PATH,\n",
    "                          json=jsonpickle.encode(search_result))\n",
    "        search_result = jsonpickle.decode(r.text)\n",
    "        \n",
    "        # Get snippets\n",
    "        search_result = {\"documents\": [i[1] for i in search_result],\n",
    "                         \"terms\": terms}\n",
    "        r = requests.post(snippets_url + config.SNIPPETS_PATH,\n",
    "                          json=jsonpickle.encode(search_result))\n",
    "        search_result = jsonpickle.decode(r.text)\n",
    "        \n",
    "        # SERP\n",
    "        search_result = {\"documents\": search_result, \"query\": search_query}\n",
    "        r = requests.post(res_page_form_url + config.RESULT_PAGE_PATH,\n",
    "                          json=jsonpickle.encode(search_result))\n",
    "        result_page = r.text\n",
    "        return result_page\n",
    "    else:\n",
    "        return render_template('main_page.html', form=form)\n"
   ]
  },
  {
   "cell_type": "code",
   "execution_count": null,
   "metadata": {},
   "outputs": [
    {
     "name": "stdout",
     "output_type": "stream",
     "text": [
      " * Serving Flask app \"__main__\" (lazy loading)\n",
      " * Environment: production\n",
      "   WARNING: Do not use the development server in a production environment.\n",
      "   Use a production WSGI server instead.\n",
      " * Debug mode: off\n"
     ]
    },
    {
     "name": "stderr",
     "output_type": "stream",
     "text": [
      " * Running on http://127.0.0.1:13505/ (Press CTRL+C to quit)\n",
      "127.0.0.1 - - [09/Dec/2018 01:02:07] \"GET / HTTP/1.1\" 200 -\n",
      "127.0.0.1 - - [09/Dec/2018 01:02:07] \"GET /static/css/style.css HTTP/1.1\" 200 -\n",
      "127.0.0.1 - - [09/Dec/2018 01:02:08] \"GET /favicon.ico HTTP/1.1\" 404 -\n",
      "127.0.0.1 - - [09/Dec/2018 01:02:19] \"POST / HTTP/1.1\" 200 -\n",
      "127.0.0.1 - - [09/Dec/2018 01:02:19] \"GET /favicon.ico HTTP/1.1\" 404 -\n"
     ]
    }
   ],
   "source": [
    "if __name__ == \"__main__\":\n",
    "    app.run(host=config.MANAGER_HOST, port=config.MANAGER_PORT)\n"
   ]
  }
 ],
 "metadata": {
  "kernelspec": {
   "display_name": "Python 3",
   "language": "python",
   "name": "python3"
  },
  "language_info": {
   "codemirror_mode": {
    "name": "ipython",
    "version": 3
   },
   "file_extension": ".py",
   "mimetype": "text/x-python",
   "name": "python",
   "nbconvert_exporter": "python",
   "pygments_lexer": "ipython3",
   "version": "3.6.6"
  }
 },
 "nbformat": 4,
 "nbformat_minor": 2
}
