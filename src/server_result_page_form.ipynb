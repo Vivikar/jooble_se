{
 "cells": [
  {
   "cell_type": "code",
   "execution_count": 1,
   "metadata": {},
   "outputs": [],
   "source": [
    "import json\n",
    "\n",
    "from flask import Flask, request, render_template\n",
    "import jsonpickle\n",
    "import requests\n",
    "\n",
    "from config_src import config\n"
   ]
  },
  {
   "cell_type": "code",
   "execution_count": 2,
   "metadata": {},
   "outputs": [
    {
     "name": "stderr",
     "output_type": "stream",
     "text": [
      "C:\\My_programs\\Miniconda3\\lib\\site-packages\\ipykernel_launcher.py:4: DeprecationWarning: Required is going away in WTForms 3.0, use DataRequired\n",
      "  after removing the cwd from sys.path.\n"
     ]
    }
   ],
   "source": [
    "from wtforms import Form, TextField, TextAreaField, validators, StringField, SubmitField\n",
    "\n",
    "class ReusableForm(Form):\n",
    "    query = TextField('Search Query: ', validators=[validators.required()])\n",
    "    skills = TextAreaField('Enster skils: ')"
   ]
  },
  {
   "cell_type": "code",
   "execution_count": 5,
   "metadata": {},
   "outputs": [],
   "source": [
    "app = Flask(__name__)\n",
    "\n",
    "@app.route('/result_page', methods=[\"POST\"])\n",
    "def get_result_page():\n",
    "    \"\"\"\n",
    "    :param dict params: Like {\"documents\": [list of Documents],\n",
    "                              \"query\": str query}\n",
    "                              \n",
    "    :return str serp: Search engine result page\n",
    "    \"\"\"\n",
    "    params = jsonpickle.decode(request.json)\n",
    "    form = ReusableForm(request.form)\n",
    "    if params[\"documents\"] == []:\n",
    "        return render_template('result_page.html', form=form, documents=None, query=params[\"query\"])\n",
    "        \n",
    "    return render_template('result_page.html', form=form, documents = params[\"documents\"])\n"
   ]
  },
  {
   "cell_type": "code",
   "execution_count": 6,
   "metadata": {
    "scrolled": true
   },
   "outputs": [
    {
     "name": "stdout",
     "output_type": "stream",
     "text": [
      " * Serving Flask app \"__main__\" (lazy loading)\n",
      " * Environment: production\n",
      "   WARNING: Do not use the development server in a production environment.\n",
      "   Use a production WSGI server instead.\n",
      " * Debug mode: off\n"
     ]
    },
    {
     "name": "stderr",
     "output_type": "stream",
     "text": [
      " * Running on http://127.0.0.1:13504/ (Press CTRL+C to quit)\n",
      "[2018-12-11 12:25:00,129] ERROR in app: Exception on /result_page [POST]\n",
      "Traceback (most recent call last):\n",
      "  File \"C:\\My_programs\\Miniconda3\\lib\\site-packages\\flask\\app.py\", line 2292, in wsgi_app\n",
      "    response = self.full_dispatch_request()\n",
      "  File \"C:\\My_programs\\Miniconda3\\lib\\site-packages\\flask\\app.py\", line 1815, in full_dispatch_request\n",
      "    rv = self.handle_user_exception(e)\n",
      "  File \"C:\\My_programs\\Miniconda3\\lib\\site-packages\\flask\\app.py\", line 1718, in handle_user_exception\n",
      "    reraise(exc_type, exc_value, tb)\n",
      "  File \"C:\\My_programs\\Miniconda3\\lib\\site-packages\\flask\\_compat.py\", line 35, in reraise\n",
      "    raise value\n",
      "  File \"C:\\My_programs\\Miniconda3\\lib\\site-packages\\flask\\app.py\", line 1813, in full_dispatch_request\n",
      "    rv = self.dispatch_request()\n",
      "  File \"C:\\My_programs\\Miniconda3\\lib\\site-packages\\flask\\app.py\", line 1799, in dispatch_request\n",
      "    return self.view_functions[rule.endpoint](**req.view_args)\n",
      "  File \"<ipython-input-5-7473f04ad12b>\", line 16, in get_result_page\n",
      "    return render_template('result_page.html', form=form, documents = params[\"documents\"])\n",
      "  File \"C:\\My_programs\\Miniconda3\\lib\\site-packages\\flask\\templating.py\", line 135, in render_template\n",
      "    context, ctx.app)\n",
      "  File \"C:\\My_programs\\Miniconda3\\lib\\site-packages\\flask\\templating.py\", line 117, in _render\n",
      "    rv = template.render(context)\n",
      "  File \"C:\\My_programs\\Miniconda3\\lib\\site-packages\\jinja2\\asyncsupport.py\", line 76, in render\n",
      "    return original_render(self, *args, **kwargs)\n",
      "  File \"C:\\My_programs\\Miniconda3\\lib\\site-packages\\jinja2\\environment.py\", line 1008, in render\n",
      "    return self.environment.handle_exception(exc_info, True)\n",
      "  File \"C:\\My_programs\\Miniconda3\\lib\\site-packages\\jinja2\\environment.py\", line 780, in handle_exception\n",
      "    reraise(exc_type, exc_value, tb)\n",
      "  File \"C:\\My_programs\\Miniconda3\\lib\\site-packages\\jinja2\\_compat.py\", line 37, in reraise\n",
      "    raise value.with_traceback(tb)\n",
      "  File \"D:\\Study\\Python\\jooble-ir-2018-scissors\\src\\templates\\result_page.html\", line 65, in top-level template code\n",
      "    <h3 class = \"vacancies_h3\">{{ documents[5].title }}</h3>\n",
      "  File \"C:\\My_programs\\Miniconda3\\lib\\site-packages\\jinja2\\environment.py\", line 430, in getattr\n",
      "    return getattr(obj, attribute)\n",
      "jinja2.exceptions.UndefinedError: list object has no element 5\n",
      "127.0.0.1 - - [11/Dec/2018 12:25:00] \"\u001b[1m\u001b[35mPOST /result_page HTTP/1.1\u001b[0m\" 500 -\n",
      "[2018-12-11 12:25:24,722] ERROR in app: Exception on /result_page [POST]\n",
      "Traceback (most recent call last):\n",
      "  File \"C:\\My_programs\\Miniconda3\\lib\\site-packages\\flask\\app.py\", line 2292, in wsgi_app\n",
      "    response = self.full_dispatch_request()\n",
      "  File \"C:\\My_programs\\Miniconda3\\lib\\site-packages\\flask\\app.py\", line 1815, in full_dispatch_request\n",
      "    rv = self.handle_user_exception(e)\n",
      "  File \"C:\\My_programs\\Miniconda3\\lib\\site-packages\\flask\\app.py\", line 1718, in handle_user_exception\n",
      "    reraise(exc_type, exc_value, tb)\n",
      "  File \"C:\\My_programs\\Miniconda3\\lib\\site-packages\\flask\\_compat.py\", line 35, in reraise\n",
      "    raise value\n",
      "  File \"C:\\My_programs\\Miniconda3\\lib\\site-packages\\flask\\app.py\", line 1813, in full_dispatch_request\n",
      "    rv = self.dispatch_request()\n",
      "  File \"C:\\My_programs\\Miniconda3\\lib\\site-packages\\flask\\app.py\", line 1799, in dispatch_request\n",
      "    return self.view_functions[rule.endpoint](**req.view_args)\n",
      "  File \"<ipython-input-5-7473f04ad12b>\", line 14, in get_result_page\n",
      "    return render_template('result_page.html', form=form, documents=[], query=params[\"query\"])\n",
      "  File \"C:\\My_programs\\Miniconda3\\lib\\site-packages\\flask\\templating.py\", line 135, in render_template\n",
      "    context, ctx.app)\n",
      "  File \"C:\\My_programs\\Miniconda3\\lib\\site-packages\\flask\\templating.py\", line 117, in _render\n",
      "    rv = template.render(context)\n",
      "  File \"C:\\My_programs\\Miniconda3\\lib\\site-packages\\jinja2\\asyncsupport.py\", line 76, in render\n",
      "    return original_render(self, *args, **kwargs)\n",
      "  File \"C:\\My_programs\\Miniconda3\\lib\\site-packages\\jinja2\\environment.py\", line 1008, in render\n",
      "    return self.environment.handle_exception(exc_info, True)\n",
      "  File \"C:\\My_programs\\Miniconda3\\lib\\site-packages\\jinja2\\environment.py\", line 780, in handle_exception\n",
      "    reraise(exc_type, exc_value, tb)\n",
      "  File \"C:\\My_programs\\Miniconda3\\lib\\site-packages\\jinja2\\_compat.py\", line 37, in reraise\n",
      "    raise value.with_traceback(tb)\n",
      "  File \"D:\\Study\\Python\\jooble-ir-2018-scissors\\src\\templates\\result_page.html\", line 35, in top-level template code\n",
      "    <h3 class = \"vacancies_h3\">{{ documents[0].title }}</h3>\n",
      "  File \"C:\\My_programs\\Miniconda3\\lib\\site-packages\\jinja2\\environment.py\", line 430, in getattr\n",
      "    return getattr(obj, attribute)\n",
      "jinja2.exceptions.UndefinedError: list object has no element 0\n",
      "127.0.0.1 - - [11/Dec/2018 12:25:24] \"\u001b[1m\u001b[35mPOST /result_page HTTP/1.1\u001b[0m\" 500 -\n",
      "127.0.0.1 - - [11/Dec/2018 12:25:53] \"\u001b[37mPOST /result_page HTTP/1.1\u001b[0m\" 200 -\n",
      "127.0.0.1 - - [11/Dec/2018 12:26:10] \"\u001b[37mPOST /result_page HTTP/1.1\u001b[0m\" 200 -\n"
     ]
    }
   ],
   "source": [
    "if __name__ == \"__main__\":\n",
    "    app.run(host=config.RESULT_PAGE_HOST,\n",
    "            port=config.RESULT_PAGE_PORT)\n"
   ]
  },
  {
   "cell_type": "code",
   "execution_count": null,
   "metadata": {},
   "outputs": [],
   "source": []
  }
 ],
 "metadata": {
  "kernelspec": {
   "display_name": "Python 3",
   "language": "python",
   "name": "python3"
  },
  "language_info": {
   "codemirror_mode": {
    "name": "ipython",
    "version": 3
   },
   "file_extension": ".py",
   "mimetype": "text/x-python",
   "name": "python",
   "nbconvert_exporter": "python",
   "pygments_lexer": "ipython3",
   "version": "3.6.5"
  }
 },
 "nbformat": 4,
 "nbformat_minor": 2
}
