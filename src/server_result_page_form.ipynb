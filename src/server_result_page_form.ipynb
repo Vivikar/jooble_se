{
 "cells": [
  {
   "cell_type": "code",
   "execution_count": null,
   "metadata": {},
   "outputs": [],
   "source": [
    "import json\n",
    "\n",
    "from flask import Flask, request\n",
    "import jsonpickle\n",
    "\n",
    "import config\n"
   ]
  },
  {
   "cell_type": "code",
   "execution_count": null,
   "metadata": {},
   "outputs": [],
   "source": [
    "app = Flask(__name__)\n",
    "\n",
    "\n",
    "@app.route('/', methods=['GET', 'POST'])\n",
    "def index():\n",
    "    return \"main page of SERP\"\n",
    "\n",
    "\n",
    "@app.route('/result_page', methods=[\"POST\"])\n",
    "def get_result_page():\n",
    "    \"\"\"\n",
    "    :param dict params: Like {\"documents\": [list of Documents],\n",
    "                              \"query\": str query}\n",
    "                              \n",
    "    :return str serp: Search engine result page\n",
    "    \"\"\"\n",
    "    params = jsonpickle.decode(request.json)\n",
    "    documents = params[\"documents\"]\n",
    "    query = params[\"query\"]\n",
    "    serp = \"\"\n",
    "    for i in range(min(len(documents), 10)):\n",
    "        res = '\\033[1m' + documents[i].title + \"\\033[0;0m\" \\\n",
    "              + \"\\n\" + \"document id a.k.a. url: \" + str(documents[i].id) \\\n",
    "              + \"\\n\" + documents[i].snippet\n",
    "        serp += res +\"\\n\" + \".\"*100 + \"\\n\"\n",
    "    return serp\n"
   ]
  },
  {
   "cell_type": "code",
   "execution_count": null,
   "metadata": {},
   "outputs": [],
   "source": [
    "if __name__ == \"__main__\":\n",
    "    app.run(host=config.RESULT_PAGE_HOST,\n",
    "            port=config.RESULT_PAGE_PORT)\n"
   ]
  },
  {
   "cell_type": "code",
   "execution_count": null,
   "metadata": {},
   "outputs": [],
   "source": []
  }
 ],
 "metadata": {
  "kernelspec": {
   "display_name": "Python 3",
   "language": "python",
   "name": "python3"
  },
  "language_info": {
   "codemirror_mode": {
    "name": "ipython",
    "version": 3
   },
   "file_extension": ".py",
   "mimetype": "text/x-python",
   "name": "python",
   "nbconvert_exporter": "python",
   "pygments_lexer": "ipython3",
   "version": "3.6.5"
  }
 },
 "nbformat": 4,
 "nbformat_minor": 2
}
