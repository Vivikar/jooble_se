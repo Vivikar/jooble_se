{
 "cells": [
  {
   "cell_type": "code",
   "execution_count": 1,
   "metadata": {},
   "outputs": [],
   "source": [
    "import json\n",
    "\n",
    "from flask import Flask, request, render_template\n",
    "import jsonpickle\n",
    "import requests\n",
    "import config\n"
   ]
  },
  {
   "cell_type": "markdown",
   "metadata": {},
   "source": [
    "from wtforms import Form, StringField, SelectField\n",
    "\n",
    "class SearchForm(Form):\n",
    "    search = StringField('Enter your search request:')"
   ]
  },
  {
   "cell_type": "code",
   "execution_count": 2,
   "metadata": {},
   "outputs": [
    {
     "name": "stderr",
     "output_type": "stream",
     "text": [
      "/home/vzalevskyi/.local/lib/python3.6/site-packages/ipykernel_launcher.py:4: DeprecationWarning: Required is going away in WTForms 3.0, use DataRequired\n",
      "  after removing the cwd from sys.path.\n",
      "/home/vzalevskyi/.local/lib/python3.6/site-packages/ipykernel_launcher.py:5: DeprecationWarning: Required is going away in WTForms 3.0, use DataRequired\n",
      "  \"\"\"\n"
     ]
    }
   ],
   "source": [
    "from wtforms import Form, TextField, TextAreaField, validators, StringField, SubmitField\n",
    "\n",
    "class ReusableForm(Form):\n",
    "    query = TextField('Search Query: ', validators=[validators.required()])\n",
    "    skills = TextField('Enster skils: ', validators=[validators.required()])"
   ]
  },
  {
   "cell_type": "code",
   "execution_count": 12,
   "metadata": {},
   "outputs": [],
   "source": [
    "app = Flask(__name__)\n",
    "\n",
    "\n",
    "@app.route('/', methods=['GET', 'POST'])\n",
    "def index():\n",
    "    form = ReusableForm(request.form)\n",
    "    if request.method == 'POST':\n",
    "        query = request.form['query']\n",
    "        skills = request.form['skills']\n",
    "        r = requests.post(\"http://127.0.0.1:13504/result_page\",\n",
    "                          json=query)\n",
    "        return r.text\n",
    "    return render_template('main_page.html', form=form)\n",
    "\n",
    "\n",
    "@app.route('/result_page', methods=[\"POST\"])\n",
    "def get_result_page():\n",
    "    \"\"\"\n",
    "    :param dict params: Like {\"documents\": [list of Documents],\n",
    "                              \"query\": str query}\n",
    "                              \n",
    "    :return str serp: Search engine result page\n",
    "    \"\"\"\n",
    "    params = request.json\n",
    "\n",
    "    return str(params) + \"PROCCESSED!!! \"\n"
   ]
  },
  {
   "cell_type": "code",
   "execution_count": 13,
   "metadata": {
    "scrolled": true
   },
   "outputs": [
    {
     "name": "stdout",
     "output_type": "stream",
     "text": [
      " * Serving Flask app \"__main__\" (lazy loading)\n",
      " * Environment: production\n",
      "   WARNING: Do not use the development server in a production environment.\n",
      "   Use a production WSGI server instead.\n",
      " * Debug mode: off\n"
     ]
    },
    {
     "name": "stderr",
     "output_type": "stream",
     "text": [
      " * Running on http://127.0.0.1:13504/ (Press CTRL+C to quit)\n",
      "127.0.0.1 - - [08/Dec/2018 16:08:59] \"GET / HTTP/1.1\" 200 -\n",
      "127.0.0.1 - - [08/Dec/2018 16:08:59] \"GET /favicon.ico HTTP/1.1\" 404 -\n",
      "127.0.0.1 - - [08/Dec/2018 16:09:02] \"POST /result_page HTTP/1.1\" 200 -\n",
      "127.0.0.1 - - [08/Dec/2018 16:09:02] \"POST / HTTP/1.1\" 200 -\n",
      "127.0.0.1 - - [08/Dec/2018 16:09:03] \"GET /favicon.ico HTTP/1.1\" 404 -\n",
      "127.0.0.1 - - [08/Dec/2018 16:09:05] \"GET /favicon.ico HTTP/1.1\" 404 -\n"
     ]
    }
   ],
   "source": [
    "if __name__ == \"__main__\":\n",
    "    app.run(host=config.RESULT_PAGE_HOST,\n",
    "            port=config.RESULT_PAGE_PORT)\n"
   ]
  },
  {
   "cell_type": "code",
   "execution_count": null,
   "metadata": {},
   "outputs": [],
   "source": []
  }
 ],
 "metadata": {
  "kernelspec": {
   "display_name": "Python 3",
   "language": "python",
   "name": "python3"
  },
  "language_info": {
   "codemirror_mode": {
    "name": "ipython",
    "version": 3
   },
   "file_extension": ".py",
   "mimetype": "text/x-python",
   "name": "python",
   "nbconvert_exporter": "python",
   "pygments_lexer": "ipython3",
   "version": "3.6.6"
  }
 },
 "nbformat": 4,
 "nbformat_minor": 2
}
