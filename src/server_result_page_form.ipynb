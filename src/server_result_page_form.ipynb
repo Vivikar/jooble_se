{
 "cells": [
  {
   "cell_type": "code",
   "execution_count": 1,
   "metadata": {},
   "outputs": [],
   "source": [
    "import json\n",
    "\n",
    "from flask import Flask, request\n"
   ]
  },
  {
   "cell_type": "code",
   "execution_count": 36,
   "metadata": {},
   "outputs": [],
   "source": [
    "app = Flask(__name__)\n",
    "\n",
    "\n",
    "@app.route('/', methods=['GET', 'POST'])\n",
    "def index():\n",
    "    return \"main page of SERP\"\n",
    "\n",
    "\n",
    "@app.route('/result_page', methods=[\"POST\"])\n",
    "def get_result_page():\n",
    "    document = json.loads(request.json, encoding=\"utf-8\")\n",
    "    serp = \"\"\n",
    "    for i in range(min(len(document[\"results\"]), 10)):\n",
    "        res = '\\033[1m' + document[\"results\"][i][\"title\"] + \"\\033[0;0m\" + \"\\n\" + \"document id a.k.a. url: \" +  str(document[\"results\"][i][\"id\"]) + \"\\n\" + document[\"results\"][i][\"snippet\"]\n",
    "        serp = res +\"\\n\" + \".\"*100 + \"\\n\"\n",
    "    return serp\n"
   ]
  },
  {
   "cell_type": "code",
   "execution_count": null,
   "metadata": {},
   "outputs": [
    {
     "name": "stdout",
     "output_type": "stream",
     "text": [
      " * Serving Flask app \"__main__\" (lazy loading)\n",
      " * Environment: production\n",
      "   WARNING: Do not use the development server in a production environment.\n",
      "   Use a production WSGI server instead.\n",
      " * Debug mode: off\n"
     ]
    },
    {
     "name": "stderr",
     "output_type": "stream",
     "text": [
      " * Running on http://127.0.0.1:13504/ (Press CTRL+C to quit)\n",
      "127.0.0.1 - - [21/Nov/2018 21:56:11] \"POST /result_page HTTP/1.1\" 200 -\n"
     ]
    }
   ],
   "source": [
    "if __name__ == \"__main__\":\n",
    "    app.run(port=13504)\n",
    "    # app.run(host='0.0.0.0', port=13504)\n"
   ]
  }
 ],
 "metadata": {
  "kernelspec": {
   "display_name": "Python 3",
   "language": "python",
   "name": "python3"
  },
  "language_info": {
   "codemirror_mode": {
    "name": "ipython",
    "version": 3
   },
   "file_extension": ".py",
   "mimetype": "text/x-python",
   "name": "python",
   "nbconvert_exporter": "python",
   "pygments_lexer": "ipython3",
   "version": "3.6.6"
  }
 },
 "nbformat": 4,
 "nbformat_minor": 2
}
