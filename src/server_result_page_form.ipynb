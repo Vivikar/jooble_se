{
 "cells": [
  {
   "cell_type": "code",
   "execution_count": 1,
   "metadata": {
    "collapsed": true
   },
   "outputs": [],
   "source": [
    "import json\n",
    "\n",
    "from flask import Flask, request\n",
    "\n",
    "import config\n"
   ]
  },
  {
   "cell_type": "code",
   "execution_count": null,
   "metadata": {
    "collapsed": true
   },
   "outputs": [],
   "source": [
    "app = Flask(__name__)\n",
    "\n",
    "\n",
    "@app.route('/', methods=['GET', 'POST'])\n",
    "def index():\n",
    "    return \"main page of SERP\"\n",
    "\n",
    "\n",
    "@app.route('/result_page', methods=[\"POST\"])\n",
    "def get_result_page():\n",
    "    document = json.loads(request.json, encoding=\"utf-8\")\n",
    "    serp = \"\"\n",
    "    for i in range(min(len(document[\"results\"]), 10)):\n",
    "        res = '\\033[1m' + document[\"results\"][i][\"title\"] + \"\\033[0;0m\" \\\n",
    "              + \"\\n\" + \"document id a.k.a. url: \" + str(document[\"results\"][i][\"id\"]) \\\n",
    "              + \"\\n\" + document[\"results\"][i][\"snippet\"]\n",
    "        serp += res +\"\\n\" + \".\"*100 + \"\\n\"\n",
    "    return serp\n"
   ]
  },
  {
   "cell_type": "code",
   "execution_count": null,
   "metadata": {},
   "outputs": [
    {
     "name": "stderr",
     "output_type": "stream",
     "text": [
      " * Running on http://0.0.0.0:13504/ (Press CTRL+C to quit)\n",
      "127.0.0.1 - - [22/Nov/2018 16:35:14] \"POST /result_page HTTP/1.1\" 200 -\n",
      "127.0.0.1 - - [22/Nov/2018 16:35:25] \"POST /result_page HTTP/1.1\" 200 -\n",
      "127.0.0.1 - - [22/Nov/2018 16:36:18] \"POST /result_page HTTP/1.1\" 200 -\n",
      "127.0.0.1 - - [22/Nov/2018 16:36:31] \"POST /result_page HTTP/1.1\" 200 -\n",
      "127.0.0.1 - - [22/Nov/2018 16:38:09] \"POST /result_page HTTP/1.1\" 200 -\n",
      "127.0.0.1 - - [22/Nov/2018 16:41:47] \"POST /result_page HTTP/1.1\" 200 -\n",
      "127.0.0.1 - - [22/Nov/2018 16:43:48] \"POST /result_page HTTP/1.1\" 200 -\n",
      "127.0.0.1 - - [22/Nov/2018 16:45:00] \"POST /result_page HTTP/1.1\" 200 -\n"
     ]
    }
   ],
   "source": [
    "if __name__ == \"__main__\":\n",
    "    #app.run(port=config.RESULT_PAGE_PORT)\n",
    "    app.run(host='0.0.0.0', port=config.RESULT_PAGE_PORT)\n"
   ]
  },
  {
   "cell_type": "code",
   "execution_count": null,
   "metadata": {
    "collapsed": true
   },
   "outputs": [],
   "source": []
  }
 ],
 "metadata": {
  "kernelspec": {
   "display_name": "Python 3",
   "language": "python",
   "name": "python3"
  },
  "language_info": {
   "codemirror_mode": {
    "name": "ipython",
    "version": 3
   },
   "file_extension": ".py",
   "mimetype": "text/x-python",
   "name": "python",
   "nbconvert_exporter": "python",
   "pygments_lexer": "ipython3",
   "version": "3.6.3"
  }
 },
 "nbformat": 4,
 "nbformat_minor": 2
}
