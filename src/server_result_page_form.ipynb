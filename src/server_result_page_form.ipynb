{
 "cells": [
  {
   "cell_type": "code",
   "execution_count": 1,
   "metadata": {},
   "outputs": [],
   "source": [
    "import json\n",
    "\n",
    "from flask import Flask, request\n",
    "import jsonpickle\n",
    "\n",
    "import config\n"
   ]
  },
  {
   "cell_type": "code",
   "execution_count": 2,
   "metadata": {},
   "outputs": [],
   "source": [
    "app = Flask(__name__)\n",
    "\n",
    "\n",
    "@app.route('/', methods=['GET', 'POST'])\n",
    "def index():\n",
    "    return \"main page of SERP\"\n",
    "\n",
    "\n",
    "@app.route('/result_page', methods=[\"POST\"])\n",
    "def get_result_page():\n",
    "    \"\"\"\n",
    "    :param dict params: Like {\"documents\": [list of Documents],\n",
    "                              \"query\": str query}\n",
    "                              \n",
    "    :return str serp: Search engine result page\n",
    "    \"\"\"\n",
    "    params = jsonpickle.decode(request.json)\n",
    "    documents = params[\"documents\"]\n",
    "    query = params[\"query\"]\n",
    "    serp = \"\"\n",
    "    for i in range(min(len(documents), 10)):\n",
    "        res = '\\033[1m' + documents[i].title + \"\\033[0;0m\" \\\n",
    "              + \"\\n\" + \"document id a.k.a. url: \" + str(documents[i].id) \\\n",
    "              + \"\\n\" + documents[i].snippet\n",
    "        serp += res +\"\\n\" + \".\"*100 + \"\\n\"\n",
    "    return serp\n"
   ]
  },
  {
   "cell_type": "code",
   "execution_count": null,
   "metadata": {},
   "outputs": [
    {
     "name": "stdout",
     "output_type": "stream",
     "text": [
      " * Serving Flask app \"__main__\" (lazy loading)\n",
      " * Environment: production\n",
      "   WARNING: Do not use the development server in a production environment.\n",
      "   Use a production WSGI server instead.\n",
      " * Debug mode: off\n"
     ]
    },
    {
     "name": "stderr",
     "output_type": "stream",
     "text": [
      " * Running on http://127.0.0.1:13504/ (Press CTRL+C to quit)\n",
      "127.0.0.1 - - [28/Nov/2018 16:10:56] \"POST /result_page HTTP/1.1\" 200 -\n",
      "127.0.0.1 - - [28/Nov/2018 17:55:08] \"POST /result_page HTTP/1.1\" 200 -\n",
      "127.0.0.1 - - [28/Nov/2018 18:43:43] \"POST /result_page HTTP/1.1\" 200 -\n",
      "127.0.0.1 - - [28/Nov/2018 18:49:10] \"POST /result_page HTTP/1.1\" 200 -\n",
      "127.0.0.1 - - [28/Nov/2018 18:51:16] \"POST /result_page HTTP/1.1\" 200 -\n",
      "127.0.0.1 - - [28/Nov/2018 18:53:51] \"POST /result_page HTTP/1.1\" 200 -\n",
      "127.0.0.1 - - [28/Nov/2018 18:54:21] \"POST /result_page HTTP/1.1\" 200 -\n",
      "127.0.0.1 - - [28/Nov/2018 18:55:17] \"POST /result_page HTTP/1.1\" 200 -\n",
      "127.0.0.1 - - [28/Nov/2018 19:02:03] \"POST /result_page HTTP/1.1\" 200 -\n",
      "127.0.0.1 - - [28/Nov/2018 19:03:42] \"POST /result_page HTTP/1.1\" 200 -\n",
      "127.0.0.1 - - [28/Nov/2018 19:05:21] \"POST /result_page HTTP/1.1\" 200 -\n",
      "127.0.0.1 - - [28/Nov/2018 19:08:49] \"POST /result_page HTTP/1.1\" 200 -\n",
      "127.0.0.1 - - [28/Nov/2018 19:10:26] \"POST /result_page HTTP/1.1\" 200 -\n",
      "127.0.0.1 - - [28/Nov/2018 19:11:18] \"POST /result_page HTTP/1.1\" 200 -\n",
      "127.0.0.1 - - [28/Nov/2018 19:12:21] \"POST /result_page HTTP/1.1\" 200 -\n",
      "127.0.0.1 - - [28/Nov/2018 19:15:22] \"POST /result_page HTTP/1.1\" 200 -\n"
     ]
    }
   ],
   "source": [
    "if __name__ == \"__main__\":\n",
    "    app.run(host=config.RESULT_PAGE_HOST,\n",
    "            port=config.RESULT_PAGE_PORT)\n"
   ]
  },
  {
   "cell_type": "code",
   "execution_count": null,
   "metadata": {},
   "outputs": [],
   "source": []
  }
 ],
 "metadata": {
  "kernelspec": {
   "display_name": "Python 3",
   "language": "python",
   "name": "python3"
  },
  "language_info": {
   "codemirror_mode": {
    "name": "ipython",
    "version": 3
   },
   "file_extension": ".py",
   "mimetype": "text/x-python",
   "name": "python",
   "nbconvert_exporter": "python",
   "pygments_lexer": "ipython3",
   "version": "3.6.6"
  }
 },
 "nbformat": 4,
 "nbformat_minor": 2
}
