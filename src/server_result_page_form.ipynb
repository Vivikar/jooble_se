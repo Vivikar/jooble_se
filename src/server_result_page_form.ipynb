{
 "cells": [
  {
   "cell_type": "code",
   "execution_count": null,
   "metadata": {},
   "outputs": [],
   "source": [
    "import json\n",
    "\n",
    "from flask import Flask, request, render_template\n",
    "import jsonpickle\n",
    "import requests\n",
    "\n",
    "from config_src import config\n"
   ]
  },
  {
   "cell_type": "code",
   "execution_count": null,
   "metadata": {},
   "outputs": [],
   "source": [
    "from wtforms import Form, TextField, TextAreaField, validators, StringField, SubmitField\n",
    "\n",
    "class ReusableForm(Form):\n",
    "    query = TextField('Search Query: ', validators=[validators.required()])\n",
    "    skills = TextAreaField('Enster skils: ')"
   ]
  },
  {
   "cell_type": "code",
   "execution_count": null,
   "metadata": {},
   "outputs": [],
   "source": [
    "app = Flask(__name__)\n",
    "\n",
    "@app.route('/result_page', methods=[\"POST\"])\n",
    "def get_result_page():\n",
    "    \"\"\"\n",
    "    :param dict params: Like {\"documents\": [list of Documents],\n",
    "                              \"query\": str query}\n",
    "                              \n",
    "    :return str serp: Search engine result page\n",
    "    \"\"\"\n",
    "    params = jsonpickle.decode(request.json)\n",
    "    form = ReusableForm(request.form)\n",
    "    if params[\"documents\"] == []:\n",
    "        return render_template('result_page.html', form=form, documents=None, query=params[\"query\"])\n",
    "        \n",
    "    return render_template('result_page.html', form=form, documents = params[\"documents\"])\n"
   ]
  },
  {
   "cell_type": "code",
   "execution_count": 7,
   "metadata": {
    "scrolled": true
   },
   "outputs": [],
   "source": [
    "if __name__ == \"__main__\":\n",
    "    app.run(host=config.RESULT_PAGE_HOST,\n",
    "            port=config.RESULT_PAGE_PORT)\n"
   ]
  },
  {
   "cell_type": "code",
   "execution_count": null,
   "metadata": {},
   "outputs": [],
   "source": []
  }
 ],
 "metadata": {
  "kernelspec": {
   "display_name": "Python 3",
   "language": "python",
   "name": "python3"
  },
  "language_info": {
   "codemirror_mode": {
    "name": "ipython",
    "version": 3
   },
   "file_extension": ".py",
   "mimetype": "text/x-python",
   "name": "python",
   "nbconvert_exporter": "python",
   "pygments_lexer": "ipython3",
   "version": "3.6.5"
  }
 },
 "nbformat": 4,
 "nbformat_minor": 2
}
