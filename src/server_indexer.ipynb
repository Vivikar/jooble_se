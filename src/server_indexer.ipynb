{
 "cells": [
  {
   "cell_type": "code",
   "execution_count": 1,
   "metadata": {},
   "outputs": [],
   "source": [
    "import json\n",
    "import re\n",
    "\n",
    "from flask import Flask, request\n",
    "import nltk\n"
   ]
  },
  {
   "cell_type": "code",
   "execution_count": 2,
   "metadata": {},
   "outputs": [],
   "source": [
    "nltk.download('punkt')\n",
    "inverted_index = {}\n",
    "forward_index = {}\n",
    "documents_id = []\n",
    "\n"
   ]
  },
  {
   "cell_type": "code",
   "execution_count": 3,
   "metadata": {},
   "outputs": [],
   "source": [
    "def search_boolean(search_query):\n",
    "    \"\"\"Search the words of search_query in inverted index\"\"\"\n",
    "    docs_id = []\n",
    "    words = search_query.split(\" \")\n",
    "\n",
    "    for word in words:\n",
    "        print(word)\n",
    "        print(inverted_index.keys())\n",
    "        if word in inverted_index.keys():\n",
    "            docs_id.append(set([doc[\"id\"] for doc in inverted_index[word]]))\n",
    "\n",
    "    if len(docs_id) > 0:\n",
    "        set_of_docs_id = docs_id[0]\n",
    "        for docs_set in docs_id:\n",
    "            set_of_docs_id = set_of_docs_id.intersection(docs_set)\n",
    "\n",
    "        documents = []\n",
    "        terms = []\n",
    "        for id in set_of_docs_id:\n",
    "            documents.append(forward_index[id])\n",
    "        for i, word in enumerate(words):\n",
    "            terms.append({\"term\": word,\n",
    "                          \"inverted_index\": [doc for doc in inverted_index[word]\n",
    "                                             if doc[\"id\"] in set_of_docs_id]})\n",
    "        return {\"documents\": documents, \"terms\": terms}\n",
    "    else:\n",
    "        return \"Documents isn't found.\"\n",
    "\n",
    "\n",
    "def add_forward_index(document):\n",
    "    \"\"\"Add the document to forward index\"\"\"\n",
    "    global forward_index\n",
    "    forward_index[int(document[\"id\"])] = document\n",
    "\n",
    "\n",
    "def add_inverted_index(document):\n",
    "    \"\"\"Add the document to inverted index\"\"\"\n",
    "    tokens = nltk.word_tokenize(document[\"text_normalized\"])\n",
    "    for token in tokens:\n",
    "        count = tokens.count(token)\n",
    "        token_len = len(token)\n",
    "        count_title = document[\"title_normalized\"].count(token)\n",
    "        positions_raw = [s.start() for s in re.finditer(token,\n",
    "                                                        document[\"text\"])]\n",
    "        positions = [s.start() for s in re.finditer(token,\n",
    "                                                    document[\"text_normalized\"])]\n",
    "        token_inv_idx = {\"id\": int(document[\"id\"]),\n",
    "                         \"count\": count,\n",
    "                         \"count_title\": count_title,\n",
    "                         \"length\": token_len,\n",
    "                         \"pos\": positions,\n",
    "                         \"pos_raw\": positions_raw}\n",
    "        if token in inverted_index.keys():\n",
    "            inverted_index[token].append(token_inv_idx)\n",
    "        else:\n",
    "            inverted_index[token] = [token_inv_idx]\n"
   ]
  },
  {
   "cell_type": "code",
   "execution_count": null,
   "metadata": {},
   "outputs": [],
   "source": [
    "app = Flask(__name__)\n",
    "\n",
    "\n",
    "@app.route('/', methods=['GET', 'POST'])\n",
    "def index():\n",
    "    return \"Main page of indexer\"\n",
    "\n",
    "\n",
    "@app.route('/indexer', methods=[\"POST\"])\n",
    "def add_to_index():\n",
    "    document = request.json\n",
    "    if document[\"id\"] not in documents_id:\n",
    "        documents_id.append(document[\"id\"])\n",
    "        add_forward_index(document)\n",
    "        add_inverted_index(document)\n",
    "        return \"Document successfully added.\"\n",
    "    else:\n",
    "        return \"Document already exist in index.\"\n",
    "\n",
    "\n",
    "@app.route(\"/search\", methods=[\"POST\"])\n",
    "def search_():\n",
    "    search_query = request.json\n",
    "    return json.dumps(search_boolean(search_query), ensure_ascii=False)\n"
   ]
  },
  {
   "cell_type": "code",
   "execution_count": null,
   "metadata": {},
   "outputs": [],
   "source": [
    "if __name__ == \"__main__\":\n",
    "    app.run(port=13500)\n",
    "    # app.run(host='0.0.0.0', port=13500)\n"
   ]
  }
 ],
 "metadata": {
  "kernelspec": {
   "display_name": "Python 3",
   "language": "python",
   "name": "python3"
  },
  "language_info": {
   "codemirror_mode": {
    "name": "ipython",
    "version": 3
   },
   "file_extension": ".py",
   "mimetype": "text/x-python",
   "name": "python",
   "nbconvert_exporter": "python",
   "pygments_lexer": "ipython3",
   "version": "3.6.5"
  }
 },
 "nbformat": 4,
 "nbformat_minor": 2
}
