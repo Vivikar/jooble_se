{
 "cells": [
  {
   "cell_type": "code",
   "execution_count": 1,
   "metadata": {},
   "outputs": [],
   "source": [
    "import json\n",
    "import re\n",
    "\n",
    "from flask import Flask, request\n",
    "import nltk\n"
   ]
  },
  {
   "cell_type": "code",
   "execution_count": 2,
   "metadata": {},
   "outputs": [
    {
     "name": "stdout",
     "output_type": "stream",
     "text": [
      "[nltk_data] Downloading package punkt to /home/vzalevskyi/nltk_data...\n",
      "[nltk_data]   Package punkt is already up-to-date!\n"
     ]
    }
   ],
   "source": [
    "nltk.download('punkt')\n",
    "inverted_index = {}\n",
    "forward_index = {}\n",
    "documents_id = []\n",
    "\n"
   ]
  },
  {
   "cell_type": "code",
   "execution_count": 3,
   "metadata": {},
   "outputs": [],
   "source": [
    "def search_boolean(search_query):\n",
    "    \"\"\"Search the words of search_query in inverted index\"\"\"\n",
    "    docs_id = []\n",
    "    words = search_query.split(\" \")\n",
    "\n",
    "    for word in words:\n",
    "        print(word)\n",
    "        print(inverted_index.keys())\n",
    "        if word in inverted_index.keys():\n",
    "            docs_id.append(set([doc[\"id\"] for doc in inverted_index[word]]))\n",
    "\n",
    "    if len(docs_id) > 0:\n",
    "        set_of_docs_id = docs_id[0]\n",
    "        for docs_set in docs_id:\n",
    "            set_of_docs_id = set_of_docs_id.intersection(docs_set)\n",
    "\n",
    "        documents = []\n",
    "        terms = []\n",
    "        for id in set_of_docs_id:\n",
    "            documents.append(forward_index[id])\n",
    "        for i, word in enumerate(words):\n",
    "            terms.append({\"term\": word,\n",
    "                          \"inverted_index\": [doc for doc in inverted_index[word]\n",
    "                                             if doc[\"id\"] in set_of_docs_id]})\n",
    "        return {\"documents\": documents, \"terms\": terms}\n",
    "    else:\n",
    "        return \"Documents isn't found.\"\n",
    "\n",
    "\n",
    "def add_forward_index(document):\n",
    "    \"\"\"Add the document to forward index\"\"\"\n",
    "    global forward_index\n",
    "    forward_index[int(document[\"id\"])] = document\n",
    "\n",
    "\n",
    "def add_inverted_index(document):\n",
    "    \"\"\"Add the document to inverted index\"\"\"\n",
    "    tokens = nltk.word_tokenize(document[\"text_normalized\"])\n",
    "    for token in tokens:\n",
    "        count = tokens.count(token)\n",
    "        token_len = len(token)\n",
    "        count_title = document[\"title_normalized\"].count(token)\n",
    "        positions_raw = [s.start() for s in re.finditer(token,\n",
    "                                                        document[\"text\"])]\n",
    "        positions = [s.start() for s in re.finditer(token,\n",
    "                                                    document[\"text_normalized\"])]\n",
    "        token_inv_idx = {\"id\": int(document[\"id\"]),\n",
    "                         \"count\": count,\n",
    "                         \"count_title\": count_title,\n",
    "                         \"length\": token_len,\n",
    "                         \"pos\": positions,\n",
    "                         \"pos_raw\": positions_raw}\n",
    "        if token in inverted_index.keys():\n",
    "            inverted_index[token].append(token_inv_idx)\n",
    "        else:\n",
    "            inverted_index[token] = [token_inv_idx]\n"
   ]
  },
  {
   "cell_type": "code",
   "execution_count": 4,
   "metadata": {},
   "outputs": [],
   "source": [
    "app = Flask(__name__)\n",
    "\n",
    "\n",
    "@app.route('/', methods=['GET', 'POST'])\n",
    "def index():\n",
    "    return \"Main page of indexer\"\n",
    "\n",
    "\n",
    "@app.route('/indexer', methods=[\"POST\"])\n",
    "def add_to_index():\n",
    "    document = request.json\n",
    "    if document[\"id\"] not in documents_id:\n",
    "        documents_id.append(document[\"id\"])\n",
    "        add_forward_index(document)\n",
    "        add_inverted_index(document)\n",
    "        return \"Document successfully added.\"\n",
    "    else:\n",
    "        return \"Document already exist in index.\"\n",
    "\n",
    "\n",
    "@app.route(\"/search\", methods=[\"POST\"])\n",
    "def search_():\n",
    "    search_query = request.json\n",
    "    return json.dumps(search_boolean(search_query), ensure_ascii=False)\n"
   ]
  },
  {
   "cell_type": "code",
   "execution_count": null,
   "metadata": {},
   "outputs": [
    {
     "name": "stdout",
     "output_type": "stream",
     "text": [
      " * Serving Flask app \"__main__\" (lazy loading)\n",
      " * Environment: production\n",
      "   WARNING: Do not use the development server in a production environment.\n",
      "   Use a production WSGI server instead.\n",
      " * Debug mode: off\n"
     ]
    },
    {
     "name": "stderr",
     "output_type": "stream",
     "text": [
      " * Running on http://127.0.0.1:13500/ (Press CTRL+C to quit)\n",
      "127.0.0.1 - - [21/Nov/2018 20:20:34] \"POST / HTTP/1.1\" 200 -\n",
      "127.0.0.1 - - [21/Nov/2018 20:20:34] \"POST /indexer HTTP/1.1\" 200 -\n",
      "127.0.0.1 - - [21/Nov/2018 20:20:34] \"POST /search HTTP/1.1\" 200 -\n",
      "127.0.0.1 - - [21/Nov/2018 20:20:34] \"POST /search HTTP/1.1\" 200 -\n"
     ]
    },
    {
     "name": "stdout",
     "output_type": "stream",
     "text": [
      "плодов\n",
      "dict_keys(['саженц', 'декоративн', 'и', 'плодов', 'культур', '.', 'могил', 'гарант'])\n",
      "культур\n",
      "dict_keys(['саженц', 'декоративн', 'и', 'плодов', 'культур', '.', 'могил', 'гарант'])\n",
      "водител\n",
      "dict_keys(['саженц', 'декоративн', 'и', 'плодов', 'культур', '.', 'могил', 'гарант'])\n"
     ]
    },
    {
     "name": "stderr",
     "output_type": "stream",
     "text": [
      "127.0.0.1 - - [21/Nov/2018 20:28:51] \"POST / HTTP/1.1\" 200 -\n",
      "127.0.0.1 - - [21/Nov/2018 20:28:51] \"POST /indexer HTTP/1.1\" 200 -\n",
      "127.0.0.1 - - [21/Nov/2018 20:28:51] \"POST /search HTTP/1.1\" 200 -\n",
      "127.0.0.1 - - [21/Nov/2018 20:28:51] \"POST /search HTTP/1.1\" 200 -\n"
     ]
    },
    {
     "name": "stdout",
     "output_type": "stream",
     "text": [
      "плодов\n",
      "dict_keys(['саженц', 'декоративн', 'и', 'плодов', 'культур', '.', 'могил', 'гарант'])\n",
      "культур\n",
      "dict_keys(['саженц', 'декоративн', 'и', 'плодов', 'культур', '.', 'могил', 'гарант'])\n",
      "водител\n",
      "dict_keys(['саженц', 'декоративн', 'и', 'плодов', 'культур', '.', 'могил', 'гарант'])\n"
     ]
    },
    {
     "name": "stderr",
     "output_type": "stream",
     "text": [
      "127.0.0.1 - - [21/Nov/2018 20:28:55] \"POST / HTTP/1.1\" 200 -\n",
      "127.0.0.1 - - [21/Nov/2018 20:28:55] \"POST /indexer HTTP/1.1\" 200 -\n",
      "127.0.0.1 - - [21/Nov/2018 20:28:55] \"POST /search HTTP/1.1\" 200 -\n",
      "127.0.0.1 - - [21/Nov/2018 20:28:55] \"POST /search HTTP/1.1\" 200 -\n"
     ]
    },
    {
     "name": "stdout",
     "output_type": "stream",
     "text": [
      "плодов\n",
      "dict_keys(['саженц', 'декоративн', 'и', 'плодов', 'культур', '.', 'могил', 'гарант'])\n",
      "культур\n",
      "dict_keys(['саженц', 'декоративн', 'и', 'плодов', 'культур', '.', 'могил', 'гарант'])\n",
      "водител\n",
      "dict_keys(['саженц', 'декоративн', 'и', 'плодов', 'культур', '.', 'могил', 'гарант'])\n"
     ]
    },
    {
     "name": "stderr",
     "output_type": "stream",
     "text": [
      "127.0.0.1 - - [21/Nov/2018 20:29:37] \"POST / HTTP/1.1\" 200 -\n",
      "127.0.0.1 - - [21/Nov/2018 20:29:37] \"POST /indexer HTTP/1.1\" 200 -\n",
      "127.0.0.1 - - [21/Nov/2018 20:29:37] \"POST /search HTTP/1.1\" 200 -\n",
      "127.0.0.1 - - [21/Nov/2018 20:29:37] \"POST /search HTTP/1.1\" 200 -\n"
     ]
    },
    {
     "name": "stdout",
     "output_type": "stream",
     "text": [
      "плодов\n",
      "dict_keys(['саженц', 'декоративн', 'и', 'плодов', 'культур', '.', 'могил', 'гарант'])\n",
      "культур\n",
      "dict_keys(['саженц', 'декоративн', 'и', 'плодов', 'культур', '.', 'могил', 'гарант'])\n",
      "водител\n",
      "dict_keys(['саженц', 'декоративн', 'и', 'плодов', 'культур', '.', 'могил', 'гарант'])\n"
     ]
    },
    {
     "name": "stderr",
     "output_type": "stream",
     "text": [
      "127.0.0.1 - - [21/Nov/2018 20:30:17] \"POST / HTTP/1.1\" 200 -\n",
      "127.0.0.1 - - [21/Nov/2018 20:30:17] \"POST /indexer HTTP/1.1\" 200 -\n",
      "127.0.0.1 - - [21/Nov/2018 20:30:17] \"POST /search HTTP/1.1\" 200 -\n",
      "127.0.0.1 - - [21/Nov/2018 20:30:17] \"POST /search HTTP/1.1\" 200 -\n"
     ]
    },
    {
     "name": "stdout",
     "output_type": "stream",
     "text": [
      "водител\n",
      "dict_keys(['саженц', 'декоративн', 'и', 'плодов', 'культур', '.', 'могил', 'гарант'])\n",
      "водител\n",
      "dict_keys(['саженц', 'декоративн', 'и', 'плодов', 'культур', '.', 'могил', 'гарант'])\n"
     ]
    },
    {
     "name": "stderr",
     "output_type": "stream",
     "text": [
      "127.0.0.1 - - [21/Nov/2018 20:32:52] \"POST / HTTP/1.1\" 200 -\n",
      "127.0.0.1 - - [21/Nov/2018 20:32:52] \"POST /indexer HTTP/1.1\" 200 -\n",
      "127.0.0.1 - - [21/Nov/2018 20:32:52] \"POST /search HTTP/1.1\" 200 -\n",
      "127.0.0.1 - - [21/Nov/2018 20:32:52] \"POST /search HTTP/1.1\" 200 -\n"
     ]
    },
    {
     "name": "stdout",
     "output_type": "stream",
     "text": [
      "водител\n",
      "dict_keys(['саженц', 'декоративн', 'и', 'плодов', 'культур', '.', 'могил', 'гарант'])\n",
      "водител\n",
      "dict_keys(['саженц', 'декоративн', 'и', 'плодов', 'культур', '.', 'могил', 'гарант'])\n"
     ]
    },
    {
     "name": "stderr",
     "output_type": "stream",
     "text": [
      "127.0.0.1 - - [21/Nov/2018 20:33:38] \"POST / HTTP/1.1\" 200 -\n",
      "127.0.0.1 - - [21/Nov/2018 20:33:38] \"POST /indexer HTTP/1.1\" 200 -\n",
      "127.0.0.1 - - [21/Nov/2018 20:33:38] \"POST /search HTTP/1.1\" 200 -\n",
      "127.0.0.1 - - [21/Nov/2018 20:33:38] \"POST /search HTTP/1.1\" 200 -\n"
     ]
    },
    {
     "name": "stdout",
     "output_type": "stream",
     "text": [
      "водител\n",
      "dict_keys(['саженц', 'декоративн', 'и', 'плодов', 'культур', '.', 'могил', 'гарант'])\n",
      "водител\n",
      "dict_keys(['саженц', 'декоративн', 'и', 'плодов', 'культур', '.', 'могил', 'гарант'])\n"
     ]
    },
    {
     "name": "stderr",
     "output_type": "stream",
     "text": [
      "127.0.0.1 - - [21/Nov/2018 20:37:17] \"POST / HTTP/1.1\" 200 -\n",
      "127.0.0.1 - - [21/Nov/2018 20:37:17] \"POST /indexer HTTP/1.1\" 200 -\n",
      "127.0.0.1 - - [21/Nov/2018 20:37:17] \"POST /search HTTP/1.1\" 200 -\n",
      "[2018-11-21 20:37:17,334] ERROR in app: Exception on /search [POST]\n",
      "Traceback (most recent call last):\n",
      "  File \"/home/vzalevskyi/anaconda3/lib/python3.6/site-packages/flask/app.py\", line 2292, in wsgi_app\n",
      "    response = self.full_dispatch_request()\n",
      "  File \"/home/vzalevskyi/anaconda3/lib/python3.6/site-packages/flask/app.py\", line 1815, in full_dispatch_request\n",
      "    rv = self.handle_user_exception(e)\n",
      "  File \"/home/vzalevskyi/anaconda3/lib/python3.6/site-packages/flask/app.py\", line 1718, in handle_user_exception\n",
      "    reraise(exc_type, exc_value, tb)\n",
      "  File \"/home/vzalevskyi/anaconda3/lib/python3.6/site-packages/flask/_compat.py\", line 35, in reraise\n",
      "    raise value\n",
      "  File \"/home/vzalevskyi/anaconda3/lib/python3.6/site-packages/flask/app.py\", line 1813, in full_dispatch_request\n",
      "    rv = self.dispatch_request()\n",
      "  File \"/home/vzalevskyi/anaconda3/lib/python3.6/site-packages/flask/app.py\", line 1799, in dispatch_request\n",
      "    return self.view_functions[rule.endpoint](**req.view_args)\n",
      "  File \"<ipython-input-4-83a1be5bb184>\", line 24, in search_\n",
      "    return json.dumps(search_boolean(search_query), ensure_ascii=False)\n",
      "  File \"<ipython-input-3-01f99c3ffa4f>\", line 23, in search_boolean\n",
      "    \"inverted_index\": [doc for doc in inverted_index[word]\n",
      "KeyError: 'саженцы'\n",
      "127.0.0.1 - - [21/Nov/2018 20:37:17] \"POST /search HTTP/1.1\" 500 -\n"
     ]
    },
    {
     "name": "stdout",
     "output_type": "stream",
     "text": [
      "водител\n",
      "dict_keys(['саженц', 'декоративн', 'и', 'плодов', 'культур', '.', 'могил', 'гарант'])\n",
      "саженцы\n",
      "dict_keys(['саженц', 'декоративн', 'и', 'плодов', 'культур', '.', 'могил', 'гарант'])\n",
      "культур\n",
      "dict_keys(['саженц', 'декоративн', 'и', 'плодов', 'культур', '.', 'могил', 'гарант'])\n"
     ]
    },
    {
     "name": "stderr",
     "output_type": "stream",
     "text": [
      "127.0.0.1 - - [21/Nov/2018 20:37:18] \"POST / HTTP/1.1\" 200 -\n",
      "127.0.0.1 - - [21/Nov/2018 20:37:18] \"POST /indexer HTTP/1.1\" 200 -\n",
      "127.0.0.1 - - [21/Nov/2018 20:37:18] \"POST /search HTTP/1.1\" 200 -\n",
      "[2018-11-21 20:37:18,528] ERROR in app: Exception on /search [POST]\n",
      "Traceback (most recent call last):\n",
      "  File \"/home/vzalevskyi/anaconda3/lib/python3.6/site-packages/flask/app.py\", line 2292, in wsgi_app\n",
      "    response = self.full_dispatch_request()\n",
      "  File \"/home/vzalevskyi/anaconda3/lib/python3.6/site-packages/flask/app.py\", line 1815, in full_dispatch_request\n",
      "    rv = self.handle_user_exception(e)\n",
      "  File \"/home/vzalevskyi/anaconda3/lib/python3.6/site-packages/flask/app.py\", line 1718, in handle_user_exception\n",
      "    reraise(exc_type, exc_value, tb)\n",
      "  File \"/home/vzalevskyi/anaconda3/lib/python3.6/site-packages/flask/_compat.py\", line 35, in reraise\n",
      "    raise value\n",
      "  File \"/home/vzalevskyi/anaconda3/lib/python3.6/site-packages/flask/app.py\", line 1813, in full_dispatch_request\n",
      "    rv = self.dispatch_request()\n",
      "  File \"/home/vzalevskyi/anaconda3/lib/python3.6/site-packages/flask/app.py\", line 1799, in dispatch_request\n",
      "    return self.view_functions[rule.endpoint](**req.view_args)\n",
      "  File \"<ipython-input-4-83a1be5bb184>\", line 24, in search_\n",
      "    return json.dumps(search_boolean(search_query), ensure_ascii=False)\n",
      "  File \"<ipython-input-3-01f99c3ffa4f>\", line 23, in search_boolean\n",
      "    \"inverted_index\": [doc for doc in inverted_index[word]\n",
      "KeyError: 'саженцы'\n",
      "127.0.0.1 - - [21/Nov/2018 20:37:18] \"POST /search HTTP/1.1\" 500 -\n"
     ]
    },
    {
     "name": "stdout",
     "output_type": "stream",
     "text": [
      "водител\n",
      "dict_keys(['саженц', 'декоративн', 'и', 'плодов', 'культур', '.', 'могил', 'гарант'])\n",
      "саженцы\n",
      "dict_keys(['саженц', 'декоративн', 'и', 'плодов', 'культур', '.', 'могил', 'гарант'])\n",
      "культур\n",
      "dict_keys(['саженц', 'декоративн', 'и', 'плодов', 'культур', '.', 'могил', 'гарант'])\n"
     ]
    },
    {
     "name": "stderr",
     "output_type": "stream",
     "text": [
      "127.0.0.1 - - [21/Nov/2018 20:37:25] \"POST / HTTP/1.1\" 200 -\n",
      "127.0.0.1 - - [21/Nov/2018 20:37:25] \"POST /indexer HTTP/1.1\" 200 -\n",
      "127.0.0.1 - - [21/Nov/2018 20:37:25] \"POST /search HTTP/1.1\" 200 -\n",
      "[2018-11-21 20:37:25,145] ERROR in app: Exception on /search [POST]\n",
      "Traceback (most recent call last):\n",
      "  File \"/home/vzalevskyi/anaconda3/lib/python3.6/site-packages/flask/app.py\", line 2292, in wsgi_app\n",
      "    response = self.full_dispatch_request()\n",
      "  File \"/home/vzalevskyi/anaconda3/lib/python3.6/site-packages/flask/app.py\", line 1815, in full_dispatch_request\n",
      "    rv = self.handle_user_exception(e)\n",
      "  File \"/home/vzalevskyi/anaconda3/lib/python3.6/site-packages/flask/app.py\", line 1718, in handle_user_exception\n",
      "    reraise(exc_type, exc_value, tb)\n",
      "  File \"/home/vzalevskyi/anaconda3/lib/python3.6/site-packages/flask/_compat.py\", line 35, in reraise\n",
      "    raise value\n",
      "  File \"/home/vzalevskyi/anaconda3/lib/python3.6/site-packages/flask/app.py\", line 1813, in full_dispatch_request\n",
      "    rv = self.dispatch_request()\n",
      "  File \"/home/vzalevskyi/anaconda3/lib/python3.6/site-packages/flask/app.py\", line 1799, in dispatch_request\n",
      "    return self.view_functions[rule.endpoint](**req.view_args)\n",
      "  File \"<ipython-input-4-83a1be5bb184>\", line 24, in search_\n",
      "    return json.dumps(search_boolean(search_query), ensure_ascii=False)\n",
      "  File \"<ipython-input-3-01f99c3ffa4f>\", line 23, in search_boolean\n",
      "    \"inverted_index\": [doc for doc in inverted_index[word]\n",
      "KeyError: 'саженцы'\n",
      "127.0.0.1 - - [21/Nov/2018 20:37:25] \"POST /search HTTP/1.1\" 500 -\n"
     ]
    },
    {
     "name": "stdout",
     "output_type": "stream",
     "text": [
      "водител\n",
      "dict_keys(['саженц', 'декоративн', 'и', 'плодов', 'культур', '.', 'могил', 'гарант'])\n",
      "саженцы\n",
      "dict_keys(['саженц', 'декоративн', 'и', 'плодов', 'культур', '.', 'могил', 'гарант'])\n",
      "культур\n",
      "dict_keys(['саженц', 'декоративн', 'и', 'плодов', 'культур', '.', 'могил', 'гарант'])\n"
     ]
    },
    {
     "name": "stderr",
     "output_type": "stream",
     "text": [
      "127.0.0.1 - - [21/Nov/2018 20:38:47] \"POST / HTTP/1.1\" 200 -\n",
      "127.0.0.1 - - [21/Nov/2018 20:38:47] \"POST /indexer HTTP/1.1\" 200 -\n",
      "[2018-11-21 20:38:47,362] ERROR in app: Exception on /search [POST]\n",
      "Traceback (most recent call last):\n",
      "  File \"/home/vzalevskyi/anaconda3/lib/python3.6/site-packages/flask/app.py\", line 2292, in wsgi_app\n",
      "    response = self.full_dispatch_request()\n",
      "  File \"/home/vzalevskyi/anaconda3/lib/python3.6/site-packages/flask/app.py\", line 1815, in full_dispatch_request\n",
      "    rv = self.handle_user_exception(e)\n",
      "  File \"/home/vzalevskyi/anaconda3/lib/python3.6/site-packages/flask/app.py\", line 1718, in handle_user_exception\n",
      "    reraise(exc_type, exc_value, tb)\n",
      "  File \"/home/vzalevskyi/anaconda3/lib/python3.6/site-packages/flask/_compat.py\", line 35, in reraise\n",
      "    raise value\n",
      "  File \"/home/vzalevskyi/anaconda3/lib/python3.6/site-packages/flask/app.py\", line 1813, in full_dispatch_request\n",
      "    rv = self.dispatch_request()\n",
      "  File \"/home/vzalevskyi/anaconda3/lib/python3.6/site-packages/flask/app.py\", line 1799, in dispatch_request\n",
      "    return self.view_functions[rule.endpoint](**req.view_args)\n",
      "  File \"<ipython-input-4-83a1be5bb184>\", line 24, in search_\n",
      "    return json.dumps(search_boolean(search_query), ensure_ascii=False)\n",
      "  File \"<ipython-input-3-01f99c3ffa4f>\", line 23, in search_boolean\n",
      "    \"inverted_index\": [doc for doc in inverted_index[word]\n",
      "KeyError: ','\n",
      "127.0.0.1 - - [21/Nov/2018 20:38:47] \"POST /search HTTP/1.1\" 500 -\n",
      "127.0.0.1 - - [21/Nov/2018 20:38:47] \"POST /search HTTP/1.1\" 200 -\n"
     ]
    },
    {
     "name": "stdout",
     "output_type": "stream",
     "text": [
      "саженц\n",
      "dict_keys(['саженц', 'декоративн', 'и', 'плодов', 'культур', '.', 'могил', 'гарант'])\n",
      ",\n",
      "dict_keys(['саженц', 'декоративн', 'и', 'плодов', 'культур', '.', 'могил', 'гарант'])\n",
      "культур\n",
      "dict_keys(['саженц', 'декоративн', 'и', 'плодов', 'культур', '.', 'могил', 'гарант'])\n",
      "водитель\n",
      "dict_keys(['саженц', 'декоративн', 'и', 'плодов', 'культур', '.', 'могил', 'гарант'])\n",
      "в\n",
      "dict_keys(['саженц', 'декоративн', 'и', 'плодов', 'культур', '.', 'могил', 'гарант'])\n",
      "киеве\n",
      "dict_keys(['саженц', 'декоративн', 'и', 'плодов', 'культур', '.', 'могил', 'гарант'])\n"
     ]
    },
    {
     "name": "stderr",
     "output_type": "stream",
     "text": [
      "127.0.0.1 - - [21/Nov/2018 20:40:51] \"POST / HTTP/1.1\" 200 -\n",
      "127.0.0.1 - - [21/Nov/2018 20:40:51] \"POST /indexer HTTP/1.1\" 200 -\n",
      "127.0.0.1 - - [21/Nov/2018 20:40:51] \"POST /search HTTP/1.1\" 200 -\n",
      "127.0.0.1 - - [21/Nov/2018 20:40:51] \"POST /search HTTP/1.1\" 200 -\n"
     ]
    },
    {
     "name": "stdout",
     "output_type": "stream",
     "text": [
      "саженц\n",
      "dict_keys(['саженц', 'декоративн', 'и', 'плодов', 'культур', '.', 'могил', 'гарант'])\n",
      "культур\n",
      "dict_keys(['саженц', 'декоративн', 'и', 'плодов', 'культур', '.', 'могил', 'гарант'])\n",
      "водитель\n",
      "dict_keys(['саженц', 'декоративн', 'и', 'плодов', 'культур', '.', 'могил', 'гарант'])\n",
      "в\n",
      "dict_keys(['саженц', 'декоративн', 'и', 'плодов', 'культур', '.', 'могил', 'гарант'])\n",
      "киеве\n",
      "dict_keys(['саженц', 'декоративн', 'и', 'плодов', 'культур', '.', 'могил', 'гарант'])\n"
     ]
    },
    {
     "name": "stderr",
     "output_type": "stream",
     "text": [
      "127.0.0.1 - - [21/Nov/2018 20:44:19] \"POST / HTTP/1.1\" 200 -\n",
      "127.0.0.1 - - [21/Nov/2018 20:44:19] \"POST /indexer HTTP/1.1\" 200 -\n",
      "127.0.0.1 - - [21/Nov/2018 20:44:19] \"POST /search HTTP/1.1\" 200 -\n",
      "127.0.0.1 - - [21/Nov/2018 20:44:19] \"POST /search HTTP/1.1\" 200 -\n"
     ]
    },
    {
     "name": "stdout",
     "output_type": "stream",
     "text": [
      "саженц\n",
      "dict_keys(['саженц', 'декоративн', 'и', 'плодов', 'культур', '.', 'могил', 'гарант'])\n",
      "культур\n",
      "dict_keys(['саженц', 'декоративн', 'и', 'плодов', 'культур', '.', 'могил', 'гарант'])\n",
      "водитель\n",
      "dict_keys(['саженц', 'декоративн', 'и', 'плодов', 'культур', '.', 'могил', 'гарант'])\n",
      "в\n",
      "dict_keys(['саженц', 'декоративн', 'и', 'плодов', 'культур', '.', 'могил', 'гарант'])\n",
      "киеве\n",
      "dict_keys(['саженц', 'декоративн', 'и', 'плодов', 'культур', '.', 'могил', 'гарант'])\n"
     ]
    },
    {
     "name": "stderr",
     "output_type": "stream",
     "text": [
      "127.0.0.1 - - [21/Nov/2018 20:49:05] \"POST / HTTP/1.1\" 200 -\n",
      "127.0.0.1 - - [21/Nov/2018 20:49:06] \"POST /indexer HTTP/1.1\" 200 -\n",
      "127.0.0.1 - - [21/Nov/2018 20:49:06] \"POST /search HTTP/1.1\" 200 -\n",
      "127.0.0.1 - - [21/Nov/2018 20:49:06] \"POST /search HTTP/1.1\" 200 -\n"
     ]
    },
    {
     "name": "stdout",
     "output_type": "stream",
     "text": [
      "саженц\n",
      "dict_keys(['саженц', 'декоративн', 'и', 'плодов', 'культур', '.', 'могил', 'гарант'])\n",
      "культур\n",
      "dict_keys(['саженц', 'декоративн', 'и', 'плодов', 'культур', '.', 'могил', 'гарант'])\n",
      "водитель\n",
      "dict_keys(['саженц', 'декоративн', 'и', 'плодов', 'культур', '.', 'могил', 'гарант'])\n",
      "в\n",
      "dict_keys(['саженц', 'декоративн', 'и', 'плодов', 'культур', '.', 'могил', 'гарант'])\n",
      "киеве\n",
      "dict_keys(['саженц', 'декоративн', 'и', 'плодов', 'культур', '.', 'могил', 'гарант'])\n"
     ]
    },
    {
     "name": "stderr",
     "output_type": "stream",
     "text": [
      "127.0.0.1 - - [21/Nov/2018 20:56:44] \"POST / HTTP/1.1\" 200 -\n",
      "127.0.0.1 - - [21/Nov/2018 20:56:45] \"POST /indexer HTTP/1.1\" 200 -\n",
      "127.0.0.1 - - [21/Nov/2018 20:56:45] \"POST /search HTTP/1.1\" 200 -\n"
     ]
    },
    {
     "name": "stdout",
     "output_type": "stream",
     "text": [
      "саженц\n",
      "dict_keys(['саженц', 'декоративн', 'и', 'плодов', 'культур', '.', 'могил', 'гарант'])\n",
      "культур\n",
      "dict_keys(['саженц', 'декоративн', 'и', 'плодов', 'культур', '.', 'могил', 'гарант'])\n"
     ]
    },
    {
     "name": "stderr",
     "output_type": "stream",
     "text": [
      "127.0.0.1 - - [21/Nov/2018 20:57:34] \"POST / HTTP/1.1\" 200 -\n",
      "127.0.0.1 - - [21/Nov/2018 20:57:34] \"POST /indexer HTTP/1.1\" 200 -\n",
      "127.0.0.1 - - [21/Nov/2018 20:57:34] \"POST /search HTTP/1.1\" 200 -\n"
     ]
    },
    {
     "name": "stdout",
     "output_type": "stream",
     "text": [
      "саженц\n",
      "dict_keys(['саженц', 'декоративн', 'и', 'плодов', 'культур', '.', 'могил', 'гарант'])\n",
      "культур\n",
      "dict_keys(['саженц', 'декоративн', 'и', 'плодов', 'культур', '.', 'могил', 'гарант'])\n"
     ]
    },
    {
     "name": "stderr",
     "output_type": "stream",
     "text": [
      "127.0.0.1 - - [21/Nov/2018 20:58:39] \"POST / HTTP/1.1\" 200 -\n",
      "127.0.0.1 - - [21/Nov/2018 20:58:39] \"POST /indexer HTTP/1.1\" 200 -\n",
      "127.0.0.1 - - [21/Nov/2018 20:58:39] \"POST /search HTTP/1.1\" 200 -\n"
     ]
    },
    {
     "name": "stdout",
     "output_type": "stream",
     "text": [
      "саженц\n",
      "dict_keys(['саженц', 'декоративн', 'и', 'плодов', 'культур', '.', 'могил', 'гарант'])\n",
      "культур\n",
      "dict_keys(['саженц', 'декоративн', 'и', 'плодов', 'культур', '.', 'могил', 'гарант'])\n"
     ]
    },
    {
     "name": "stderr",
     "output_type": "stream",
     "text": [
      "127.0.0.1 - - [21/Nov/2018 21:08:18] \"POST / HTTP/1.1\" 200 -\n",
      "127.0.0.1 - - [21/Nov/2018 21:08:18] \"POST /indexer HTTP/1.1\" 200 -\n",
      "127.0.0.1 - - [21/Nov/2018 21:08:19] \"POST /search HTTP/1.1\" 200 -\n"
     ]
    },
    {
     "name": "stdout",
     "output_type": "stream",
     "text": [
      "саженц\n",
      "dict_keys(['саженц', 'декоративн', 'и', 'плодов', 'культур', '.', 'могил', 'гарант'])\n",
      "культур\n",
      "dict_keys(['саженц', 'декоративн', 'и', 'плодов', 'культур', '.', 'могил', 'гарант'])\n"
     ]
    },
    {
     "name": "stderr",
     "output_type": "stream",
     "text": [
      "127.0.0.1 - - [21/Nov/2018 21:10:10] \"POST / HTTP/1.1\" 200 -\n",
      "127.0.0.1 - - [21/Nov/2018 21:10:10] \"POST /indexer HTTP/1.1\" 200 -\n",
      "127.0.0.1 - - [21/Nov/2018 21:10:10] \"POST /search HTTP/1.1\" 200 -\n"
     ]
    },
    {
     "name": "stdout",
     "output_type": "stream",
     "text": [
      "саженц\n",
      "dict_keys(['саженц', 'декоративн', 'и', 'плодов', 'культур', '.', 'могил', 'гарант'])\n",
      "культур\n",
      "dict_keys(['саженц', 'декоративн', 'и', 'плодов', 'культур', '.', 'могил', 'гарант'])\n"
     ]
    },
    {
     "name": "stderr",
     "output_type": "stream",
     "text": [
      "127.0.0.1 - - [21/Nov/2018 21:10:39] \"POST / HTTP/1.1\" 200 -\n",
      "127.0.0.1 - - [21/Nov/2018 21:10:39] \"POST /indexer HTTP/1.1\" 200 -\n",
      "127.0.0.1 - - [21/Nov/2018 21:10:39] \"POST /search HTTP/1.1\" 200 -\n"
     ]
    },
    {
     "name": "stdout",
     "output_type": "stream",
     "text": [
      "саженц\n",
      "dict_keys(['саженц', 'декоративн', 'и', 'плодов', 'культур', '.', 'могил', 'гарант'])\n",
      "культур\n",
      "dict_keys(['саженц', 'декоративн', 'и', 'плодов', 'культур', '.', 'могил', 'гарант'])\n"
     ]
    },
    {
     "name": "stderr",
     "output_type": "stream",
     "text": [
      "127.0.0.1 - - [21/Nov/2018 21:17:30] \"POST / HTTP/1.1\" 200 -\n",
      "127.0.0.1 - - [21/Nov/2018 21:17:30] \"POST /indexer HTTP/1.1\" 200 -\n",
      "127.0.0.1 - - [21/Nov/2018 21:17:30] \"POST /search HTTP/1.1\" 200 -\n"
     ]
    },
    {
     "name": "stdout",
     "output_type": "stream",
     "text": [
      "саженц\n",
      "dict_keys(['саженц', 'декоративн', 'и', 'плодов', 'культур', '.', 'могил', 'гарант'])\n",
      "культур\n",
      "dict_keys(['саженц', 'декоративн', 'и', 'плодов', 'культур', '.', 'могил', 'гарант'])\n"
     ]
    },
    {
     "name": "stderr",
     "output_type": "stream",
     "text": [
      "127.0.0.1 - - [21/Nov/2018 21:28:52] \"POST / HTTP/1.1\" 200 -\n",
      "127.0.0.1 - - [21/Nov/2018 21:28:52] \"POST /indexer HTTP/1.1\" 200 -\n",
      "127.0.0.1 - - [21/Nov/2018 21:28:52] \"POST /search HTTP/1.1\" 200 -\n"
     ]
    },
    {
     "name": "stdout",
     "output_type": "stream",
     "text": [
      "саженц\n",
      "dict_keys(['саженц', 'декоративн', 'и', 'плодов', 'культур', '.', 'могил', 'гарант'])\n",
      "культур\n",
      "dict_keys(['саженц', 'декоративн', 'и', 'плодов', 'культур', '.', 'могил', 'гарант'])\n"
     ]
    },
    {
     "name": "stderr",
     "output_type": "stream",
     "text": [
      "127.0.0.1 - - [21/Nov/2018 21:35:06] \"POST / HTTP/1.1\" 200 -\n",
      "127.0.0.1 - - [21/Nov/2018 21:35:06] \"POST /indexer HTTP/1.1\" 200 -\n",
      "127.0.0.1 - - [21/Nov/2018 21:35:06] \"POST /search HTTP/1.1\" 200 -\n"
     ]
    },
    {
     "name": "stdout",
     "output_type": "stream",
     "text": [
      "саженц\n",
      "dict_keys(['саженц', 'декоративн', 'и', 'плодов', 'культур', '.', 'могил', 'гарант'])\n",
      "культур\n",
      "dict_keys(['саженц', 'декоративн', 'и', 'плодов', 'культур', '.', 'могил', 'гарант'])\n"
     ]
    },
    {
     "name": "stderr",
     "output_type": "stream",
     "text": [
      "127.0.0.1 - - [21/Nov/2018 21:37:00] \"POST / HTTP/1.1\" 200 -\n",
      "127.0.0.1 - - [21/Nov/2018 21:37:00] \"POST /indexer HTTP/1.1\" 200 -\n",
      "127.0.0.1 - - [21/Nov/2018 21:37:00] \"POST /search HTTP/1.1\" 200 -\n"
     ]
    },
    {
     "name": "stdout",
     "output_type": "stream",
     "text": [
      "саженц\n",
      "dict_keys(['саженц', 'декоративн', 'и', 'плодов', 'культур', '.', 'могил', 'гарант'])\n",
      "культур\n",
      "dict_keys(['саженц', 'декоративн', 'и', 'плодов', 'культур', '.', 'могил', 'гарант'])\n"
     ]
    },
    {
     "name": "stderr",
     "output_type": "stream",
     "text": [
      "127.0.0.1 - - [21/Nov/2018 21:37:49] \"POST / HTTP/1.1\" 200 -\n",
      "127.0.0.1 - - [21/Nov/2018 21:37:49] \"POST /indexer HTTP/1.1\" 200 -\n",
      "127.0.0.1 - - [21/Nov/2018 21:37:49] \"POST /search HTTP/1.1\" 200 -\n"
     ]
    },
    {
     "name": "stdout",
     "output_type": "stream",
     "text": [
      "саженц\n",
      "dict_keys(['саженц', 'декоративн', 'и', 'плодов', 'культур', '.', 'могил', 'гарант'])\n",
      "культур\n",
      "dict_keys(['саженц', 'декоративн', 'и', 'плодов', 'культур', '.', 'могил', 'гарант'])\n"
     ]
    },
    {
     "name": "stderr",
     "output_type": "stream",
     "text": [
      "127.0.0.1 - - [21/Nov/2018 21:42:08] \"POST / HTTP/1.1\" 200 -\n",
      "127.0.0.1 - - [21/Nov/2018 21:42:08] \"POST /indexer HTTP/1.1\" 200 -\n",
      "127.0.0.1 - - [21/Nov/2018 21:42:08] \"POST /search HTTP/1.1\" 200 -\n"
     ]
    },
    {
     "name": "stdout",
     "output_type": "stream",
     "text": [
      "саженц\n",
      "dict_keys(['саженц', 'декоративн', 'и', 'плодов', 'культур', '.', 'могил', 'гарант'])\n",
      "культур\n",
      "dict_keys(['саженц', 'декоративн', 'и', 'плодов', 'культур', '.', 'могил', 'гарант'])\n"
     ]
    },
    {
     "name": "stderr",
     "output_type": "stream",
     "text": [
      "127.0.0.1 - - [21/Nov/2018 21:42:44] \"POST / HTTP/1.1\" 200 -\n",
      "127.0.0.1 - - [21/Nov/2018 21:42:45] \"POST /indexer HTTP/1.1\" 200 -\n",
      "127.0.0.1 - - [21/Nov/2018 21:42:45] \"POST /search HTTP/1.1\" 200 -\n"
     ]
    },
    {
     "name": "stdout",
     "output_type": "stream",
     "text": [
      "саженц\n",
      "dict_keys(['саженц', 'декоративн', 'и', 'плодов', 'культур', '.', 'могил', 'гарант'])\n",
      "культур\n",
      "dict_keys(['саженц', 'декоративн', 'и', 'плодов', 'культур', '.', 'могил', 'гарант'])\n"
     ]
    },
    {
     "name": "stderr",
     "output_type": "stream",
     "text": [
      "127.0.0.1 - - [21/Nov/2018 21:46:08] \"POST / HTTP/1.1\" 200 -\n",
      "127.0.0.1 - - [21/Nov/2018 21:46:08] \"POST /indexer HTTP/1.1\" 200 -\n",
      "127.0.0.1 - - [21/Nov/2018 21:46:08] \"POST /search HTTP/1.1\" 200 -\n"
     ]
    },
    {
     "name": "stdout",
     "output_type": "stream",
     "text": [
      "саженц\n",
      "dict_keys(['саженц', 'декоративн', 'и', 'плодов', 'культур', '.', 'могил', 'гарант'])\n",
      "культур\n",
      "dict_keys(['саженц', 'декоративн', 'и', 'плодов', 'культур', '.', 'могил', 'гарант'])\n"
     ]
    },
    {
     "name": "stderr",
     "output_type": "stream",
     "text": [
      "127.0.0.1 - - [21/Nov/2018 21:46:38] \"POST / HTTP/1.1\" 200 -\n",
      "127.0.0.1 - - [21/Nov/2018 21:46:38] \"POST /indexer HTTP/1.1\" 200 -\n",
      "127.0.0.1 - - [21/Nov/2018 21:46:38] \"POST /search HTTP/1.1\" 200 -\n"
     ]
    },
    {
     "name": "stdout",
     "output_type": "stream",
     "text": [
      "саженц\n",
      "dict_keys(['саженц', 'декоративн', 'и', 'плодов', 'культур', '.', 'могил', 'гарант'])\n",
      "культур\n",
      "dict_keys(['саженц', 'декоративн', 'и', 'плодов', 'культур', '.', 'могил', 'гарант'])\n"
     ]
    },
    {
     "name": "stderr",
     "output_type": "stream",
     "text": [
      "127.0.0.1 - - [21/Nov/2018 21:47:55] \"POST / HTTP/1.1\" 200 -\n",
      "127.0.0.1 - - [21/Nov/2018 21:47:55] \"POST /indexer HTTP/1.1\" 200 -\n",
      "127.0.0.1 - - [21/Nov/2018 21:47:55] \"POST /search HTTP/1.1\" 200 -\n"
     ]
    },
    {
     "name": "stdout",
     "output_type": "stream",
     "text": [
      "саженц\n",
      "dict_keys(['саженц', 'декоративн', 'и', 'плодов', 'культур', '.', 'могил', 'гарант'])\n",
      "культур\n",
      "dict_keys(['саженц', 'декоративн', 'и', 'плодов', 'культур', '.', 'могил', 'гарант'])\n"
     ]
    },
    {
     "name": "stderr",
     "output_type": "stream",
     "text": [
      "127.0.0.1 - - [21/Nov/2018 21:48:29] \"POST / HTTP/1.1\" 200 -\n",
      "127.0.0.1 - - [21/Nov/2018 21:48:29] \"POST /indexer HTTP/1.1\" 200 -\n",
      "127.0.0.1 - - [21/Nov/2018 21:48:29] \"POST /search HTTP/1.1\" 200 -\n"
     ]
    },
    {
     "name": "stdout",
     "output_type": "stream",
     "text": [
      "саженц\n",
      "dict_keys(['саженц', 'декоративн', 'и', 'плодов', 'культур', '.', 'могил', 'гарант'])\n",
      "культур\n",
      "dict_keys(['саженц', 'декоративн', 'и', 'плодов', 'культур', '.', 'могил', 'гарант'])\n"
     ]
    },
    {
     "name": "stderr",
     "output_type": "stream",
     "text": [
      "127.0.0.1 - - [21/Nov/2018 21:48:45] \"POST / HTTP/1.1\" 200 -\n",
      "127.0.0.1 - - [21/Nov/2018 21:48:45] \"POST /indexer HTTP/1.1\" 200 -\n",
      "127.0.0.1 - - [21/Nov/2018 21:48:45] \"POST /search HTTP/1.1\" 200 -\n"
     ]
    },
    {
     "name": "stdout",
     "output_type": "stream",
     "text": [
      "саженц\n",
      "dict_keys(['саженц', 'декоративн', 'и', 'плодов', 'культур', '.', 'могил', 'гарант'])\n",
      "культур\n",
      "dict_keys(['саженц', 'декоративн', 'и', 'плодов', 'культур', '.', 'могил', 'гарант'])\n"
     ]
    },
    {
     "name": "stderr",
     "output_type": "stream",
     "text": [
      "127.0.0.1 - - [21/Nov/2018 21:49:32] \"POST / HTTP/1.1\" 200 -\n",
      "127.0.0.1 - - [21/Nov/2018 21:49:32] \"POST /indexer HTTP/1.1\" 200 -\n",
      "127.0.0.1 - - [21/Nov/2018 21:49:32] \"POST /search HTTP/1.1\" 200 -\n"
     ]
    },
    {
     "name": "stdout",
     "output_type": "stream",
     "text": [
      "саженц\n",
      "dict_keys(['саженц', 'декоративн', 'и', 'плодов', 'культур', '.', 'могил', 'гарант'])\n",
      "культур\n",
      "dict_keys(['саженц', 'декоративн', 'и', 'плодов', 'культур', '.', 'могил', 'гарант'])\n"
     ]
    },
    {
     "name": "stderr",
     "output_type": "stream",
     "text": [
      "127.0.0.1 - - [21/Nov/2018 21:49:41] \"POST / HTTP/1.1\" 200 -\n",
      "127.0.0.1 - - [21/Nov/2018 21:49:42] \"POST /indexer HTTP/1.1\" 200 -\n",
      "127.0.0.1 - - [21/Nov/2018 21:49:42] \"POST /search HTTP/1.1\" 200 -\n"
     ]
    },
    {
     "name": "stdout",
     "output_type": "stream",
     "text": [
      "саженц\n",
      "dict_keys(['саженц', 'декоративн', 'и', 'плодов', 'культур', '.', 'могил', 'гарант'])\n",
      "культур\n",
      "dict_keys(['саженц', 'декоративн', 'и', 'плодов', 'культур', '.', 'могил', 'гарант'])\n"
     ]
    },
    {
     "name": "stderr",
     "output_type": "stream",
     "text": [
      "127.0.0.1 - - [21/Nov/2018 21:53:31] \"POST / HTTP/1.1\" 200 -\n",
      "127.0.0.1 - - [21/Nov/2018 21:53:32] \"POST /indexer HTTP/1.1\" 200 -\n",
      "127.0.0.1 - - [21/Nov/2018 21:53:32] \"POST /search HTTP/1.1\" 200 -\n"
     ]
    },
    {
     "name": "stdout",
     "output_type": "stream",
     "text": [
      "саженц\n",
      "dict_keys(['саженц', 'декоративн', 'и', 'плодов', 'культур', '.', 'могил', 'гарант'])\n",
      "культур\n",
      "dict_keys(['саженц', 'декоративн', 'и', 'плодов', 'культур', '.', 'могил', 'гарант'])\n"
     ]
    },
    {
     "name": "stderr",
     "output_type": "stream",
     "text": [
      "127.0.0.1 - - [21/Nov/2018 21:54:15] \"POST / HTTP/1.1\" 200 -\n",
      "127.0.0.1 - - [21/Nov/2018 21:54:15] \"POST /indexer HTTP/1.1\" 200 -\n",
      "127.0.0.1 - - [21/Nov/2018 21:54:15] \"POST /search HTTP/1.1\" 200 -\n"
     ]
    },
    {
     "name": "stdout",
     "output_type": "stream",
     "text": [
      "саженц\n",
      "dict_keys(['саженц', 'декоративн', 'и', 'плодов', 'культур', '.', 'могил', 'гарант'])\n",
      "культур\n",
      "dict_keys(['саженц', 'декоративн', 'и', 'плодов', 'культур', '.', 'могил', 'гарант'])\n"
     ]
    },
    {
     "name": "stderr",
     "output_type": "stream",
     "text": [
      "127.0.0.1 - - [21/Nov/2018 21:55:39] \"POST / HTTP/1.1\" 200 -\n",
      "127.0.0.1 - - [21/Nov/2018 21:55:39] \"POST /indexer HTTP/1.1\" 200 -\n",
      "127.0.0.1 - - [21/Nov/2018 21:55:40] \"POST /search HTTP/1.1\" 200 -\n"
     ]
    },
    {
     "name": "stdout",
     "output_type": "stream",
     "text": [
      "саженц\n",
      "dict_keys(['саженц', 'декоративн', 'и', 'плодов', 'культур', '.', 'могил', 'гарант'])\n",
      "культур\n",
      "dict_keys(['саженц', 'декоративн', 'и', 'плодов', 'культур', '.', 'могил', 'гарант'])\n"
     ]
    },
    {
     "name": "stderr",
     "output_type": "stream",
     "text": [
      "127.0.0.1 - - [21/Nov/2018 21:56:11] \"POST / HTTP/1.1\" 200 -\n",
      "127.0.0.1 - - [21/Nov/2018 21:56:11] \"POST /indexer HTTP/1.1\" 200 -\n",
      "127.0.0.1 - - [21/Nov/2018 21:56:11] \"POST /search HTTP/1.1\" 200 -\n"
     ]
    },
    {
     "name": "stdout",
     "output_type": "stream",
     "text": [
      "саженц\n",
      "dict_keys(['саженц', 'декоративн', 'и', 'плодов', 'культур', '.', 'могил', 'гарант'])\n",
      "культур\n",
      "dict_keys(['саженц', 'декоративн', 'и', 'плодов', 'культур', '.', 'могил', 'гарант'])\n"
     ]
    }
   ],
   "source": [
    "if __name__ == \"__main__\":\n",
    "    app.run(port=13500)\n",
    "    # app.run(host='0.0.0.0', port=13500)\n"
   ]
  }
 ],
 "metadata": {
  "kernelspec": {
   "display_name": "Python 3",
   "language": "python",
   "name": "python3"
  },
  "language_info": {
   "codemirror_mode": {
    "name": "ipython",
    "version": 3
   },
   "file_extension": ".py",
   "mimetype": "text/x-python",
   "name": "python",
   "nbconvert_exporter": "python",
   "pygments_lexer": "ipython3",
   "version": "3.6.6"
  }
 },
 "nbformat": 4,
 "nbformat_minor": 2
}
