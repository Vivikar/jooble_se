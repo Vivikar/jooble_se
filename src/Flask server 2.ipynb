{
 "cells": [
  {
   "cell_type": "code",
   "execution_count": 11,
   "metadata": {
    "collapsed": true
   },
   "outputs": [],
   "source": [
    "from flask import Flask, request\n",
    "import json\n",
    "\n",
    "import doc_classes"
   ]
  },
  {
   "cell_type": "markdown",
   "metadata": {},
   "source": [
    "#### Describe class Document, or use it from module doc_classes"
   ]
  },
  {
   "cell_type": "code",
   "execution_count": 12,
   "metadata": {},
   "outputs": [],
   "source": [
    "class Document():\n",
    "    \"\"\"Class for storing different information about a document.\"\"\"\n",
    "    \n",
    "    def __init__(self, **kwargs):\n",
    "        \"\"\"\n",
    "        Transform values of dictionary kwargs to class attributes.\n",
    "        \"\"\"\n",
    "        self.__dict__.update(kwargs)\n",
    "\n",
    "        \n",
    "    def __str__(self):\n",
    "        return str(self.__dict__)\n",
    "    \n",
    "    \n",
    "    def to_dict(self):\n",
    "        \"\"\"\n",
    "        Transform instance of class to dictionary.\n",
    "        Returns:\n",
    "        dictionary with class attributes and values\n",
    "        \"\"\"\n",
    "        return self.__dict__\n",
    "      \n",
    "        \n",
    "    def toJSON(self):\n",
    "        \"\"\"\n",
    "        Transform instance of class to json format.\n",
    "        Returns:\n",
    "        string\n",
    "        \"\"\"\n",
    "        return json.dumps(self, default=lambda obj: obj.__dict__)"
   ]
  },
  {
   "cell_type": "code",
   "execution_count": 13,
   "metadata": {},
   "outputs": [],
   "source": [
    "app = Flask(__name__)\n",
    "\n",
    "@app.route(\"/\")\n",
    "def hello():\n",
    "    return \"Hello World from Scissors!\"\n",
    "\n",
    "\n",
    "@app.route('/about')\n",
    "def about():\n",
    "    return 'The about page'\n",
    "        \n",
    "\n",
    "@app.route('/ranging', methods=[\"POST\"])\n",
    "def ranging():\n",
    "    \"\"\"\n",
    "    Returns:\n",
    "    List with dictionaries according to ranged documents ID as json file\n",
    "    \"\"\"\n",
    "    list_of_dicts = request.json \n",
    "    documents = [Document(**doc) for doc in list_of_dicts]\n",
    "    return json.dumps([doc.to_dict() for doc in documents])\n",
    "    \n",
    "    \n",
    "@app.route('/snippets', methods=[\"POST\"])\n",
    "def get_snippets():\n",
    "    \"\"\"\n",
    "    Returns:   \n",
    "    \"\"\"     \n",
    "    list_of_dicts = request.json \n",
    "    documents = [Document(**doc) for doc in list_of_dicts]\n",
    "    result = [doc.to_dict() for doc in documents]\n",
    "    \n",
    "    return json.dumps(result)\n",
    "\n",
    "\n",
    "@app.route('/return_page', methods=[\"POST\"])\n",
    "def return_page():\n",
    "    \"\"\"\n",
    "    Returns:\n",
    "    \n",
    "    \"\"\"\n",
    "    list_of_dicts = request.json \n",
    "    documents = [Document(**doc) for doc in list_of_dicts]\n",
    "    result = [doc.to_dict() for doc in documents]\n",
    "    \n",
    "    return \"html\"\n",
    "\n"
   ]
  },
  {
   "cell_type": "code",
   "execution_count": 14,
   "metadata": {},
   "outputs": [
    {
     "name": "stdout",
     "output_type": "stream",
     "text": [
      " * Serving Flask app \"__main__\" (lazy loading)\n",
      " * Environment: production\n",
      "   WARNING: Do not use the development server in a production environment.\n",
      "   Use a production WSGI server instead.\n",
      " * Debug mode: off\n"
     ]
    },
    {
     "name": "stderr",
     "output_type": "stream",
     "text": [
      " * Running on http://127.0.0.1:5000/ (Press CTRL+C to quit)\n",
      "127.0.0.1 - - [03/Nov/2018 19:47:41] \"\u001b[37mGET /about HTTP/1.1\u001b[0m\" 200 -\n",
      "127.0.0.1 - - [03/Nov/2018 19:47:43] \"\u001b[37mPOST /ranging HTTP/1.1\u001b[0m\" 200 -\n",
      "127.0.0.1 - - [03/Nov/2018 19:47:45] \"\u001b[37mPOST /snippets HTTP/1.1\u001b[0m\" 200 -\n",
      "127.0.0.1 - - [03/Nov/2018 19:47:46] \"\u001b[37mPOST /return_page HTTP/1.1\u001b[0m\" 200 -\n"
     ]
    }
   ],
   "source": [
    "if __name__ == \"__main__\":\n",
    "    app.run()"
   ]
  },
  {
   "cell_type": "code",
   "execution_count": 117,
   "metadata": {
    "scrolled": true
   },
   "outputs": [
    {
     "name": "stdout",
     "output_type": "stream",
     "text": [
      " * Serving Flask app \"__main__\" (lazy loading)\n",
      " * Environment: production\n",
      "   WARNING: Do not use the development server in a production environment.\n",
      "   Use a production WSGI server instead.\n",
      " * Debug mode: off\n"
     ]
    },
    {
     "name": "stderr",
     "output_type": "stream",
     "text": [
      " * Running on http://0.0.0.0:13502/ (Press CTRL+C to quit)\n"
     ]
    }
   ],
   "source": [
    "if __name__ == \"__main__\":\n",
    "    app.run(host='0.0.0.0', port=13502)"
   ]
  },
  {
   "cell_type": "code",
   "execution_count": null,
   "metadata": {
    "collapsed": true
   },
   "outputs": [],
   "source": []
  }
 ],
 "metadata": {
  "kernelspec": {
   "display_name": "Python 3",
   "language": "python",
   "name": "python3"
  },
  "language_info": {
   "codemirror_mode": {
    "name": "ipython",
    "version": 3
   },
   "file_extension": ".py",
   "mimetype": "text/x-python",
   "name": "python",
   "nbconvert_exporter": "python",
   "pygments_lexer": "ipython3",
   "version": "3.6.5"
  }
 },
 "nbformat": 4,
 "nbformat_minor": 2
}
