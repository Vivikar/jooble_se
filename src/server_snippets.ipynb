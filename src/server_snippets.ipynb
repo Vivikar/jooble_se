{
 "cells": [
  {
   "cell_type": "code",
   "execution_count": 1,
   "metadata": {},
   "outputs": [],
   "source": [
    "import json\n",
    "\n",
    "from flask import Flask, request\n"
   ]
  },
  {
   "cell_type": "code",
   "execution_count": 32,
   "metadata": {},
   "outputs": [],
   "source": [
    "app = Flask(__name__)\n",
    "\n",
    "\n",
    "@app.route('/snippets', methods=[\"POST\"])\n",
    "def get_snippets():\n",
    "    document = json.loads(request.json, encoding=\"utf-8\")\n",
    "    \n",
    "    documents = document[\"documents\"]\n",
    "    terms = []\n",
    "    for term in document[\"terms\"]:\n",
    "        terms.append(term[\"inverted_index\"][0][\"pos\"][0])\n",
    "    \n",
    "    result_lists = []\n",
    "    for doc in documents:\n",
    "        if terms[0] < 10 and terms[1] <200:\n",
    "            snippet = doc[\"text\"][0:min(180, len(doc[\"text\"]) - 1)]\n",
    "        \n",
    "        elif terms[0] > 10 :\n",
    "            snippet = doc[\"text\"][terms[0]:min(terms[0]+180, len(doc[\"text\"]) - 1)]\n",
    "            \n",
    "            \n",
    "        elif terms[0] > 10 and  terms[1] > 210:\n",
    "            snippet = doc[\"text\"][terms[0]:min(terms[0] + 90, len(doc[\"text\"]) - 1)]\n",
    "            snippet = snippet + \" ... \" + doc[\"text\"][terms[1]:min(terms[1] + 90, len(doc[\"text\"]) - 1)]\n",
    "            \n",
    "        doc[\"snippet\"] = snippet    \n",
    "    search_res = {}\n",
    "    search_res[\"results\"] = documents\n",
    "    return json.dumps(search_res, ensure_ascii=False)\n"
   ]
  },
  {
   "cell_type": "code",
   "execution_count": null,
   "metadata": {},
   "outputs": [
    {
     "name": "stdout",
     "output_type": "stream",
     "text": [
      " * Serving Flask app \"__main__\" (lazy loading)\n",
      " * Environment: production\n",
      "   WARNING: Do not use the development server in a production environment.\n",
      "   Use a production WSGI server instead.\n",
      " * Debug mode: off\n"
     ]
    },
    {
     "name": "stderr",
     "output_type": "stream",
     "text": [
      " * Running on http://127.0.0.1:13503/ (Press CTRL+C to quit)\n",
      "127.0.0.1 - - [21/Nov/2018 21:37:00] \"POST /snippets HTTP/1.1\" 200 -\n",
      "127.0.0.1 - - [21/Nov/2018 21:37:49] \"POST /snippets HTTP/1.1\" 200 -\n",
      "127.0.0.1 - - [21/Nov/2018 21:37:49] \"POST /snippets HTTP/1.1\" 200 -\n",
      "127.0.0.1 - - [21/Nov/2018 21:42:08] \"POST /snippets HTTP/1.1\" 200 -\n",
      "127.0.0.1 - - [21/Nov/2018 21:42:45] \"POST /snippets HTTP/1.1\" 200 -\n",
      "127.0.0.1 - - [21/Nov/2018 21:46:08] \"POST /snippets HTTP/1.1\" 200 -\n",
      "127.0.0.1 - - [21/Nov/2018 21:46:38] \"POST /snippets HTTP/1.1\" 200 -\n",
      "127.0.0.1 - - [21/Nov/2018 21:47:55] \"POST /snippets HTTP/1.1\" 200 -\n",
      "127.0.0.1 - - [21/Nov/2018 21:48:29] \"POST /snippets HTTP/1.1\" 200 -\n",
      "127.0.0.1 - - [21/Nov/2018 21:48:45] \"POST /snippets HTTP/1.1\" 200 -\n",
      "127.0.0.1 - - [21/Nov/2018 21:49:32] \"POST /snippets HTTP/1.1\" 200 -\n",
      "127.0.0.1 - - [21/Nov/2018 21:49:42] \"POST /snippets HTTP/1.1\" 200 -\n",
      "127.0.0.1 - - [21/Nov/2018 21:53:32] \"POST /snippets HTTP/1.1\" 200 -\n",
      "127.0.0.1 - - [21/Nov/2018 21:54:15] \"POST /snippets HTTP/1.1\" 200 -\n",
      "127.0.0.1 - - [21/Nov/2018 21:55:40] \"POST /snippets HTTP/1.1\" 200 -\n",
      "127.0.0.1 - - [21/Nov/2018 21:56:11] \"POST /snippets HTTP/1.1\" 200 -\n"
     ]
    }
   ],
   "source": [
    "if __name__ == \"__main__\":\n",
    "    app.run(port=13503)\n",
    "    # app.run(host='0.0.0.0', port=13503)\n"
   ]
  }
 ],
 "metadata": {
  "kernelspec": {
   "display_name": "Python 3",
   "language": "python",
   "name": "python3"
  },
  "language_info": {
   "codemirror_mode": {
    "name": "ipython",
    "version": 3
   },
   "file_extension": ".py",
   "mimetype": "text/x-python",
   "name": "python",
   "nbconvert_exporter": "python",
   "pygments_lexer": "ipython3",
   "version": "3.6.6"
  }
 },
 "nbformat": 4,
 "nbformat_minor": 2
}
