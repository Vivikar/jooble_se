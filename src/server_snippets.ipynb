{
 "cells": [
  {
   "cell_type": "code",
   "execution_count": null,
   "metadata": {},
   "outputs": [],
   "source": [
    "import json\n",
    "import re\n",
    "\n",
    "from flask import Flask, request\n",
    "\n",
    "import config\n"
   ]
  },
  {
   "cell_type": "code",
   "execution_count": null,
   "metadata": {},
   "outputs": [],
   "source": [
    "def get_snippets():\n",
    "    document = json.loads(request.json, encoding=\"utf-8\")\n",
    "    \n",
    "    documents = document[\"documents\"]\n",
    "    terms = []\n",
    "    for term in document[\"terms\"]:\n",
    "        terms.append(term[\"inverted_index\"][0][\"pos\"][0])\n",
    "    \n",
    "    result_lists = []\n",
    "    for doc in documents:\n",
    "        if terms[0] < 10 and terms[1] < 200:\n",
    "            snippet = doc[\"text\"][0:min(180, len(doc[\"text\"]) - 1)]\n",
    "        \n",
    "        elif terms[0] > 10 :\n",
    "            snippet = doc[\"text\"][terms[0]:min(terms[0]+180, len(doc[\"text\"]) - 1)]\n",
    "\n",
    "        elif terms[0] > 10 and  terms[1] > 210:\n",
    "            snippet = doc[\"text\"][terms[0]:min(terms[0] + 90, len(doc[\"text\"]) - 1)]\n",
    "            snippet = snippet + \" ... \" + doc[\"text\"][terms[1]:min(terms[1] + 90, len(doc[\"text\"]) - 1)]\n",
    "            \n",
    "        doc[\"snippet\"] = snippet    \n",
    "    search_res = dict()\n",
    "    search_res[\"results\"] = documents\n",
    "    return json.dumps(search_res, ensure_ascii=False)"
   ]
  },
  {
   "cell_type": "code",
   "execution_count": null,
   "metadata": {},
   "outputs": [],
   "source": [
    "app = Flask(__name__)\n",
    "\n",
    "\n",
    "@app.route('/snippets', methods=[\"POST\"])\n",
    "def get_snippets():\n",
    "    #documents_list = json.loads(request.json, encoding=\"utf-8\")\n",
    "    documents_list = request.json[\"documents\"]\n",
    "    query = request.json[\"query\"].split(\" \")\n",
    "    documents = [doc[1] for doc in documents_list]\n",
    "    \n",
    "    result_lists = []\n",
    "    for doc in documents:\n",
    "        doc[\"snippet\"] = doc[\"text\"][:100]  \n",
    "        \n",
    "    search_res = dict()\n",
    "    search_res[\"results\"] = documents\n",
    "    return json.dumps(search_res, ensure_ascii=False)\n"
   ]
  },
  {
   "cell_type": "code",
   "execution_count": null,
   "metadata": {},
   "outputs": [],
   "source": [
    "if __name__ == \"__main__\":\n",
    "    app.run(host=config.SNIPPETS_HOST, port=config.SNIPPETS_PORT)\n"
   ]
  },
  {
   "cell_type": "code",
   "execution_count": null,
   "metadata": {},
   "outputs": [],
   "source": []
  }
 ],
 "metadata": {
  "kernelspec": {
   "display_name": "Python 3",
   "language": "python",
   "name": "python3"
  },
  "language_info": {
   "codemirror_mode": {
    "name": "ipython",
    "version": 3
   },
   "file_extension": ".py",
   "mimetype": "text/x-python",
   "name": "python",
   "nbconvert_exporter": "python",
   "pygments_lexer": "ipython3",
   "version": "3.6.5"
  }
 },
 "nbformat": 4,
 "nbformat_minor": 2
}
