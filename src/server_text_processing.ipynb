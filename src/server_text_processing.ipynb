{
 "cells": [
  {
   "cell_type": "code",
   "execution_count": null,
   "metadata": {},
   "outputs": [],
   "source": [
    "import json\n",
    "\n",
    "from flask import Flask, request\n",
    "import nltk\n",
    "from nltk.stem.snowball import RussianStemmer\n",
    "\n",
    "nltk.download('punkt')\n"
   ]
  },
  {
   "cell_type": "code",
   "execution_count": null,
   "metadata": {},
   "outputs": [],
   "source": [
    "app = Flask(__name__)\n",
    "\n",
    "\n",
    "@app.route('/', methods=['GET', 'POST'])\n",
    "def index():\n",
    "    return \"Main page of text preprocessor\"\n",
    "\n",
    "\n",
    "@app.route(\"/normalize_document\", methods=[\"POST\"])\n",
    "def normalize_document():\n",
    "    document = request.json\n",
    "    field_for_norm = [\"text\", \"title\"]\n",
    "    rus_stemmer = RussianStemmer()\n",
    "\n",
    "    for field in field_for_norm:\n",
    "        text = document[field].lower()\n",
    "        text = nltk.word_tokenize(text)\n",
    "        text = [rus_stemmer.stem(word) for word in text]\n",
    "        text = \" \".join(text)\n",
    "        document[field + \"_normalized\"] = text\n",
    "\n",
    "    return json.dumps(document, ensure_ascii=False)\n",
    "\n",
    "\n",
    "@app.route(\"/normalize_query\", methods=[\"POST\"])\n",
    "def normalize_string():\n",
    "    query = request.json\n",
    "    rus_stemmer = RussianStemmer()\n",
    "    text = query.lower()\n",
    "    text = nltk.word_tokenize(text)\n",
    "    text = [rus_stemmer.stem(word) for word in text]\n",
    "    text = \" \".join(text)\n",
    "    return text\n",
    "\n",
    "\n",
    "@app.route(\"/detect_language\", methods=[\"POST\"])\n",
    "def det_lang():\n",
    "    return \"detected language\"\n"
   ]
  },
  {
   "cell_type": "code",
   "execution_count": null,
   "metadata": {},
   "outputs": [],
   "source": [
    "if __name__ == \"__main__\":\n",
    "    app.run(port=13501)\n",
    "    # app.run(host='0.0.0.0', port=13501)\n"
   ]
  }
 ],
 "metadata": {
  "kernelspec": {
   "display_name": "Python 3",
   "language": "python",
   "name": "python3"
  },
  "language_info": {
   "codemirror_mode": {
    "name": "ipython",
    "version": 3
   },
   "file_extension": ".py",
   "mimetype": "text/x-python",
   "name": "python",
   "nbconvert_exporter": "python",
   "pygments_lexer": "ipython3",
   "version": "3.6.5"
  }
 },
 "nbformat": 4,
 "nbformat_minor": 2
}
