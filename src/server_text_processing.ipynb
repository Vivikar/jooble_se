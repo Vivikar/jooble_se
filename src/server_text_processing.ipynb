{
 "cells": [
  {
   "cell_type": "code",
   "execution_count": 1,
   "metadata": {},
   "outputs": [
    {
     "name": "stdout",
     "output_type": "stream",
     "text": [
      "[nltk_data] Downloading package punkt to /home/vzalevskyi/nltk_data...\n",
      "[nltk_data]   Package punkt is already up-to-date!\n"
     ]
    },
    {
     "data": {
      "text/plain": [
       "True"
      ]
     },
     "execution_count": 1,
     "metadata": {},
     "output_type": "execute_result"
    }
   ],
   "source": [
    "import json\n",
    "\n",
    "from flask import Flask, request\n",
    "import nltk\n",
    "from nltk.stem.snowball import RussianStemmer\n",
    "\n",
    "nltk.download('punkt')\n"
   ]
  },
  {
   "cell_type": "code",
   "execution_count": 2,
   "metadata": {},
   "outputs": [],
   "source": [
    "app = Flask(__name__)\n",
    "\n",
    "\n",
    "@app.route('/', methods=['GET', 'POST'])\n",
    "def index():\n",
    "    return \"Main page of text preprocessor\"\n",
    "\n",
    "\n",
    "@app.route(\"/normalize_document\", methods=[\"POST\"])\n",
    "def normalize_document():\n",
    "    document = request.json\n",
    "    field_for_norm = [\"text\", \"title\"]\n",
    "    rus_stemmer = RussianStemmer()\n",
    "\n",
    "    for field in field_for_norm:\n",
    "        text = document[field].lower()\n",
    "        text = nltk.word_tokenize(text)\n",
    "        text = [rus_stemmer.stem(word) for word in text]\n",
    "        text = \" \".join(text)\n",
    "        document[field + \"_normalized\"] = text\n",
    "\n",
    "    return json.dumps(document, ensure_ascii=False)\n",
    "\n",
    "\n",
    "@app.route(\"/normalize_query\", methods=[\"POST\"])\n",
    "def normalize_string():\n",
    "    query = request.json\n",
    "    rus_stemmer = RussianStemmer()\n",
    "    text = query.lower()\n",
    "    text = nltk.word_tokenize(text)\n",
    "    text = [rus_stemmer.stem(word) for word in text]\n",
    "    text = \" \".join(text)\n",
    "    return text\n",
    "\n",
    "\n",
    "@app.route(\"/detect_language\", methods=[\"POST\"])\n",
    "def det_lang():\n",
    "    return \"detected language\"\n"
   ]
  },
  {
   "cell_type": "code",
   "execution_count": null,
   "metadata": {},
   "outputs": [
    {
     "name": "stdout",
     "output_type": "stream",
     "text": [
      " * Serving Flask app \"__main__\" (lazy loading)\n",
      " * Environment: production\n",
      "   WARNING: Do not use the development server in a production environment.\n",
      "   Use a production WSGI server instead.\n",
      " * Debug mode: off\n"
     ]
    },
    {
     "name": "stderr",
     "output_type": "stream",
     "text": [
      " * Running on http://127.0.0.1:13501/ (Press CTRL+C to quit)\n",
      "127.0.0.1 - - [21/Nov/2018 20:20:34] \"POST /normalize_document HTTP/1.1\" 200 -\n",
      "127.0.0.1 - - [21/Nov/2018 20:20:34] \"POST /normalize_query HTTP/1.1\" 200 -\n",
      "127.0.0.1 - - [21/Nov/2018 20:28:51] \"POST /normalize_document HTTP/1.1\" 200 -\n",
      "127.0.0.1 - - [21/Nov/2018 20:28:51] \"POST /normalize_query HTTP/1.1\" 200 -\n",
      "127.0.0.1 - - [21/Nov/2018 20:28:51] \"POST /normalize_query HTTP/1.1\" 200 -\n",
      "127.0.0.1 - - [21/Nov/2018 20:28:55] \"POST /normalize_document HTTP/1.1\" 200 -\n",
      "127.0.0.1 - - [21/Nov/2018 20:28:55] \"POST /normalize_query HTTP/1.1\" 200 -\n",
      "127.0.0.1 - - [21/Nov/2018 20:28:55] \"POST /normalize_query HTTP/1.1\" 200 -\n",
      "127.0.0.1 - - [21/Nov/2018 20:29:37] \"POST /normalize_document HTTP/1.1\" 200 -\n",
      "127.0.0.1 - - [21/Nov/2018 20:29:37] \"POST /normalize_query HTTP/1.1\" 200 -\n",
      "127.0.0.1 - - [21/Nov/2018 20:30:17] \"POST /normalize_document HTTP/1.1\" 200 -\n",
      "127.0.0.1 - - [21/Nov/2018 20:30:17] \"POST /normalize_query HTTP/1.1\" 200 -\n",
      "127.0.0.1 - - [21/Nov/2018 20:32:52] \"POST /normalize_document HTTP/1.1\" 200 -\n",
      "127.0.0.1 - - [21/Nov/2018 20:32:52] \"POST /normalize_query HTTP/1.1\" 200 -\n",
      "127.0.0.1 - - [21/Nov/2018 20:33:38] \"POST /normalize_document HTTP/1.1\" 200 -\n",
      "127.0.0.1 - - [21/Nov/2018 20:33:38] \"POST /normalize_query HTTP/1.1\" 200 -\n",
      "127.0.0.1 - - [21/Nov/2018 20:37:17] \"POST /normalize_document HTTP/1.1\" 200 -\n",
      "127.0.0.1 - - [21/Nov/2018 20:37:17] \"POST /normalize_query HTTP/1.1\" 200 -\n",
      "127.0.0.1 - - [21/Nov/2018 20:37:18] \"POST /normalize_document HTTP/1.1\" 200 -\n",
      "127.0.0.1 - - [21/Nov/2018 20:37:18] \"POST /normalize_query HTTP/1.1\" 200 -\n",
      "127.0.0.1 - - [21/Nov/2018 20:37:25] \"POST /normalize_document HTTP/1.1\" 200 -\n",
      "127.0.0.1 - - [21/Nov/2018 20:37:25] \"POST /normalize_query HTTP/1.1\" 200 -\n",
      "127.0.0.1 - - [21/Nov/2018 20:38:47] \"POST /normalize_document HTTP/1.1\" 200 -\n",
      "127.0.0.1 - - [21/Nov/2018 20:38:47] \"POST /normalize_query HTTP/1.1\" 200 -\n",
      "127.0.0.1 - - [21/Nov/2018 20:40:51] \"POST /normalize_document HTTP/1.1\" 200 -\n",
      "127.0.0.1 - - [21/Nov/2018 20:40:51] \"POST /normalize_query HTTP/1.1\" 200 -\n",
      "127.0.0.1 - - [21/Nov/2018 20:44:19] \"POST /normalize_document HTTP/1.1\" 200 -\n",
      "127.0.0.1 - - [21/Nov/2018 20:44:19] \"POST /normalize_query HTTP/1.1\" 200 -\n",
      "127.0.0.1 - - [21/Nov/2018 20:49:05] \"POST /normalize_document HTTP/1.1\" 200 -\n",
      "127.0.0.1 - - [21/Nov/2018 20:49:06] \"POST /normalize_query HTTP/1.1\" 200 -\n",
      "127.0.0.1 - - [21/Nov/2018 20:56:44] \"POST /normalize_document HTTP/1.1\" 200 -\n",
      "127.0.0.1 - - [21/Nov/2018 20:56:45] \"POST /normalize_query HTTP/1.1\" 200 -\n",
      "127.0.0.1 - - [21/Nov/2018 20:57:34] \"POST /normalize_document HTTP/1.1\" 200 -\n",
      "127.0.0.1 - - [21/Nov/2018 20:57:34] \"POST /normalize_query HTTP/1.1\" 200 -\n",
      "127.0.0.1 - - [21/Nov/2018 20:58:39] \"POST /normalize_document HTTP/1.1\" 200 -\n",
      "127.0.0.1 - - [21/Nov/2018 20:58:39] \"POST /normalize_query HTTP/1.1\" 200 -\n",
      "127.0.0.1 - - [21/Nov/2018 21:08:18] \"POST /normalize_document HTTP/1.1\" 200 -\n",
      "127.0.0.1 - - [21/Nov/2018 21:08:18] \"POST /normalize_query HTTP/1.1\" 200 -\n",
      "127.0.0.1 - - [21/Nov/2018 21:10:10] \"POST /normalize_document HTTP/1.1\" 200 -\n",
      "127.0.0.1 - - [21/Nov/2018 21:10:10] \"POST /normalize_query HTTP/1.1\" 200 -\n",
      "127.0.0.1 - - [21/Nov/2018 21:10:39] \"POST /normalize_document HTTP/1.1\" 200 -\n",
      "127.0.0.1 - - [21/Nov/2018 21:10:39] \"POST /normalize_query HTTP/1.1\" 200 -\n",
      "127.0.0.1 - - [21/Nov/2018 21:17:30] \"POST /normalize_document HTTP/1.1\" 200 -\n",
      "127.0.0.1 - - [21/Nov/2018 21:17:30] \"POST /normalize_query HTTP/1.1\" 200 -\n",
      "127.0.0.1 - - [21/Nov/2018 21:28:52] \"POST /normalize_document HTTP/1.1\" 200 -\n",
      "127.0.0.1 - - [21/Nov/2018 21:28:52] \"POST /normalize_query HTTP/1.1\" 200 -\n",
      "127.0.0.1 - - [21/Nov/2018 21:35:06] \"POST /normalize_document HTTP/1.1\" 200 -\n",
      "127.0.0.1 - - [21/Nov/2018 21:35:06] \"POST /normalize_query HTTP/1.1\" 200 -\n",
      "127.0.0.1 - - [21/Nov/2018 21:37:00] \"POST /normalize_document HTTP/1.1\" 200 -\n",
      "127.0.0.1 - - [21/Nov/2018 21:37:00] \"POST /normalize_query HTTP/1.1\" 200 -\n",
      "127.0.0.1 - - [21/Nov/2018 21:37:49] \"POST /normalize_document HTTP/1.1\" 200 -\n",
      "127.0.0.1 - - [21/Nov/2018 21:37:49] \"POST /normalize_query HTTP/1.1\" 200 -\n",
      "127.0.0.1 - - [21/Nov/2018 21:42:08] \"POST /normalize_document HTTP/1.1\" 200 -\n",
      "127.0.0.1 - - [21/Nov/2018 21:42:08] \"POST /normalize_query HTTP/1.1\" 200 -\n",
      "127.0.0.1 - - [21/Nov/2018 21:42:45] \"POST /normalize_document HTTP/1.1\" 200 -\n",
      "127.0.0.1 - - [21/Nov/2018 21:42:45] \"POST /normalize_query HTTP/1.1\" 200 -\n",
      "127.0.0.1 - - [21/Nov/2018 21:46:08] \"POST /normalize_document HTTP/1.1\" 200 -\n",
      "127.0.0.1 - - [21/Nov/2018 21:46:08] \"POST /normalize_query HTTP/1.1\" 200 -\n",
      "127.0.0.1 - - [21/Nov/2018 21:46:38] \"POST /normalize_document HTTP/1.1\" 200 -\n",
      "127.0.0.1 - - [21/Nov/2018 21:46:38] \"POST /normalize_query HTTP/1.1\" 200 -\n",
      "127.0.0.1 - - [21/Nov/2018 21:47:55] \"POST /normalize_document HTTP/1.1\" 200 -\n",
      "127.0.0.1 - - [21/Nov/2018 21:47:55] \"POST /normalize_query HTTP/1.1\" 200 -\n",
      "127.0.0.1 - - [21/Nov/2018 21:48:29] \"POST /normalize_document HTTP/1.1\" 200 -\n",
      "127.0.0.1 - - [21/Nov/2018 21:48:29] \"POST /normalize_query HTTP/1.1\" 200 -\n",
      "127.0.0.1 - - [21/Nov/2018 21:48:45] \"POST /normalize_document HTTP/1.1\" 200 -\n",
      "127.0.0.1 - - [21/Nov/2018 21:48:45] \"POST /normalize_query HTTP/1.1\" 200 -\n",
      "127.0.0.1 - - [21/Nov/2018 21:49:32] \"POST /normalize_document HTTP/1.1\" 200 -\n",
      "127.0.0.1 - - [21/Nov/2018 21:49:32] \"POST /normalize_query HTTP/1.1\" 200 -\n",
      "127.0.0.1 - - [21/Nov/2018 21:49:41] \"POST /normalize_document HTTP/1.1\" 200 -\n",
      "127.0.0.1 - - [21/Nov/2018 21:49:42] \"POST /normalize_query HTTP/1.1\" 200 -\n",
      "127.0.0.1 - - [21/Nov/2018 21:53:31] \"POST /normalize_document HTTP/1.1\" 200 -\n",
      "127.0.0.1 - - [21/Nov/2018 21:53:32] \"POST /normalize_query HTTP/1.1\" 200 -\n",
      "127.0.0.1 - - [21/Nov/2018 21:54:15] \"POST /normalize_document HTTP/1.1\" 200 -\n",
      "127.0.0.1 - - [21/Nov/2018 21:54:15] \"POST /normalize_query HTTP/1.1\" 200 -\n",
      "127.0.0.1 - - [21/Nov/2018 21:55:39] \"POST /normalize_document HTTP/1.1\" 200 -\n",
      "127.0.0.1 - - [21/Nov/2018 21:55:40] \"POST /normalize_query HTTP/1.1\" 200 -\n",
      "127.0.0.1 - - [21/Nov/2018 21:56:11] \"POST /normalize_document HTTP/1.1\" 200 -\n",
      "127.0.0.1 - - [21/Nov/2018 21:56:11] \"POST /normalize_query HTTP/1.1\" 200 -\n"
     ]
    }
   ],
   "source": [
    "if __name__ == \"__main__\":\n",
    "    app.run(port=13501)\n",
    "    # app.run(host='0.0.0.0', port=13501)\n"
   ]
  }
 ],
 "metadata": {
  "kernelspec": {
   "display_name": "Python 3",
   "language": "python",
   "name": "python3"
  },
  "language_info": {
   "codemirror_mode": {
    "name": "ipython",
    "version": 3
   },
   "file_extension": ".py",
   "mimetype": "text/x-python",
   "name": "python",
   "nbconvert_exporter": "python",
   "pygments_lexer": "ipython3",
   "version": "3.6.6"
  }
 },
 "nbformat": 4,
 "nbformat_minor": 2
}
