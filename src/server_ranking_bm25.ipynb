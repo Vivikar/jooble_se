{
 "cells": [
  {
   "cell_type": "code",
   "execution_count": 2,
   "metadata": {
    "collapsed": true
   },
   "outputs": [],
   "source": [
    "#!pip install --upgrade gensim\n",
    "import gensim\n",
    "import json\n",
    "import jsonpickle\n",
    "from flask import Flask, request\n",
    "\n",
    "import config\n",
    "from gensim.summarization.bm25 import get_bm25_weights, BM25\n",
    "import re"
   ]
  },
  {
   "cell_type": "code",
   "execution_count": 3,
   "metadata": {},
   "outputs": [],
   "source": [
    "app = Flask(__name__)\n",
    "\n",
    "@app.route('/ranking', methods=[\"POST\"])\n",
    "def ranging():\n",
    "    documents = jsonpickle.decode(request.json)\n",
    "    corpus = []\n",
    "    for doc in documents[\"documents\"]:\n",
    "\n",
    "        text = re.split(\" \", doc.text_normalized)\n",
    "        corpus.append(text)\n",
    "    \n",
    "    query = re.split(\" \", documents[\"query\"])\n",
    "    corpus.append(query)\n",
    "    #print(corpus)\n",
    "    \n",
    "    bm25 = BM25(corpus)\n",
    "    average_idf = sum(map(lambda k: float(bm25.idf[k]), bm25.idf.keys())) / len(bm25.idf.keys())\n",
    "    scores = bm25.get_scores(query, average_idf)\n",
    "    \n",
    "    sorted_corp = list(zip(scores[:-1], documents[\"documents\"]))\n",
    "    ranked_docs = sorted(sorted_corp, key=lambda kv: kv[0], reverse=True)\n",
    "    \n",
    "    return jsonpickle.encode(ranked_docs)\n"
   ]
  },
  {
   "cell_type": "code",
   "execution_count": null,
   "metadata": {},
   "outputs": [
    {
     "name": "stderr",
     "output_type": "stream",
     "text": [
      " * Running on http://127.0.0.1:13502/ (Press CTRL+C to quit)\n",
      "127.0.0.1 - - [29/Nov/2018 16:25:50] \"POST /ranking HTTP/1.1\" 200 -\n",
      "127.0.0.1 - - [29/Nov/2018 16:27:55] \"POST /ranking HTTP/1.1\" 200 -\n",
      "127.0.0.1 - - [29/Nov/2018 16:28:31] \"POST /ranking HTTP/1.1\" 200 -\n",
      "127.0.0.1 - - [29/Nov/2018 16:28:51] \"POST /ranking HTTP/1.1\" 200 -\n"
     ]
    }
   ],
   "source": [
    "if __name__ == \"__main__\":\n",
    "    app.run(host=config.RANKING_HOST, port=config.RANKING_PORT)\n"
   ]
  },
  {
   "cell_type": "code",
   "execution_count": null,
   "metadata": {
    "collapsed": true
   },
   "outputs": [],
   "source": []
  }
 ],
 "metadata": {
  "kernelspec": {
   "display_name": "Python 3",
   "language": "python",
   "name": "python3"
  },
  "language_info": {
   "codemirror_mode": {
    "name": "ipython",
    "version": 3
   },
   "file_extension": ".py",
   "mimetype": "text/x-python",
   "name": "python",
   "nbconvert_exporter": "python",
   "pygments_lexer": "ipython3",
   "version": "3.6.3"
  }
 },
 "nbformat": 4,
 "nbformat_minor": 2
}
