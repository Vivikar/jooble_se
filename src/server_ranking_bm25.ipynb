{
 "cells": [
  {
   "cell_type": "code",
   "execution_count": 1,
   "metadata": {},
   "outputs": [],
   "source": [
    "#!pip install --upgrade gensim\n",
    "import gensim\n",
    "import json\n",
    "import jsonpickle\n",
    "from flask import Flask, request\n",
    "\n",
    "import config\n",
    "from gensim.summarization.bm25 import get_bm25_weights, BM25\n",
    "import re"
   ]
  },
  {
   "cell_type": "code",
   "execution_count": 74,
   "metadata": {},
   "outputs": [],
   "source": [
    "app = Flask(__name__)\n",
    "\n",
    "@app.route('/ranking', methods=[\"POST\"])\n",
    "def ranging():\n",
    "    documents = jsonpickle.decode(request.json)\n",
    "    corpus = []\n",
    "    for doc in documents[\"documents\"]:\n",
    "\n",
    "        text = re.split(\" \", doc.text_normalized)\n",
    "        corpus.append(text)\n",
    "    \n",
    "    query = re.split(\" \", documents[\"query\"])\n",
    "    corpus.append(query)\n",
    "    #print(corpus)\n",
    "    \n",
    "    bm25 = BM25(corpus)\n",
    "    average_idf = sum(map(lambda k: float(bm25.idf[k]), bm25.idf.keys())) / len(bm25.idf.keys())\n",
    "    scores = bm25.get_scores(query, average_idf)\n",
    "    \n",
    "    sorted_corp = dict(zip(documents[\"documents\"], scores[:-1]))\n",
    "    print(sorted_corp)\n",
    "    print(\"|\"*50)\n",
    "    ranked_docs = sorted(sorted_corp.items(), key=lambda kv: kv[1], reverse=True)\n",
    "    \n",
    "    return jsonpickle.encode(ranked_docs)\n"
   ]
  },
  {
   "cell_type": "code",
   "execution_count": 75,
   "metadata": {},
   "outputs": [
    {
     "name": "stdout",
     "output_type": "stream",
     "text": [
      " * Serving Flask app \"__main__\" (lazy loading)\n",
      " * Environment: production\n",
      "   WARNING: Do not use the development server in a production environment.\n",
      "   Use a production WSGI server instead.\n",
      " * Debug mode: off\n"
     ]
    },
    {
     "name": "stderr",
     "output_type": "stream",
     "text": [
      " * Running on http://0.0.0.0:13502/ (Press CTRL+C to quit)\n",
      "127.0.0.1 - - [28/Nov/2018 18:49:05] \"POST /ranking HTTP/1.1\" 200 -\n"
     ]
    },
    {
     "name": "stdout",
     "output_type": "stream",
     "text": [
      "{Title: Водитель погрузчика\n",
      "Text: Режим работы:Полный рабочий деньЗарплата:400.00 руб.Вакансия:Водитель погрузчика (Погрузка вагонов г.Калинковичи.)Адрес:Гомельская область, г. Мозырь, , ул. Советская, 25Телефоны:8-0236-32-00-45, 32-05-98-юрист 8-0236-32-00-45, 8-0236-32-04-43\r\n",
      "\r\n",
      "\n",
      "Snippet: None\n",
      ": 0.41365832365201827, Title: Водитель автомобиля\n",
      "Text: Образование:Профессионально-техническоеХарактер работы:ПостояннаяЗарплата:500.00 руб.Вакансия:Водитель автомобиля (вывозка леса)Адрес:Витебская область, г. Браслав, , ул. Дачная, 1А Телефоны:64585 8(02153) 64585 8(02153) 64585\r\n",
      "\r\n",
      "\n",
      "Snippet: None\n",
      ": 0.4377030486005748, Title: Водитель автомобиля\n",
      "Text: Режим работы:Полный рабочий деньЗарплата:450.00 руб.Вакансия:Водитель автомобиля (категории \"B\", \"C\", \"D\")Адрес:г. Гродно, Ленинский район, , ул. Дзержинского, 104Телефоны:44-41-09 44-41-09\r\n",
      "\r\n",
      "\n",
      "Snippet: None\n",
      ": 0.4026001308415188, Title: Опытный водитель на своем aвто ( на фото ) к Вашим услугам и на Ваших условиях\n",
      "Text: 73\r\n",
      " Надежный, профессиональный ( более 39 лет за рулем ), безупречно знающий город Минск и всю Беларусь водитель, без вредных привычек, ищет работу, желательно подработку или разовую работу на своем легковом автомобиле представительского класса 2010 г., или на любом Вашем. \r\n",
      " Отвезет в садик и обратно, в школу ( ВУЗ ) и домой Ваших детей, а также родителей на работу, в магазины и т.д. Выполнит любое Ваше поручение. \r\n",
      " Финансовые запросы довольно скромные. \r\n",
      "\n",
      "Snippet: None\n",
      ": 0.17842305052651777, Title: Водитель автомобиля\n",
      "Text: Режим работы:Полный рабочий деньЗарплата:300.00 руб.Вакансия:Водитель автомобиля (-международник, стаж работы не менее 2 лет. м/справка)Адрес:Брестская область, Брест, , ул. Вычулки, 113Телефоны:8029 625-15-42 8029 625-15-42 8029 625-15-42\r\n",
      "\r\n",
      "\n",
      "Snippet: None\n",
      ": 0.38216741743414845, Title: Водитель автомобиля\n",
      "Text: Режим работы:Полный рабочий деньЗарплата:400.00 руб.Разряд / категория:Второй (II, 2)Вакансия:Водитель автомобиля (Наличие категории \"Е\")Адрес:Могилевская область, г. Быхов, , м-р Колос, д.7б Телефоны:802231-54738 54738\r\n",
      "\r\n",
      "\n",
      "Snippet: None\n",
      ": 0.38216741743414845, Title: Водитель с личным автомобилем бус ищет работу или подработку\n",
      "Text: Водитель с личным автомобилем бус ищет работу или подработку \r\n",
      "\n",
      "Snippet: None\n",
      ": 0.4795119482900165, Title: Водитель в службу доставки еды\n",
      "Text: Водитель с личным л/а для доставки готовой продукции (еда) по г. Барановичи. Режим работы с 17.00 до 22.00. Оплата 3р. за одну доставку.\r\n",
      "\n",
      "Snippet: None\n",
      ": 0.37270956200727223}\n",
      "||||||||||||||||||||||||||||||||||||||||||||||||||\n"
     ]
    }
   ],
   "source": [
    "if __name__ == \"__main__\":\n",
    "\n",
    "    #app.run(port=config.RANKING_PORT)\n",
    "    app.run(host='0.0.0.0', port=config.RANKING_PORT)\n",
    "\n"
   ]
  }
 ],
 "metadata": {
  "kernelspec": {
   "display_name": "Python 3",
   "language": "python",
   "name": "python3"
  },
  "language_info": {
   "codemirror_mode": {
    "name": "ipython",
    "version": 3
   },
   "file_extension": ".py",
   "mimetype": "text/x-python",
   "name": "python",
   "nbconvert_exporter": "python",
   "pygments_lexer": "ipython3",
   "version": "3.6.6"
  }
 },
 "nbformat": 4,
 "nbformat_minor": 2
}
