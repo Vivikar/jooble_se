{
 "cells": [
  {
   "cell_type": "code",
   "execution_count": null,
   "metadata": {},
   "outputs": [],
   "source": [
    "import json\n",
    "import pickle\n",
    "import os\n",
    "import re\n",
    "import json\n",
    "\n",
    "from flask import Flask, request\n",
    "from sklearn.feature_extraction.text import TfidfVectorizer\n",
    "from sklearn.metrics.pairwise import cosine_similarity\n",
    "import numpy as np\n",
    "import jsonpickle\n",
    "import pandas as pd\n",
    "\n",
    "from config_src import config\n",
    "from document import Document\n"
   ]
  },
  {
   "cell_type": "code",
   "execution_count": null,
   "metadata": {},
   "outputs": [],
   "source": [
    "def load_vectorizer_tfidf(path, file=\"vectorizer_tfidf.dat\"):\n",
    "    \"\"\"\n",
    "    Load tfidf vectorizer from file.\n",
    "    \n",
    "    If files don't exist - error.\n",
    "\n",
    "    :return TfidfVectorizet vectorizer:\n",
    "    \"\"\" \n",
    "    file_path = os.path.join(path, file)\n",
    "    \n",
    "    file_present = os.path.exists(file_path)\n",
    "  \n",
    "    if file_present:    \n",
    "        with open(file_path, \"rb\") as inf:\n",
    "            vectorizer = pickle.load(inf)\n",
    "        return vectorizer\n",
    "    else:\n",
    "        print(\"File vectorizer not found.\")\n",
    "    return None\n",
    "\n",
    "\n",
    "def nn_rank(documents, skills, vectorizer):\n",
    "    skills_vect = vectorizer.transform([skills]).todense()\n",
    "    doc_vects = [doc.requirement_normalized for doc in documents]\n",
    "    doc_vects = vectorizer.transform(doc_vects).todense()\n",
    "    \n",
    "    ranked_list = cosine_similarity(doc_vects, skills_vect)\n",
    "    ranked_list = list(np.squeeze(ranked_list, axis=1))\n",
    "    assert(len(ranked_list) == len(documents))\n",
    "    \n",
    "    ranked_list = list(zip(ranked_list, documents))\n",
    "    ranked_list = sorted(ranked_list, key=lambda x: x[0]) \n",
    "    ranked_list = list(reversed(ranked_list))\n",
    "    #print(ranked_list)\n",
    "    return ranked_list\n",
    "\n",
    "\n",
    "def nn_rank_prof_area(documents, query, vectorizer):\n",
    "    query_vect = vectorizer.transform([query]).todense()\n",
    "    doc_vects = [doc.prof_area_normalized for doc in documents]\n",
    "    doc_vects = vectorizer.transform(doc_vects).todense()\n",
    "    \n",
    "    ranked_list = cosine_similarity(doc_vects, query_vect)\n",
    "    ranked_list = list(np.squeeze(ranked_list, axis=1))\n",
    "    assert(len(ranked_list) == len(documents))\n",
    "    \n",
    "    ranked_list = list(zip(ranked_list, documents))\n",
    "    ranked_list = sorted(ranked_list, key=lambda x: x[0]) \n",
    "    ranked_list = list(reversed(ranked_list))\n",
    "    #print(ranked_list)\n",
    "    return ranked_list\n",
    "\n"
   ]
  },
  {
   "cell_type": "code",
   "execution_count": null,
   "metadata": {},
   "outputs": [],
   "source": [
    "app = Flask(__name__)\n",
    "\n",
    "\n",
    "@app.route('/ranking', methods=[\"POST\"])\n",
    "def ranking():\n",
    "    params = jsonpickle.decode(request.json)\n",
    "    documents = params[\"documents\"]\n",
    "    skills = params[\"skills\"]\n",
    "    query = params[\"query\"]\n",
    "      \n",
    "    if skills != \" \":\n",
    "        ranked_list = nn_rank(documents, skills, vectorizer_tfidf)\n",
    "    else:\n",
    "        ranked_list = nn_rank_prof_area(documents, query, vectorizer_tfidf)\n",
    "  \n",
    "    ranked_list = [i[1] for i in ranked_list]\n",
    "\n",
    "    return jsonpickle.encode(ranked_list)\n"
   ]
  },
  {
   "cell_type": "code",
   "execution_count": null,
   "metadata": {},
   "outputs": [],
   "source": [
    "if __name__ == \"__main__\":\n",
    "    vectorizer_tfidf = load_vectorizer_tfidf(config.index_dir)\n",
    "    \n",
    "    app.run(host=config.RANKING_HOST, port=config.RANKING_PORT)\n"
   ]
  },
  {
   "cell_type": "code",
   "execution_count": null,
   "metadata": {},
   "outputs": [],
   "source": []
  }
 ],
 "metadata": {
  "kernelspec": {
   "display_name": "Python 3",
   "language": "python",
   "name": "python3"
  },
  "language_info": {
   "codemirror_mode": {
    "name": "ipython",
    "version": 3
   },
   "file_extension": ".py",
   "mimetype": "text/x-python",
   "name": "python",
   "nbconvert_exporter": "python",
   "pygments_lexer": "ipython3",
   "version": "3.6.5"
  }
 },
 "nbformat": 4,
 "nbformat_minor": 2
}
