{
 "cells": [
  {
   "cell_type": "code",
   "execution_count": 36,
   "metadata": {
    "collapsed": true
   },
   "outputs": [],
   "source": [
    "import json\n",
    "import pickle\n",
    "import os\n",
    "\n",
    "from flask import Flask, request\n",
    "from sklearn.feature_extraction.text import TfidfVectorizer\n",
    "from sklearn.metrics.pairwise import cosine_similarity\n",
    "import numpy as np\n",
    "\n",
    "import config"
   ]
  },
  {
   "cell_type": "code",
   "execution_count": 6,
   "metadata": {
    "collapsed": true
   },
   "outputs": [],
   "source": [
    "inverted_index = {}\n",
    "forward_index = {}\n",
    "documents_id = []\n",
    "vectorizer = None\n",
    "tfidf = None"
   ]
  },
  {
   "cell_type": "code",
   "execution_count": 70,
   "metadata": {},
   "outputs": [],
   "source": [
    "def load_index(path):\n",
    "    global forward_index\n",
    "    global inverted_index\n",
    "    global documents_id\n",
    "\n",
    "    file_path = os.path.join(path, \"forward_index.json\")\n",
    "    with open(file_path, 'r', encoding='utf8') as infile:\n",
    "        forward_index = json.load(infile)\n",
    "\n",
    "    file_path = os.path.join(path, \"inverted_index.json\")\n",
    "    with open(file_path, 'r', encoding='utf8') as infile:\n",
    "        inverted_index = json.load(infile)\n",
    "\n",
    "    file_path = os.path.join(path, \"documents_id.json\")\n",
    "    with open(file_path, 'r', encoding='utf8') as infile:\n",
    "        documents_id = json.load(infile)\n",
    "\n",
    "\n",
    "def compute_tfidf():\n",
    "    corpus = []\n",
    "    for i in documents_id:\n",
    "        corpus.append(forward_index[i][\"text_normalized\"])\n",
    "    \n",
    "    vectorizer = TfidfVectorizer()\n",
    "    tfidf = vectorizer.fit_transform(corpus).todense()\n",
    "    return vectorizer, tfidf\n",
    "\n",
    "\n",
    "def initialize_tfidf(index_path, save_tfidf_path): \n",
    "    global inverted_index\n",
    "    global forward_index\n",
    "    global documents_id\n",
    "    \n",
    "    load_index(index_path)\n",
    "    vectorizer, tfidf = compute_tfidf()\n",
    "    \n",
    "    save_tfidf_path = os.path.join(save_tfidf_path, \"vectorizer_tfidf.dat\")\n",
    "    with open(save_tfidf_path, \"wb\") as ouf:\n",
    "        pickle.dump(vectorizer, ouf)\n",
    "        pickle.dump(tfidf, ouf)\n",
    "        \n",
    "    del inverted_index\n",
    "    del forward_index\n",
    "    del documents_id\n",
    "    \n",
    "    return vectorizer, tfidf\n",
    "\n",
    "def ranking(documents, query, vectorizer, tfidf):\n",
    "    query_vect = vectorizer.transform([query]).todense()\n",
    "    doc_vects = [doc[\"text_normalized\"] for doc in documents]\n",
    "    doc_vects = vectorizer.transform(doc_vects).todense()\n",
    "    \n",
    "    ranked_list = cosine_similarity(doc_vects, query_vect)\n",
    "    ranked_list = list(np.squeeze(ranked_list))\n",
    "    assert(len(ranked_list) == len(documents))\n",
    "    \n",
    "    ranked_list = list(zip(ranked_list, documents))\n",
    "    ranked_list = sorted(ranked_list, key=lambda x: x[0]) \n",
    "    ranked_list = list(reversed(ranked_list))\n",
    "    \n",
    "    return ranked_list"
   ]
  },
  {
   "cell_type": "code",
   "execution_count": 71,
   "metadata": {
    "collapsed": true
   },
   "outputs": [],
   "source": [
    "app = Flask(__name__)\n",
    "\n",
    "\n",
    "@app.route('/ranking', methods=[\"POST\"])\n",
    "def get_ranked():\n",
    "    documents = request.json[\"documents\"]\n",
    "    query = \" \".join([i[\"term\"] for i in request.json[\"terms\"]])\n",
    "    ranked_list = ranking(documents, query, vectorizer, tfidf)\n",
    "    return json.dumps(ranked_list, ensure_ascii=False)\n"
   ]
  },
  {
   "cell_type": "code",
   "execution_count": 72,
   "metadata": {},
   "outputs": [
    {
     "name": "stderr",
     "output_type": "stream",
     "text": [
      " * Running on http://0.0.0.0:13510/ (Press CTRL+C to quit)\n",
      "127.0.0.1 - - [22/Nov/2018 19:38:08] \"POST /ranking HTTP/1.1\" 200 -\n"
     ]
    }
   ],
   "source": [
    "if __name__ == \"__main__\":\n",
    "    \n",
    "    vectorizer, tfidf = initialize_tfidf(config.data_dir,\n",
    "                                         config.data_dir)\n",
    "    # app.run(port=config.RANKING_PORT)\n",
    "    app.run(host='0.0.0.0', port=13510)\n",
    "\n"
   ]
  },
  {
   "cell_type": "code",
   "execution_count": null,
   "metadata": {
    "collapsed": true
   },
   "outputs": [],
   "source": []
  }
 ],
 "metadata": {
  "kernelspec": {
   "display_name": "Python 3",
   "language": "python",
   "name": "python3"
  },
  "language_info": {
   "codemirror_mode": {
    "name": "ipython",
    "version": 3
   },
   "file_extension": ".py",
   "mimetype": "text/x-python",
   "name": "python",
   "nbconvert_exporter": "python",
   "pygments_lexer": "ipython3",
   "version": "3.6.3"
  }
 },
 "nbformat": 4,
 "nbformat_minor": 2
}
