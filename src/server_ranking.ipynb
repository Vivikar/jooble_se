{
 "cells": [
  {
   "cell_type": "code",
   "execution_count": null,
   "metadata": {},
   "outputs": [],
   "source": [
    "import json\n",
    "import pickle\n",
    "import os\n",
    "\n",
    "from flask import Flask, request\n",
    "from sklearn.feature_extraction.text import TfidfVectorizer\n",
    "from sklearn.metrics.pairwise import cosine_similarity\n",
    "import numpy as np\n",
    "\n",
    "import config"
   ]
  },
  {
   "cell_type": "code",
   "execution_count": null,
   "metadata": {},
   "outputs": [],
   "source": [
    "inverted_index = {}\n",
    "forward_index = {}\n",
    "documents_id = []\n",
    "vectorizer = None\n",
    "tfidf = None"
   ]
  },
  {
   "cell_type": "code",
   "execution_count": null,
   "metadata": {},
   "outputs": [],
   "source": [
    "def load_index(path, forward_file=\"forward_index\", \n",
    "               inverted_file=\"inverted_index\", \n",
    "               id_file=\"documents_id\"):\n",
    "    \n",
    "    inverted_index = {}\n",
    "    forward_index = {}\n",
    "    documents_id = []\n",
    "    \n",
    "    file_path = os.path.join(path, forward_file + \".json\")\n",
    "    with open(file_path, 'r', encoding='utf8') as infile:\n",
    "        forward_index = json.load(infile)\n",
    "    \n",
    "    if not isinstance(inverted_file, type(None)):\n",
    "        file_path = os.path.join(path, inverted_file + \".json\")\n",
    "        with open(file_path, 'r', encoding='utf8') as infile:\n",
    "            inverted_index = json.load(infile)\n",
    "    \n",
    "    file_path = os.path.join(path, id_file + \".json\")\n",
    "    with open(file_path, 'r', encoding='utf8') as infile:\n",
    "        documents_id = json.load(infile)\n",
    "        \n",
    "    return forward_index, inverted_index, documents_id\n",
    "\n",
    "\n",
    "def compute_tfidf(forward_index, documents_id):\n",
    "    corpus = []\n",
    "    for i in documents_id:\n",
    "        corpus.append(forward_index[i][\"text_normalized\"])\n",
    "    \n",
    "    vectorizer = TfidfVectorizer()\n",
    "    tfidf = vectorizer.fit_transform(corpus).todense()\n",
    "    return vectorizer, tfidf\n",
    "\n",
    "\n",
    "def initialize_tfidf(index_path, save_tfidf_path): \n",
    "\n",
    "    forward_index, _, documents_id = load_index(index_path,\n",
    "                                                inverted_file=None)\n",
    "    vectorizer, tfidf = compute_tfidf(forward_index, documents_id)\n",
    "    \n",
    "    save_tfidf_path = os.path.join(save_tfidf_path, \"vectorizer_tfidf.dat\")\n",
    "    with open(save_tfidf_path, \"wb\") as ouf:\n",
    "        pickle.dump(vectorizer, ouf)\n",
    "        pickle.dump(tfidf, ouf)\n",
    "            \n",
    "    return vectorizer, tfidf\n",
    "\n",
    "\n",
    "def ranking(documents, query, vectorizer, tfidf):\n",
    "    query_vect = vectorizer.transform([query]).todense()\n",
    "    doc_vects = [doc[\"text_normalized\"] for doc in documents]\n",
    "    doc_vects = vectorizer.transform(doc_vects).todense()\n",
    "    \n",
    "    ranked_list = cosine_similarity(doc_vects, query_vect)\n",
    "    ranked_list = list(np.squeeze(ranked_list, axis=1))\n",
    "    assert(len(ranked_list) == len(documents))\n",
    "    \n",
    "    ranked_list = list(zip(ranked_list, documents))\n",
    "    ranked_list = sorted(ranked_list, key=lambda x: x[0]) \n",
    "    ranked_list = list(reversed(ranked_list))\n",
    "    \n",
    "    return ranked_list\n"
   ]
  },
  {
   "cell_type": "code",
   "execution_count": null,
   "metadata": {},
   "outputs": [],
   "source": [
    "app = Flask(__name__)\n",
    "\n",
    "\n",
    "@app.route('/ranking', methods=[\"POST\"])\n",
    "def get_ranked():\n",
    "    if isinstance(request.json, dict):\n",
    "        documents = request.json[\"documents\"]\n",
    "        query = \" \".join([i[\"term\"] for i in request.json[\"terms\"]])\n",
    "        ranked_list = ranking(documents, query, vectorizer, tfidf)\n",
    "        ranked_res = {\"documents\": ranked_list, \"query\": query}\n",
    "        return json.dumps(ranked_res, ensure_ascii=False)\n",
    "    else:\n",
    "        return \"Documents aren't found\"\n"
   ]
  },
  {
   "cell_type": "code",
   "execution_count": null,
   "metadata": {},
   "outputs": [],
   "source": [
    "if __name__ == \"__main__\":\n",
    "    vectorizer, tfidf = initialize_tfidf(config.data_dir,\n",
    "                                         config.data_dir)\n",
    "    app.run(host=config.RANKING_HOST, port=config.RANKING_PORT)\n"
   ]
  },
  {
   "cell_type": "code",
   "execution_count": null,
   "metadata": {},
   "outputs": [],
   "source": []
  }
 ],
 "metadata": {
  "kernelspec": {
   "display_name": "Python 3",
   "language": "python",
   "name": "python3"
  },
  "language_info": {
   "codemirror_mode": {
    "name": "ipython",
    "version": 3
   },
   "file_extension": ".py",
   "mimetype": "text/x-python",
   "name": "python",
   "nbconvert_exporter": "python",
   "pygments_lexer": "ipython3",
   "version": "3.6.5"
  }
 },
 "nbformat": 4,
 "nbformat_minor": 2
}
