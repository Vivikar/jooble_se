{
 "cells": [
  {
   "cell_type": "code",
   "execution_count": 115,
   "metadata": {
    "collapsed": true
   },
   "outputs": [],
   "source": [
    "import requests\n",
    "import json\n",
    "import gzip\n",
    "import os\n",
    "\n",
    "import pandas as pd"
   ]
  },
  {
   "cell_type": "code",
   "execution_count": 87,
   "metadata": {
    "collapsed": true
   },
   "outputs": [],
   "source": [
    "data_path = os.path.join(\"../../../\", \"Data/by\")"
   ]
  },
  {
   "cell_type": "code",
   "execution_count": null,
   "metadata": {
    "collapsed": true
   },
   "outputs": [],
   "source": [
    "r = requests.post('http://127.0.0.1:13502/',\n",
    "                  json={\"search_word\":\"водител\"})\n",
    "print(r.status_code)\n",
    "print(r.text)"
   ]
  },
  {
   "cell_type": "code",
   "execution_count": null,
   "metadata": {
    "collapsed": true
   },
   "outputs": [],
   "source": [
    "r = requests.post('http://127.0.0.1:13502/normalization',\n",
    "                  json={\"text\": \"Саженцы декоративных и плодовых культур. Могилев. Гарантия.\"})\n",
    "print(r.status_code)\n",
    "print(r.text)"
   ]
  },
  {
   "cell_type": "code",
   "execution_count": null,
   "metadata": {
    "collapsed": true
   },
   "outputs": [],
   "source": [
    "r = requests.post('http://127.0.0.1:13502/normalization', json=documents_text[5])\n",
    "print(r.status_code)\n",
    "#print(r.text)\n",
    "answer = json.loads(r.text)\n",
    "print(answer['text'], \"\\n\")\n",
    "print(\"Normalized text:\\n\", answer[\"text_normalized\"])"
   ]
  },
  {
   "cell_type": "code",
   "execution_count": 29,
   "metadata": {
    "collapsed": true
   },
   "outputs": [],
   "source": [
    "documents = []\n",
    "\n",
    "with gzip.open(\"../../../Data/by/by_job_2017-01-01.json.gz\", \"rb\") as f:\n",
    "    for line in f: \n",
    "        vacation = json.loads(line)\n",
    "        documents.append(vacation)\n",
    "    "
   ]
  },
  {
   "cell_type": "markdown",
   "metadata": {},
   "source": [
    "print(documents[0].keys())"
   ]
  },
  {
   "cell_type": "code",
   "execution_count": 37,
   "metadata": {
    "collapsed": true
   },
   "outputs": [],
   "source": [
    "documents_text = []\n",
    "with gzip.open(\"../../../Data/by/by_job_text_2017-01-01.json.gz\", \"rb\") as f:\n",
    "    for line in f: \n",
    "        vacation = json.loads(line)\n",
    "        documents_text .append(vacation)"
   ]
  },
  {
   "cell_type": "code",
   "execution_count": null,
   "metadata": {
    "collapsed": true
   },
   "outputs": [],
   "source": [
    "print(documents_text[0].keys())"
   ]
  },
  {
   "cell_type": "code",
   "execution_count": null,
   "metadata": {
    "collapsed": true
   },
   "outputs": [],
   "source": [
    "a = pd.DataFrame(documents)\n",
    "b = pd.DataFrame(documents_text) \n",
    "a.drop_duplicates([\"id\"], inplace=True)\n",
    "b.drop_duplicates([\"id_job\"], inplace=True)\n",
    "print(len(a))\n",
    "print(len(b))\n",
    "\n",
    "documents = a.merge(b, left_on='id', right_on='id_job', how='outer')"
   ]
  },
  {
   "cell_type": "code",
   "execution_count": null,
   "metadata": {
    "collapsed": true
   },
   "outputs": [],
   "source": [
    "for index, row in documents.iterrows():\n",
    "    print(\"Request number\", index, \": \")\n",
    "    r = requests.post('http://127.0.0.1:13502/normalization', json=row.to_dict())\n",
    "    print(\"status: \", r.status_code)\n",
    "    answer = json.loads(r.text)\n",
    "    print(answer['text'], \"\\n\")\n",
    "    print(\"Normalized text:\\n\", answer[\"text_normalized\"])\n",
    "    print()\n",
    "    \n",
    "    r = requests.post('http://127.0.0.1:13503/indexator', json=answer)"
   ]
  },
  {
   "cell_type": "code",
   "execution_count": null,
   "metadata": {
    "collapsed": true
   },
   "outputs": [],
   "source": []
  }
 ],
 "metadata": {
  "kernelspec": {
   "display_name": "Python 3",
   "language": "python",
   "name": "python3"
  },
  "language_info": {
   "codemirror_mode": {
    "name": "ipython",
    "version": 3
   },
   "file_extension": ".py",
   "mimetype": "text/x-python",
   "name": "python",
   "nbconvert_exporter": "python",
   "pygments_lexer": "ipython3",
   "version": "3.6.3"
  }
 },
 "nbformat": 4,
 "nbformat_minor": 2
}
