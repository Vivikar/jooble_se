{
 "cells": [
  {
   "cell_type": "code",
   "execution_count": null,
   "metadata": {
    "collapsed": true
   },
   "outputs": [],
   "source": [
    "import json\n",
    "import gzip\n",
    "import os\n",
    "import time\n",
    "\n",
    "import requests\n",
    "import pandas as pd\n",
    "\n",
    "import jsonpickle\n",
    "\n",
    "import config\n",
    "from document import Document\n",
    "\n",
    "indexer_url = config.indexer_url\n",
    "text_processing_url = config.text_processing_url\n",
    "ranking_url = config.ranking_url\n",
    "snippets_url = config.snippets_url\n",
    "res_page_form_url = config.res_page_form_url\n"
   ]
  },
  {
   "cell_type": "code",
   "execution_count": null,
   "metadata": {
    "collapsed": true
   },
   "outputs": [],
   "source": [
    "def load_data(data_path):\n",
    "    \"\"\"\n",
    "    Load all data to pandas.DataFrame\n",
    "    \n",
    "    :param str data_path: Path to folder with data \n",
    "    :return pd.DataFrame data:\n",
    "    \"\"\"\n",
    "    docs_info = []\n",
    "    docs_text = []\n",
    "    file_names = os.listdir(data_path)\n",
    "\n",
    "    for file in file_names:\n",
    "        if \"text\" in file:\n",
    "            with gzip.open(os.path.join(data_path, file), \"rb\") as f:\n",
    "                for line in f:\n",
    "                    vacancy = json.loads(line)\n",
    "                    docs_text.append(vacancy)\n",
    "        else:\n",
    "            with gzip.open(os.path.join(data_path, file), \"rb\") as inf:\n",
    "                for line in inf:\n",
    "                    vacancy = json.loads(line)\n",
    "                    docs_info.append(vacancy)\n",
    "\n",
    "    assert len(docs_info) == len(docs_text)\n",
    "    assert \"id\" in docs_info[0].keys()\n",
    "    assert \"id_job\" in docs_text[0].keys()\n",
    "\n",
    "    docs_info = pd.DataFrame(docs_info)\n",
    "    docs_text = pd.DataFrame(docs_text)\n",
    "    docs_info.drop_duplicates([\"id\"], inplace=True)\n",
    "    docs_text.drop_duplicates([\"id_job\"], inplace=True)\n",
    "    data = docs_info.merge(docs_text, left_on='id', right_on='id_job', how='outer')\n",
    "    \n",
    "    return data\n",
    "\n",
    "\n",
    "def add_documents_to_index(documents):\n",
    "    \"\"\"\n",
    "    Add the document from pd.DataFrame to index.\n",
    "    \n",
    "    :param pandas.DataFrame documents:\n",
    "    \"\"\"\n",
    "    for index, row in documents.iterrows():\n",
    "        doc_id = row[\"id\"]\n",
    "        title = row[\"title\"]\n",
    "        text = row[\"text\"]\n",
    "        language = row[\"lang_text\"]\n",
    "        doc = Document(doc_id, title, text, language)\n",
    "        r = requests.post(text_processing_url + config.NORMALIZE_DOC_PATH,\n",
    "                          json=jsonpickle.encode(doc))\n",
    "        status_normalizer = r.status_code\n",
    "        doc_normalized = jsonpickle.decode(r.text)\n",
    "        \n",
    "        r = requests.post(indexer_url + config.INDEXER_PATH,\n",
    "                          json=jsonpickle.encode(doc_normalized))\n",
    "        status_indexer = r.status_code\n",
    "\n",
    "        if status_indexer != 200 or status_normalizer != 200:\n",
    "            print(\" Request number\", index, \": \")\n",
    "            print(\"error\")\n",
    "    print(\"dataset adding finished!\")\n",
    "    \n",
    "    \n",
    "# -------##--------##--------##--------##--------##--------##--------##--------#"
   ]
  },
  {
   "cell_type": "code",
   "execution_count": null,
   "metadata": {},
   "outputs": [],
   "source": [
    "dataset = load_data(config.dataset_dir)\n",
    "print(len(dataset))"
   ]
  },
  {
   "cell_type": "code",
   "execution_count": null,
   "metadata": {},
   "outputs": [],
   "source": [
    "dataset.head()"
   ]
  },
  {
   "cell_type": "markdown",
   "metadata": {},
   "source": [
    "### Run cell below to add documents to index and save it\n",
    "\n",
    "set variable n_docs to a small value for debugging"
   ]
  },
  {
   "cell_type": "code",
   "execution_count": null,
   "metadata": {
    "collapsed": true
   },
   "outputs": [],
   "source": [
    "# Run this cell only once\n",
    "# Adding may takes from 15min (for 30k docs) to 1 hour\n",
    "# Index with 30k documents takes about 2-3 Gb RAM\n",
    "# 5k documents enough for testing during development\n",
    "\n",
    "\"\"\"n_docs = 5000\n",
    "start = time.time()\n",
    "add_documents_to_index(dataset.loc[:n_docs])\n",
    "print(\"Adding time =\", time.time() - start)\"\"\"\n",
    "\n",
    "# Save current status of index\n",
    "\n",
    "\"\"\"r = requests.post(indexer_url + \"save_index\")\n",
    "print(r.status_code)\"\"\"\n"
   ]
  },
  {
   "cell_type": "markdown",
   "metadata": {},
   "source": [
    "## Test all services"
   ]
  },
  {
   "cell_type": "code",
   "execution_count": null,
   "metadata": {},
   "outputs": [],
   "source": [
    "print(\"Normalize the document.\")\n",
    "row = dataset.loc[1001, :]\n",
    "doc_id = row[\"id\"]\n",
    "title = row[\"title\"]\n",
    "text = row[\"text\"]\n",
    "language = row[\"lang_text\"]\n",
    "doc = Document(doc_id, title, text, language)\n",
    "\n",
    "r = requests.post(text_processing_url + config.NORMALIZE_DOC_PATH, json=jsonpickle.encode(doc))\n",
    "status_normalizer = r.status_code\n",
    "doc_normalized = jsonpickle.decode(r.text)\n",
    "print(doc_normalized)\n"
   ]
  },
  {
   "cell_type": "code",
   "execution_count": null,
   "metadata": {},
   "outputs": [],
   "source": [
    "print(\"\\nAdding the document to index\")\n",
    "r = requests.post(indexer_url + config.INDEXER_PATH,\n",
    "                  json=jsonpickle.encode(doc_normalized))\n",
    "print(r.status_code)\n",
    "print(r.text)\n"
   ]
  },
  {
   "cell_type": "code",
   "execution_count": null,
   "metadata": {},
   "outputs": [],
   "source": [
    "print(\"\\nNormilize query \\\"водитель\\\".\")\n",
    "query = \"переводчик с анлийского\"\n",
    "r = requests.post(text_processing_url + config.NORMALIZE_QUERY_PATH,\n",
    "                  json=query)\n",
    "print(r.status_code)\n",
    "search_query = r.text\n",
    "print(search_query)\n"
   ]
  },
  {
   "cell_type": "code",
   "execution_count": null,
   "metadata": {},
   "outputs": [],
   "source": [
    "print(\"\\nSearch in index.\")\n",
    "r = requests.post(indexer_url + config.SEARCH_PATH, json=search_query)\n",
    "print(r.status_code)\n",
    "search_result = jsonpickle.decode(r.text)\n",
    "print(search_result[\"documents\"][:2])\n"
   ]
  },
  {
   "cell_type": "code",
   "execution_count": null,
   "metadata": {},
   "outputs": [],
   "source": [
    "documents = search_result[\"documents\"]\n",
    "terms = search_result[\"terms\"]\n"
   ]
  },
  {
   "cell_type": "code",
   "execution_count": null,
   "metadata": {},
   "outputs": [],
   "source": [
    "print(\"\\nRanking the document\")\n",
    "docs_query = {\"documents\": documents, \"query\": search_query}\n",
    "r = requests.post(ranking_url + config.RANK_PATH,\n",
    "                  json=jsonpickle.encode(docs_query))\n",
    "print(r.status_code)\n",
    "rank_result = jsonpickle.decode(r.text)\n",
    "print(\"len = \", len(rank_result))\n",
    "print(rank_result[:2])\n"
   ]
  },
  {
   "cell_type": "code",
   "execution_count": null,
   "metadata": {},
   "outputs": [],
   "source": [
    "# FOR TF-IDF Method\n",
    "print(\"\\nGet snippets for TF-IDF Method.\")\n",
    "docs_query = {\"documents\": [i[1] for i in rank_result], \"terms\": terms}\n",
    "r = requests.post(snippets_url + config.SNIPPETS_PATH,\n",
    "                  json=jsonpickle.encode(docs_query))\n",
    "print(r.status_code)\n",
    "rank_result = jsonpickle.decode(r.text)\n",
    "print(rank_result[:2])\n"
   ]
  },
  {
   "cell_type": "code",
   "execution_count": null,
   "metadata": {},
   "outputs": [],
   "source": [
    "# FOR BM-25 Method\n",
    "print(\"\\nGet snippets for BM-25 Method.\")\n",
    "docs_query = {\"documents\": [i[1] for i in rank_result], \"terms\": terms}\n",
    "r = requests.post(snippets_url + config.SNIPPETS_PATH,\n",
    "                  json=jsonpickle.encode(docs_query))\n",
    "print(r.status_code)\n",
    "rank_result = jsonpickle.decode(r.text)\n",
    "print(rank_result[:2])"
   ]
  },
  {
   "cell_type": "code",
   "execution_count": null,
   "metadata": {},
   "outputs": [],
   "source": [
    "print(\"\\nSERP results\")\n",
    "docs_query = {\"documents\": rank_result, \"query\": search_query}\n",
    "r = requests.post(res_page_form_url + config.RESULT_PAGE_PATH,\n",
    "                  json=jsonpickle.encode(docs_query))\n",
    "print(r.status_code)\n",
    "search_result = r.text\n",
    "print(search_result)\n"
   ]
  },
  {
   "cell_type": "code",
   "execution_count": null,
   "metadata": {
    "collapsed": true
   },
   "outputs": [],
   "source": [
    "with open(\"tf_idf_cos.txt\", \"w\") as ouf:\n",
    "    ouf.write(search_result)"
   ]
  },
  {
   "cell_type": "code",
   "execution_count": null,
   "metadata": {
    "collapsed": true
   },
   "outputs": [],
   "source": []
  }
 ],
 "metadata": {
  "kernelspec": {
   "display_name": "Python 3",
   "language": "python",
   "name": "python3"
  },
  "language_info": {
   "codemirror_mode": {
    "name": "ipython",
    "version": 3
   },
   "file_extension": ".py",
   "mimetype": "text/x-python",
   "name": "python",
   "nbconvert_exporter": "python",
   "pygments_lexer": "ipython3",
   "version": "3.6.3"
  }
 },
 "nbformat": 4,
 "nbformat_minor": 1
}
