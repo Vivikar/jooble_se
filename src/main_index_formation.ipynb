{
 "cells": [
  {
   "cell_type": "code",
   "execution_count": 1,
   "metadata": {},
   "outputs": [],
   "source": [
    "import json\n",
    "import gzip\n",
    "import os\n",
    "import time\n",
    "\n",
    "import requests\n",
    "import pandas as pd\n",
    "\n",
    "import jsonpickle\n",
    "\n",
    "import config\n",
    "from document import Document\n",
    "\n",
    "indexer_url = config.indexer_url\n",
    "text_processing_url = config.text_processing_url\n",
    "ranking_url = config.ranking_url\n",
    "snippets_url = config.snippets_url\n",
    "res_page_form_url = config.res_page_form_url\n"
   ]
  },
  {
   "cell_type": "code",
   "execution_count": 2,
   "metadata": {},
   "outputs": [],
   "source": [
    "def load_data(data_path):\n",
    "    \"\"\"\n",
    "    Load all data to pandas.DataFrame\n",
    "    \n",
    "    :param str data_path: Path to folder with data \n",
    "    :return pd.DataFrame data:\n",
    "    \"\"\"\n",
    "    docs_info = []\n",
    "    docs_text = []\n",
    "    file_names = os.listdir(data_path)\n",
    "\n",
    "    for file in file_names:\n",
    "        if \"text\" in file:\n",
    "            with gzip.open(os.path.join(data_path, file), \"rb\") as f:\n",
    "                for line in f:\n",
    "                    vacancy = json.loads(line)\n",
    "                    docs_text.append(vacancy)\n",
    "        else:\n",
    "            with gzip.open(os.path.join(data_path, file), \"rb\") as inf:\n",
    "                for line in inf:\n",
    "                    vacancy = json.loads(line)\n",
    "                    docs_info.append(vacancy)\n",
    "\n",
    "    assert len(docs_info) == len(docs_text)\n",
    "    assert \"id\" in docs_info[0].keys()\n",
    "    assert \"id_job\" in docs_text[0].keys()\n",
    "\n",
    "    docs_info = pd.DataFrame(docs_info)\n",
    "    docs_text = pd.DataFrame(docs_text)\n",
    "    docs_info.drop_duplicates([\"id\"], inplace=True)\n",
    "    docs_text.drop_duplicates([\"id_job\"], inplace=True)\n",
    "    data = docs_info.merge(docs_text, left_on='id', right_on='id_job', how='outer')\n",
    "    \n",
    "    return data\n",
    "\n",
    "\n",
    "def add_documents_to_index(documents):\n",
    "    \"\"\"\n",
    "    Add the document from pd.DataFrame to index.\n",
    "    \n",
    "    :param pandas.DataFrame documents:\n",
    "    \"\"\"\n",
    "    for index, row in documents.iterrows():\n",
    "        doc_id = row[\"id\"]\n",
    "        title = row[\"title\"]\n",
    "        text = row[\"text\"]\n",
    "        language = row[\"lang_text\"]\n",
    "        doc = Document(doc_id, title, text, language)\n",
    "        r = requests.post(text_processing_url + config.NORMALIZE_DOC_PATH,\n",
    "                          json=jsonpickle.encode(doc))\n",
    "        status_normalizer = r.status_code\n",
    "        doc_normalized = jsonpickle.decode(r.text)\n",
    "        \n",
    "        r = requests.post(indexer_url + config.INDEXER_PATH,\n",
    "                          json=jsonpickle.encode(doc_normalized))\n",
    "        status_indexer = r.status_code\n",
    "\n",
    "        if status_indexer != 200 or status_normalizer != 200:\n",
    "            print(\" Request number\", index, \": \")\n",
    "            print(\"error\")\n",
    "    print(\"dataset adding finished!\")\n",
    "    \n",
    "    \n",
    "# -------##--------##--------##--------##--------##--------##--------##--------#"
   ]
  },
  {
   "cell_type": "code",
   "execution_count": 3,
   "metadata": {},
   "outputs": [
    {
     "name": "stdout",
     "output_type": "stream",
     "text": [
      "90081\n"
     ]
    }
   ],
   "source": [
    "dataset = load_data(config.dataset_dir)\n",
    "print(len(dataset))"
   ]
  },
  {
   "cell_type": "code",
   "execution_count": 4,
   "metadata": {},
   "outputs": [
    {
     "data": {
      "text/html": [
       "<div>\n",
       "<style scoped>\n",
       "    .dataframe tbody tr th:only-of-type {\n",
       "        vertical-align: middle;\n",
       "    }\n",
       "\n",
       "    .dataframe tbody tr th {\n",
       "        vertical-align: top;\n",
       "    }\n",
       "\n",
       "    .dataframe thead th {\n",
       "        text-align: right;\n",
       "    }\n",
       "</style>\n",
       "<table border=\"1\" class=\"dataframe\">\n",
       "  <thead>\n",
       "    <tr style=\"text-align: right;\">\n",
       "      <th></th>\n",
       "      <th>campaigns</th>\n",
       "      <th>checksum</th>\n",
       "      <th>company_name</th>\n",
       "      <th>company_name_hash64</th>\n",
       "      <th>date_created_x</th>\n",
       "      <th>date_expired</th>\n",
       "      <th>date_updated</th>\n",
       "      <th>emails</th>\n",
       "      <th>emails_src</th>\n",
       "      <th>html_desc_mode</th>\n",
       "      <th>...</th>\n",
       "      <th>title</th>\n",
       "      <th>title_normalized</th>\n",
       "      <th>uid</th>\n",
       "      <th>url</th>\n",
       "      <th>date_created_y</th>\n",
       "      <th>id_job</th>\n",
       "      <th>text</th>\n",
       "      <th>text_hash64</th>\n",
       "      <th>text_word_count</th>\n",
       "      <th>title_hash64</th>\n",
       "    </tr>\n",
       "  </thead>\n",
       "  <tbody>\n",
       "    <tr>\n",
       "      <th>0</th>\n",
       "      <td>NaN</td>\n",
       "      <td>-4347516908546459650</td>\n",
       "      <td>ТОРГОВАЯ КОМПАНИЯ МИНСК КРИСТАЛЛ ТРЕЙД</td>\n",
       "      <td>-1407800922893091652</td>\n",
       "      <td>22.01.2017 5:08:55</td>\n",
       "      <td></td>\n",
       "      <td>21.01.2017 0:00:00</td>\n",
       "      <td></td>\n",
       "      <td></td>\n",
       "      <td>1</td>\n",
       "      <td>...</td>\n",
       "      <td>Мерчендайзер</td>\n",
       "      <td>мерчендайзер</td>\n",
       "      <td>-9212801961204319130</td>\n",
       "      <td>https://osipovichi.jobs.tut.by/vacancy/19463412</td>\n",
       "      <td>22.01.2017 5:08:55</td>\n",
       "      <td>-6976808890660704963</td>\n",
       "      <td>Обязанности: -Выкладка продукции согласно стан...</td>\n",
       "      <td>8576765356311114568</td>\n",
       "      <td></td>\n",
       "      <td>-1714090597579181297</td>\n",
       "    </tr>\n",
       "    <tr>\n",
       "      <th>1</th>\n",
       "      <td>NaN</td>\n",
       "      <td>7224660365041947041</td>\n",
       "      <td></td>\n",
       "      <td></td>\n",
       "      <td>22.01.2017 15:59:00</td>\n",
       "      <td></td>\n",
       "      <td>22.01.2017 0:00:00</td>\n",
       "      <td></td>\n",
       "      <td></td>\n",
       "      <td>1</td>\n",
       "      <td>...</td>\n",
       "      <td>работа на дому</td>\n",
       "      <td>работа на дому</td>\n",
       "      <td>-9209947671975399058</td>\n",
       "      <td>http://slanet.by/rabota_na_domu/~8634706/~256/</td>\n",
       "      <td>22.01.2017 15:59:00</td>\n",
       "      <td>8101093402702063722</td>\n",
       "      <td>\\r\\n Приглашаю в совместный бизнес. \\r\\n Если ...</td>\n",
       "      <td>-2798404691997887952</td>\n",
       "      <td></td>\n",
       "      <td>-9181459132912603677</td>\n",
       "    </tr>\n",
       "    <tr>\n",
       "      <th>2</th>\n",
       "      <td>NaN</td>\n",
       "      <td>-311535052514607523</td>\n",
       "      <td>ТиАнСи</td>\n",
       "      <td>4079004396763991616</td>\n",
       "      <td>22.01.2017 23:08:36</td>\n",
       "      <td></td>\n",
       "      <td>22.01.2017 0:00:00</td>\n",
       "      <td></td>\n",
       "      <td></td>\n",
       "      <td>1</td>\n",
       "      <td>...</td>\n",
       "      <td>Приемщик-администратор заказов</td>\n",
       "      <td>приемщик администратор заказов</td>\n",
       "      <td>-9206403750529000147</td>\n",
       "      <td>https://minsk.jobs.tut.by/vacancy/19464616</td>\n",
       "      <td>22.01.2017 23:08:36</td>\n",
       "      <td>-4134875733109679071</td>\n",
       "      <td>Обязанности:\\r\\n~Приемка одежды в швейный ремо...</td>\n",
       "      <td>-3558390396120362415</td>\n",
       "      <td></td>\n",
       "      <td>-2393853823647787673</td>\n",
       "    </tr>\n",
       "    <tr>\n",
       "      <th>3</th>\n",
       "      <td>NaN</td>\n",
       "      <td>7737366870595005744</td>\n",
       "      <td>ИП Волченко Наталья Викторовна</td>\n",
       "      <td>3209921620681361505</td>\n",
       "      <td>22.01.2017 21:46:08</td>\n",
       "      <td></td>\n",
       "      <td>22.01.2017 0:00:00</td>\n",
       "      <td></td>\n",
       "      <td></td>\n",
       "      <td>2</td>\n",
       "      <td>...</td>\n",
       "      <td>Преподаватель в детский центр</td>\n",
       "      <td>преподаватель в детский центр</td>\n",
       "      <td>-9188400109306636683</td>\n",
       "      <td>http://rabota.by/vacancy/view/605376/</td>\n",
       "      <td>22.01.2017 21:46:08</td>\n",
       "      <td>3640860530202637173</td>\n",
       "      <td>Проводить занятия по декоративно-прикладному и...</td>\n",
       "      <td>-4917747260559578006</td>\n",
       "      <td></td>\n",
       "      <td>7056557067088382888</td>\n",
       "    </tr>\n",
       "    <tr>\n",
       "      <th>4</th>\n",
       "      <td>NaN</td>\n",
       "      <td>-8053228559258502755</td>\n",
       "      <td>ЗАО \"АТЛАНТ\"</td>\n",
       "      <td>3024363518202159677</td>\n",
       "      <td>22.01.2017 5:48:41</td>\n",
       "      <td></td>\n",
       "      <td>21.01.2017 0:00:00</td>\n",
       "      <td></td>\n",
       "      <td></td>\n",
       "      <td>1</td>\n",
       "      <td>...</td>\n",
       "      <td>Слесарь по обслуживанию и ремонту газоиспользу...</td>\n",
       "      <td>слесарь по обслуживанию и ремонту газоиспользу...</td>\n",
       "      <td>-9148989982408761561</td>\n",
       "      <td>http://minsk.regiony.by/работа/вакансии/#!jobs...</td>\n",
       "      <td>22.01.2017 5:48:41</td>\n",
       "      <td>6129885995940329470</td>\n",
       "      <td>Образование:Профессионально-техническоеХаракте...</td>\n",
       "      <td>4098862302437213354</td>\n",
       "      <td></td>\n",
       "      <td>8463144365626593477</td>\n",
       "    </tr>\n",
       "  </tbody>\n",
       "</table>\n",
       "<p>5 rows × 41 columns</p>\n",
       "</div>"
      ],
      "text/plain": [
       "  campaigns              checksum                            company_name  \\\n",
       "0       NaN  -4347516908546459650  ТОРГОВАЯ КОМПАНИЯ МИНСК КРИСТАЛЛ ТРЕЙД   \n",
       "1       NaN   7224660365041947041                                           \n",
       "2       NaN   -311535052514607523                                  ТиАнСи   \n",
       "3       NaN   7737366870595005744          ИП Волченко Наталья Викторовна   \n",
       "4       NaN  -8053228559258502755                            ЗАО \"АТЛАНТ\"   \n",
       "\n",
       "    company_name_hash64       date_created_x date_expired        date_updated  \\\n",
       "0  -1407800922893091652   22.01.2017 5:08:55               21.01.2017 0:00:00   \n",
       "1                        22.01.2017 15:59:00               22.01.2017 0:00:00   \n",
       "2   4079004396763991616  22.01.2017 23:08:36               22.01.2017 0:00:00   \n",
       "3   3209921620681361505  22.01.2017 21:46:08               22.01.2017 0:00:00   \n",
       "4   3024363518202159677   22.01.2017 5:48:41               21.01.2017 0:00:00   \n",
       "\n",
       "  emails emails_src html_desc_mode          ...           \\\n",
       "0                                1          ...            \n",
       "1                                1          ...            \n",
       "2                                1          ...            \n",
       "3                                2          ...            \n",
       "4                                1          ...            \n",
       "\n",
       "                                               title  \\\n",
       "0                                       Мерчендайзер   \n",
       "1                                     работа на дому   \n",
       "2                     Приемщик-администратор заказов   \n",
       "3                      Преподаватель в детский центр   \n",
       "4  Слесарь по обслуживанию и ремонту газоиспользу...   \n",
       "\n",
       "                                    title_normalized                   uid  \\\n",
       "0                                       мерчендайзер  -9212801961204319130   \n",
       "1                                     работа на дому  -9209947671975399058   \n",
       "2                     приемщик администратор заказов  -9206403750529000147   \n",
       "3                      преподаватель в детский центр  -9188400109306636683   \n",
       "4  слесарь по обслуживанию и ремонту газоиспользу...  -9148989982408761561   \n",
       "\n",
       "                                                 url       date_created_y  \\\n",
       "0    https://osipovichi.jobs.tut.by/vacancy/19463412   22.01.2017 5:08:55   \n",
       "1     http://slanet.by/rabota_na_domu/~8634706/~256/  22.01.2017 15:59:00   \n",
       "2         https://minsk.jobs.tut.by/vacancy/19464616  22.01.2017 23:08:36   \n",
       "3              http://rabota.by/vacancy/view/605376/  22.01.2017 21:46:08   \n",
       "4  http://minsk.regiony.by/работа/вакансии/#!jobs...   22.01.2017 5:48:41   \n",
       "\n",
       "                 id_job                                               text  \\\n",
       "0  -6976808890660704963  Обязанности: -Выкладка продукции согласно стан...   \n",
       "1   8101093402702063722  \\r\\n Приглашаю в совместный бизнес. \\r\\n Если ...   \n",
       "2  -4134875733109679071  Обязанности:\\r\\n~Приемка одежды в швейный ремо...   \n",
       "3   3640860530202637173  Проводить занятия по декоративно-прикладному и...   \n",
       "4   6129885995940329470  Образование:Профессионально-техническоеХаракте...   \n",
       "\n",
       "            text_hash64 text_word_count          title_hash64  \n",
       "0   8576765356311114568                  -1714090597579181297  \n",
       "1  -2798404691997887952                  -9181459132912603677  \n",
       "2  -3558390396120362415                  -2393853823647787673  \n",
       "3  -4917747260559578006                   7056557067088382888  \n",
       "4   4098862302437213354                   8463144365626593477  \n",
       "\n",
       "[5 rows x 41 columns]"
      ]
     },
     "execution_count": 4,
     "metadata": {},
     "output_type": "execute_result"
    }
   ],
   "source": [
    "dataset.head()"
   ]
  },
  {
   "cell_type": "markdown",
   "metadata": {},
   "source": [
    "### Run cell below to add documents to index and save it\n",
    "\n",
    "set variable n_docs to a small value for debugging"
   ]
  },
  {
   "cell_type": "code",
   "execution_count": 11,
   "metadata": {},
   "outputs": [
    {
     "name": "stdout",
     "output_type": "stream",
     "text": [
      "dataset adding finished!\n",
      "Adding time = 59.88505673408508\n",
      "200\n"
     ]
    }
   ],
   "source": [
    "# Run this cell only once\n",
    "# Adding may takes from 15min (for 30k docs) to 1 hour\n",
    "# Index with 30k documents takes about 2-3 Gb RAM\n",
    "# 5k documents enough for testing during development\n",
    "\n",
    "n_docs = 500\n",
    "start = time.time()\n",
    "add_documents_to_index(dataset.loc[:n_docs])\n",
    "print(\"Adding time =\", time.time() - start)\n",
    "\n",
    "# Save current status of index\n",
    "\n",
    "r = requests.post(indexer_url + \"save_index\")\n",
    "print(r.status_code)\n"
   ]
  },
  {
   "cell_type": "markdown",
   "metadata": {},
   "source": [
    "## Test all services"
   ]
  },
  {
   "cell_type": "code",
   "execution_count": 122,
   "metadata": {},
   "outputs": [
    {
     "name": "stdout",
     "output_type": "stream",
     "text": [
      "Normalize the document.\n",
      "{'id': '5896349877670049350', 'language': 'ru', 'snippet': None, 'text': 'Режим работы:Полный рабочий деньЗарплата:133.00 руб.Вакансия:Инструктор по лечебной физкультуре (Инструктор по ЛФК городской поликлиники на 0,5 ставки временно)Адрес:Гродненская область, г. Слоним, , ул. Войкова, 51 А Телефоны:8-015-62-3-24-13 8-015-62-3-24-13\\r\\n\\r\\n', 'text_normalized': 'реж работ полн рабоч инструктор по лечебн физкультур инструктор по лфк городск поликлиник на ставк времен адрес гродненск област слон ул войков а', 'title': 'Инструктор по лечебной физкультуре', 'title_normalized': 'инструктор по лечебн физкультур'}\n"
     ]
    }
   ],
   "source": [
    "print(\"Normalize the document.\")\n",
    "row = dataset.loc[1001, :]\n",
    "doc_id = row[\"id\"]\n",
    "title = row[\"title\"]\n",
    "text = row[\"text\"]\n",
    "language = row[\"lang_text\"]\n",
    "doc = Document(doc_id, title, text, language)\n",
    "\n",
    "r = requests.post(text_processing_url + config.NORMALIZE_DOC_PATH, json=jsonpickle.encode(doc))\n",
    "status_normalizer = r.status_code\n",
    "doc_normalized = jsonpickle.decode(r.text)\n",
    "print(doc_normalized)\n"
   ]
  },
  {
   "cell_type": "code",
   "execution_count": 123,
   "metadata": {},
   "outputs": [
    {
     "name": "stdout",
     "output_type": "stream",
     "text": [
      "\n",
      "Adding the document to index\n",
      "200\n",
      "document already exist in index.\n"
     ]
    }
   ],
   "source": [
    "print(\"\\nAdding the document to index\")\n",
    "r = requests.post(indexer_url + config.INDEXER_PATH,\n",
    "                  json=jsonpickle.encode(doc_normalized))\n",
    "print(r.status_code)\n",
    "print(r.text)\n"
   ]
  },
  {
   "cell_type": "code",
   "execution_count": 124,
   "metadata": {},
   "outputs": [
    {
     "name": "stdout",
     "output_type": "stream",
     "text": [
      "\n",
      "Normilize query \"водитель\".\n",
      "200\n",
      "водител\n"
     ]
    }
   ],
   "source": [
    "print(\"\\nNormilize query \\\"водитель\\\".\")\n",
    "query = \"водитель\"\n",
    "r = requests.post(text_processing_url + config.NORMALIZE_QUERY_PATH,\n",
    "                  json=query)\n",
    "print(r.status_code)\n",
    "search_query = r.text\n",
    "print(search_query)\n"
   ]
  },
  {
   "cell_type": "code",
   "execution_count": 130,
   "metadata": {},
   "outputs": [
    {
     "name": "stdout",
     "output_type": "stream",
     "text": [
      "\n",
      "Search in index.\n",
      "200\n",
      "[Title: Водитель погрузчика\n",
      "Text: Режим работы:Полный рабочий деньЗарплата:400.00 руб.Вакансия:Водитель погрузчика (Погрузка вагонов г.Калинковичи.)Адрес:Гомельская область, г. Мозырь, , ул. Советская, 25Телефоны:8-0236-32-00-45, 32-05-98-юрист 8-0236-32-00-45, 8-0236-32-04-43\r\n",
      "\r\n",
      "\n",
      "Snippet: None\n",
      ", Title: Водитель автомобиля\n",
      "Text: Образование:Профессионально-техническоеХарактер работы:ПостояннаяЗарплата:500.00 руб.Вакансия:Водитель автомобиля (вывозка леса)Адрес:Витебская область, г. Браслав, , ул. Дачная, 1А Телефоны:64585 8(02153) 64585 8(02153) 64585\r\n",
      "\r\n",
      "\n",
      "Snippet: None\n",
      "]\n"
     ]
    }
   ],
   "source": [
    "print(\"\\nSearch in index.\")\n",
    "r = requests.post(indexer_url + config.SEARCH_PATH, json=search_query)\n",
    "print(r.status_code)\n",
    "search_result = jsonpickle.decode(r.text)\n",
    "print(search_result[\"documents\"][:2])\n"
   ]
  },
  {
   "cell_type": "code",
   "execution_count": 131,
   "metadata": {},
   "outputs": [],
   "source": [
    "documents = search_result[\"documents\"]\n",
    "terms = search_result[\"terms\"]\n"
   ]
  },
  {
   "cell_type": "code",
   "execution_count": 135,
   "metadata": {},
   "outputs": [
    {
     "name": "stdout",
     "output_type": "stream",
     "text": [
      "\n",
      "Ranking the document\n",
      "200\n",
      "len =  8\n",
      "[(0.0, Title: Водитель в службу доставки еды\n",
      "Text: Водитель с личным л/а для доставки готовой продукции (еда) по г. Барановичи. Режим работы с 17.00 до 22.00. Оплата 3р. за одну доставку.\r\n",
      "\n",
      "Snippet: None\n",
      "), (0.0, Title: Водитель с личным автомобилем бус ищет работу или подработку\n",
      "Text: Водитель с личным автомобилем бус ищет работу или подработку \r\n",
      "\n",
      "Snippet: None\n",
      ")]\n"
     ]
    }
   ],
   "source": [
    "print(\"\\nRanking the document\")\n",
    "docs_query = {\"documents\": documents, \"query\": search_query}\n",
    "r = requests.post(ranking_url + config.RANK_PATH,\n",
    "                  json=jsonpickle.encode(docs_query))\n",
    "print(r.status_code)\n",
    "rank_result = jsonpickle.decode(r.text)\n",
    "print(\"len = \", len(rank_result))\n",
    "print(rank_result[:2])\n"
   ]
  },
  {
   "cell_type": "code",
   "execution_count": 136,
   "metadata": {},
   "outputs": [
    {
     "name": "stdout",
     "output_type": "stream",
     "text": [
      "\n",
      "Get snippets for TF-IDF Method.\n",
      "200\n",
      "[Title: Водитель в службу доставки еды\n",
      "Text: Водитель с личным л/а для доставки готовой продукции (еда) по г. Барановичи. Режим работы с 17.00 до 22.00. Оплата 3р. за одну доставку.\n",
      "\n",
      "Snippet: Водитель с личным л/а для доставки готовой продукции (еда) по г. Барановичи. Режим работы с 17.00 до 22.00. Оплата 3р. за одну доставку.\n",
      "\n",
      ", Title: Водитель с личным автомобилем бус ищет работу или подработку\n",
      "Text: Водитель с личным автомобилем бус ищет работу или подработку \n",
      "\n",
      "Snippet: Водитель с личным автомобилем бус ищет работу или подработку \n",
      "\n",
      "]\n"
     ]
    }
   ],
   "source": [
    "# FOR TF-IDF Method\n",
    "print(\"\\nGet snippets for TF-IDF Method.\")\n",
    "docs_query = {\"documents\": [i[1] for i in rank_result], \"terms\": terms}\n",
    "r = requests.post(snippets_url + config.SNIPPETS_PATH,\n",
    "                  json=jsonpickle.encode(docs_query))\n",
    "print(r.status_code)\n",
    "rank_result = jsonpickle.decode(r.text)\n",
    "print(rank_result[:2])\n"
   ]
  },
  {
   "cell_type": "code",
   "execution_count": 111,
   "metadata": {
    "collapsed": true
   },
   "outputs": [
    {
     "name": "stdout",
     "output_type": "stream",
     "text": [
      "\n",
      "Get snippets for BM-25 Method.\n"
     ]
    },
    {
     "ename": "TypeError",
     "evalue": "'Document' object does not support indexing",
     "output_type": "error",
     "traceback": [
      "\u001b[0;31m---------------------------------------------------------------------------\u001b[0m",
      "\u001b[0;31mTypeError\u001b[0m                                 Traceback (most recent call last)",
      "\u001b[0;32m<ipython-input-111-ab2612ba08fb>\u001b[0m in \u001b[0;36m<module>\u001b[0;34m()\u001b[0m\n\u001b[1;32m      1\u001b[0m \u001b[0;31m# FOR BM-25 Method\u001b[0m\u001b[0;34m\u001b[0m\u001b[0;34m\u001b[0m\u001b[0m\n\u001b[1;32m      2\u001b[0m \u001b[0mprint\u001b[0m\u001b[0;34m(\u001b[0m\u001b[0;34m\"\\nGet snippets for BM-25 Method.\"\u001b[0m\u001b[0;34m)\u001b[0m\u001b[0;34m\u001b[0m\u001b[0m\n\u001b[0;32m----> 3\u001b[0;31m \u001b[0mdocs_query\u001b[0m \u001b[0;34m=\u001b[0m \u001b[0;34m{\u001b[0m\u001b[0;34m\"documents\"\u001b[0m\u001b[0;34m:\u001b[0m \u001b[0;34m[\u001b[0m\u001b[0mi\u001b[0m\u001b[0;34m[\u001b[0m\u001b[0;36m0\u001b[0m\u001b[0;34m]\u001b[0m \u001b[0;32mfor\u001b[0m \u001b[0mi\u001b[0m \u001b[0;32min\u001b[0m \u001b[0mrank_result\u001b[0m\u001b[0;34m]\u001b[0m\u001b[0;34m,\u001b[0m \u001b[0;34m\"terms\"\u001b[0m\u001b[0;34m:\u001b[0m \u001b[0mterms\u001b[0m\u001b[0;34m}\u001b[0m\u001b[0;34m\u001b[0m\u001b[0m\n\u001b[0m\u001b[1;32m      4\u001b[0m r = requests.post(snippets_url + config.SNIPPETS_PATH,\n\u001b[1;32m      5\u001b[0m                   json=jsonpickle.encode(docs_query))\n",
      "\u001b[0;32m<ipython-input-111-ab2612ba08fb>\u001b[0m in \u001b[0;36m<listcomp>\u001b[0;34m(.0)\u001b[0m\n\u001b[1;32m      1\u001b[0m \u001b[0;31m# FOR BM-25 Method\u001b[0m\u001b[0;34m\u001b[0m\u001b[0;34m\u001b[0m\u001b[0m\n\u001b[1;32m      2\u001b[0m \u001b[0mprint\u001b[0m\u001b[0;34m(\u001b[0m\u001b[0;34m\"\\nGet snippets for BM-25 Method.\"\u001b[0m\u001b[0;34m)\u001b[0m\u001b[0;34m\u001b[0m\u001b[0m\n\u001b[0;32m----> 3\u001b[0;31m \u001b[0mdocs_query\u001b[0m \u001b[0;34m=\u001b[0m \u001b[0;34m{\u001b[0m\u001b[0;34m\"documents\"\u001b[0m\u001b[0;34m:\u001b[0m \u001b[0;34m[\u001b[0m\u001b[0mi\u001b[0m\u001b[0;34m[\u001b[0m\u001b[0;36m0\u001b[0m\u001b[0;34m]\u001b[0m \u001b[0;32mfor\u001b[0m \u001b[0mi\u001b[0m \u001b[0;32min\u001b[0m \u001b[0mrank_result\u001b[0m\u001b[0;34m]\u001b[0m\u001b[0;34m,\u001b[0m \u001b[0;34m\"terms\"\u001b[0m\u001b[0;34m:\u001b[0m \u001b[0mterms\u001b[0m\u001b[0;34m}\u001b[0m\u001b[0;34m\u001b[0m\u001b[0m\n\u001b[0m\u001b[1;32m      4\u001b[0m r = requests.post(snippets_url + config.SNIPPETS_PATH,\n\u001b[1;32m      5\u001b[0m                   json=jsonpickle.encode(docs_query))\n",
      "\u001b[0;31mTypeError\u001b[0m: 'Document' object does not support indexing"
     ]
    }
   ],
   "source": [
    "# FOR BM-25 Method\n",
    "print(\"\\nGet snippets for BM-25 Method.\")\n",
    "docs_query = {\"documents\": [i[0] for i in rank_result], \"terms\": terms}\n",
    "r = requests.post(snippets_url + config.SNIPPETS_PATH,\n",
    "                  json=jsonpickle.encode(docs_query))\n",
    "print(r.status_code)\n",
    "rank_result = jsonpickle.decode(r.text)\n",
    "print(rank_result[:2])"
   ]
  },
  {
   "cell_type": "code",
   "execution_count": 137,
   "metadata": {},
   "outputs": [
    {
     "name": "stdout",
     "output_type": "stream",
     "text": [
      "\n",
      "SERP results\n",
      "200\n",
      "\u001b[1mВодитель в службу доставки еды\u001b[0;0m\n",
      "document id a.k.a. url: -2566770001090623967\n",
      "Водитель с личным л/а для доставки готовой продукции (еда) по г. Барановичи. Режим работы с 17.00 до 22.00. Оплата 3р. за одну доставку.\n",
      "\n",
      "....................................................................................................\n",
      "\u001b[1mВодитель с личным автомобилем бус ищет работу или подработку\u001b[0;0m\n",
      "document id a.k.a. url: -2635371348590851677\n",
      "Водитель с личным автомобилем бус ищет работу или подработку \n",
      "\n",
      "....................................................................................................\n",
      "\u001b[1mВодитель автомобиля\u001b[0;0m\n",
      "document id a.k.a. url: -3806050872766449737\n",
      "Режим работы:Полный рабочий деньЗарплата:400.00 руб.Разряд / категория:Второй (II, 2)Вакансия:Водитель автомобиля (Наличие категории \"Е\")Адрес:Могилевская область, г. Быхов, , м-р Колос, д.7б Телефоны:802231-54738 54738\n",
      "\n",
      "\n",
      "....................................................................................................\n",
      "\u001b[1mВодитель автомобиля\u001b[0;0m\n",
      "document id a.k.a. url: 2134849617817041383\n",
      "Режим работы:Полный рабочий деньЗарплата:300.00 руб.Вакансия:Водитель автомобиля (-международник, стаж работы не менее 2 лет. м/справка)Адрес:Брестская область, Брест, , ул. Вычулки, 113Телефоны:8029 625-15-42 8029 625-15-42 8029 625-15-42\n",
      "\n",
      "\n",
      "....................................................................................................\n",
      "\u001b[1mОпытный водитель на своем aвто ( на фото ) к Вашим услугам и на Ваших условиях\u001b[0;0m\n",
      "document id a.k.a. url: 309792583583238461\n",
      "73\n",
      " Надежный, профессиональный ( более 39 лет за рулем ), безупречно знающий город Минск и всю Беларусь водитель, без вредных привычек, ищет работу, желательно подработку или разовую работу на своем легковом автомобиле представительского класса 2010 г., или на любом Вашем. \n",
      " Отвезет в садик и обратно, в школу ( ВУЗ ) и домой Ваших детей, а также родителей на работу, в магазины и т.д. Выполнит любое Ваше поручение. \n",
      " Финансовые запросы довольно скромные. \n",
      "\n",
      "....................................................................................................\n",
      "\u001b[1mВодитель автомобиля\u001b[0;0m\n",
      "document id a.k.a. url: 4196741079553957610\n",
      "Режим работы:Полный рабочий деньЗарплата:450.00 руб.Вакансия:Водитель автомобиля (категории \"B\", \"C\", \"D\")Адрес:г. Гродно, Ленинский район, , ул. Дзержинского, 104Телефоны:44-41-09 44-41-09\n",
      "\n",
      "\n",
      "....................................................................................................\n",
      "\u001b[1mВодитель автомобиля\u001b[0;0m\n",
      "document id a.k.a. url: -8949127172673136749\n",
      "Образование:Профессионально-техническоеХарактер работы:ПостояннаяЗарплата:500.00 руб.Вакансия:Водитель автомобиля (вывозка леса)Адрес:Витебская область, г. Браслав, , ул. Дачная, 1А Телефоны:64585 8(02153) 64585 8(02153) 64585\n",
      "\n",
      "\n",
      "....................................................................................................\n",
      "\u001b[1mВодитель погрузчика\u001b[0;0m\n",
      "document id a.k.a. url: 5749224815662151235\n",
      "Режим работы:Полный рабочий деньЗарплата:400.00 руб.Вакансия:Водитель погрузчика (Погрузка вагонов г.Калинковичи.)Адрес:Гомельская область, г. Мозырь, , ул. Советская, 25Телефоны:8-0236-32-00-45, 32-05-98-юрист 8-0236-32-00-45, 8-0236-32-04-43\n",
      "\n",
      "\n",
      "....................................................................................................\n",
      "\n"
     ]
    }
   ],
   "source": [
    "print(\"\\nSERP results\")\n",
    "docs_query = {\"documents\": rank_result, \"query\": search_query}\n",
    "r = requests.post(res_page_form_url + config.RESULT_PAGE_PATH,\n",
    "                  json=jsonpickle.encode(docs_query))\n",
    "print(r.status_code)\n",
    "search_result = r.text\n",
    "print(search_result)\n"
   ]
  },
  {
   "cell_type": "code",
   "execution_count": null,
   "metadata": {},
   "outputs": [],
   "source": []
  }
 ],
 "metadata": {
  "kernelspec": {
   "display_name": "Python 3",
   "language": "python",
   "name": "python3"
  },
  "language_info": {
   "codemirror_mode": {
    "name": "ipython",
    "version": 3
   },
   "file_extension": ".py",
   "mimetype": "text/x-python",
   "name": "python",
   "nbconvert_exporter": "python",
   "pygments_lexer": "ipython3",
   "version": "3.6.6"
  }
 },
 "nbformat": 4,
 "nbformat_minor": 1
}
