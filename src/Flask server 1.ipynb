{
 "cells": [
  {
   "cell_type": "code",
   "execution_count": 1,
   "metadata": {},
   "outputs": [
    {
     "name": "stdout",
     "output_type": "stream",
     "text": [
      "[nltk_data] Error loading stopwords: <urlopen error [Errno -2] Name or\n",
      "[nltk_data]     service not known>\n",
      "[nltk_data] Error loading punkt: <urlopen error [Errno -2] Name or\n",
      "[nltk_data]     service not known>\n"
     ]
    }
   ],
   "source": [
    "from nltk import wordpunct_tokenize\n",
    "from nltk.corpus import stopwords\n",
    "import nltk\n",
    "nltk.download('stopwords')\n",
    "nltk.download('punkt')\n",
    "def _calculate_languages_ratios(text):\n",
    "    \"\"\"\n",
    "    Calculate probability of given text to be written in several languages and\n",
    "    return a dictionary that looks like {'french': 2, 'spanish': 4, 'english': 0}\n",
    "    \n",
    "    @param text: Text whose language want to be detected\n",
    "    @type text: str\n",
    "    \n",
    "    @return: Dictionary with languages and unique stopwords seen in analyzed text\n",
    "    @rtype: dict\n",
    "    \"\"\"\n",
    "\n",
    "    languages_ratios = {}\n",
    "\n",
    "    '''\n",
    "    nltk.wordpunct_tokenize() splits all punctuations into separate tokens\n",
    "    \n",
    "    >>> wordpunct_tokenize(\"That's thirty minutes away. I'll be there in ten.\")\n",
    "    ['That', \"'\", 's', 'thirty', 'minutes', 'away', '.', 'I', \"'\", 'll', 'be', 'there', 'in', 'ten', '.']\n",
    "    '''\n",
    "\n",
    "    tokens = wordpunct_tokenize(text)\n",
    "    words = [word.lower() for word in tokens]\n",
    "\n",
    "    # Compute per language included in nltk number of unique stopwords appearing in analyzed text\n",
    "    for language in stopwords.fileids():\n",
    "        stopwords_set = set(stopwords.words(language))\n",
    "        words_set = set(words)\n",
    "        common_elements = words_set.intersection(stopwords_set)\n",
    "\n",
    "        languages_ratios[language] = len(common_elements) # language \"score\"\n",
    "\n",
    "    return languages_ratios\n",
    "\n",
    "\n",
    "#----------------------------------------------------------------------\n",
    "def detect_language(text):\n",
    "    \"\"\"\n",
    "    Calculate probability of given text to be written in several languages and\n",
    "    return the highest scored.\n",
    "    \n",
    "    It uses a stopwords based approach, counting how many unique stopwords\n",
    "    are seen in analyzed text.\n",
    "    \n",
    "    @param text: Text whose language want to be detected\n",
    "    @type text: str\n",
    "    \n",
    "    @return: Most scored language guessed\n",
    "    @rtype: str\n",
    "    \"\"\"\n",
    "\n",
    "    ratios = _calculate_languages_ratios(text)\n",
    "\n",
    "    most_rated_language = max(ratios, key=ratios.get)\n",
    "\n",
    "    return most_rated_language"
   ]
  },
  {
   "cell_type": "code",
   "execution_count": 2,
   "metadata": {},
   "outputs": [],
   "source": [
    "from wtforms import Form, StringField, SelectField\n",
    "\n",
    "class SearchForm(Form):\n",
    "    search = StringField('Enter your search request:')"
   ]
  },
  {
   "cell_type": "code",
   "execution_count": 8,
   "metadata": {},
   "outputs": [],
   "source": [
    "def stemm_analyze (text, lang):\n",
    "    #Stemming\n",
    "    from nltk.stem import PorterStemmer\n",
    "    from nltk.tokenize import sent_tokenize, word_tokenize\n",
    "    import nltk\n",
    "\n",
    "    new_text = text\n",
    "    ps = PorterStemmer()\n",
    "    words = word_tokenize(new_text)\n",
    "    tokenized_words = []\n",
    "    for w in words:\n",
    "        tokenized_words.append(ps.stem(w))\n",
    "\n",
    "    #Excluding Stop-words\n",
    "    from nltk.corpus import stopwords\n",
    "    filtered_words = [word.lower() for word in tokenized_words if word not in stopwords.words('english') and word.isalpha()]\n",
    "    return filtered_words"
   ]
  },
  {
   "cell_type": "code",
   "execution_count": 4,
   "metadata": {},
   "outputs": [
    {
     "name": "stderr",
     "output_type": "stream",
     "text": [
      "/home/vzalevskyi/.local/lib/python3.6/site-packages/ipykernel_launcher.py:4: DeprecationWarning: Required is going away in WTForms 3.0, use DataRequired\n",
      "  after removing the cwd from sys.path.\n"
     ]
    }
   ],
   "source": [
    "from wtforms import Form, TextField, TextAreaField, validators, StringField, SubmitField\n",
    "\n",
    "class ReusableForm(Form):\n",
    "    name = TextField('Name:', validators=[validators.required()])"
   ]
  },
  {
   "cell_type": "code",
   "execution_count": null,
   "metadata": {},
   "outputs": [
    {
     "name": "stdout",
     "output_type": "stream",
     "text": [
      " * Serving Flask app \"__main__\" (lazy loading)\n",
      " * Environment: production\n",
      "   WARNING: Do not use the development server in a production environment.\n",
      "   Use a production WSGI server instead.\n",
      " * Debug mode: off\n"
     ]
    },
    {
     "name": "stderr",
     "output_type": "stream",
     "text": [
      " * Running on http://0.0.0.0:13501/ (Press CTRL+C to quit)\n",
      "127.0.0.1 - - [06/Nov/2018 13:26:55] \"GET /favicon.ico HTTP/1.1\" 404 -\n",
      "127.0.0.1 - - [06/Nov/2018 13:26:56] \"POST / HTTP/1.1\" 200 -\n",
      "127.0.0.1 - - [06/Nov/2018 13:26:56] \"GET /favicon.ico HTTP/1.1\" 404 -\n"
     ]
    }
   ],
   "source": [
    "from flask import Flask, request, flash, render_template, redirect\n",
    "import json\n",
    "\n",
    "app = Flask(__name__)\n",
    "@app.route('/', methods=['GET', 'POST'])\n",
    "def index():\n",
    "    form = ReusableForm(request.form)\n",
    "    if request.method == 'POST':\n",
    "        query = request.form['name']\n",
    "        #test(query)\n",
    "        return rev_ind(query)\n",
    " \n",
    "    return render_template('index.html', form=form)\n",
    "    \n",
    "\n",
    "@app.route(\"/test\", methods=[\"POST\"])\n",
    "def test(j):\n",
    "    #j = request.json\n",
    "    l = detect_language(j)\n",
    "    return json.dumps({\"status\":\"ok\", \"got_data\":j, \"data_len\":l})\n",
    "    \n",
    "@app.route(\"/det_lang\", methods=[\"POST\"])\n",
    "def det_lang(query):\n",
    "    #j = request.json\n",
    "    l = detect_language(query)\n",
    "    return {\"status\":\"ok\", \"got_data\":query, \"language\":l}\n",
    "    \n",
    "\n",
    "@app.route(\"/stemm\", methods=[\"POST\"])\n",
    "def stemm_serv(query):\n",
    "    lang_out = det_lang(query)\n",
    "    stemmed = stemm_analyze(query, lang_out[\"language\"])\n",
    "    return {\"lang\":lang_out[\"language\"], \"text\":query, \"stemmed_text\":stemmed}\n",
    "    \n",
    "@app.route(\"/rev_ind\", methods=[\"POST\"])\n",
    "def rev_ind(query):\n",
    "    stemmed = stemm_serv(query)\n",
    "    stemmed_text = stemmed[\"stemmed_text\"]\n",
    "    idx = []\n",
    "    #j = request.json\n",
    "    for word in stemmed_text:\n",
    "        idx.append(len(word))\n",
    "    return json.dumps({\"idxs\":idx, \"stemmed_text\":stemmed_text})\n",
    "\n",
    "@app.route(\"/logging\", methods=[\"POST\"])\n",
    "def loggs():\n",
    "    stemmed_text = request.json[\"stemmed_text\"]\n",
    "    idx = []\n",
    "    j = request.json\n",
    "    for word in stemmed_text:\n",
    "        idx.append(len(word))\n",
    "    return json.dumps({\"idxs\":idx, \"tstemmed_textext\":j[\"stemmed_text\"]})\n",
    "\n",
    "\n",
    "if __name__ == \"__main__\":\n",
    "    app.run(host='0.0.0.0', port=13501)"
   ]
  },
  {
   "cell_type": "code",
   "execution_count": null,
   "metadata": {},
   "outputs": [],
   "source": []
  }
 ],
 "metadata": {
  "kernelspec": {
   "display_name": "Python 3",
   "language": "python",
   "name": "python3"
  },
  "language_info": {
   "codemirror_mode": {
    "name": "ipython",
    "version": 3
   },
   "file_extension": ".py",
   "mimetype": "text/x-python",
   "name": "python",
   "nbconvert_exporter": "python",
   "pygments_lexer": "ipython3",
   "version": "3.6.6"
  }
 },
 "nbformat": 4,
 "nbformat_minor": 2
}
