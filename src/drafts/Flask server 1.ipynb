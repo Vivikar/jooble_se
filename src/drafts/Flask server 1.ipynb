{
 "cells": [
  {
   "cell_type": "code",
   "execution_count": 1,
   "metadata": {},
   "outputs": [],
   "source": [
    "from flask import Flask, request\n",
    "import json\n",
    "from textblob import TextBlob\n",
    "\n",
    "import pandas as pd"
   ]
  },
  {
   "cell_type": "code",
   "execution_count": 2,
   "metadata": {},
   "outputs": [],
   "source": [
    "inverted_index = {}\n",
    "forward_index = []\n",
    "documents_id = []"
   ]
  },
  {
   "cell_type": "code",
   "execution_count": 3,
   "metadata": {},
   "outputs": [],
   "source": [
    "app = Flask(__name__)\n",
    "\n",
    "@app.route(\"/\")\n",
    "def hello():\n",
    "    return \"Hello World from Scissors!\"\n",
    "\n",
    "\n",
    "@app.route('/about')\n",
    "def about():\n",
    "    return 'The about page'\n",
    "        \n",
    "\n",
    "@app.route('/ranging', methods=[\"POST\"])\n",
    "def ranging():\n",
    "    \"\"\"\n",
    "    Returns:\n",
    "    List with dictionaries according to ranged documents ID as json file\n",
    "    \"\"\"\n",
    "    list_of_dicts = request.json \n",
    "    documents = [Document(**doc) for doc in list_of_dicts]\n",
    "    return json.dumps([doc.to_dict() for doc in documents])\n",
    "    \n",
    "    \n",
    "@app.route('/snippets', methods=[\"POST\"])\n",
    "def get_snippets():\n",
    "    \"\"\"\n",
    "    Returns:   \n",
    "    \"\"\"     \n",
    "    search_words = request.json[\"search_word\"]\n",
    "    result = search_one(search_words)\n",
    "    dicts = []\n",
    "    for doc_id in result:\n",
    "        val = str(df[df.id==doc_id].text.values)\n",
    "        dicts.append({str(doc_id): val})\n",
    "    return json.dumps(dicts[0])\n",
    "\n",
    "\n",
    "@app.route('/return_page', methods=[\"POST\"])\n",
    "def return_page():\n",
    "    \"\"\"\n",
    "    Returns:\n",
    "    \n",
    "    \"\"\"\n",
    "    list_of_dicts = request.json \n",
    "    documents = [Document(**doc) for doc in list_of_dicts]\n",
    "    result = [doc.to_dict() for doc in documents]\n",
    "    \n",
    "    return \"html\"\n",
    "\n",
    "\n",
    "\n",
    "@app.route('/indexator',  methods=[\"POST\"])\n",
    "def add_to_index():\n",
    "    \"\"\"\n",
    "    Returns:\n",
    "    \n",
    "    \"\"\"\n",
    "    document = request.json \n",
    "    add_inverted_index(document)\n",
    "    add_forward_index(document)\n",
    "   \n",
    "    return \"added to index\"\n",
    "\n",
    "\n",
    "@app.route(\"/search\", methods=[\"POST\"])\n",
    "def search():\n",
    "    search_words = request.json[\"search_word\"]\n",
    "    \n",
    "    result = search_one(search_words)\n",
    "    \n",
    "    return json.dumps(result)"
   ]
  },
  {
   "cell_type": "code",
   "execution_count": 4,
   "metadata": {},
   "outputs": [
    {
     "name": "stdout",
     "output_type": "stream",
     "text": [
      " * Serving Flask app \"__main__\" (lazy loading)\n",
      " * Environment: production\n",
      "   WARNING: Do not use the development server in a production environment.\n",
      "   Use a production WSGI server instead.\n",
      " * Debug mode: off\n"
     ]
    },
    {
     "name": "stderr",
     "output_type": "stream",
     "text": [
      " * Running on http://0.0.0.0:13522/ (Press CTRL+C to quit)\n",
      "127.0.0.1 - - [11/Nov/2018 18:40:23] \"GET / HTTP/1.1\" 200 -\n",
      "127.0.0.1 - - [11/Nov/2018 18:40:24] \"GET /favicon.ico HTTP/1.1\" 404 -\n"
     ]
    }
   ],
   "source": [
    "if __name__ == \"__main__\":\n",
    "    app.run(host='0.0.0.0', port=13522)"
   ]
  },
  {
   "cell_type": "code",
   "execution_count": 88,
   "metadata": {
    "collapsed": true
   },
   "outputs": [],
   "source": [
    "def snippet(doc_id):\n",
    "    return df[df.id==doc_id].text.values"
   ]
  },
  {
   "cell_type": "code",
   "execution_count": 89,
   "metadata": {},
   "outputs": [
    {
     "data": {
      "text/plain": [
       "array(['Должностные обязанности: * Грамотная выкладка товара Чиртон * Контроль ценников, сроков годности * Размещение рекламных материалов * Предоставление фотоотчета по эл.почте, whatsapp Требования: Опыт работы приветствуется Наличие л/а Предпочтительны кандидаты без опыта-всему с нуля обучаем! Водительские права категории: B. Мы предлагаем: * Официальное трудоустройство * гсм входит в заработную плату Полный рабочий день Разъездного характера'],\n",
       "      dtype=object)"
      ]
     },
     "execution_count": 89,
     "metadata": {},
     "output_type": "execute_result"
    }
   ],
   "source": [
    "snippet(394513)"
   ]
  },
  {
   "cell_type": "code",
   "execution_count": 61,
   "metadata": {},
   "outputs": [],
   "source": [
    "def add_inverted_index(document):\n",
    "    tokens = TextBlob(document[\"text_searchable\"]).words\n",
    "    \n",
    "    if document[\"id\"] not in documents_id:\n",
    "        documents_id.append(document[\"id\"])\n",
    "        for token in tokens:\n",
    "            if token in inverted_index.keys():\n",
    "                inverted_index[token].append({\"doc_id\": int(document[\"id\"])})\n",
    "            else:\n",
    "                inverted_index[token] = [{\"doc_id\": int(document[\"id\"])}]\n",
    "          "
   ]
  },
  {
   "cell_type": "code",
   "execution_count": 62,
   "metadata": {
    "collapsed": true
   },
   "outputs": [],
   "source": [
    "def add_forward_index(document):\n",
    "    if document[\"id\"] not in documents_id:\n",
    "        documents_id.append(document[\"id\"])\n",
    "        forward_index.append({\"doc_id\": int(document[\"id\"]), \"text\": document[\"text\"]})"
   ]
  },
  {
   "cell_type": "code",
   "execution_count": 90,
   "metadata": {},
   "outputs": [],
   "source": [
    "def search_one(words):\n",
    "    idx = []\n",
    "    words = words.split(\" \")\n",
    "      \n",
    "    for word in words:\n",
    "        if word in inverted_index.keys():\n",
    "            idx.append(set( [doc[\"doc_id\"] for doc in inverted_index[word]]))     \n",
    "    \n",
    "    indexes = idx[0]\n",
    "    for doc_set in idx:\n",
    "        indexes = indexes.intersection(doc_set)\n",
    "    \n",
    "    return list(indexes)"
   ]
  },
  {
   "cell_type": "code",
   "execution_count": 69,
   "metadata": {
    "collapsed": true
   },
   "outputs": [],
   "source": [
    "inverted_index = {}\n",
    "forward_index = []\n",
    "documents_id = []"
   ]
  },
  {
   "cell_type": "code",
   "execution_count": 76,
   "metadata": {},
   "outputs": [],
   "source": [
    "app = Flask(__name__)\n",
    "\n",
    "@app.route(\"/\")\n",
    "def hello():\n",
    "    return \"Hello World from Scissors!\"\n",
    "\n",
    "\n",
    "@app.route('/about')\n",
    "def about():\n",
    "    return 'The about page'\n",
    "        \n",
    "\n",
    "@app.route('/ranging', methods=[\"POST\"])\n",
    "def ranging():\n",
    "    \"\"\"\n",
    "    Returns:\n",
    "    List with dictionaries according to ranged documents ID as json file\n",
    "    \"\"\"\n",
    "    list_of_dicts = request.json \n",
    "    documents = [Document(**doc) for doc in list_of_dicts]\n",
    "    return json.dumps([doc.to_dict() for doc in documents])\n",
    "    \n",
    "    \n",
    "@app.route('/snippets', methods=[\"POST\"])\n",
    "def get_snippets(search_res):\n",
    "    \"\"\"\n",
    "    Returns:   \n",
    "    \"\"\"     \n",
    "    list_of_dicts = request.json \n",
    "    snippets = []\n",
    "    for val in search_res:\n",
    "        curr_snippet = df[df.id == val[\"doc_id\"]]\n",
    "        snippets.appen(curr_snippet)\n",
    "        \n",
    "        \n",
    "    return json.dumps(search_res)\n",
    "\n",
    "\n",
    "@app.route('/return_page', methods=[\"POST\"])\n",
    "def return_page():\n",
    "    \"\"\"\n",
    "    Returns:\n",
    "    \n",
    "    \"\"\"\n",
    "    list_of_dicts = request.json \n",
    "    documents = [Document(**doc) for doc in list_of_dicts]\n",
    "    result = [doc.to_dict() for doc in documents]\n",
    "    \n",
    "    return \"html\"\n",
    "\n",
    "\n",
    "\n",
    "@app.route('/indexator',  methods=[\"POST\"])\n",
    "def add_to_index():\n",
    "    \"\"\"\n",
    "    Returns:\n",
    "    \n",
    "    \"\"\"\n",
    "    document = request.json  \n",
    "    add_inverted_index(document)\n",
    "    add_forward_index(document)\n",
    "   \n",
    "    return \"added to index\"\n",
    "\n",
    "@app.route(\"/search\", methods=[\"POST\"])\n",
    "def search():\n",
    "    search_word = request.json[\"search_word\"]\n",
    "    \n",
    "    result = search_one(search_word)\n",
    "    return json.dumps(result)"
   ]
  },
  {
   "cell_type": "code",
   "execution_count": 77,
   "metadata": {
    "scrolled": false
   },
   "outputs": [
    {
     "name": "stderr",
     "output_type": "stream",
     "text": [
      " * Running on http://0.0.0.0:13522/ (Press CTRL+C to quit)\n",
      "[2018-11-08 18:49:51,595] ERROR in app: Exception on /search [POST]\n",
      "Traceback (most recent call last):\n",
      "  File \"/usr/local/anaconda/lib/python3.6/site-packages/flask/app.py\", line 1982, in wsgi_app\n",
      "    response = self.full_dispatch_request()\n",
      "  File \"/usr/local/anaconda/lib/python3.6/site-packages/flask/app.py\", line 1614, in full_dispatch_request\n",
      "    rv = self.handle_user_exception(e)\n",
      "  File \"/usr/local/anaconda/lib/python3.6/site-packages/flask/app.py\", line 1517, in handle_user_exception\n",
      "    reraise(exc_type, exc_value, tb)\n",
      "  File \"/usr/local/anaconda/lib/python3.6/site-packages/flask/_compat.py\", line 33, in reraise\n",
      "    raise value\n",
      "  File \"/usr/local/anaconda/lib/python3.6/site-packages/flask/app.py\", line 1612, in full_dispatch_request\n",
      "    rv = self.dispatch_request()\n",
      "  File \"/usr/local/anaconda/lib/python3.6/site-packages/flask/app.py\", line 1598, in dispatch_request\n",
      "    return self.view_functions[rule.endpoint](**req.view_args)\n",
      "  File \"<ipython-input-76-dfba13210e67>\", line 69, in search\n",
      "    result = search_one(search_word)\n",
      "  File \"<ipython-input-64-e836df460fda>\", line 7, in search_one\n",
      "    idx.append(set((inverted_index[word])))\n",
      "TypeError: unhashable type: 'dict'\n",
      "127.0.0.1 - - [08/Nov/2018 18:49:51] \"POST /search HTTP/1.1\" 500 -\n"
     ]
    }
   ],
   "source": [
    "if __name__ == \"__main__\":\n",
    "    app.run(host='0.0.0.0', port=13522)"
   ]
  },
  {
   "cell_type": "code",
   "execution_count": 53,
   "metadata": {
    "collapsed": true
   },
   "outputs": [],
   "source": [
    "def add_inverted_index(document):\n",
    "    tokens = TextBlob(document[\"text_searchable\"]).words\n",
    "    \n",
    "    if document[\"id\"] not in documents_id:\n",
    "        documents_id.append(document[\"id\"])\n",
    "        for token in tokens:\n",
    "            if token in inverted_index.keys():\n",
    "                inverted_index[token].append({\"doc_id\": int(document[\"id\"])})\n",
    "            else:\n",
    "                inverted_index[token] = [{\"doc_id\": int(document[\"id\"])}]"
   ]
  },
  {
   "cell_type": "code",
   "execution_count": 52,
   "metadata": {
    "collapsed": true
   },
   "outputs": [],
   "source": [
    "def add_forward_index(document):\n",
    "    if document[\"id\"] not in documents_id:\n",
    "        documents_id.append(document[\"id\"])\n",
    "        forward_index.append({\"doc_id\": document[\"id\"], \"text\": document[\"text\"]})"
   ]
  },
  {
   "cell_type": "code",
   "execution_count": 74,
   "metadata": {
    "collapsed": true
   },
   "outputs": [
    {
     "ename": "KeyboardInterrupt",
     "evalue": "",
     "output_type": "error",
     "traceback": [
      "\u001b[0;31m---------------------------------------------------------------------------\u001b[0m",
      "\u001b[0;31mKeyboardInterrupt\u001b[0m                         Traceback (most recent call last)",
      "\u001b[0;32m<timed exec>\u001b[0m in \u001b[0;36m<module>\u001b[0;34m()\u001b[0m\n",
      "\u001b[0;32m<ipython-input-61-cd773e48b3aa>\u001b[0m in \u001b[0;36madd_inverted_index\u001b[0;34m(document)\u001b[0m\n\u001b[1;32m      1\u001b[0m \u001b[0;32mdef\u001b[0m \u001b[0madd_inverted_index\u001b[0m\u001b[0;34m(\u001b[0m\u001b[0mdocument\u001b[0m\u001b[0;34m)\u001b[0m\u001b[0;34m:\u001b[0m\u001b[0;34m\u001b[0m\u001b[0m\n\u001b[0;32m----> 2\u001b[0;31m     \u001b[0mtokens\u001b[0m \u001b[0;34m=\u001b[0m \u001b[0mTextBlob\u001b[0m\u001b[0;34m(\u001b[0m\u001b[0mdocument\u001b[0m\u001b[0;34m[\u001b[0m\u001b[0;34m\"text_searchable\"\u001b[0m\u001b[0;34m]\u001b[0m\u001b[0;34m)\u001b[0m\u001b[0;34m.\u001b[0m\u001b[0mwords\u001b[0m\u001b[0;34m\u001b[0m\u001b[0m\n\u001b[0m\u001b[1;32m      3\u001b[0m \u001b[0;34m\u001b[0m\u001b[0m\n\u001b[1;32m      4\u001b[0m     \u001b[0;32mif\u001b[0m \u001b[0mdocument\u001b[0m\u001b[0;34m[\u001b[0m\u001b[0;34m\"id\"\u001b[0m\u001b[0;34m]\u001b[0m \u001b[0;32mnot\u001b[0m \u001b[0;32min\u001b[0m \u001b[0mdocuments_id\u001b[0m\u001b[0;34m:\u001b[0m\u001b[0;34m\u001b[0m\u001b[0m\n\u001b[1;32m      5\u001b[0m         \u001b[0mdocuments_id\u001b[0m\u001b[0;34m.\u001b[0m\u001b[0mappend\u001b[0m\u001b[0;34m(\u001b[0m\u001b[0mdocument\u001b[0m\u001b[0;34m[\u001b[0m\u001b[0;34m\"id\"\u001b[0m\u001b[0;34m]\u001b[0m\u001b[0;34m)\u001b[0m\u001b[0;34m\u001b[0m\u001b[0m\n",
      "\u001b[0;32m/usr/local/anaconda/lib/python3.6/site-packages/textblob/decorators.py\u001b[0m in \u001b[0;36m__get__\u001b[0;34m(self, obj, cls)\u001b[0m\n\u001b[1;32m     22\u001b[0m         \u001b[0;32mif\u001b[0m \u001b[0mobj\u001b[0m \u001b[0;32mis\u001b[0m \u001b[0;32mNone\u001b[0m\u001b[0;34m:\u001b[0m\u001b[0;34m\u001b[0m\u001b[0m\n\u001b[1;32m     23\u001b[0m             \u001b[0;32mreturn\u001b[0m \u001b[0mself\u001b[0m\u001b[0;34m\u001b[0m\u001b[0m\n\u001b[0;32m---> 24\u001b[0;31m         \u001b[0mvalue\u001b[0m \u001b[0;34m=\u001b[0m \u001b[0mobj\u001b[0m\u001b[0;34m.\u001b[0m\u001b[0m__dict__\u001b[0m\u001b[0;34m[\u001b[0m\u001b[0mself\u001b[0m\u001b[0;34m.\u001b[0m\u001b[0mfunc\u001b[0m\u001b[0;34m.\u001b[0m\u001b[0m__name__\u001b[0m\u001b[0;34m]\u001b[0m \u001b[0;34m=\u001b[0m \u001b[0mself\u001b[0m\u001b[0;34m.\u001b[0m\u001b[0mfunc\u001b[0m\u001b[0;34m(\u001b[0m\u001b[0mobj\u001b[0m\u001b[0;34m)\u001b[0m\u001b[0;34m\u001b[0m\u001b[0m\n\u001b[0m\u001b[1;32m     25\u001b[0m         \u001b[0;32mreturn\u001b[0m \u001b[0mvalue\u001b[0m\u001b[0;34m\u001b[0m\u001b[0m\n\u001b[1;32m     26\u001b[0m \u001b[0;34m\u001b[0m\u001b[0m\n",
      "\u001b[0;32m/usr/local/anaconda/lib/python3.6/site-packages/textblob/blob.py\u001b[0m in \u001b[0;36mwords\u001b[0;34m(self)\u001b[0m\n\u001b[1;32m    641\u001b[0m         \u001b[0;34m:\u001b[0m\u001b[0mreturns\u001b[0m\u001b[0;34m:\u001b[0m \u001b[0mA\u001b[0m \u001b[0;34m:\u001b[0m\u001b[0;32mclass\u001b[0m\u001b[0;34m:\u001b[0m\u001b[0;31m`\u001b[0m\u001b[0mWordList\u001b[0m \u001b[0;34m<\u001b[0m\u001b[0mWordList\u001b[0m\u001b[0;34m>\u001b[0m\u001b[0;31m`\u001b[0m \u001b[0mof\u001b[0m \u001b[0mword\u001b[0m \u001b[0mtokens\u001b[0m\u001b[0;34m.\u001b[0m\u001b[0;34m\u001b[0m\u001b[0m\n\u001b[1;32m    642\u001b[0m         \"\"\"\n\u001b[0;32m--> 643\u001b[0;31m         \u001b[0;32mreturn\u001b[0m \u001b[0mWordList\u001b[0m\u001b[0;34m(\u001b[0m\u001b[0mword_tokenize\u001b[0m\u001b[0;34m(\u001b[0m\u001b[0mself\u001b[0m\u001b[0;34m.\u001b[0m\u001b[0mraw\u001b[0m\u001b[0;34m,\u001b[0m \u001b[0minclude_punc\u001b[0m\u001b[0;34m=\u001b[0m\u001b[0;32mFalse\u001b[0m\u001b[0;34m)\u001b[0m\u001b[0;34m)\u001b[0m\u001b[0;34m\u001b[0m\u001b[0m\n\u001b[0m\u001b[1;32m    644\u001b[0m \u001b[0;34m\u001b[0m\u001b[0m\n\u001b[1;32m    645\u001b[0m     \u001b[0;34m@\u001b[0m\u001b[0mproperty\u001b[0m\u001b[0;34m\u001b[0m\u001b[0m\n",
      "\u001b[0;32m/usr/local/anaconda/lib/python3.6/site-packages/textblob/tokenizers.py\u001b[0m in \u001b[0;36mword_tokenize\u001b[0;34m(text, include_punc, *args, **kwargs)\u001b[0m\n\u001b[1;32m     62\u001b[0m \u001b[0;34m\u001b[0m\u001b[0m\n\u001b[1;32m     63\u001b[0m \u001b[0m_word_tokenizer\u001b[0m \u001b[0;34m=\u001b[0m \u001b[0mWordTokenizer\u001b[0m\u001b[0;34m(\u001b[0m\u001b[0;34m)\u001b[0m  \u001b[0;31m# Singleton word tokenizer\u001b[0m\u001b[0;34m\u001b[0m\u001b[0m\n\u001b[0;32m---> 64\u001b[0;31m \u001b[0;32mdef\u001b[0m \u001b[0mword_tokenize\u001b[0m\u001b[0;34m(\u001b[0m\u001b[0mtext\u001b[0m\u001b[0;34m,\u001b[0m \u001b[0minclude_punc\u001b[0m\u001b[0;34m=\u001b[0m\u001b[0;32mTrue\u001b[0m\u001b[0;34m,\u001b[0m \u001b[0;34m*\u001b[0m\u001b[0margs\u001b[0m\u001b[0;34m,\u001b[0m \u001b[0;34m**\u001b[0m\u001b[0mkwargs\u001b[0m\u001b[0;34m)\u001b[0m\u001b[0;34m:\u001b[0m\u001b[0;34m\u001b[0m\u001b[0m\n\u001b[0m\u001b[1;32m     65\u001b[0m     \"\"\"Convenience function for tokenizing text into words.\n\u001b[1;32m     66\u001b[0m \u001b[0;34m\u001b[0m\u001b[0m\n",
      "\u001b[0;31mKeyboardInterrupt\u001b[0m: "
     ]
    }
   ],
   "source": [
    "%%time\n",
    "for i in range(len(df)):\n",
    "    doc = df.loc[i].to_dict()\n",
    "    add_inverted_index(doc)\n",
    "    add_forward_index(doc)"
   ]
  },
  {
   "cell_type": "code",
   "execution_count": 51,
   "metadata": {
    "collapsed": true
   },
   "outputs": [],
   "source": [
    "def search_one(word):\n",
    "    idx = []\n",
    "       \n",
    "    if word in inverted_index.keys():\n",
    "        idx.append(inverted_index[word])\n",
    "    else:\n",
    "        idx.append(\"Not found word \" + word)\n",
    "        \n",
    "    return idx"
   ]
  }
 ],
 "metadata": {
  "kernelspec": {
   "display_name": "Python 3",
   "language": "python",
   "name": "python3"
  },
  "language_info": {
   "codemirror_mode": {
    "name": "ipython",
    "version": 3
   },
   "file_extension": ".py",
   "mimetype": "text/x-python",
   "name": "python",
   "nbconvert_exporter": "python",
   "pygments_lexer": "ipython3",
   "version": "3.6.5"
  }
 },
 "nbformat": 4,
 "nbformat_minor": 2
}
