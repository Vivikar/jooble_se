{
 "cells": [
  {
   "cell_type": "code",
   "execution_count": 63,
   "metadata": {
    "collapsed": true
   },
   "outputs": [],
   "source": [
    "import json\n",
    "\n",
    "\n",
    "from flask import Flask, request, render_template\n",
    "\n",
    "from textblob import TextBlob\n",
    "from nltk.stem.snowball import RussianStemmer"
   ]
  },
  {
   "cell_type": "code",
   "execution_count": 92,
   "metadata": {
    "collapsed": true
   },
   "outputs": [],
   "source": [
    "app = Flask(__name__)\n",
    "\n",
    "@app.route('/', methods=['GET', 'POST'])\n",
    "def index():\n",
    "   \n",
    "    return \"Main page\"\n",
    "\n",
    "@app.route(\"/normalization\", methods=[\"POST\"])\n",
    "def normalization():\n",
    "    \n",
    "    field_for_norm = [\"text\", \"title\"]\n",
    "    for field in field_for_norm:\n",
    "        rus_stemmer = RussianStemmer()\n",
    "        document = request.json\n",
    "        \n",
    "        text = TextBlob(document[field])\n",
    "        text = text.lower()\n",
    "        #text = text.correct()  \n",
    "        text = text.words.singularize()\n",
    "        text = text.lemmatize()\n",
    "        text = [rus_stemmer.stem(word) for word in text]\n",
    "        text = \" \".join(text)\n",
    "        document[field + \"_normalized\"] = text\n",
    "    \n",
    "    return json.dumps(document, ensure_ascii=False)\n",
    "    "
   ]
  },
  {
   "cell_type": "code",
   "execution_count": null,
   "metadata": {},
   "outputs": [],
   "source": [
    "if __name__ == \"__main__\":\n",
    "    app.run(host='0.0.0.0', port=13502)"
   ]
  },
  {
   "cell_type": "code",
   "execution_count": 22,
   "metadata": {},
   "outputs": [],
   "source": []
  }
 ],
 "metadata": {
  "kernelspec": {
   "display_name": "Python 3",
   "language": "python",
   "name": "python3"
  },
  "language_info": {
   "codemirror_mode": {
    "name": "ipython",
    "version": 3
   },
   "file_extension": ".py",
   "mimetype": "text/x-python",
   "name": "python",
   "nbconvert_exporter": "python",
   "pygments_lexer": "ipython3",
   "version": "3.6.3"
  }
 },
 "nbformat": 4,
 "nbformat_minor": 2
}
