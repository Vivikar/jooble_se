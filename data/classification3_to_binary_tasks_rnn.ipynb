{
 "cells": [
  {
   "cell_type": "code",
   "execution_count": 1,
   "metadata": {},
   "outputs": [
    {
     "name": "stderr",
     "output_type": "stream",
     "text": [
      "Using TensorFlow backend.\n",
      "C:\\My_programs\\Miniconda3\\lib\\site-packages\\gensim\\utils.py:1212: UserWarning: detected Windows; aliasing chunkize to chunkize_serial\n",
      "  warnings.warn(\"detected Windows; aliasing chunkize to chunkize_serial\")\n"
     ]
    }
   ],
   "source": [
    "import os\n",
    "import re\n",
    "\n",
    "import pandas as pd\n",
    "import numpy as np\n",
    "from keras.models import Sequential\n",
    "from keras.layers import LSTM, Dense, Embedding, Bidirectional, Dropout\n",
    "from keras.layers import SpatialDropout1D, Conv1D, MaxPooling1D\n",
    "from gensim.models import Word2Vec\n",
    "from keras.utils import np_utils\n",
    "from keras.preprocessing import sequence\n",
    "from sklearn.metrics.pairwise import cosine_similarity\n",
    "from sklearn.model_selection import train_test_split\n",
    "from keras.regularizers import l2\n",
    "import seaborn as sns\n",
    "from gensim.models import KeyedVectors\n",
    "from sklearn.feature_extraction.text import TfidfVectorizer\n",
    "\n",
    "from sklearn.decomposition import PCA\n",
    "from sklearn.pipeline import Pipeline\n",
    "import matplotlib.pyplot as plt\n",
    "from matplotlib import colors\n",
    "\n",
    "from sklearn import metrics\n",
    "\n",
    "import config\n"
   ]
  },
  {
   "cell_type": "code",
   "execution_count": 2,
   "metadata": {},
   "outputs": [],
   "source": [
    "w2v_path = os.path.join(\"word_embedding\", \"ruwikiruscorpora-nobigrams_upos_skipgram_300_5_2018.vec.gz\")\n",
    "hh_data_path = os.path.join(\"headHunter_data\", \"hh_dataset.csv\")"
   ]
  },
  {
   "cell_type": "code",
   "execution_count": 3,
   "metadata": {},
   "outputs": [],
   "source": [
    "dataset_hh = pd.read_csv(hh_data_path, sep=\"\\t\")\n",
    "dataset_hh = dataset_hh.loc[dataset_hh[\"lang_text\"] != \"english\"]\n",
    "#dataset_hh.drop(dataset_hh.index[dataset_hh[\"lang_text\"] == \"english\"], inplace=True)\n",
    "dataset_hh.reset_index(drop=True, inplace=True)"
   ]
  },
  {
   "cell_type": "code",
   "execution_count": 4,
   "metadata": {},
   "outputs": [
    {
     "data": {
      "text/html": [
       "<div>\n",
       "<style scoped>\n",
       "    .dataframe tbody tr th:only-of-type {\n",
       "        vertical-align: middle;\n",
       "    }\n",
       "\n",
       "    .dataframe tbody tr th {\n",
       "        vertical-align: top;\n",
       "    }\n",
       "\n",
       "    .dataframe thead th {\n",
       "        text-align: right;\n",
       "    }\n",
       "</style>\n",
       "<table border=\"1\" class=\"dataframe\">\n",
       "  <thead>\n",
       "    <tr style=\"text-align: right;\">\n",
       "      <th></th>\n",
       "      <th>id</th>\n",
       "      <th>lang_title</th>\n",
       "      <th>requirement</th>\n",
       "      <th>requirement_lemmas</th>\n",
       "      <th>requirement_lemmas_tags</th>\n",
       "      <th>requirement_norm</th>\n",
       "      <th>requirement_tokens</th>\n",
       "      <th>responsibility</th>\n",
       "      <th>responsibility_lemmas</th>\n",
       "      <th>responsibility_lemmas_tags</th>\n",
       "      <th>...</th>\n",
       "      <th>title_tokens</th>\n",
       "      <th>url</th>\n",
       "      <th>lang_text</th>\n",
       "      <th>profarea_names</th>\n",
       "      <th>specializations</th>\n",
       "      <th>text</th>\n",
       "      <th>text_lemmas</th>\n",
       "      <th>text_lemmas_tags</th>\n",
       "      <th>text_normalized</th>\n",
       "      <th>text_tokens</th>\n",
       "    </tr>\n",
       "  </thead>\n",
       "  <tbody>\n",
       "    <tr>\n",
       "      <th>0</th>\n",
       "      <td>29103667</td>\n",
       "      <td>russian</td>\n",
       "      <td>Высшее (желательно техническое) образование. П...</td>\n",
       "      <td>высший желательный технический образование lot...</td>\n",
       "      <td>высший_ADJ желательный_ADJ технический_ADJ обр...</td>\n",
       "      <td>высш желательн техническ образован lotus хорош...</td>\n",
       "      <td>высшее желательно техническое образование lotu...</td>\n",
       "      <td>Ежедневное планирование работы завода (молочно...</td>\n",
       "      <td>ежедневный планирование работа завод молочный ...</td>\n",
       "      <td>ежедневный_ADJ планирование_NOUN работа_NOUN з...</td>\n",
       "      <td>...</td>\n",
       "      <td>специаидать_NOUN планирование_NOUN производств...</td>\n",
       "      <td>https://api.hh.ru/vacancies/29103667?host=hh.ua</td>\n",
       "      <td>russian</td>\n",
       "      <td>['Производство', 'Закупки']</td>\n",
       "      <td>['Пищевая промышленность', 'Управление закупка...</td>\n",
       "      <td>&lt;p&gt;&lt;strong&gt;Международная компания – крупнейший...</td>\n",
       "      <td>международный компания крупнейший производител...</td>\n",
       "      <td>международный_ADJ компания_NOUN крупнейший_ADJ...</td>\n",
       "      <td>международн компан крупн производител свеж мол...</td>\n",
       "      <td>международный_ADJ компания_NOUN крупнейший_ADJ...</td>\n",
       "    </tr>\n",
       "    <tr>\n",
       "      <th>1</th>\n",
       "      <td>29103666</td>\n",
       "      <td>russian</td>\n",
       "      <td>Умение работать в коллективе. Образование не н...</td>\n",
       "      <td>умение работать коллектив образование ниже тех...</td>\n",
       "      <td>умение_NOUN работать_VERB коллектив_NOUN образ...</td>\n",
       "      <td>умен работа коллектив образован ниж техническ ...</td>\n",
       "      <td>умение работать коллективе образование ниже те...</td>\n",
       "      <td>Техническая подготовка выполнения сварочных ра...</td>\n",
       "      <td>технический подготовка выполнение сварочный ра...</td>\n",
       "      <td>технический_ADJ подготовка_NOUN выполнение_NOU...</td>\n",
       "      <td>...</td>\n",
       "      <td>главный_ADJ сварщик_NOUN</td>\n",
       "      <td>https://api.hh.ru/vacancies/29103666?host=hh.ua</td>\n",
       "      <td>russian</td>\n",
       "      <td>['Рабочий персонал']</td>\n",
       "      <td>['Сварщик']</td>\n",
       "      <td>&lt;strong&gt;Обязанности:&lt;/strong&gt; &lt;ul&gt; &lt;li&gt;&lt;em&gt;Тех...</td>\n",
       "      <td>обязанность технический подготовка выполнение ...</td>\n",
       "      <td>обязанность_NOUN технический_ADJ подготовка_NO...</td>\n",
       "      <td>обязан техническ подготовк выполнен сварочн ра...</td>\n",
       "      <td>обязанность_NOUN технический_ADJ подготовка_NO...</td>\n",
       "    </tr>\n",
       "    <tr>\n",
       "      <th>2</th>\n",
       "      <td>29103664</td>\n",
       "      <td>russian</td>\n",
       "      <td>Профильное высшее образование (Художественное/...</td>\n",
       "      <td>профильный высший образование креативность нес...</td>\n",
       "      <td>профильный_ADJ высший_ADJ образование_NOUN кре...</td>\n",
       "      <td>профильн высш образован креативн нестандартн м...</td>\n",
       "      <td>профильное высшее образование креативность нес...</td>\n",
       "      <td>Дизайн и верстка еженедельного акционного букл...</td>\n",
       "      <td>дизайн верстка еженедельный акциоть буклет раз...</td>\n",
       "      <td>дизайн_NOUN верстка_NOUN еженедельный_ADJ акци...</td>\n",
       "      <td>...</td>\n",
       "      <td>дизайнер_NOUN</td>\n",
       "      <td>https://api.hh.ru/vacancies/29103664?host=hh.ua</td>\n",
       "      <td>russian</td>\n",
       "      <td>['Искусство, развлечения, масс-медиа', 'Маркет...</td>\n",
       "      <td>['Дизайн, графика, живопись', 'Дизайнер']</td>\n",
       "      <td>&lt;p&gt;&lt;strong&gt;Сеть гипермаркетов ProStore приглаш...</td>\n",
       "      <td>сеть гипермаркет prostore приглашать постоянны...</td>\n",
       "      <td>сеть_NOUN гипермаркет_NOUN prostore_X приглаша...</td>\n",
       "      <td>сет гипермаркет prostor приглаша постоя работ ...</td>\n",
       "      <td>сеть_NOUN гипермаркет_NOUN prostore_X приглаша...</td>\n",
       "    </tr>\n",
       "    <tr>\n",
       "      <th>3</th>\n",
       "      <td>29103661</td>\n",
       "      <td>russian</td>\n",
       "      <td>1. Высшее образование ( в приоритете: менеджме...</td>\n",
       "      <td>высший образование приоритет менеджмент маркет...</td>\n",
       "      <td>высший_ADJ образование_NOUN приоритет_VERB мен...</td>\n",
       "      <td>высш образован приоритет менеджмент маркетинг ...</td>\n",
       "      <td>высшее образование приоритете менеджмент марке...</td>\n",
       "      <td>Наша студия помогает компаниям повышать продаж...</td>\n",
       "      <td>наш студия помогать компания повышать продажа ...</td>\n",
       "      <td>наш_DET студия_NOUN помогать_VERB компания_NOU...</td>\n",
       "      <td>...</td>\n",
       "      <td>руководитель_NOUN отдел_NOUN продажа_NOUN</td>\n",
       "      <td>https://api.hh.ru/vacancies/29103661?host=hh.ua</td>\n",
       "      <td>russian</td>\n",
       "      <td>['Продажи', 'Продажи', 'Высший менеджмент']</td>\n",
       "      <td>['Услуги для бизнеса', 'Управление продажами',...</td>\n",
       "      <td>&lt;p&gt;Наша студия помогает компаниям повышать про...</td>\n",
       "      <td>наш студия помогать компания повышать продажа ...</td>\n",
       "      <td>наш_DET студия_NOUN помогать_VERB компания_NOU...</td>\n",
       "      <td>наш студ помога компан повыша продаж помощ про...</td>\n",
       "      <td>наш_DET студия_NOUN помогать_VERB компания_NOU...</td>\n",
       "    </tr>\n",
       "    <tr>\n",
       "      <th>4</th>\n",
       "      <td>29103660</td>\n",
       "      <td>russian</td>\n",
       "      <td>Требования: Опыт работы по специальности обяза...</td>\n",
       "      <td>требование опыт работа специальность обязатель...</td>\n",
       "      <td>требование_NOUN опыт_NOUN работа_NOUN специаль...</td>\n",
       "      <td>требован оп работ специальн обязател желательн...</td>\n",
       "      <td>требования опыт работы специальности обязателе...</td>\n",
       "      <td>Обязанности: Заточка и доводка режущего инстру...</td>\n",
       "      <td>обязанность заточка доводка резать инструмент ...</td>\n",
       "      <td>обязанность_NOUN заточка_NOUN доводка_NOUN рез...</td>\n",
       "      <td>...</td>\n",
       "      <td>заточник_NOUN</td>\n",
       "      <td>https://api.hh.ru/vacancies/29103660?host=hh.ua</td>\n",
       "      <td>russian</td>\n",
       "      <td>['Рабочий персонал', 'Рабочий персонал', 'Рабо...</td>\n",
       "      <td>['Другое', 'Шлифовщик', 'Токарь, Фрезеровщик',...</td>\n",
       "      <td>&lt;p&gt;Обязанности: Заточка и доводка режущего инс...</td>\n",
       "      <td>обязанность заточка доводка резать инструмент ...</td>\n",
       "      <td>обязанность_NOUN заточка_NOUN доводка_NOUN рез...</td>\n",
       "      <td>обязан заточк доводк режущ инструмент дерев ме...</td>\n",
       "      <td>обязанность_NOUN заточка_NOUN доводка_NOUN рез...</td>\n",
       "    </tr>\n",
       "  </tbody>\n",
       "</table>\n",
       "<p>5 rows × 26 columns</p>\n",
       "</div>"
      ],
      "text/plain": [
       "         id lang_title                                        requirement  \\\n",
       "0  29103667    russian  Высшее (желательно техническое) образование. П...   \n",
       "1  29103666    russian  Умение работать в коллективе. Образование не н...   \n",
       "2  29103664    russian  Профильное высшее образование (Художественное/...   \n",
       "3  29103661    russian  1. Высшее образование ( в приоритете: менеджме...   \n",
       "4  29103660    russian  Требования: Опыт работы по специальности обяза...   \n",
       "\n",
       "                                  requirement_lemmas  \\\n",
       "0  высший желательный технический образование lot...   \n",
       "1  умение работать коллектив образование ниже тех...   \n",
       "2  профильный высший образование креативность нес...   \n",
       "3  высший образование приоритет менеджмент маркет...   \n",
       "4  требование опыт работа специальность обязатель...   \n",
       "\n",
       "                             requirement_lemmas_tags  \\\n",
       "0  высший_ADJ желательный_ADJ технический_ADJ обр...   \n",
       "1  умение_NOUN работать_VERB коллектив_NOUN образ...   \n",
       "2  профильный_ADJ высший_ADJ образование_NOUN кре...   \n",
       "3  высший_ADJ образование_NOUN приоритет_VERB мен...   \n",
       "4  требование_NOUN опыт_NOUN работа_NOUN специаль...   \n",
       "\n",
       "                                    requirement_norm  \\\n",
       "0  высш желательн техническ образован lotus хорош...   \n",
       "1  умен работа коллектив образован ниж техническ ...   \n",
       "2  профильн высш образован креативн нестандартн м...   \n",
       "3  высш образован приоритет менеджмент маркетинг ...   \n",
       "4  требован оп работ специальн обязател желательн...   \n",
       "\n",
       "                                  requirement_tokens  \\\n",
       "0  высшее желательно техническое образование lotu...   \n",
       "1  умение работать коллективе образование ниже те...   \n",
       "2  профильное высшее образование креативность нес...   \n",
       "3  высшее образование приоритете менеджмент марке...   \n",
       "4  требования опыт работы специальности обязателе...   \n",
       "\n",
       "                                      responsibility  \\\n",
       "0  Ежедневное планирование работы завода (молочно...   \n",
       "1  Техническая подготовка выполнения сварочных ра...   \n",
       "2  Дизайн и верстка еженедельного акционного букл...   \n",
       "3  Наша студия помогает компаниям повышать продаж...   \n",
       "4  Обязанности: Заточка и доводка режущего инстру...   \n",
       "\n",
       "                               responsibility_lemmas  \\\n",
       "0  ежедневный планирование работа завод молочный ...   \n",
       "1  технический подготовка выполнение сварочный ра...   \n",
       "2  дизайн верстка еженедельный акциоть буклет раз...   \n",
       "3  наш студия помогать компания повышать продажа ...   \n",
       "4  обязанность заточка доводка резать инструмент ...   \n",
       "\n",
       "                          responsibility_lemmas_tags  \\\n",
       "0  ежедневный_ADJ планирование_NOUN работа_NOUN з...   \n",
       "1  технический_ADJ подготовка_NOUN выполнение_NOU...   \n",
       "2  дизайн_NOUN верстка_NOUN еженедельный_ADJ акци...   \n",
       "3  наш_DET студия_NOUN помогать_VERB компания_NOU...   \n",
       "4  обязанность_NOUN заточка_NOUN доводка_NOUN рез...   \n",
       "\n",
       "                         ...                          \\\n",
       "0                        ...                           \n",
       "1                        ...                           \n",
       "2                        ...                           \n",
       "3                        ...                           \n",
       "4                        ...                           \n",
       "\n",
       "                                        title_tokens  \\\n",
       "0  специаидать_NOUN планирование_NOUN производств...   \n",
       "1                           главный_ADJ сварщик_NOUN   \n",
       "2                                      дизайнер_NOUN   \n",
       "3          руководитель_NOUN отдел_NOUN продажа_NOUN   \n",
       "4                                      заточник_NOUN   \n",
       "\n",
       "                                               url lang_text  \\\n",
       "0  https://api.hh.ru/vacancies/29103667?host=hh.ua   russian   \n",
       "1  https://api.hh.ru/vacancies/29103666?host=hh.ua   russian   \n",
       "2  https://api.hh.ru/vacancies/29103664?host=hh.ua   russian   \n",
       "3  https://api.hh.ru/vacancies/29103661?host=hh.ua   russian   \n",
       "4  https://api.hh.ru/vacancies/29103660?host=hh.ua   russian   \n",
       "\n",
       "                                      profarea_names  \\\n",
       "0                        ['Производство', 'Закупки']   \n",
       "1                               ['Рабочий персонал']   \n",
       "2  ['Искусство, развлечения, масс-медиа', 'Маркет...   \n",
       "3        ['Продажи', 'Продажи', 'Высший менеджмент']   \n",
       "4  ['Рабочий персонал', 'Рабочий персонал', 'Рабо...   \n",
       "\n",
       "                                     specializations  \\\n",
       "0  ['Пищевая промышленность', 'Управление закупка...   \n",
       "1                                        ['Сварщик']   \n",
       "2          ['Дизайн, графика, живопись', 'Дизайнер']   \n",
       "3  ['Услуги для бизнеса', 'Управление продажами',...   \n",
       "4  ['Другое', 'Шлифовщик', 'Токарь, Фрезеровщик',...   \n",
       "\n",
       "                                                text  \\\n",
       "0  <p><strong>Международная компания – крупнейший...   \n",
       "1  <strong>Обязанности:</strong> <ul> <li><em>Тех...   \n",
       "2  <p><strong>Сеть гипермаркетов ProStore приглаш...   \n",
       "3  <p>Наша студия помогает компаниям повышать про...   \n",
       "4  <p>Обязанности: Заточка и доводка режущего инс...   \n",
       "\n",
       "                                         text_lemmas  \\\n",
       "0  международный компания крупнейший производител...   \n",
       "1  обязанность технический подготовка выполнение ...   \n",
       "2  сеть гипермаркет prostore приглашать постоянны...   \n",
       "3  наш студия помогать компания повышать продажа ...   \n",
       "4  обязанность заточка доводка резать инструмент ...   \n",
       "\n",
       "                                    text_lemmas_tags  \\\n",
       "0  международный_ADJ компания_NOUN крупнейший_ADJ...   \n",
       "1  обязанность_NOUN технический_ADJ подготовка_NO...   \n",
       "2  сеть_NOUN гипермаркет_NOUN prostore_X приглаша...   \n",
       "3  наш_DET студия_NOUN помогать_VERB компания_NOU...   \n",
       "4  обязанность_NOUN заточка_NOUN доводка_NOUN рез...   \n",
       "\n",
       "                                     text_normalized  \\\n",
       "0  международн компан крупн производител свеж мол...   \n",
       "1  обязан техническ подготовк выполнен сварочн ра...   \n",
       "2  сет гипермаркет prostor приглаша постоя работ ...   \n",
       "3  наш студ помога компан повыша продаж помощ про...   \n",
       "4  обязан заточк доводк режущ инструмент дерев ме...   \n",
       "\n",
       "                                         text_tokens  \n",
       "0  международный_ADJ компания_NOUN крупнейший_ADJ...  \n",
       "1  обязанность_NOUN технический_ADJ подготовка_NO...  \n",
       "2  сеть_NOUN гипермаркет_NOUN prostore_X приглаша...  \n",
       "3  наш_DET студия_NOUN помогать_VERB компания_NOU...  \n",
       "4  обязанность_NOUN заточка_NOUN доводка_NOUN рез...  \n",
       "\n",
       "[5 rows x 26 columns]"
      ]
     },
     "execution_count": 4,
     "metadata": {},
     "output_type": "execute_result"
    }
   ],
   "source": [
    "dataset_hh.head()"
   ]
  },
  {
   "cell_type": "code",
   "execution_count": 5,
   "metadata": {},
   "outputs": [
    {
     "name": "stdout",
     "output_type": "stream",
     "text": [
      "<class 'pandas.core.frame.DataFrame'>\n",
      "RangeIndex: 3588 entries, 0 to 3587\n",
      "Data columns (total 26 columns):\n",
      "id                            3588 non-null int64\n",
      "lang_title                    3588 non-null object\n",
      "requirement                   3472 non-null object\n",
      "requirement_lemmas            3472 non-null object\n",
      "requirement_lemmas_tags       3472 non-null object\n",
      "requirement_norm              3472 non-null object\n",
      "requirement_tokens            3472 non-null object\n",
      "responsibility                3409 non-null object\n",
      "responsibility_lemmas         3409 non-null object\n",
      "responsibility_lemmas_tags    3409 non-null object\n",
      "responsibility_norm           3409 non-null object\n",
      "responsibility_tokens         3409 non-null object\n",
      "title                         3588 non-null object\n",
      "title_lemmas                  3270 non-null object\n",
      "title_lemmas_tags             3270 non-null object\n",
      "title_normalized              3270 non-null object\n",
      "title_tokens                  3270 non-null object\n",
      "url                           3588 non-null object\n",
      "lang_text                     3588 non-null object\n",
      "profarea_names                3588 non-null object\n",
      "specializations               3588 non-null object\n",
      "text                          3588 non-null object\n",
      "text_lemmas                   3588 non-null object\n",
      "text_lemmas_tags              3588 non-null object\n",
      "text_normalized               3588 non-null object\n",
      "text_tokens                   3588 non-null object\n",
      "dtypes: int64(1), object(25)\n",
      "memory usage: 728.9+ KB\n"
     ]
    }
   ],
   "source": [
    "dataset_hh.info()"
   ]
  },
  {
   "cell_type": "markdown",
   "metadata": {},
   "source": [
    "### Prapare data to rnn"
   ]
  },
  {
   "cell_type": "code",
   "execution_count": 6,
   "metadata": {},
   "outputs": [],
   "source": [
    "vectorizer = KeyedVectors.load_word2vec_format(w2v_path, binary=False)\n"
   ]
  },
  {
   "cell_type": "code",
   "execution_count": 7,
   "metadata": {},
   "outputs": [],
   "source": [
    "labels = []\n",
    "for i, row in dataset_hh.iterrows():\n",
    "    specs = row[\"profarea_names\"].lower()\n",
    "    specs = specs.split(\"', \") \n",
    "    for spec in specs: \n",
    "        spec = re.sub('[\\[\\'\\]]', '', spec)\n",
    "        labels.append(spec.strip())\n",
    "\n",
    "labels = list(set(labels))"
   ]
  },
  {
   "cell_type": "code",
   "execution_count": 8,
   "metadata": {},
   "outputs": [
    {
     "name": "stdout",
     "output_type": "stream",
     "text": [
      "Labels number: 28\n",
      "Labels: ['искусство, развлечения, масс-медиа', 'инсталляция и сервис', 'юристы', 'туризм, гостиницы, рестораны', 'маркетинг, реклама, pr', 'домашний персонал', 'бухгалтерия, управленческий учет, финансы предприятия', 'спортивные клубы, фитнес, салоны красоты', 'административный персонал', 'управление персоналом, тренинги', 'безопасность', 'наука, образование', 'банки, инвестиции, лизинг', 'консультирование', 'информационные технологии, интернет, телеком', 'страхование', 'рабочий персонал', 'закупки', 'начало карьеры, студенты', 'высший менеджмент', 'добыча сырья', 'государственная служба, некоммерческие организации', 'автомобильный бизнес', 'производство', 'продажи', 'медицина, фармацевтика', 'строительство, недвижимость', 'транспорт, логистика']\n"
     ]
    }
   ],
   "source": [
    "print(\"Labels number:\", len(labels))\n",
    "print(\"Labels:\", labels)"
   ]
  },
  {
   "cell_type": "code",
   "execution_count": 9,
   "metadata": {},
   "outputs": [],
   "source": [
    "def vectorize_text(text, vectorizer, max_len):\n",
    "    \"\"\"\n",
    "    :param str text: normalized text\n",
    "    :param Word2Vec vectorizer:\n",
    "    :param int max_len:\n",
    "    :return np.array text_vect: of shape like (1, max_len, 100)\n",
    "    \"\"\"\n",
    "    text_vect = []\n",
    "    words = text.split(\" \")\n",
    "    for word in words:\n",
    "        try:\n",
    "            word_vect = vectorizer.word_vec(word)\n",
    "            text_vect.append(word_vect)\n",
    "        except KeyError:\n",
    "            None\n",
    "      \n",
    "    np.array(text_vect)\n",
    "    text_vect = np.reshape(text_vect, (1, -1, 100))\n",
    "    text_vect = sequence.pad_sequences(text_vect, maxlen=max_len, dtype='float')\n",
    "            \n",
    "    return text_vect\n",
    "    "
   ]
  },
  {
   "cell_type": "code",
   "execution_count": 10,
   "metadata": {},
   "outputs": [],
   "source": [
    "\n",
    "n_classes = len(labels)\n",
    "n_examples = len(dataset_hh)\n",
    "X = []\n",
    "Y = np.zeros((n_examples, n_classes))\n",
    "for i, row in dataset_hh.iterrows():\n",
    "    X.append([])\n",
    "    words = row[\"text_lemmas_tags\"].split(\" \")\n",
    "    for word in words:\n",
    "        try:\n",
    "            word_vec = vectorizer.word_vec(word)\n",
    "            X[i].append(word_vec)\n",
    "        except KeyError:\n",
    "            None\n",
    "    \n",
    "    specs = row[\"profarea_names\"].lower() \n",
    "    specs = specs.split(\"', \") \n",
    "    for spec in specs: \n",
    "        spec = re.sub('[\\[\\'\\]]', '', spec)\n",
    "        pos = labels.index(spec.strip())\n",
    "        Y[i][pos] = 1\n",
    "        \n",
    "assert(len(X) == len(Y))\n"
   ]
  },
  {
   "cell_type": "code",
   "execution_count": 11,
   "metadata": {},
   "outputs": [
    {
     "name": "stdout",
     "output_type": "stream",
     "text": [
      "Max len = 689\n"
     ]
    }
   ],
   "source": [
    "max_len = max([len(i) for i in X])\n",
    "print(\"Max len =\", max_len)"
   ]
  },
  {
   "cell_type": "code",
   "execution_count": 12,
   "metadata": {},
   "outputs": [
    {
     "name": "stdout",
     "output_type": "stream",
     "text": [
      "Max len edited= 300\n"
     ]
    }
   ],
   "source": [
    "max_len = 300\n",
    "print(\"Max len edited=\", max_len)"
   ]
  },
  {
   "cell_type": "code",
   "execution_count": 13,
   "metadata": {},
   "outputs": [],
   "source": [
    "X = sequence.pad_sequences(X, maxlen=max_len, dtype='float')\n",
    "X = np.array(X)\n"
   ]
  },
  {
   "cell_type": "code",
   "execution_count": 14,
   "metadata": {},
   "outputs": [
    {
     "name": "stdout",
     "output_type": "stream",
     "text": [
      "(3588, 300, 300)\n",
      "(3588, 28)\n"
     ]
    }
   ],
   "source": [
    "print(X.shape)\n",
    "print(Y.shape)"
   ]
  },
  {
   "cell_type": "code",
   "execution_count": 15,
   "metadata": {},
   "outputs": [],
   "source": [
    "def get_classes(y_one_hot, labels, threshold=0.5):\n",
    "    \"\"\"\n",
    "    :param np.array y_one_hot: shape like (1, n_classes)\n",
    "    :param list of str labels:\n",
    "    :return list of str classes: \n",
    "    \"\"\"\n",
    "    classes = []\n",
    "    y_rounded = np.zeros(y_one_hot.shape)\n",
    "    y_rounded[y_one_hot > threshold] = 1\n",
    "    for i in range(len(labels)):\n",
    "        if y_rounded[0][i] == 1:\n",
    "            classes.append(labels[i])\n",
    "            \n",
    "    return classes\n",
    "        "
   ]
  },
  {
   "cell_type": "code",
   "execution_count": 16,
   "metadata": {
    "scrolled": true
   },
   "outputs": [
    {
     "name": "stdout",
     "output_type": "stream",
     "text": [
      " Species искусство, развлечения, масс-медиа appears 93.0 times\n",
      " Species инсталляция и сервис appears 25.0 times\n",
      " Species юристы appears 56.0 times\n",
      " Species туризм, гостиницы, рестораны appears 289.0 times\n",
      " Species маркетинг, реклама, pr appears 299.0 times\n",
      " Species домашний персонал appears 35.0 times\n",
      " Species бухгалтерия, управленческий учет, финансы предприятия appears 192.0 times\n",
      " Species спортивные клубы, фитнес, салоны красоты appears 78.0 times\n",
      " Species административный персонал appears 547.0 times\n",
      " Species управление персоналом, тренинги appears 95.0 times\n",
      " Species безопасность appears 28.0 times\n",
      " Species наука, образование appears 59.0 times\n",
      " Species банки, инвестиции, лизинг appears 288.0 times\n",
      " Species консультирование appears 226.0 times\n",
      " Species информационные технологии, интернет, телеком appears 483.0 times\n",
      " Species страхование appears 37.0 times\n",
      " Species рабочий персонал appears 154.0 times\n",
      " Species закупки appears 46.0 times\n",
      " Species начало карьеры, студенты appears 926.0 times\n",
      " Species высший менеджмент appears 53.0 times\n",
      " Species добыча сырья appears 6.0 times\n",
      " Species государственная служба, некоммерческие организации appears 5.0 times\n",
      " Species автомобильный бизнес appears 127.0 times\n",
      " Species производство appears 207.0 times\n",
      " Species продажи appears 1411.0 times\n",
      " Species медицина, фармацевтика appears 133.0 times\n",
      " Species строительство, недвижимость appears 272.0 times\n",
      " Species транспорт, логистика appears 283.0 times\n",
      "###\n",
      "As a mean 1.798494983277592 species appear on each recording (standard deviation 0.9362797704229546)\n"
     ]
    }
   ],
   "source": [
    "counts = []\n",
    "for i in range(len(labels)):\n",
    "    print(' Species {} appears {} times'.format(labels[i], np.sum(Y[:,i])))\n",
    "    counts.append(np.sum(Y[:,i]))\n",
    "print('###')\n",
    "\n",
    "all_sum_y = np.sum(Y, axis=1)\n",
    "print('As a mean {} species appear on each recording (standard deviation {})'.format(np.mean(all_sum_y), np.std(all_sum_y)))"
   ]
  },
  {
   "cell_type": "code",
   "execution_count": 17,
   "metadata": {},
   "outputs": [
    {
     "data": {
      "text/plain": [
       "[93.0,\n",
       " 25.0,\n",
       " 56.0,\n",
       " 289.0,\n",
       " 299.0,\n",
       " 35.0,\n",
       " 192.0,\n",
       " 78.0,\n",
       " 547.0,\n",
       " 95.0,\n",
       " 28.0,\n",
       " 59.0,\n",
       " 288.0,\n",
       " 226.0,\n",
       " 483.0,\n",
       " 37.0,\n",
       " 154.0,\n",
       " 46.0,\n",
       " 926.0,\n",
       " 53.0,\n",
       " 6.0,\n",
       " 5.0,\n",
       " 127.0,\n",
       " 207.0,\n",
       " 1411.0,\n",
       " 133.0,\n",
       " 272.0,\n",
       " 283.0]"
      ]
     },
     "execution_count": 17,
     "metadata": {},
     "output_type": "execute_result"
    }
   ],
   "source": [
    "counts"
   ]
  },
  {
   "cell_type": "code",
   "execution_count": 18,
   "metadata": {},
   "outputs": [
    {
     "data": {
      "text/plain": [
       "37.0"
      ]
     },
     "execution_count": 18,
     "metadata": {},
     "output_type": "execute_result"
    }
   ],
   "source": [
    "counts[15]"
   ]
  },
  {
   "cell_type": "code",
   "execution_count": 19,
   "metadata": {},
   "outputs": [
    {
     "data": {
      "text/plain": [
       "<matplotlib.axes._subplots.AxesSubplot at 0x2a72e0ed6a0>"
      ]
     },
     "execution_count": 19,
     "metadata": {},
     "output_type": "execute_result"
    },
    {
     "data": {
      "image/png": "[encoded data removed]",
      "text/plain": [
       "<Figure size 432x288 with 1 Axes>"
      ]
     },
     "metadata": {},
     "output_type": "display_data"
    }
   ],
   "source": [
    "sns.countplot(Y[:, 15])"
   ]
  },
  {
   "cell_type": "code",
   "execution_count": 20,
   "metadata": {},
   "outputs": [
    {
     "data": {
      "text/plain": [
       "[<matplotlib.lines.Line2D at 0x2a72e539470>]"
      ]
     },
     "execution_count": 20,
     "metadata": {},
     "output_type": "execute_result"
    },
    {
     "data": {
      "image/png": "[encoded data removed]",
      "text/plain": [
       "<Figure size 432x288 with 1 Axes>"
      ]
     },
     "metadata": {},
     "output_type": "display_data"
    }
   ],
   "source": [
    "plt.plot(counts)"
   ]
  },
  {
   "cell_type": "code",
   "execution_count": 21,
   "metadata": {},
   "outputs": [],
   "source": [
    "indexes = []\n",
    "labels_new = []\n",
    "counts_new = []\n",
    "\n",
    "for i in range(len(labels)):\n",
    "    if counts[i] > 50:\n",
    "        labels_new.append(labels[i])\n",
    "        counts_new.append(counts[i])\n",
    "        indexes.append(i)\n",
    "        \n",
    "Y = Y[:, indexes]"
   ]
  },
  {
   "cell_type": "code",
   "execution_count": 22,
   "metadata": {},
   "outputs": [
    {
     "name": "stdout",
     "output_type": "stream",
     "text": [
      "21\n",
      "['искусство, развлечения, масс-медиа', 'юристы', 'туризм, гостиницы, рестораны', 'маркетинг, реклама, pr', 'бухгалтерия, управленческий учет, финансы предприятия', 'спортивные клубы, фитнес, салоны красоты', 'административный персонал', 'управление персоналом, тренинги', 'наука, образование', 'банки, инвестиции, лизинг', 'консультирование', 'информационные технологии, интернет, телеком', 'рабочий персонал', 'начало карьеры, студенты', 'высший менеджмент', 'автомобильный бизнес', 'производство', 'продажи', 'медицина, фармацевтика', 'строительство, недвижимость', 'транспорт, логистика']\n",
      "\n",
      "[93.0, 56.0, 289.0, 299.0, 192.0, 78.0, 547.0, 95.0, 59.0, 288.0, 226.0, 483.0, 154.0, 926.0, 53.0, 127.0, 207.0, 1411.0, 133.0, 272.0, 283.0]\n"
     ]
    }
   ],
   "source": [
    "print(len(labels_new))\n",
    "print(labels_new)\n",
    "print()\n",
    "print(counts_new)"
   ]
  },
  {
   "cell_type": "code",
   "execution_count": 46,
   "metadata": {},
   "outputs": [
    {
     "name": "stdout",
     "output_type": "stream",
     "text": [
      "[[18.141025641025642, 7.075, 5.1454545454545455, 9.188311688311689, 2.7263969171483624, 4.879310344827586, 11.141732283464567, 4.477848101265823, 1.5149892933618843, 6.072961373390558, 5.0, 4.66996699669967, 14.894736842105264, 24.396551724137932, 1.0, 6.706161137440758, 10.559701492537313, 24.82456140350877, 2.5634057971014492, 22.822580645161292, 14.894736842105264]]\n",
      "1\n"
     ]
    }
   ],
   "source": [
    "classes_weights = []\n",
    "max_count = max(counts_new)\n",
    "for i in range(len(counts_new)):\n",
    "    weight = max_count / counts_new[i] \n",
    "    classes_weights.append(weight)\n",
    "\n",
    "classes_weights = [classes_weights]  \n",
    "print(classes_weights) \n",
    "print(len(classes_weights))"
   ]
  },
  {
   "cell_type": "markdown",
   "metadata": {},
   "source": [
    "### Training"
   ]
  },
  {
   "cell_type": "code",
   "execution_count": 23,
   "metadata": {},
   "outputs": [
    {
     "name": "stdout",
     "output_type": "stream",
     "text": [
      "(2511, 300, 300)\n",
      "(1077, 300, 300)\n",
      "(2511, 21)\n",
      "(1077, 21)\n"
     ]
    }
   ],
   "source": [
    "X_train, X_test, Y_train, Y_test = train_test_split(X, Y, test_size=0.3, random_state=100)\n",
    "print(X_train.shape)\n",
    "print(X_test.shape)\n",
    "print(Y_train.shape)\n",
    "print(Y_test.shape)"
   ]
  },
  {
   "cell_type": "code",
   "execution_count": 24,
   "metadata": {},
   "outputs": [],
   "source": [
    "del X\n",
    "del Y"
   ]
  },
  {
   "cell_type": "code",
   "execution_count": null,
   "metadata": {},
   "outputs": [],
   "source": [
    "for_class = 4\n",
    "num_pos = np.sum(Y_train[:, for_class])\n",
    "num_neg = len(Y_train[:, for_class]) - num_pos\n",
    "sample_weight = np.ones(Y_train[:, for_class].shape)\n",
    "sample_weight[Y_train[:, i] == 1] = num_neg / num_pos * 100\n",
    "\n",
    "print(\"Weight =\",num_neg / num_pos)"
   ]
  },
  {
   "cell_type": "code",
   "execution_count": null,
   "metadata": {},
   "outputs": [],
   "source": [
    "len(labels_new)"
   ]
  },
  {
   "cell_type": "code",
   "execution_count": null,
   "metadata": {
    "scrolled": true
   },
   "outputs": [],
   "source": [
    "model = Sequential()\n",
    "\n",
    "model.add(Conv1D(filters=32, kernel_size=3, padding= 'same',\n",
    "                 activation=\"relu\", input_shape=(max_len, 300)))\n",
    "model.add(MaxPooling1D(pool_size=2))\n",
    "\n",
    "#model.add(LSTM(100))\n",
    "model.add(Bidirectional(layer=LSTM(50, dropout=0.3, recurrent_dropout=0.3)))\n",
    "model.add(Dense(50, activation=\"relu\", kernel_regularizer=l2(0.1)))\n",
    "model.add(Dropout(0.5))\n",
    "model.add(Dense(1, activation=\"sigmoid\", kernel_regularizer=l2(0.1)))\n",
    "\n",
    "model.compile(loss=\"binary_crossentropy\",\n",
    "              optimizer=\"adam\",\n",
    "              metrics=[\"accuracy\"])\n",
    "\n",
    "model.summary()"
   ]
  },
  {
   "cell_type": "code",
   "execution_count": null,
   "metadata": {},
   "outputs": [],
   "source": [
    "%%time\n",
    "model.fit(X_train, Y_train[:, for_class],\n",
    "          batch_size=64, \n",
    "          epochs=5,\n",
    "          #validation_split=0.15,\n",
    "          verbose=1,\n",
    "          sample_weight=sample_weight)\n"
   ]
  },
  {
   "cell_type": "code",
   "execution_count": null,
   "metadata": {},
   "outputs": [],
   "source": [
    "y_predict = model.predict_classes(X_train)\n",
    "\n",
    "print(\"\\nTrain set result: \")\n",
    "print(metrics.classification_report(Y_train[:, for_class], y_predict))\n",
    "print(\"Confussion matrix: \\n\", metrics.confusion_matrix(Y_train[:, for_class], y_predict))\n",
    "\n",
    "accuracy = metrics.f1_score(Y_train[:, for_class], y_predict)\n",
    "print(\"\\nF1 on train set: \", accuracy)\n",
    "\n",
    "y_predict = model.predict_classes(X_test)\n",
    "\n",
    "print(\"\\nTrain set result: \")\n",
    "print(metrics.classification_report(Y_test[:, for_class], y_predict))\n",
    "print(\"Confussion matrix: \\n\", metrics.confusion_matrix(Y_test[:, for_class], y_predict))\n",
    "\n",
    "accuracy = metrics.f1_score(Y_test[:, for_class], y_predict)\n",
    "print(\"\\nF1 on train set: \", accuracy)"
   ]
  },
  {
   "cell_type": "code",
   "execution_count": null,
   "metadata": {},
   "outputs": [],
   "source": [
    "%%time\n",
    "scores = model.evaluate(X_test, Y_test, batch_size=64)\n",
    "print(\"Test accuracy: %.2f%%\" % (scores[1] * 100))"
   ]
  },
  {
   "cell_type": "code",
   "execution_count": null,
   "metadata": {},
   "outputs": [],
   "source": [
    "\n",
    "classif_list = []\n",
    "train_score_list, test_score_list = [], []\n",
    "\n",
    "# Training\n",
    "for i in range(len(labels)):\n",
    "    y_train_for_label = Y_train[:,i]\n",
    "    new_classifier = GaussianNB()\n",
    "    new_classifier.fit(X_train, y_train_for_label)\n",
    "    classif_list.append(new_classifier)"
   ]
  },
  {
   "cell_type": "markdown",
   "metadata": {},
   "source": [
    "### Test"
   ]
  },
  {
   "cell_type": "code",
   "execution_count": null,
   "metadata": {},
   "outputs": [],
   "source": [
    "# Test & display results\n",
    "for i in range(len(birds_list)):\n",
    "    classif = classif_list[i]\n",
    "    train_score = float('{0:.3f}'.format(classif.score(X_train, y_train[:,i])))\n",
    "    test_score = float('{0:.3f}'.format(classif.score(X_test, y_test[:,i])))\n",
    "    train_score_list.append(train_score)\n",
    "    test_score_list.append(test_score)\n",
    "    print('Detecting {} with {}% accuracy (training {}%)'.format(birds_list[i], 100*test_score, 100*train_score))\n",
    "\n",
    "predict_train = np.zeros_like(y_train)\n",
    "predict_test = np.zeros_like(y_test)\n",
    "for i in range(len(birds_list)):\n",
    "    classif = classif_list[i]\n",
    "    predict_train[:,i] = classif.predict(X_train)\n",
    "    predict_test[:,i] = classif.predict(X_test)\n",
    "acc_train = 1 - np.sum(np.abs(predict_train - y_train))/(y_train.shape[0]*y_train.shape[1])\n",
    "acc_test = 1 - np.sum(np.abs(predict_test - y_test))/(y_test.shape[0]*y_test.shape[1])\n",
    "print('###')\n",
    "print('Global accuracy: testing {}, training {}'.format(acc_test, acc_train))\n",
    "\n",
    "well_labeled = 0\n",
    "for i in range(len(y_train)):\n",
    "    if np.sum(np.abs(y_train[i,:] - predict_train[i,:])) == 0:\n",
    "        well_labeled +=1\n",
    "print('Overall {} out of the {} training samples were well labeled'.format(well_labeled,len(y_train)))\n",
    "\n",
    "well_labeled = 0\n",
    "for i in range(len(y_test)):\n",
    "    if np.sum(np.abs(y_test[i,:] - predict_test[i,:])) == 0:\n",
    "        well_labeled +=1\n",
    "print('Overall {} out of the {} testing samples were well labeled'.format(well_labeled,len(y_test)))\n"
   ]
  }
 ],
 "metadata": {
  "kernelspec": {
   "display_name": "Python 3",
   "language": "python",
   "name": "python3"
  },
  "language_info": {
   "codemirror_mode": {
    "name": "ipython",
    "version": 3
   },
   "file_extension": ".py",
   "mimetype": "text/x-python",
   "name": "python",
   "nbconvert_exporter": "python",
   "pygments_lexer": "ipython3",
   "version": "3.6.5"
  }
 },
 "nbformat": 4,
 "nbformat_minor": 2
}
