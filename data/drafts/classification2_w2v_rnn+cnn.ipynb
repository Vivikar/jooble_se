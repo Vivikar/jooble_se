{
 "cells": [
  {
   "cell_type": "code",
   "execution_count": 155,
   "metadata": {},
   "outputs": [],
   "source": [
    "import os\n",
    "import re\n",
    "\n",
    "import pandas as pd\n",
    "import numpy as np\n",
    "from keras.models import Sequential\n",
    "from keras.layers import LSTM, Dense, Embedding, Bidirectional, Dropout\n",
    "from keras.layers import SpatialDropout1D, Conv1D, MaxPooling1D\n",
    "from gensim.models import Word2Vec\n",
    "from keras.utils import np_utils\n",
    "from keras.preprocessing import sequence\n",
    "from sklearn.metrics.pairwise import cosine_similarity\n",
    "from sklearn.model_selection import train_test_split\n",
    "from keras.regularizers import l2\n",
    "import seaborn as sns\n",
    "from gensim.models import KeyedVectors\n",
    "from sklearn.feature_extraction.text import TfidfVectorizer\n",
    "\n",
    "from sklearn.decomposition import PCA\n",
    "from sklearn.pipeline import Pipeline\n",
    "import matplotlib.pyplot as plt\n",
    "from matplotlib import colors\n",
    "\n",
    "import config\n"
   ]
  },
  {
   "cell_type": "code",
   "execution_count": 2,
   "metadata": {},
   "outputs": [],
   "source": [
    "w2v_path = os.path.join(\"word_embedding\", \"ruwikiruscorpora-nobigrams_upos_skipgram_300_5_2018.vec.gz\")\n",
    "hh_data_path = os.path.join(\"headHunter_data\", \"hh_dataset.csv\")"
   ]
  },
  {
   "cell_type": "code",
   "execution_count": 3,
   "metadata": {},
   "outputs": [],
   "source": [
    "dataset_hh = pd.read_csv(hh_data_path, sep=\"\\t\")"
   ]
  },
  {
   "cell_type": "code",
   "execution_count": 4,
   "metadata": {},
   "outputs": [
    {
     "data": {
      "text/html": [
       "<div>\n",
       "<style scoped>\n",
       "    .dataframe tbody tr th:only-of-type {\n",
       "        vertical-align: middle;\n",
       "    }\n",
       "\n",
       "    .dataframe tbody tr th {\n",
       "        vertical-align: top;\n",
       "    }\n",
       "\n",
       "    .dataframe thead th {\n",
       "        text-align: right;\n",
       "    }\n",
       "</style>\n",
       "<table border=\"1\" class=\"dataframe\">\n",
       "  <thead>\n",
       "    <tr style=\"text-align: right;\">\n",
       "      <th></th>\n",
       "      <th>id</th>\n",
       "      <th>lang_title</th>\n",
       "      <th>requirement</th>\n",
       "      <th>requirement_lemmas</th>\n",
       "      <th>requirement_lemmas_tags</th>\n",
       "      <th>requirement_norm</th>\n",
       "      <th>requirement_tokens</th>\n",
       "      <th>responsibility</th>\n",
       "      <th>responsibility_lemmas</th>\n",
       "      <th>responsibility_lemmas_tags</th>\n",
       "      <th>...</th>\n",
       "      <th>title_tokens</th>\n",
       "      <th>url</th>\n",
       "      <th>lang_text</th>\n",
       "      <th>profarea_names</th>\n",
       "      <th>specializations</th>\n",
       "      <th>text</th>\n",
       "      <th>text_lemmas</th>\n",
       "      <th>text_lemmas_tags</th>\n",
       "      <th>text_normalized</th>\n",
       "      <th>text_tokens</th>\n",
       "    </tr>\n",
       "  </thead>\n",
       "  <tbody>\n",
       "    <tr>\n",
       "      <th>0</th>\n",
       "      <td>29103667</td>\n",
       "      <td>russian</td>\n",
       "      <td>Высшее (желательно техническое) образование. П...</td>\n",
       "      <td>высший желательный технический образование lot...</td>\n",
       "      <td>высший_ADJ желательный_ADJ технический_ADJ обр...</td>\n",
       "      <td>высш желательн техническ образован lotus хорош...</td>\n",
       "      <td>высшее желательно техническое образование lotu...</td>\n",
       "      <td>Ежедневное планирование работы завода (молочно...</td>\n",
       "      <td>ежедневный планирование работа завод молочный ...</td>\n",
       "      <td>ежедневный_ADJ планирование_NOUN работа_NOUN з...</td>\n",
       "      <td>...</td>\n",
       "      <td>специаидать_NOUN планирование_NOUN производств...</td>\n",
       "      <td>https://api.hh.ru/vacancies/29103667?host=hh.ua</td>\n",
       "      <td>russian</td>\n",
       "      <td>['Производство', 'Закупки']</td>\n",
       "      <td>['Пищевая промышленность', 'Управление закупка...</td>\n",
       "      <td>&lt;p&gt;&lt;strong&gt;Международная компания – крупнейший...</td>\n",
       "      <td>международный компания крупнейший производител...</td>\n",
       "      <td>международный_ADJ компания_NOUN крупнейший_ADJ...</td>\n",
       "      <td>международн компан крупн производител свеж мол...</td>\n",
       "      <td>международный_ADJ компания_NOUN крупнейший_ADJ...</td>\n",
       "    </tr>\n",
       "    <tr>\n",
       "      <th>1</th>\n",
       "      <td>29103666</td>\n",
       "      <td>russian</td>\n",
       "      <td>Умение работать в коллективе. Образование не н...</td>\n",
       "      <td>умение работать коллектив образование ниже тех...</td>\n",
       "      <td>умение_NOUN работать_VERB коллектив_NOUN образ...</td>\n",
       "      <td>умен работа коллектив образован ниж техническ ...</td>\n",
       "      <td>умение работать коллективе образование ниже те...</td>\n",
       "      <td>Техническая подготовка выполнения сварочных ра...</td>\n",
       "      <td>технический подготовка выполнение сварочный ра...</td>\n",
       "      <td>технический_ADJ подготовка_NOUN выполнение_NOU...</td>\n",
       "      <td>...</td>\n",
       "      <td>главный_ADJ сварщик_NOUN</td>\n",
       "      <td>https://api.hh.ru/vacancies/29103666?host=hh.ua</td>\n",
       "      <td>russian</td>\n",
       "      <td>['Рабочий персонал']</td>\n",
       "      <td>['Сварщик']</td>\n",
       "      <td>&lt;strong&gt;Обязанности:&lt;/strong&gt; &lt;ul&gt; &lt;li&gt;&lt;em&gt;Тех...</td>\n",
       "      <td>обязанность технический подготовка выполнение ...</td>\n",
       "      <td>обязанность_NOUN технический_ADJ подготовка_NO...</td>\n",
       "      <td>обязан техническ подготовк выполнен сварочн ра...</td>\n",
       "      <td>обязанность_NOUN технический_ADJ подготовка_NO...</td>\n",
       "    </tr>\n",
       "    <tr>\n",
       "      <th>2</th>\n",
       "      <td>29103665</td>\n",
       "      <td>russian</td>\n",
       "      <td>At least a bachelor degree in Computer Science...</td>\n",
       "      <td>least bachelor degree computer science master ...</td>\n",
       "      <td>least bachelor degree computer science master ...</td>\n",
       "      <td>least bachelor degre comput scienc master degr...</td>\n",
       "      <td>least bachelor degree computer science master ...</td>\n",
       "      <td>Contributes to product and performance improve...</td>\n",
       "      <td>contributes product performance improvement op...</td>\n",
       "      <td>contributes product performance improvement op...</td>\n",
       "      <td>...</td>\n",
       "      <td>java_X developer_X</td>\n",
       "      <td>https://api.hh.ru/vacancies/29103665?host=hh.ua</td>\n",
       "      <td>english</td>\n",
       "      <td>['Информационные технологии, интернет, телеком']</td>\n",
       "      <td>['Программирование, Разработка']</td>\n",
       "      <td>&lt;p&gt;Role:&lt;br /&gt;Contributes to product and perfo...</td>\n",
       "      <td>role contributes product performance improveme...</td>\n",
       "      <td>role contributes product performance improveme...</td>\n",
       "      <td>role contribut product perform improv optim ex...</td>\n",
       "      <td>role contributes product performance improveme...</td>\n",
       "    </tr>\n",
       "    <tr>\n",
       "      <th>3</th>\n",
       "      <td>29103664</td>\n",
       "      <td>russian</td>\n",
       "      <td>Профильное высшее образование (Художественное/...</td>\n",
       "      <td>профильный высший образование креативность нес...</td>\n",
       "      <td>профильный_ADJ высший_ADJ образование_NOUN кре...</td>\n",
       "      <td>профильн высш образован креативн нестандартн м...</td>\n",
       "      <td>профильное высшее образование креативность нес...</td>\n",
       "      <td>Дизайн и верстка еженедельного акционного букл...</td>\n",
       "      <td>дизайн верстка еженедельный акциоть буклет раз...</td>\n",
       "      <td>дизайн_NOUN верстка_NOUN еженедельный_ADJ акци...</td>\n",
       "      <td>...</td>\n",
       "      <td>дизайнер_NOUN</td>\n",
       "      <td>https://api.hh.ru/vacancies/29103664?host=hh.ua</td>\n",
       "      <td>russian</td>\n",
       "      <td>['Искусство, развлечения, масс-медиа', 'Маркет...</td>\n",
       "      <td>['Дизайн, графика, живопись', 'Дизайнер']</td>\n",
       "      <td>&lt;p&gt;&lt;strong&gt;Сеть гипермаркетов ProStore приглаш...</td>\n",
       "      <td>сеть гипермаркет prostore приглашать постоянны...</td>\n",
       "      <td>сеть_NOUN гипермаркет_NOUN prostore_X приглаша...</td>\n",
       "      <td>сет гипермаркет prostor приглаша постоя работ ...</td>\n",
       "      <td>сеть_NOUN гипермаркет_NOUN prostore_X приглаша...</td>\n",
       "    </tr>\n",
       "    <tr>\n",
       "      <th>4</th>\n",
       "      <td>29103661</td>\n",
       "      <td>russian</td>\n",
       "      <td>1. Высшее образование ( в приоритете: менеджме...</td>\n",
       "      <td>высший образование приоритет менеджмент маркет...</td>\n",
       "      <td>высший_ADJ образование_NOUN приоритет_VERB мен...</td>\n",
       "      <td>высш образован приоритет менеджмент маркетинг ...</td>\n",
       "      <td>высшее образование приоритете менеджмент марке...</td>\n",
       "      <td>Наша студия помогает компаниям повышать продаж...</td>\n",
       "      <td>наш студия помогать компания повышать продажа ...</td>\n",
       "      <td>наш_DET студия_NOUN помогать_VERB компания_NOU...</td>\n",
       "      <td>...</td>\n",
       "      <td>руководитель_NOUN отдел_NOUN продажа_NOUN</td>\n",
       "      <td>https://api.hh.ru/vacancies/29103661?host=hh.ua</td>\n",
       "      <td>russian</td>\n",
       "      <td>['Продажи', 'Продажи', 'Высший менеджмент']</td>\n",
       "      <td>['Услуги для бизнеса', 'Управление продажами',...</td>\n",
       "      <td>&lt;p&gt;Наша студия помогает компаниям повышать про...</td>\n",
       "      <td>наш студия помогать компания повышать продажа ...</td>\n",
       "      <td>наш_DET студия_NOUN помогать_VERB компания_NOU...</td>\n",
       "      <td>наш студ помога компан повыша продаж помощ про...</td>\n",
       "      <td>наш_DET студия_NOUN помогать_VERB компания_NOU...</td>\n",
       "    </tr>\n",
       "  </tbody>\n",
       "</table>\n",
       "<p>5 rows × 26 columns</p>\n",
       "</div>"
      ],
      "text/plain": [
       "         id lang_title                                        requirement  \\\n",
       "0  29103667    russian  Высшее (желательно техническое) образование. П...   \n",
       "1  29103666    russian  Умение работать в коллективе. Образование не н...   \n",
       "2  29103665    russian  At least a bachelor degree in Computer Science...   \n",
       "3  29103664    russian  Профильное высшее образование (Художественное/...   \n",
       "4  29103661    russian  1. Высшее образование ( в приоритете: менеджме...   \n",
       "\n",
       "                                  requirement_lemmas  \\\n",
       "0  высший желательный технический образование lot...   \n",
       "1  умение работать коллектив образование ниже тех...   \n",
       "2  least bachelor degree computer science master ...   \n",
       "3  профильный высший образование креативность нес...   \n",
       "4  высший образование приоритет менеджмент маркет...   \n",
       "\n",
       "                             requirement_lemmas_tags  \\\n",
       "0  высший_ADJ желательный_ADJ технический_ADJ обр...   \n",
       "1  умение_NOUN работать_VERB коллектив_NOUN образ...   \n",
       "2  least bachelor degree computer science master ...   \n",
       "3  профильный_ADJ высший_ADJ образование_NOUN кре...   \n",
       "4  высший_ADJ образование_NOUN приоритет_VERB мен...   \n",
       "\n",
       "                                    requirement_norm  \\\n",
       "0  высш желательн техническ образован lotus хорош...   \n",
       "1  умен работа коллектив образован ниж техническ ...   \n",
       "2  least bachelor degre comput scienc master degr...   \n",
       "3  профильн высш образован креативн нестандартн м...   \n",
       "4  высш образован приоритет менеджмент маркетинг ...   \n",
       "\n",
       "                                  requirement_tokens  \\\n",
       "0  высшее желательно техническое образование lotu...   \n",
       "1  умение работать коллективе образование ниже те...   \n",
       "2  least bachelor degree computer science master ...   \n",
       "3  профильное высшее образование креативность нес...   \n",
       "4  высшее образование приоритете менеджмент марке...   \n",
       "\n",
       "                                      responsibility  \\\n",
       "0  Ежедневное планирование работы завода (молочно...   \n",
       "1  Техническая подготовка выполнения сварочных ра...   \n",
       "2  Contributes to product and performance improve...   \n",
       "3  Дизайн и верстка еженедельного акционного букл...   \n",
       "4  Наша студия помогает компаниям повышать продаж...   \n",
       "\n",
       "                               responsibility_lemmas  \\\n",
       "0  ежедневный планирование работа завод молочный ...   \n",
       "1  технический подготовка выполнение сварочный ра...   \n",
       "2  contributes product performance improvement op...   \n",
       "3  дизайн верстка еженедельный акциоть буклет раз...   \n",
       "4  наш студия помогать компания повышать продажа ...   \n",
       "\n",
       "                          responsibility_lemmas_tags  \\\n",
       "0  ежедневный_ADJ планирование_NOUN работа_NOUN з...   \n",
       "1  технический_ADJ подготовка_NOUN выполнение_NOU...   \n",
       "2  contributes product performance improvement op...   \n",
       "3  дизайн_NOUN верстка_NOUN еженедельный_ADJ акци...   \n",
       "4  наш_DET студия_NOUN помогать_VERB компания_NOU...   \n",
       "\n",
       "                         ...                          \\\n",
       "0                        ...                           \n",
       "1                        ...                           \n",
       "2                        ...                           \n",
       "3                        ...                           \n",
       "4                        ...                           \n",
       "\n",
       "                                        title_tokens  \\\n",
       "0  специаидать_NOUN планирование_NOUN производств...   \n",
       "1                           главный_ADJ сварщик_NOUN   \n",
       "2                                 java_X developer_X   \n",
       "3                                      дизайнер_NOUN   \n",
       "4          руководитель_NOUN отдел_NOUN продажа_NOUN   \n",
       "\n",
       "                                               url lang_text  \\\n",
       "0  https://api.hh.ru/vacancies/29103667?host=hh.ua   russian   \n",
       "1  https://api.hh.ru/vacancies/29103666?host=hh.ua   russian   \n",
       "2  https://api.hh.ru/vacancies/29103665?host=hh.ua   english   \n",
       "3  https://api.hh.ru/vacancies/29103664?host=hh.ua   russian   \n",
       "4  https://api.hh.ru/vacancies/29103661?host=hh.ua   russian   \n",
       "\n",
       "                                      profarea_names  \\\n",
       "0                        ['Производство', 'Закупки']   \n",
       "1                               ['Рабочий персонал']   \n",
       "2   ['Информационные технологии, интернет, телеком']   \n",
       "3  ['Искусство, развлечения, масс-медиа', 'Маркет...   \n",
       "4        ['Продажи', 'Продажи', 'Высший менеджмент']   \n",
       "\n",
       "                                     specializations  \\\n",
       "0  ['Пищевая промышленность', 'Управление закупка...   \n",
       "1                                        ['Сварщик']   \n",
       "2                   ['Программирование, Разработка']   \n",
       "3          ['Дизайн, графика, живопись', 'Дизайнер']   \n",
       "4  ['Услуги для бизнеса', 'Управление продажами',...   \n",
       "\n",
       "                                                text  \\\n",
       "0  <p><strong>Международная компания – крупнейший...   \n",
       "1  <strong>Обязанности:</strong> <ul> <li><em>Тех...   \n",
       "2  <p>Role:<br />Contributes to product and perfo...   \n",
       "3  <p><strong>Сеть гипермаркетов ProStore приглаш...   \n",
       "4  <p>Наша студия помогает компаниям повышать про...   \n",
       "\n",
       "                                         text_lemmas  \\\n",
       "0  международный компания крупнейший производител...   \n",
       "1  обязанность технический подготовка выполнение ...   \n",
       "2  role contributes product performance improveme...   \n",
       "3  сеть гипермаркет prostore приглашать постоянны...   \n",
       "4  наш студия помогать компания повышать продажа ...   \n",
       "\n",
       "                                    text_lemmas_tags  \\\n",
       "0  международный_ADJ компания_NOUN крупнейший_ADJ...   \n",
       "1  обязанность_NOUN технический_ADJ подготовка_NO...   \n",
       "2  role contributes product performance improveme...   \n",
       "3  сеть_NOUN гипермаркет_NOUN prostore_X приглаша...   \n",
       "4  наш_DET студия_NOUN помогать_VERB компания_NOU...   \n",
       "\n",
       "                                     text_normalized  \\\n",
       "0  международн компан крупн производител свеж мол...   \n",
       "1  обязан техническ подготовк выполнен сварочн ра...   \n",
       "2  role contribut product perform improv optim ex...   \n",
       "3  сет гипермаркет prostor приглаша постоя работ ...   \n",
       "4  наш студ помога компан повыша продаж помощ про...   \n",
       "\n",
       "                                         text_tokens  \n",
       "0  международный_ADJ компания_NOUN крупнейший_ADJ...  \n",
       "1  обязанность_NOUN технический_ADJ подготовка_NO...  \n",
       "2  role contributes product performance improveme...  \n",
       "3  сеть_NOUN гипермаркет_NOUN prostore_X приглаша...  \n",
       "4  наш_DET студия_NOUN помогать_VERB компания_NOU...  \n",
       "\n",
       "[5 rows x 26 columns]"
      ]
     },
     "execution_count": 4,
     "metadata": {},
     "output_type": "execute_result"
    }
   ],
   "source": [
    "dataset_hh.head()"
   ]
  },
  {
   "cell_type": "code",
   "execution_count": 5,
   "metadata": {
    "collapsed": true
   },
   "outputs": [
    {
     "name": "stdout",
     "output_type": "stream",
     "text": [
      "<class 'pandas.core.frame.DataFrame'>\n",
      "RangeIndex: 3653 entries, 0 to 3652\n",
      "Data columns (total 26 columns):\n",
      "id                            3653 non-null int64\n",
      "lang_title                    3653 non-null object\n",
      "requirement                   3536 non-null object\n",
      "requirement_lemmas            3536 non-null object\n",
      "requirement_lemmas_tags       3536 non-null object\n",
      "requirement_norm              3536 non-null object\n",
      "requirement_tokens            3536 non-null object\n",
      "responsibility                3472 non-null object\n",
      "responsibility_lemmas         3472 non-null object\n",
      "responsibility_lemmas_tags    3472 non-null object\n",
      "responsibility_norm           3472 non-null object\n",
      "responsibility_tokens         3472 non-null object\n",
      "title                         3653 non-null object\n",
      "title_lemmas                  3335 non-null object\n",
      "title_lemmas_tags             3335 non-null object\n",
      "title_normalized              3335 non-null object\n",
      "title_tokens                  3335 non-null object\n",
      "url                           3653 non-null object\n",
      "lang_text                     3653 non-null object\n",
      "profarea_names                3653 non-null object\n",
      "specializations               3653 non-null object\n",
      "text                          3653 non-null object\n",
      "text_lemmas                   3653 non-null object\n",
      "text_lemmas_tags              3653 non-null object\n",
      "text_normalized               3653 non-null object\n",
      "text_tokens                   3653 non-null object\n",
      "dtypes: int64(1), object(25)\n",
      "memory usage: 742.1+ KB\n"
     ]
    }
   ],
   "source": [
    "dataset_hh.info()"
   ]
  },
  {
   "cell_type": "markdown",
   "metadata": {},
   "source": [
    "### Prapare data to rnn"
   ]
  },
  {
   "cell_type": "code",
   "execution_count": 6,
   "metadata": {},
   "outputs": [],
   "source": [
    "vectorizer = KeyedVectors.load_word2vec_format(w2v_path, binary=False)\n"
   ]
  },
  {
   "cell_type": "code",
   "execution_count": 141,
   "metadata": {},
   "outputs": [],
   "source": [
    "labels = []\n",
    "for i, row in dataset_hh.iterrows():\n",
    "    specs = row[\"profarea_names\"].lower()\n",
    "    specs = specs.split(\"', \") \n",
    "    for spec in specs: \n",
    "        spec = re.sub('[\\[\\'\\]]', '', spec)\n",
    "        labels.append(spec.strip())\n",
    "\n",
    "labels = list(set(labels))"
   ]
  },
  {
   "cell_type": "code",
   "execution_count": 142,
   "metadata": {},
   "outputs": [
    {
     "name": "stdout",
     "output_type": "stream",
     "text": [
      "Labels number: 28\n",
      "Labels: ['государственная служба, некоммерческие организации', 'наука, образование', 'медицина, фармацевтика', 'домашний персонал', 'безопасность', 'инсталляция и сервис', 'страхование', 'продажи', 'консультирование', 'бухгалтерия, управленческий учет, финансы предприятия', 'искусство, развлечения, масс-медиа', 'управление персоналом, тренинги', 'спортивные клубы, фитнес, салоны красоты', 'транспорт, логистика', 'автомобильный бизнес', 'информационные технологии, интернет, телеком', 'начало карьеры, студенты', 'туризм, гостиницы, рестораны', 'маркетинг, реклама, pr', 'добыча сырья', 'высший менеджмент', 'административный персонал', 'производство', 'банки, инвестиции, лизинг', 'юристы', 'строительство, недвижимость', 'рабочий персонал', 'закупки']\n"
     ]
    }
   ],
   "source": [
    "print(\"Labels number:\", len(labels))\n",
    "print(\"Labels:\", labels)"
   ]
  },
  {
   "cell_type": "code",
   "execution_count": 17,
   "metadata": {},
   "outputs": [],
   "source": [
    "def vectorize_text(text, vectorizer, max_len):\n",
    "    \"\"\"\n",
    "    :param str text: normalized text\n",
    "    :param Word2Vec vectorizer:\n",
    "    :param int max_len:\n",
    "    :return np.array text_vect: of shape like (1, max_len, 100)\n",
    "    \"\"\"\n",
    "    text_vect = []\n",
    "    words = text.split(\" \")\n",
    "    for word in words:\n",
    "        try:\n",
    "            word_vect = vectorizer.word_vec(word)\n",
    "            text_vect.append(word_vect)\n",
    "        except KeyError:\n",
    "            None\n",
    "      \n",
    "    np.array(text_vect)\n",
    "    text_vect = np.reshape(text_vect, (1, -1, 100))\n",
    "    text_vect = sequence.pad_sequences(text_vect, maxlen=max_len, dtype='float')\n",
    "            \n",
    "    return text_vect\n",
    "    "
   ]
  },
  {
   "cell_type": "code",
   "execution_count": 24,
   "metadata": {},
   "outputs": [],
   "source": [
    "\n",
    "n_classes = len(labels)\n",
    "n_examples = len(dataset_hh)\n",
    "X = []\n",
    "Y = np.zeros((n_examples, n_classes))\n",
    "for i, row in dataset_hh.iterrows():\n",
    "    X.append([])\n",
    "    words = row[\"text_lemmas_tags\"].split(\" \")\n",
    "    for word in words:\n",
    "        try:\n",
    "            word_vec = vectorizer.word_vec(word)\n",
    "            X[i].append(word_vec)\n",
    "        except KeyError:\n",
    "            None\n",
    "    \n",
    "    specs = row[\"profarea_names\"].lower() \n",
    "    specs = specs.split(\"', \") \n",
    "    for spec in specs: \n",
    "        spec = re.sub('[\\[\\'\\]]', '', spec)\n",
    "        pos = labels.index(spec.strip())\n",
    "        Y[i][pos] = 1\n",
    "        \n",
    "assert(len(X) == len(Y))\n"
   ]
  },
  {
   "cell_type": "code",
   "execution_count": 28,
   "metadata": {},
   "outputs": [
    {
     "name": "stdout",
     "output_type": "stream",
     "text": [
      "Max len = 689\n"
     ]
    }
   ],
   "source": [
    "max_len = max([len(i) for i in X])\n",
    "print(\"Max len =\", max_len)"
   ]
  },
  {
   "cell_type": "code",
   "execution_count": 30,
   "metadata": {},
   "outputs": [
    {
     "name": "stdout",
     "output_type": "stream",
     "text": [
      "Max len edited= 300\n"
     ]
    }
   ],
   "source": [
    "max_len = 300\n",
    "print(\"Max len edited=\", max_len)"
   ]
  },
  {
   "cell_type": "code",
   "execution_count": 33,
   "metadata": {},
   "outputs": [],
   "source": [
    "X = sequence.pad_sequences(X, maxlen=max_len, dtype='float')\n",
    "X = np.array(X)\n"
   ]
  },
  {
   "cell_type": "code",
   "execution_count": 34,
   "metadata": {},
   "outputs": [
    {
     "name": "stdout",
     "output_type": "stream",
     "text": [
      "(3653, 300, 300)\n",
      "(3653, 28)\n"
     ]
    }
   ],
   "source": [
    "print(X.shape)\n",
    "print(Y.shape)"
   ]
  },
  {
   "cell_type": "code",
   "execution_count": 35,
   "metadata": {},
   "outputs": [
    {
     "name": "stdout",
     "output_type": "stream",
     "text": [
      "(2922, 300, 300)\n",
      "(731, 300, 300)\n"
     ]
    }
   ],
   "source": [
    "X_train, X_test, Y_train, Y_test = train_test_split(X, Y, test_size=0.2, random_state=100)\n",
    "print(X_train.shape)\n",
    "print(X_test.shape)\n",
    "print(Y_train.shape)\n",
    "print(Y_test.shape)"
   ]
  },
  {
   "cell_type": "code",
   "execution_count": 63,
   "metadata": {},
   "outputs": [
    {
     "name": "stdout",
     "output_type": "stream",
     "text": [
      "(2922, 28)\n",
      "(731, 28)\n"
     ]
    }
   ],
   "source": [
    "print(Y_train.shape)\n",
    "print(Y_test.shape)"
   ]
  },
  {
   "cell_type": "code",
   "execution_count": 36,
   "metadata": {},
   "outputs": [],
   "source": [
    "del X\n",
    "del Y"
   ]
  },
  {
   "cell_type": "code",
   "execution_count": 37,
   "metadata": {},
   "outputs": [],
   "source": [
    "def get_classes(y_one_hot, labels, threshold=0.5):\n",
    "    \"\"\"\n",
    "    :param np.array y_one_hot: shape like (1, n_classes)\n",
    "    :param list of str labels:\n",
    "    :return list of str classes: \n",
    "    \"\"\"\n",
    "    classes = []\n",
    "    y_rounded = np.zeros(y_one_hot.shape)\n",
    "    y_rounded[y_one_hot > threshold] = 1\n",
    "    for i in range(len(labels)):\n",
    "        if y_rounded[0][i] == 1:\n",
    "            classes.append(labels[i])\n",
    "            \n",
    "    return classes\n",
    "        "
   ]
  },
  {
   "cell_type": "code",
   "execution_count": 143,
   "metadata": {
    "scrolled": true
   },
   "outputs": [
    {
     "name": "stdout",
     "output_type": "stream",
     "text": [
      " Species государственная служба, некоммерческие организации appears 6.0 times\n",
      " Species наука, образование appears 62.0 times\n",
      " Species медицина, фармацевтика appears 134.0 times\n",
      " Species домашний персонал appears 35.0 times\n",
      " Species безопасность appears 28.0 times\n",
      " Species инсталляция и сервис appears 25.0 times\n",
      " Species страхование appears 37.0 times\n",
      " Species продажи appears 1415.0 times\n",
      " Species консультирование appears 233.0 times\n",
      " Species бухгалтерия, управленческий учет, финансы предприятия appears 200.0 times\n",
      " Species искусство, развлечения, масс-медиа appears 95.0 times\n",
      " Species управление персоналом, тренинги appears 95.0 times\n",
      " Species спортивные клубы, фитнес, салоны красоты appears 78.0 times\n",
      " Species транспорт, логистика appears 283.0 times\n",
      " Species автомобильный бизнес appears 127.0 times\n",
      " Species информационные технологии, интернет, телеком appears 519.0 times\n",
      " Species начало карьеры, студенты appears 934.0 times\n",
      " Species туризм, гостиницы, рестораны appears 290.0 times\n",
      " Species маркетинг, реклама, pr appears 316.0 times\n",
      " Species добыча сырья appears 8.0 times\n",
      " Species высший менеджмент appears 57.0 times\n",
      " Species административный персонал appears 552.0 times\n",
      " Species производство appears 211.0 times\n",
      " Species банки, инвестиции, лизинг appears 303.0 times\n",
      " Species юристы appears 58.0 times\n",
      " Species строительство, недвижимость appears 275.0 times\n",
      " Species рабочий персонал appears 154.0 times\n",
      " Species закупки appears 46.0 times\n",
      "###\n",
      "As a mean 1.800164248562825 species appear on each recording (standard deviation 0.9403390803020454)\n"
     ]
    }
   ],
   "source": [
    "counts = []\n",
    "for i in range(len(labels)):\n",
    "    print(' Species {} appears {} times'.format(labels[i], np.sum(Y_train[:,i]) + np.sum(Y_test[:,i])))\n",
    "    counts.append(np.sum(Y_train[:,i]) + np.sum(Y_test[:,i]))\n",
    "print('###')\n",
    "all_y = np.concatenate([Y_train, Y_test])\n",
    "all_sum_y = np.sum(all_y, axis=1)\n",
    "print('As a mean {} species appear on each recording (standard deviation {})'.format(np.mean(all_sum_y), np.std(all_sum_y)))"
   ]
  },
  {
   "cell_type": "code",
   "execution_count": 144,
   "metadata": {},
   "outputs": [
    {
     "data": {
      "text/plain": [
       "[6.0,\n",
       " 62.0,\n",
       " 134.0,\n",
       " 35.0,\n",
       " 28.0,\n",
       " 25.0,\n",
       " 37.0,\n",
       " 1415.0,\n",
       " 233.0,\n",
       " 200.0,\n",
       " 95.0,\n",
       " 95.0,\n",
       " 78.0,\n",
       " 283.0,\n",
       " 127.0,\n",
       " 519.0,\n",
       " 934.0,\n",
       " 290.0,\n",
       " 316.0,\n",
       " 8.0,\n",
       " 57.0,\n",
       " 552.0,\n",
       " 211.0,\n",
       " 303.0,\n",
       " 58.0,\n",
       " 275.0,\n",
       " 154.0,\n",
       " 46.0]"
      ]
     },
     "execution_count": 144,
     "metadata": {},
     "output_type": "execute_result"
    }
   ],
   "source": [
    "counts"
   ]
  },
  {
   "cell_type": "code",
   "execution_count": 145,
   "metadata": {},
   "outputs": [
    {
     "data": {
      "text/plain": [
       "519.0"
      ]
     },
     "execution_count": 145,
     "metadata": {},
     "output_type": "execute_result"
    }
   ],
   "source": [
    "counts[15]"
   ]
  },
  {
   "cell_type": "code",
   "execution_count": 114,
   "metadata": {},
   "outputs": [
    {
     "data": {
      "text/plain": [
       "<matplotlib.axes._subplots.AxesSubplot at 0x1c753299fd0>"
      ]
     },
     "execution_count": 114,
     "metadata": {},
     "output_type": "execute_result"
    },
    {
     "data": {
      "image/png": "[encoded data removed]",
      "text/plain": [
       "<Figure size 432x288 with 1 Axes>"
      ]
     },
     "metadata": {},
     "output_type": "display_data"
    }
   ],
   "source": [
    "sns.countplot(Y_train[:, 15])"
   ]
  },
  {
   "cell_type": "code",
   "execution_count": 146,
   "metadata": {},
   "outputs": [
    {
     "data": {
      "text/plain": [
       "[<matplotlib.lines.Line2D at 0x1c85f618898>]"
      ]
     },
     "execution_count": 146,
     "metadata": {},
     "output_type": "execute_result"
    },
    {
     "data": {
      "image/png": "[encoded data removed]",
      "text/plain": [
       "<Figure size 432x288 with 1 Axes>"
      ]
     },
     "metadata": {},
     "output_type": "display_data"
    }
   ],
   "source": [
    "plt.plot(counts)"
   ]
  },
  {
   "cell_type": "code",
   "execution_count": 147,
   "metadata": {
    "scrolled": true
   },
   "outputs": [
    {
     "data": {
      "text/plain": [
       "(2922,)"
      ]
     },
     "execution_count": 147,
     "metadata": {},
     "output_type": "execute_result"
    }
   ],
   "source": [
    "Y1 = Y_train[:, 15]\n",
    "Y1.shape"
   ]
  },
  {
   "cell_type": "code",
   "execution_count": 151,
   "metadata": {},
   "outputs": [],
   "source": [
    "indexes = []\n",
    "labels_new = []\n",
    "counts_new = []\n",
    "\n",
    "for i in range(len(labels)):\n",
    "    if counts[i] > 50:\n",
    "        labels_new.append(labels[i])\n",
    "        counts_new.append(counts[i])\n",
    "        indexes.append(i)\n",
    "        \n",
    "Y_train = Y_train[:, indexes]"
   ]
  },
  {
   "cell_type": "code",
   "execution_count": 152,
   "metadata": {},
   "outputs": [
    {
     "name": "stdout",
     "output_type": "stream",
     "text": [
      "21\n",
      "['наука, образование', 'медицина, фармацевтика', 'продажи', 'консультирование', 'бухгалтерия, управленческий учет, финансы предприятия', 'искусство, развлечения, масс-медиа', 'управление персоналом, тренинги', 'спортивные клубы, фитнес, салоны красоты', 'транспорт, логистика', 'автомобильный бизнес', 'информационные технологии, интернет, телеком', 'начало карьеры, студенты', 'туризм, гостиницы, рестораны', 'маркетинг, реклама, pr', 'высший менеджмент', 'административный персонал', 'производство', 'банки, инвестиции, лизинг', 'юристы', 'строительство, недвижимость', 'рабочий персонал']\n",
      "\n",
      "[62.0, 134.0, 1415.0, 233.0, 200.0, 95.0, 95.0, 78.0, 283.0, 127.0, 519.0, 934.0, 290.0, 316.0, 57.0, 552.0, 211.0, 303.0, 58.0, 275.0, 154.0]\n"
     ]
    }
   ],
   "source": [
    "print(len(labels_new))\n",
    "print(labels_new)\n",
    "print()\n",
    "print(counts_new)"
   ]
  },
  {
   "cell_type": "code",
   "execution_count": 161,
   "metadata": {},
   "outputs": [
    {
     "name": "stdout",
     "output_type": "stream",
     "text": [
      "[[22.822580645161292, 10.559701492537313, 1.0, 6.072961373390558, 7.075, 14.894736842105264, 14.894736842105264, 18.141025641025642, 5.0, 11.141732283464567, 2.7263969171483624, 1.5149892933618843, 4.879310344827586, 4.477848101265823, 24.82456140350877, 2.5634057971014492, 6.706161137440758, 4.66996699669967, 24.396551724137932, 5.1454545454545455, 9.188311688311689]]\n",
      "1\n"
     ]
    }
   ],
   "source": [
    "classes_weights = []\n",
    "max_count = max(counts_new)\n",
    "for i in range(len(counts_new)):\n",
    "    weight = max_count / counts_new[i] \n",
    "    classes_weights.append(weight)\n",
    "\n",
    "classes_weights = [classes_weights]  \n",
    "print(classes_weights) \n",
    "print(len(classes_weights))"
   ]
  },
  {
   "cell_type": "markdown",
   "metadata": {},
   "source": [
    "### Training"
   ]
  },
  {
   "cell_type": "code",
   "execution_count": 90,
   "metadata": {},
   "outputs": [
    {
     "name": "stdout",
     "output_type": "stream",
     "text": [
      "404\n"
     ]
    }
   ],
   "source": [
    "sample_weight = np.ones(Y1.shape)\n",
    "sample_weight[Y1 == 1] = 5\n",
    "print(len(sample_weight[sample_weight==5]))"
   ]
  },
  {
   "cell_type": "code",
   "execution_count": 153,
   "metadata": {},
   "outputs": [
    {
     "data": {
      "text/plain": [
       "(2922, 21)"
      ]
     },
     "execution_count": 153,
     "metadata": {},
     "output_type": "execute_result"
    }
   ],
   "source": [
    "Y_train.shape"
   ]
  },
  {
   "cell_type": "code",
   "execution_count": 157,
   "metadata": {},
   "outputs": [
    {
     "data": {
      "text/plain": [
       "21"
      ]
     },
     "execution_count": 157,
     "metadata": {},
     "output_type": "execute_result"
    }
   ],
   "source": [
    "len(labels_new)"
   ]
  },
  {
   "cell_type": "code",
   "execution_count": 162,
   "metadata": {
    "scrolled": true
   },
   "outputs": [
    {
     "name": "stdout",
     "output_type": "stream",
     "text": [
      "_________________________________________________________________\n",
      "Layer (type)                 Output Shape              Param #   \n",
      "=================================================================\n",
      "conv1d_12 (Conv1D)           (None, 300, 32)           28832     \n",
      "_________________________________________________________________\n",
      "conv1d_13 (Conv1D)           (None, 300, 32)           3104      \n",
      "_________________________________________________________________\n",
      "max_pooling1d_9 (MaxPooling1 (None, 150, 32)           0         \n",
      "_________________________________________________________________\n",
      "bidirectional_10 (Bidirectio (None, 100)               33200     \n",
      "_________________________________________________________________\n",
      "dense_18 (Dense)             (None, 50)                5050      \n",
      "_________________________________________________________________\n",
      "dropout_3 (Dropout)          (None, 50)                0         \n",
      "_________________________________________________________________\n",
      "dense_19 (Dense)             (None, 21)                1071      \n",
      "=================================================================\n",
      "Total params: 71,257\n",
      "Trainable params: 71,257\n",
      "Non-trainable params: 0\n",
      "_________________________________________________________________\n"
     ]
    }
   ],
   "source": [
    "model = Sequential()\n",
    "\n",
    "model.add(Conv1D(filters=32, kernel_size=3, padding= 'same',\n",
    "                 activation=\"relu\", input_shape=(max_len, 300)))\n",
    "model.add(Conv1D(filters=32, kernel_size=3, padding= 'same',\n",
    "                 activation=\"relu\"))\n",
    "model.add(MaxPooling1D(pool_size=2))\n",
    "\n",
    "#model.add(LSTM(10))\n",
    "model.add(Bidirectional(layer=LSTM(50, dropout=0.3, recurrent_dropout=0.3),\n",
    "                        input_shape=(max_len, 300)))\n",
    "model.add(Dense(50, activation=\"relu\", kernel_regularizer=l2(0.1)))\n",
    "model.add(Dropout(0.5))\n",
    "model.add(Dense(len(labels_new), activation=\"sigmoid\", kernel_regularizer=l2(0.1)))\n",
    "\n",
    "model.compile(loss=\"binary_crossentropy\",\n",
    "              optimizer=\"adam\",\n",
    "              metrics=[\"accuracy\"],\n",
    "              loss_weights=classes_weights)\n",
    "\n",
    "model.summary()"
   ]
  },
  {
   "cell_type": "code",
   "execution_count": 164,
   "metadata": {},
   "outputs": [
    {
     "name": "stdout",
     "output_type": "stream",
     "text": [
      "Train on 2483 samples, validate on 439 samples\n",
      "Epoch 1/3\n",
      "2483/2483 [==============================] - 51s 21ms/step - loss: 12.7243 - acc: 0.7800 - val_loss: 8.6945 - val_acc: 0.9165\n",
      "Epoch 2/3\n",
      "2483/2483 [==============================] - 32s 13ms/step - loss: 7.9821 - acc: 0.8856 - val_loss: 6.1225 - val_acc: 0.9165\n",
      "Epoch 3/3\n",
      "2483/2483 [==============================] - 64s 26ms/step - loss: 5.8040 - acc: 0.9028 - val_loss: 4.6906 - val_acc: 0.9165\n",
      "Wall time: 2min 30s\n"
     ]
    },
    {
     "data": {
      "text/plain": [
       "<keras.callbacks.History at 0x1c88608ee80>"
      ]
     },
     "execution_count": 164,
     "metadata": {},
     "output_type": "execute_result"
    }
   ],
   "source": [
    "%%time\n",
    "model.fit(X_train, Y_train,\n",
    "          batch_size=64, \n",
    "          epochs=3,\n",
    "          validation_split=0.15,\n",
    "          verbose=1)\n"
   ]
  },
  {
   "cell_type": "code",
   "execution_count": 170,
   "metadata": {},
   "outputs": [
    {
     "data": {
      "text/plain": [
       "array([[0., 0., 0., 0., 0., 0., 0., 0., 0., 0., 0., 0., 0., 0., 0., 0.,\n",
       "        0., 0., 0., 0., 0.]], dtype=float32)"
      ]
     },
     "execution_count": 170,
     "metadata": {},
     "output_type": "execute_result"
    }
   ],
   "source": [
    "np.round(model.predict(X_train[0].reshape((1, -1, 300))))"
   ]
  },
  {
   "cell_type": "code",
   "execution_count": 169,
   "metadata": {
    "scrolled": true
   },
   "outputs": [
    {
     "data": {
      "text/plain": [
       "array([0., 0., 0., 0., 0., 0., 1., 0., 0., 0., 0., 0., 0., 0., 0., 0., 0.,\n",
       "       0., 0., 0., 0.])"
      ]
     },
     "execution_count": 169,
     "metadata": {},
     "output_type": "execute_result"
    }
   ],
   "source": [
    "Y_train[0]"
   ]
  },
  {
   "cell_type": "code",
   "execution_count": 171,
   "metadata": {},
   "outputs": [],
   "source": [
    "predict = model.predict(X_train)"
   ]
  },
  {
   "cell_type": "code",
   "execution_count": 172,
   "metadata": {},
   "outputs": [
    {
     "data": {
      "text/plain": [
       "array([[0., 0., 0., 0., 0., 0., 0., 0., 0., 0., 0., 0., 0., 0., 0., 0.,\n",
       "        0., 0., 0., 0., 0.],\n",
       "       [0., 0., 0., 0., 0., 0., 0., 0., 0., 0., 0., 0., 0., 0., 0., 0.,\n",
       "        0., 0., 0., 0., 0.],\n",
       "       [0., 0., 0., 0., 0., 0., 0., 0., 0., 0., 0., 0., 0., 0., 0., 0.,\n",
       "        0., 0., 0., 0., 0.],\n",
       "       [0., 0., 0., 0., 0., 0., 0., 0., 0., 0., 0., 0., 0., 0., 0., 0.,\n",
       "        0., 0., 0., 0., 0.],\n",
       "       [0., 0., 0., 0., 0., 0., 0., 0., 0., 0., 0., 0., 0., 0., 0., 0.,\n",
       "        0., 0., 0., 0., 0.],\n",
       "       [0., 0., 0., 0., 0., 0., 0., 0., 0., 0., 0., 0., 0., 0., 0., 0.,\n",
       "        0., 0., 0., 0., 0.],\n",
       "       [0., 0., 0., 0., 0., 0., 0., 0., 0., 0., 0., 0., 0., 0., 0., 0.,\n",
       "        0., 0., 0., 0., 0.],\n",
       "       [0., 0., 0., 0., 0., 0., 0., 0., 0., 0., 0., 0., 0., 0., 0., 0.,\n",
       "        0., 0., 0., 0., 0.],\n",
       "       [0., 0., 0., 0., 0., 0., 0., 0., 0., 0., 0., 0., 0., 0., 0., 0.,\n",
       "        0., 0., 0., 0., 0.],\n",
       "       [0., 0., 0., 0., 0., 0., 0., 0., 0., 0., 0., 0., 0., 0., 0., 0.,\n",
       "        0., 0., 0., 0., 0.]], dtype=float32)"
      ]
     },
     "execution_count": 172,
     "metadata": {},
     "output_type": "execute_result"
    }
   ],
   "source": [
    "np.round(predict[:10])"
   ]
  },
  {
   "cell_type": "code",
   "execution_count": 173,
   "metadata": {},
   "outputs": [
    {
     "data": {
      "text/plain": [
       "0.0"
      ]
     },
     "execution_count": 173,
     "metadata": {},
     "output_type": "execute_result"
    }
   ],
   "source": [
    "np.sum(np.round(predict))"
   ]
  },
  {
   "cell_type": "code",
   "execution_count": null,
   "metadata": {},
   "outputs": [],
   "source": [
    "%%time\n",
    "scores = model.evaluate(X_test, Y_test, batch_size=64)\n",
    "print(\"Test accuracy: %.2f%%\" % (scores[1] * 100))"
   ]
  },
  {
   "cell_type": "code",
   "execution_count": null,
   "metadata": {},
   "outputs": [],
   "source": [
    "\n",
    "classif_list = []\n",
    "train_score_list, test_score_list = [], []\n",
    "\n",
    "# Training\n",
    "for i in range(len(labels)):\n",
    "    y_train_for_label = Y_train[:,i]\n",
    "    new_classifier = GaussianNB()\n",
    "    new_classifier.fit(X_train, y_train_for_label)\n",
    "    classif_list.append(new_classifier)"
   ]
  },
  {
   "cell_type": "markdown",
   "metadata": {},
   "source": [
    "### Test"
   ]
  },
  {
   "cell_type": "code",
   "execution_count": null,
   "metadata": {},
   "outputs": [],
   "source": [
    "# Test & display results\n",
    "for i in range(len(birds_list)):\n",
    "    classif = classif_list[i]\n",
    "    train_score = float('{0:.3f}'.format(classif.score(X_train, y_train[:,i])))\n",
    "    test_score = float('{0:.3f}'.format(classif.score(X_test, y_test[:,i])))\n",
    "    train_score_list.append(train_score)\n",
    "    test_score_list.append(test_score)\n",
    "    print('Detecting {} with {}% accuracy (training {}%)'.format(birds_list[i], 100*test_score, 100*train_score))\n",
    "\n",
    "predict_train = np.zeros_like(y_train)\n",
    "predict_test = np.zeros_like(y_test)\n",
    "for i in range(len(birds_list)):\n",
    "    classif = classif_list[i]\n",
    "    predict_train[:,i] = classif.predict(X_train)\n",
    "    predict_test[:,i] = classif.predict(X_test)\n",
    "acc_train = 1 - np.sum(np.abs(predict_train - y_train))/(y_train.shape[0]*y_train.shape[1])\n",
    "acc_test = 1 - np.sum(np.abs(predict_test - y_test))/(y_test.shape[0]*y_test.shape[1])\n",
    "print('###')\n",
    "print('Global accuracy: testing {}, training {}'.format(acc_test, acc_train))\n",
    "\n",
    "well_labeled = 0\n",
    "for i in range(len(y_train)):\n",
    "    if np.sum(np.abs(y_train[i,:] - predict_train[i,:])) == 0:\n",
    "        well_labeled +=1\n",
    "print('Overall {} out of the {} training samples were well labeled'.format(well_labeled,len(y_train)))\n",
    "\n",
    "well_labeled = 0\n",
    "for i in range(len(y_test)):\n",
    "    if np.sum(np.abs(y_test[i,:] - predict_test[i,:])) == 0:\n",
    "        well_labeled +=1\n",
    "print('Overall {} out of the {} testing samples were well labeled'.format(well_labeled,len(y_test)))\n"
   ]
  }
 ],
 "metadata": {
  "kernelspec": {
   "display_name": "Python 3",
   "language": "python",
   "name": "python3"
  },
  "language_info": {
   "codemirror_mode": {
    "name": "ipython",
    "version": 3
   },
   "file_extension": ".py",
   "mimetype": "text/x-python",
   "name": "python",
   "nbconvert_exporter": "python",
   "pygments_lexer": "ipython3",
   "version": "3.6.5"
  }
 },
 "nbformat": 4,
 "nbformat_minor": 2
}
