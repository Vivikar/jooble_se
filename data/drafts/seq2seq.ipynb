{
 "cells": [
  {
   "cell_type": "code",
   "execution_count": 1,
   "metadata": {
    "colab": {
     "base_uri": "https://localhost:8080/",
     "height": 33
    },
    "colab_type": "code",
    "executionInfo": {
     "elapsed": 815,
     "status": "ok",
     "timestamp": 1544418391131,
     "user": {
      "displayName": "Виктор Оверко",
      "photoUrl": "https://lh6.googleusercontent.com/-_I9YbAF9z5o/AAAAAAAAAAI/AAAAAAAAABA/NUb59sonytE/s64/photo.jpg",
      "userId": "04713510988786792129"
     },
     "user_tz": -120
    },
    "id": "iJwLMwEBOXd-",
    "outputId": "2ac02fac-77f0-4984-edec-441d364cd143"
   },
   "outputs": [
    {
     "name": "stdout",
     "output_type": "stream",
     "text": [
      "Successfully installed boto-2.49.0 boto3-1.9.62 botocore-1.12.62 bz2file-0.98 docutils-0.14 gensim-3.6.0 jmespath-0.9.3 s3transfer-0.1.13 smart-open-1.7.1\n"
     ]
    }
   ],
   "source": [
    "!pip install gensim\n"
   ]
  },
  {
   "cell_type": "code",
   "execution_count": 0,
   "metadata": {
    "colab": {},
    "colab_type": "code",
    "id": "H9AV9hKQdo5R"
   },
   "outputs": [],
   "source": [
    "import os\n",
    "import re\n",
    "import json\n",
    "\n",
    "import pandas as pd\n",
    "import numpy as np\n",
    "from keras.models import Sequential\n",
    "from keras.layers import LSTM, Dense, Embedding, Bidirectional, Dropout\n",
    "from keras.layers import SpatialDropout1D, Conv1D, MaxPooling1D\n",
    "from gensim.models import Word2Vec\n",
    "from keras.utils import np_utils\n",
    "from keras.preprocessing import sequence\n",
    "from sklearn.metrics.pairwise import cosine_similarity\n",
    "from sklearn.model_selection import train_test_split\n",
    "from keras.regularizers import l2\n",
    "import seaborn as sns\n",
    "from gensim.models import KeyedVectors\n",
    "from sklearn.feature_extraction.text import TfidfVectorizer\n",
    "from keras.models import model_from_json\n",
    "\n",
    "pd.options.display.max_rows = 10\n",
    "pd.set_option('display.max_columns', None)\n",
    "\n",
    "from google.colab import files\n",
    "import pickle\n",
    "\n",
    "\n",
    "from keras.models import Model\n",
    "from keras.layers import Input, LSTM, Dense, Bidirectional, Concatenate\n",
    "from keras.utils import to_categorical\n",
    "\n",
    "from keras.models import load_model\n"
   ]
  },
  {
   "cell_type": "code",
   "execution_count": 3,
   "metadata": {
    "colab": {
     "base_uri": "https://localhost:8080/",
     "height": 120
    },
    "colab_type": "code",
    "executionInfo": {
     "elapsed": 33040,
     "status": "ok",
     "timestamp": 1544418428960,
     "user": {
      "displayName": "Виктор Оверко",
      "photoUrl": "https://lh6.googleusercontent.com/-_I9YbAF9z5o/AAAAAAAAAAI/AAAAAAAAABA/NUb59sonytE/s64/photo.jpg",
      "userId": "04713510988786792129"
     },
     "user_tz": -120
    },
    "id": "ZNbsIlbFN5xn",
    "outputId": "8e762ab6-b76a-4bf1-eea1-b1328aac6c47"
   },
   "outputs": [
    {
     "name": "stdout",
     "output_type": "stream",
     "text": [
      "Go to this URL in a browser: https://accounts.google.com/o/oauth2/auth?client_id=947318989803-6bn6qk8qdgf4n4g3pfee6491hc0brc4i.apps.googleusercontent.com&redirect_uri=urn%3Aietf%3Awg%3Aoauth%3A2.0%3Aoob&scope=email%20https%3A%2F%2Fwww.googleapis.com%2Fauth%2Fdocs.test%20https%3A%2F%2Fwww.googleapis.com%2Fauth%2Fdrive%20https%3A%2F%2Fwww.googleapis.com%2Fauth%2Fdrive.photos.readonly%20https%3A%2F%2Fwww.googleapis.com%2Fauth%2Fpeopleapi.readonly&response_type=code\n",
      "\n",
      "Enter your authorization code:\n",
      "··········\n",
      "Mounted at /content/gdrive\n"
     ]
    }
   ],
   "source": [
    "from google.colab import drive\n",
    "drive.mount('/content/gdrive')"
   ]
  },
  {
   "cell_type": "code",
   "execution_count": 4,
   "metadata": {
    "colab": {
     "base_uri": "https://localhost:8080/",
     "height": 33
    },
    "colab_type": "code",
    "executionInfo": {
     "elapsed": 582,
     "status": "ok",
     "timestamp": 1544418439031,
     "user": {
      "displayName": "Виктор Оверко",
      "photoUrl": "https://lh6.googleusercontent.com/-_I9YbAF9z5o/AAAAAAAAAAI/AAAAAAAAABA/NUb59sonytE/s64/photo.jpg",
      "userId": "04713510988786792129"
     },
     "user_tz": -120
    },
    "id": "VPa-6NDckouB",
    "outputId": "07e51cdd-d3fb-4de4-a5ac-8bdaf226b6fe"
   },
   "outputs": [
    {
     "name": "stdout",
     "output_type": "stream",
     "text": [
      "TPU not found\n"
     ]
    }
   ],
   "source": [
    "try:\n",
    "  device_name = os.environ['COLAB_TPU_ADDR']\n",
    "  TPU_ADDRESS = 'grpc://' + device_name\n",
    "  print('Found TPU at: {}'.format(TPU_ADDRESS))\n",
    "\n",
    "except KeyError:\n",
    "  print('TPU not found')"
   ]
  },
  {
   "cell_type": "code",
   "execution_count": 0,
   "metadata": {
    "colab": {},
    "colab_type": "code",
    "id": "u7BXxoRhN6Y7"
   },
   "outputs": [],
   "source": [
    "w2v_path = os.path.join(\"/content/gdrive/My Drive/\", \"Colab Notebooks/ruwikiruscorpora-nobigrams_upos_skipgram_300_5_2018.vec.gz\")\n",
    "hh_data_path = os.path.join(\"/content/gdrive/My Drive/\", \"Colab Notebooks/hh_dataset.csv\")\n",
    "jooble_data_path = os.path.join(\"/content/gdrive/My Drive/\", \"Colab Notebooks/by_jobs.csv\")\n",
    "weights_dir = os.path.join(\"/content/gdrive/My Drive/\", \"Colab Notebooks/weights\")"
   ]
  },
  {
   "cell_type": "code",
   "execution_count": 6,
   "metadata": {
    "colab": {
     "base_uri": "https://localhost:8080/",
     "height": 552
    },
    "colab_type": "code",
    "executionInfo": {
     "elapsed": 9059,
     "status": "ok",
     "timestamp": 1544418452711,
     "user": {
      "displayName": "Виктор Оверко",
      "photoUrl": "https://lh6.googleusercontent.com/-_I9YbAF9z5o/AAAAAAAAAAI/AAAAAAAAABA/NUb59sonytE/s64/photo.jpg",
      "userId": "04713510988786792129"
     },
     "user_tz": -120
    },
    "id": "PBUAImzpN8eX",
    "outputId": "e199e318-5458-4a8f-bed8-0e28e77632e4"
   },
   "outputs": [
    {
     "name": "stdout",
     "output_type": "stream",
     "text": [
      "<class 'pandas.core.frame.DataFrame'>\n",
      "RangeIndex: 25223 entries, 0 to 25222\n",
      "Data columns (total 26 columns):\n",
      "id                            25223 non-null int64\n",
      "lang_text                     25223 non-null object\n",
      "lang_title                    25223 non-null object\n",
      "profarea_names                25223 non-null object\n",
      "requirement                   24322 non-null object\n",
      "requirement_lemmas            24321 non-null object\n",
      "requirement_lemmas_tags       24321 non-null object\n",
      "requirement_norm              24321 non-null object\n",
      "requirement_tokens            24321 non-null object\n",
      "responsibility                23890 non-null object\n",
      "responsibility_lemmas         23889 non-null object\n",
      "responsibility_lemmas_tags    23889 non-null object\n",
      "responsibility_norm           23889 non-null object\n",
      "responsibility_tokens         23889 non-null object\n",
      "specializations               25223 non-null object\n",
      "text                          25223 non-null object\n",
      "text_lemmas                   25223 non-null object\n",
      "text_lemmas_tags              25223 non-null object\n",
      "text_normalized               25223 non-null object\n",
      "text_tokens                   25223 non-null object\n",
      "title                         25223 non-null object\n",
      "title_lemmas                  22549 non-null object\n",
      "title_lemmas_tags             22549 non-null object\n",
      "title_normalized              22555 non-null object\n",
      "title_tokens                  22555 non-null object\n",
      "url                           25223 non-null object\n",
      "dtypes: int64(1), object(25)\n",
      "memory usage: 5.0+ MB\n",
      "None\n"
     ]
    }
   ],
   "source": [
    "dataset_hh = pd.read_csv(hh_data_path, sep=\"\\t\")\n",
    "dataset_hh = dataset_hh.loc[dataset_hh[\"lang_text\"] == \"russian\"]\n",
    "#dataset_hh.dropna(inplace=True)\n",
    "#dataset_hh = dataset_hh.loc[isinstance(dataset_hh[\"responsibility\"], str)]\n",
    "#dataset_hh.drop(dataset_hh.index[dataset_hh[\"lang_text\"] == \"english\"], inplace=True)\n",
    "dataset_hh.reset_index(drop=True, inplace=True)\n",
    "print(dataset_hh.info())\n",
    "#dataset_hh.head()"
   ]
  },
  {
   "cell_type": "code",
   "execution_count": 82,
   "metadata": {
    "colab": {
     "base_uri": "https://localhost:8080/",
     "height": 552
    },
    "colab_type": "code",
    "executionInfo": {
     "elapsed": 627,
     "status": "ok",
     "timestamp": 1544439105005,
     "user": {
      "displayName": "Виктор Оверко",
      "photoUrl": "https://lh6.googleusercontent.com/-_I9YbAF9z5o/AAAAAAAAAAI/AAAAAAAAABA/NUb59sonytE/s64/photo.jpg",
      "userId": "04713510988786792129"
     },
     "user_tz": -120
    },
    "id": "GuGS9XMbk6Z4",
    "outputId": "710550ef-ff1c-41f9-dcd3-61baf69955c9"
   },
   "outputs": [
    {
     "name": "stdout",
     "output_type": "stream",
     "text": [
      "Final size of dataset = 17250\n",
      "<class 'pandas.core.frame.DataFrame'>\n",
      "RangeIndex: 17250 entries, 0 to 17249\n",
      "Data columns (total 26 columns):\n",
      "id                            17250 non-null int64\n",
      "lang_text                     17250 non-null object\n",
      "lang_title                    17250 non-null object\n",
      "profarea_names                17250 non-null object\n",
      "requirement                   16763 non-null object\n",
      "requirement_lemmas            16762 non-null object\n",
      "requirement_lemmas_tags       16762 non-null object\n",
      "requirement_norm              16762 non-null object\n",
      "requirement_tokens            16762 non-null object\n",
      "responsibility                16481 non-null object\n",
      "responsibility_lemmas         16480 non-null object\n",
      "responsibility_lemmas_tags    16480 non-null object\n",
      "responsibility_norm           16480 non-null object\n",
      "responsibility_tokens         16480 non-null object\n",
      "specializations               17250 non-null object\n",
      "text                          17250 non-null object\n",
      "text_lemmas                   17250 non-null object\n",
      "text_lemmas_tags              17250 non-null object\n",
      "text_normalized               17250 non-null object\n",
      "text_tokens                   17250 non-null object\n",
      "title                         17250 non-null object\n",
      "title_lemmas                  15476 non-null object\n",
      "title_lemmas_tags             15476 non-null object\n",
      "title_normalized              15479 non-null object\n",
      "title_tokens                  15479 non-null object\n",
      "url                           17250 non-null object\n",
      "dtypes: int64(1), object(25)\n",
      "memory usage: 3.4+ MB\n"
     ]
    }
   ],
   "source": [
    "dataset_hh.drop_duplicates([\"text\"], inplace=True)\n",
    "print(\"Final size of dataset =\", len(dataset_hh))\n",
    "dataset_hh.reset_index(drop=True, inplace=True)\n",
    "dataset_hh.info()"
   ]
  },
  {
   "cell_type": "code",
   "execution_count": 0,
   "metadata": {
    "colab": {},
    "colab_type": "code",
    "id": "w-zbfd7Flemd"
   },
   "outputs": [],
   "source": [
    "#dataset_hh.to_csv(os.path.join(weights_dir, \"hh_dataset_all_uniq_text.csv\"), sep='\\t', header=True, index=None)"
   ]
  },
  {
   "cell_type": "code",
   "execution_count": 0,
   "metadata": {
    "colab": {},
    "colab_type": "code",
    "id": "w2BQAAwllytC"
   },
   "outputs": [],
   "source": [
    "#files.download(\"hh_dataset_all_uniq_text.csv\")"
   ]
  },
  {
   "cell_type": "code",
   "execution_count": 8,
   "metadata": {
    "colab": {
     "base_uri": "https://localhost:8080/",
     "height": 50
    },
    "colab_type": "code",
    "executionInfo": {
     "elapsed": 120542,
     "status": "ok",
     "timestamp": 1544418600988,
     "user": {
      "displayName": "Виктор Оверко",
      "photoUrl": "https://lh6.googleusercontent.com/-_I9YbAF9z5o/AAAAAAAAAAI/AAAAAAAAABA/NUb59sonytE/s64/photo.jpg",
      "userId": "04713510988786792129"
     },
     "user_tz": -120
    },
    "id": "tts29-15OY9T",
    "outputId": "18e8b5c7-15a6-41cb-c1b3-9196a3df6a0a"
   },
   "outputs": [
    {
     "name": "stdout",
     "output_type": "stream",
     "text": [
      "CPU times: user 1min 56s, sys: 787 ms, total: 1min 57s\n",
      "Wall time: 2min\n"
     ]
    }
   ],
   "source": [
    "%%time\n",
    "vectorizer = KeyedVectors.load_word2vec_format(w2v_path, binary=False)"
   ]
  },
  {
   "cell_type": "markdown",
   "metadata": {
    "colab_type": "text",
    "id": "iW-wqlnMPww6"
   },
   "source": [
    "### Prepare dataset"
   ]
  },
  {
   "cell_type": "code",
   "execution_count": 0,
   "metadata": {
    "colab": {},
    "colab_type": "code",
    "id": "4hzMgC-ZObl9"
   },
   "outputs": [],
   "source": [
    "def get_mask(text, req):\n",
    "    \n",
    "    text = text.split(\" \")\n",
    "    req = req.split(\" \")\n",
    "    mask = np.zeros(len(text))\n",
    "    \n",
    "    i = 0\n",
    "    while i  <= (len(text)):      \n",
    "                   \n",
    "        if (req == text[i: i + len(req)]):\n",
    "            for j in range(len(req)):\n",
    "                mask[i + j] = 1\n",
    "            i += 1\n",
    "            break\n",
    "\n",
    "        i += 1\n",
    "    return mask "
   ]
  },
  {
   "cell_type": "code",
   "execution_count": 0,
   "metadata": {
    "colab": {},
    "colab_type": "code",
    "id": "WBRiJSO_P42Z"
   },
   "outputs": [],
   "source": [
    "def get_training_sample(model, text):\n",
    "    \"\"\"\n",
    "    Gets 1 sample of training data\n",
    "    \n",
    "    :param  model text:\n",
    "    :return str text:\n",
    "    \"\"\"\n",
    "    tagged_list = text.split(\" \")\n",
    "\n",
    "    vec_list = []\n",
    "    \n",
    "    #converting word2vec \n",
    "    for word in tagged_list:\n",
    "        try:\n",
    "            vec_list.append(model[word])\n",
    "        except:\n",
    "            #print(\"Word \" + word + \" isn't in vocab. Embeding as zeros\")\n",
    "            vec_list.append(np.zeros(300))\n",
    "    return vec_list\n",
    "  "
   ]
  },
  {
   "cell_type": "code",
   "execution_count": 11,
   "metadata": {
    "colab": {
     "base_uri": "https://localhost:8080/",
     "height": 67
    },
    "colab_type": "code",
    "executionInfo": {
     "elapsed": 116111,
     "status": "ok",
     "timestamp": 1544418602647,
     "user": {
      "displayName": "Виктор Оверко",
      "photoUrl": "https://lh6.googleusercontent.com/-_I9YbAF9z5o/AAAAAAAAAAI/AAAAAAAAABA/NUb59sonytE/s64/photo.jpg",
      "userId": "04713510988786792129"
     },
     "user_tz": -120
    },
    "id": "ADcED57Ii3_a",
    "outputId": "51a45b25-f197-4d27-a020-85fe359f65fb"
   },
   "outputs": [
    {
     "name": "stdout",
     "output_type": "stream",
     "text": [
      "Mean text len = 111.80434782608695\n",
      "111.80434782608695\n",
      "65.93662072104469\n"
     ]
    }
   ],
   "source": [
    "lens = []\n",
    "total_len = 0\n",
    "for i, raw in dataset_hh.iterrows():\n",
    "  doc_len = len(raw[\"text_lemmas\"].split(\" \"))\n",
    "  total_len += doc_len\n",
    "  lens.append(doc_len)\n",
    "  \n",
    "mean_len = total_len / len( dataset_hh)\n",
    "print(\"Mean text len =\", mean_len)\n",
    "  \n",
    "print(np.mean(lens))\n",
    "print(np.std(lens))"
   ]
  },
  {
   "cell_type": "code",
   "execution_count": 0,
   "metadata": {
    "colab": {},
    "colab_type": "code",
    "id": "OJTf9l9dRZhR"
   },
   "outputs": [],
   "source": [
    "#text = dataset_hh.loc[0, \"text_lemmas_tags\"]\n",
    "#print(text)\n",
    "#sub_text = dataset_hh.loc[0, \"requirement_lemmas_tags\"]\n",
    "#print(sub_text)"
   ]
  },
  {
   "cell_type": "code",
   "execution_count": 0,
   "metadata": {
    "colab": {},
    "colab_type": "code",
    "id": "OjnQMUH4UmZd"
   },
   "outputs": [],
   "source": [
    "#index = 0\n",
    "#text = dataset_hh.loc[index, \"text_lemmas\"]\n",
    "#sub_text = dataset_hh.loc[index, \"requirement_lemmas\"]\n",
    "#sub_text2 = dataset_hh.loc[index, \"responsibility_lemmas\"]\n",
    "#\n",
    "#y1 = get_mask(text, sub_text)\n",
    "#y2 = get_mask(text, sub_text2)\n",
    "#y = np.logical_or(y1, y2).astype(int)\n",
    "#\n",
    "#x = get_training_sample(vectorizer, text)"
   ]
  },
  {
   "cell_type": "code",
   "execution_count": 0,
   "metadata": {
    "colab": {},
    "colab_type": "code",
    "id": "i6u1stoRRBDN"
   },
   "outputs": [],
   "source": [
    "#print(len(x))\n",
    "#print(len(y))\n",
    "#print(y)\n",
    "#x = sequence.pad_sequences([x], maxlen=100, dtype='float', padding=\"post\", truncating=\"post\")\n",
    "#y = sequence.pad_sequences([list(y)], maxlen=100, dtype='float', padding=\"post\", truncating=\"post\")\n",
    "#print()\n",
    "#print(y)\n",
    "#print()\n",
    "#print(len(x[0]))\n",
    "#print(len(y[0]))"
   ]
  },
  {
   "cell_type": "code",
   "execution_count": 0,
   "metadata": {
    "colab": {},
    "colab_type": "code",
    "id": "_oFZwjHXjXKU"
   },
   "outputs": [],
   "source": [
    "#x[0][99]"
   ]
  },
  {
   "cell_type": "code",
   "execution_count": 0,
   "metadata": {
    "colab": {},
    "colab_type": "code",
    "id": "OoYsBV_dh_jw"
   },
   "outputs": [],
   "source": [
    "#print(sub_text)\n",
    "#print(sub_text2)\n",
    "#print(text)"
   ]
  },
  {
   "cell_type": "code",
   "execution_count": 0,
   "metadata": {
    "colab": {},
    "colab_type": "code",
    "id": "swdTHYfBhxAT"
   },
   "outputs": [],
   "source": [
    "def get_one_sample(row, max_len=200):\n",
    "  if not isinstance(row[\"requirement_norm\"], str) or not isinstance(row[\"responsibility_norm\"], str) :\n",
    "    print(\"Try another document\")\n",
    "    return None\n",
    "  text = row[\"text_lemmas_tags\"]\n",
    "  x_sample = get_training_sample(vectorizer, text)\n",
    "\n",
    "  text = row[\"text_lemmas\"]\n",
    "  sub_text = row[\"requirement_lemmas\"]\n",
    "  sub_text2 = row[\"responsibility_lemmas\"]\n",
    "  \n",
    "  y1 = get_mask(text, sub_text)\n",
    "  y2 = get_mask(text, sub_text2) \n",
    "  y_sample = np.logical_or(y1, y2).astype(int)\n",
    "  \n",
    "  assert(len(x_sample) == len(y_sample))\n",
    "  \n",
    "  x_sample = sequence.pad_sequences([x_sample], maxlen=max_len, dtype='float', padding=\"post\", truncating=\"post\")\n",
    "  y_sample = sequence.pad_sequences([list(y_sample)], maxlen=max_len, dtype='float', padding=\"post\", truncating=\"post\")\n",
    "  \n",
    "  y_sample = np.array(y_sample)\n",
    "  y_sample = np.reshape(y_sample, (1, -1, 1))\n",
    "  x_sample = np.array(x_sample)\n",
    "  \n",
    "  y_new = np.zeros((y_sample.shape[0], y_sample.shape[1], 2))\n",
    "  for j in range(y_sample.shape[1]):\n",
    "    y_new[0, j] = to_categorical(y_sample[0, j, 0], num_classes=2)\n",
    "    \n",
    "  y_sample = y_new\n",
    "  #print(\"x shape =\", x_sample.shape, \" y shape =\", y_sample.shape)\n",
    "  \n",
    "  return x_sample, y_sample\n",
    "  "
   ]
  },
  {
   "cell_type": "code",
   "execution_count": 0,
   "metadata": {
    "colab": {},
    "colab_type": "code",
    "id": "aWupQ_T9ldpI"
   },
   "outputs": [],
   "source": [
    "x, y = get_one_sample(dataset_hh.loc[0], max_len=200)"
   ]
  },
  {
   "cell_type": "code",
   "execution_count": 14,
   "metadata": {
    "colab": {
     "base_uri": "https://localhost:8080/",
     "height": 84
    },
    "colab_type": "code",
    "executionInfo": {
     "elapsed": 118475,
     "status": "ok",
     "timestamp": 1544418617687,
     "user": {
      "displayName": "Виктор Оверко",
      "photoUrl": "https://lh6.googleusercontent.com/-_I9YbAF9z5o/AAAAAAAAAAI/AAAAAAAAABA/NUb59sonytE/s64/photo.jpg",
      "userId": "04713510988786792129"
     },
     "user_tz": -120
    },
    "id": "cSr4oPdtSD4Y",
    "outputId": "adb824e2-5fe4-48ca-a066-4b62aa1ba939"
   },
   "outputs": [
    {
     "name": "stdout",
     "output_type": "stream",
     "text": [
      "Max len real= 814\n",
      "Max len to reshape = 200\n",
      "CPU times: user 9.33 s, sys: 5.5 s, total: 14.8 s\n",
      "Wall time: 14.8 s\n"
     ]
    }
   ],
   "source": [
    "%%time\n",
    "X = []\n",
    "Y = []\n",
    "max_len_real = 0\n",
    "max_len = 200\n",
    "n_samples = 10_709\n",
    "# 10_000: 12_000 - for text\n",
    "for i, row in dataset_hh.loc[: n_samples].iterrows():\n",
    "  if not isinstance(row[\"requirement_norm\"], str) or not isinstance(row[\"responsibility_norm\"], str) :\n",
    "    continue\n",
    "  text = row[\"text_lemmas_tags\"]\n",
    "  x_sample = get_training_sample(vectorizer, text)\n",
    "\n",
    "  text = row[\"text_lemmas\"]\n",
    "  sub_text = row[\"requirement_lemmas\"]\n",
    "  sub_text2 = row[\"responsibility_lemmas\"]\n",
    "  \n",
    "  y1 = get_mask(text, sub_text)\n",
    "  y2 = get_mask(text, sub_text2) \n",
    "  y_sample = np.logical_or(y1, y2).astype(int)\n",
    "  \n",
    "  Y.append(y_sample)\n",
    "  X.append(x_sample)\n",
    "  \n",
    "  if (len(x_sample) != len(y_sample)):\n",
    "    print(len(x_sample))\n",
    "    print(len(y_sample))\n",
    "    print(len(row[\"text_normalized\"].split(\" \")))\n",
    "    print(y_sample)\n",
    "    print(i)\n",
    "  assert(len(x_sample) == len(y_sample))\n",
    "  \n",
    "  if len(y_sample) > max_len_real:\n",
    "    max_len_real = len(y_sample)\n",
    "    \n",
    "X = sequence.pad_sequences(X, maxlen=max_len, dtype='float', padding=\"post\", truncating=\"post\")\n",
    "Y = sequence.pad_sequences(Y, maxlen=max_len, dtype='float', padding=\"post\", truncating=\"post\")\n",
    "       \n",
    "Y = np.array(Y)\n",
    "Y = np.reshape(Y, (Y.shape[0], Y.shape[1], -1))\n",
    "X = np.array(X)\n",
    "print(\"Max len real=\", max_len_real)\n",
    "print(\"Max len to reshape =\", max_len)\n"
   ]
  },
  {
   "cell_type": "code",
   "execution_count": 0,
   "metadata": {
    "colab": {},
    "colab_type": "code",
    "id": "7cDHzKDgshna"
   },
   "outputs": [],
   "source": [
    "#print(Y[index])"
   ]
  },
  {
   "cell_type": "code",
   "execution_count": 15,
   "metadata": {
    "colab": {
     "base_uri": "https://localhost:8080/",
     "height": 50
    },
    "colab_type": "code",
    "executionInfo": {
     "elapsed": 114206,
     "status": "ok",
     "timestamp": 1544418617691,
     "user": {
      "displayName": "Виктор Оверко",
      "photoUrl": "https://lh6.googleusercontent.com/-_I9YbAF9z5o/AAAAAAAAAAI/AAAAAAAAABA/NUb59sonytE/s64/photo.jpg",
      "userId": "04713510988786792129"
     },
     "user_tz": -120
    },
    "id": "ln9xVkHiYcLU",
    "outputId": "bc27b65d-e3d6-4418-efd9-8a2164dc5080"
   },
   "outputs": [
    {
     "name": "stdout",
     "output_type": "stream",
     "text": [
      "(10000, 200, 300)\n",
      "(10000, 200, 1)\n"
     ]
    }
   ],
   "source": [
    "print(X.shape)\n",
    "print(Y.shape)"
   ]
  },
  {
   "cell_type": "markdown",
   "metadata": {
    "colab_type": "text",
    "id": "wF1JdoOPeGbh"
   },
   "source": [
    "### seq2seq model"
   ]
  },
  {
   "cell_type": "code",
   "execution_count": 16,
   "metadata": {
    "colab": {
     "base_uri": "https://localhost:8080/",
     "height": 67
    },
    "colab_type": "code",
    "executionInfo": {
     "elapsed": 18417,
     "status": "ok",
     "timestamp": 1544418845873,
     "user": {
      "displayName": "Виктор Оверко",
      "photoUrl": "https://lh6.googleusercontent.com/-_I9YbAF9z5o/AAAAAAAAAAI/AAAAAAAAABA/NUb59sonytE/s64/photo.jpg",
      "userId": "04713510988786792129"
     },
     "user_tz": -120
    },
    "id": "MqQGyqzumLIF",
    "outputId": "f0a99d47-e8be-4c93-8f80-1fcbecfb2195"
   },
   "outputs": [
    {
     "name": "stdout",
     "output_type": "stream",
     "text": [
      "(10000, 200, 2)\n",
      "CPU times: user 18 s, sys: 10.2 ms, total: 18 s\n",
      "Wall time: 18 s\n"
     ]
    }
   ],
   "source": [
    "%%time\n",
    "Y_new = np.zeros((Y.shape[0], Y.shape[1], 2))\n",
    "for i in range(Y.shape[0]):\n",
    "  for j in range(Y.shape[1]):\n",
    "    Y_new[i, j] = to_categorical(Y[i, j, 0], num_classes=2)\n",
    "    \n",
    "Y = Y_new\n",
    "print(Y.shape)"
   ]
  },
  {
   "cell_type": "code",
   "execution_count": 17,
   "metadata": {
    "colab": {
     "base_uri": "https://localhost:8080/",
     "height": 50
    },
    "colab_type": "code",
    "executionInfo": {
     "elapsed": 16308,
     "status": "ok",
     "timestamp": 1544418847653,
     "user": {
      "displayName": "Виктор Оверко",
      "photoUrl": "https://lh6.googleusercontent.com/-_I9YbAF9z5o/AAAAAAAAAAI/AAAAAAAAABA/NUb59sonytE/s64/photo.jpg",
      "userId": "04713510988786792129"
     },
     "user_tz": -120
    },
    "id": "1fpSLvO0i-4T",
    "outputId": "d303a909-1901-44dd-8334-dc1d5cbe810c"
   },
   "outputs": [
    {
     "name": "stdout",
     "output_type": "stream",
     "text": [
      "CPU times: user 1.74 s, sys: 3.06 ms, total: 1.75 s\n",
      "Wall time: 1.75 s\n"
     ]
    }
   ],
   "source": [
    "%%time\n",
    "encoder_input_data = X\n",
    "decoder_input_data = Y\n",
    "\n",
    "decoder_target_data = np.zeros(Y.shape)\n",
    "\n",
    "for i in range(Y.shape[0]):\n",
    "  for j in range(0, Y.shape[1]-1):\n",
    "    decoder_target_data[i, j] =  Y[i, j + 1]"
   ]
  },
  {
   "cell_type": "code",
   "execution_count": 0,
   "metadata": {
    "colab": {},
    "colab_type": "code",
    "id": "cZquRHwAjhIe"
   },
   "outputs": [],
   "source": [
    "#for i in range(0, 30):\n",
    "#    print('Y:', np.argmax(Y[index, i]), 'Target', np.argmax(decoder_target_data[index, i]))"
   ]
  },
  {
   "cell_type": "code",
   "execution_count": 0,
   "metadata": {
    "colab": {},
    "colab_type": "code",
    "id": "DW834k1rfVNI"
   },
   "outputs": [],
   "source": [
    "max_len = 200\n",
    "\n",
    "num_encoder_tokens = 300\n",
    "latent_dim = 400\n",
    "\n",
    "num_decoder_tokens = 2\n",
    "max_decoder_seq_length = max_len\n",
    "\n",
    "batch_size = 64\n",
    "epochs = 40"
   ]
  },
  {
   "cell_type": "code",
   "execution_count": 0,
   "metadata": {
    "colab": {},
    "colab_type": "code",
    "id": "KKSoC2ofo16y"
   },
   "outputs": [],
   "source": [
    "from keras.callbacks import ModelCheckpoint, EarlyStopping"
   ]
  },
  {
   "cell_type": "code",
   "execution_count": 0,
   "metadata": {
    "colab": {},
    "colab_type": "code",
    "id": "_ZCgcfc2qbIe"
   },
   "outputs": [],
   "source": [
    "callbacks = [ModelCheckpoint(os.path.join(weights_dir, 'seq2seq_2.{epoch:02d}-{acc:.2f}.hdf5'))]"
   ]
  },
  {
   "cell_type": "code",
   "execution_count": 0,
   "metadata": {
    "colab": {},
    "colab_type": "code",
    "id": "ncp8J_eMZXSZ"
   },
   "outputs": [],
   "source": [
    "\n",
    "# Define an input sequence and process it.\n",
    "encoder_inputs = Input(shape=(None, num_encoder_tokens))\n",
    "encoder = Bidirectional(LSTM(latent_dim // 2, return_state=True))\n",
    "\n",
    "#a = encoder(encoder_inputs)\n",
    "#print(len(a))\n",
    "#encoder_outputs, state_h, state_c = encoder(encoder_inputs)\n",
    "\n",
    "encoder_outputs, forward_h, forward_c, backward_h, backward_c = encoder(encoder_inputs)\n",
    "state_h = Concatenate(axis=1)([forward_h, backward_h])\n",
    "state_c = Concatenate(axis=1)([forward_c, backward_c])\n",
    "\n",
    "# We discard `encoder_outputs` and only keep the states.\n",
    "encoder_states = [state_h, state_c]\n",
    "\n",
    "# Set up the decoder, using `encoder_states` as initial state.\n",
    "decoder_inputs = Input(shape=(None, num_decoder_tokens))\n",
    "# We set up our decoder to return full output sequences,\n",
    "# and to return internal states as well. We don't use the \n",
    "# return states in the training model, but we will use them in inference.\n",
    "#decoder_lstm = LSTM(latent_dim, return_sequences=True, return_state=True)\n",
    "decoder_lstm = LSTM(latent_dim, return_sequences=True, return_state=True)\n",
    "decoder_outputs, _, _ = decoder_lstm(decoder_inputs, initial_state=encoder_states)\n",
    "decoder_dense = Dense(num_decoder_tokens, activation='softmax')\n",
    "decoder_outputs = decoder_dense(decoder_outputs)\n",
    "\n",
    "# Define the model that will turn\n",
    "# `encoder_input_data` & `decoder_input_data` into `decoder_target_data`\n",
    "model = Model([encoder_inputs, decoder_inputs], decoder_outputs)\n"
   ]
  },
  {
   "cell_type": "code",
   "execution_count": 0,
   "metadata": {
    "colab": {},
    "colab_type": "code",
    "id": "v1owkEuch2hT"
   },
   "outputs": [],
   "source": [
    "#model = load_model(os.path.join(weights_dir, 'seq2seq_2.33-0.99.hdf5'))"
   ]
  },
  {
   "cell_type": "code",
   "execution_count": 0,
   "metadata": {
    "colab": {},
    "colab_type": "code",
    "id": "qM5qUw-imzgs"
   },
   "outputs": [],
   "source": [
    "#model.save_weights(os.path.join(weights_dir, 'seq2seq_2.33-0.99_weights.h5'))"
   ]
  },
  {
   "cell_type": "code",
   "execution_count": 0,
   "metadata": {
    "colab": {},
    "colab_type": "code",
    "id": "cN8_bkbfnGlM"
   },
   "outputs": [],
   "source": [
    "model.load_weights(os.path.join(weights_dir, 'seq2seq_2.33-0.99_weights.h5'))"
   ]
  },
  {
   "cell_type": "code",
   "execution_count": 0,
   "metadata": {
    "colab": {},
    "colab_type": "code",
    "id": "IdN2gd8WhnFW"
   },
   "outputs": [],
   "source": [
    "# Run training\n",
    "model.compile(optimizer='rmsprop', loss='categorical_crossentropy', loss_weights=[[0.1, 1000_000]], metrics=['accuracy'])\n"
   ]
  },
  {
   "cell_type": "code",
   "execution_count": 42,
   "metadata": {
    "colab": {
     "base_uri": "https://localhost:8080/",
     "height": 435
    },
    "colab_type": "code",
    "executionInfo": {
     "elapsed": 506,
     "status": "ok",
     "timestamp": 1544420252770,
     "user": {
      "displayName": "Виктор Оверко",
      "photoUrl": "https://lh6.googleusercontent.com/-_I9YbAF9z5o/AAAAAAAAAAI/AAAAAAAAABA/NUb59sonytE/s64/photo.jpg",
      "userId": "04713510988786792129"
     },
     "user_tz": -120
    },
    "id": "ggeOuyn4Y5JN",
    "outputId": "6779f4b8-81b0-4ceb-d86b-bcff25f11f98"
   },
   "outputs": [
    {
     "name": "stdout",
     "output_type": "stream",
     "text": [
      "__________________________________________________________________________________________________\n",
      "Layer (type)                    Output Shape         Param #     Connected to                     \n",
      "==================================================================================================\n",
      "input_1 (InputLayer)            (None, None, 300)    0                                            \n",
      "__________________________________________________________________________________________________\n",
      "bidirectional_1 (Bidirectional) [(None, 400), (None, 801600      input_1[0][0]                    \n",
      "__________________________________________________________________________________________________\n",
      "input_2 (InputLayer)            (None, None, 2)      0                                            \n",
      "__________________________________________________________________________________________________\n",
      "concatenate_1 (Concatenate)     (None, 400)          0           bidirectional_1[0][1]            \n",
      "                                                                 bidirectional_1[0][3]            \n",
      "__________________________________________________________________________________________________\n",
      "concatenate_2 (Concatenate)     (None, 400)          0           bidirectional_1[0][2]            \n",
      "                                                                 bidirectional_1[0][4]            \n",
      "__________________________________________________________________________________________________\n",
      "lstm_3 (LSTM)                   [(None, None, 400),  644800      input_2[0][0]                    \n",
      "                                                                 concatenate_1[0][0]              \n",
      "                                                                 concatenate_2[0][0]              \n",
      "__________________________________________________________________________________________________\n",
      "dense_1 (Dense)                 (None, None, 2)      802         lstm_3[0][0]                     \n",
      "==================================================================================================\n",
      "Total params: 1,447,202\n",
      "Trainable params: 1,447,202\n",
      "Non-trainable params: 0\n",
      "__________________________________________________________________________________________________\n"
     ]
    }
   ],
   "source": [
    "model.summary()"
   ]
  },
  {
   "cell_type": "code",
   "execution_count": 54,
   "metadata": {
    "colab": {
     "base_uri": "https://localhost:8080/",
     "height": 1442
    },
    "colab_type": "code",
    "executionInfo": {
     "elapsed": 8694908,
     "status": "ok",
     "timestamp": 1544429079212,
     "user": {
      "displayName": "Виктор Оверко",
      "photoUrl": "https://lh6.googleusercontent.com/-_I9YbAF9z5o/AAAAAAAAAAI/AAAAAAAAABA/NUb59sonytE/s64/photo.jpg",
      "userId": "04713510988786792129"
     },
     "user_tz": -120
    },
    "id": "EZ0oj78OhpHO",
    "outputId": "2ecc1acd-1950-4c75-9af3-cb68c17aee62"
   },
   "outputs": [
    {
     "name": "stdout",
     "output_type": "stream",
     "text": [
      "Epoch 1/40\n",
      "10000/10000 [==============================] - 221s 22ms/step - loss: 15733.7637 - acc: 0.9891\n"
     ]
    },
    {
     "name": "stderr",
     "output_type": "stream",
     "text": [
      "/usr/local/lib/python3.6/dist-packages/keras/engine/network.py:877: UserWarning: Layer lstm_3 was passed non-serializable keyword arguments: {'initial_state': [<tf.Tensor 'concatenate_1_2/concat:0' shape=(?, 400) dtype=float32>, <tf.Tensor 'concatenate_2_2/concat:0' shape=(?, 400) dtype=float32>]}. They will not be included in the serialized model (and thus will be missing at deserialization time).\n",
      "  '. They will not be included '\n"
     ]
    },
    {
     "name": "stdout",
     "output_type": "stream",
     "text": [
      "Epoch 2/40\n",
      "10000/10000 [==============================] - 220s 22ms/step - loss: 16634.4121 - acc: 0.9888\n",
      "Epoch 3/40\n",
      "10000/10000 [==============================] - 220s 22ms/step - loss: 15873.1699 - acc: 0.9890\n",
      "Epoch 4/40\n",
      "10000/10000 [==============================] - 217s 22ms/step - loss: 15373.4414 - acc: 0.9892\n",
      "Epoch 5/40\n",
      "10000/10000 [==============================] - 221s 22ms/step - loss: 15024.5166 - acc: 0.9894\n",
      "Epoch 6/40\n",
      "10000/10000 [==============================] - 217s 22ms/step - loss: 14707.8164 - acc: 0.9895\n",
      "Epoch 7/40\n",
      "10000/10000 [==============================] - 216s 22ms/step - loss: 14570.2266 - acc: 0.9896\n",
      "Epoch 8/40\n",
      "10000/10000 [==============================] - 219s 22ms/step - loss: 14304.5293 - acc: 0.9898\n",
      "Epoch 9/40\n",
      "10000/10000 [==============================] - 218s 22ms/step - loss: 14106.6826 - acc: 0.9899\n",
      "Epoch 10/40\n",
      "10000/10000 [==============================] - 217s 22ms/step - loss: 15381.5117 - acc: 0.9894\n",
      "Epoch 11/40\n",
      "10000/10000 [==============================] - 218s 22ms/step - loss: 16591.8281 - acc: 0.9889\n",
      "Epoch 12/40\n",
      "10000/10000 [==============================] - 218s 22ms/step - loss: 14694.9297 - acc: 0.9896\n",
      "Epoch 13/40\n",
      "10000/10000 [==============================] - 218s 22ms/step - loss: 14037.7773 - acc: 0.9899\n",
      "Epoch 14/40\n",
      "10000/10000 [==============================] - 213s 21ms/step - loss: 14021.1367 - acc: 0.9900\n",
      "Epoch 15/40\n",
      "10000/10000 [==============================] - 215s 21ms/step - loss: 13645.7871 - acc: 0.9902\n",
      "Epoch 16/40\n",
      "10000/10000 [==============================] - 212s 21ms/step - loss: 13505.7598 - acc: 0.9902\n",
      "Epoch 17/40\n",
      "10000/10000 [==============================] - 213s 21ms/step - loss: 13317.9492 - acc: 0.9903\n",
      "Epoch 18/40\n",
      "10000/10000 [==============================] - 216s 22ms/step - loss: 14007.4863 - acc: 0.9902\n",
      "Epoch 19/40\n",
      "10000/10000 [==============================] - 216s 22ms/step - loss: 13101.7666 - acc: 0.9905\n",
      "Epoch 20/40\n",
      "10000/10000 [==============================] - 215s 21ms/step - loss: 12969.3379 - acc: 0.9905\n",
      "Epoch 21/40\n",
      "10000/10000 [==============================] - 214s 21ms/step - loss: 12896.1787 - acc: 0.9906\n",
      "Epoch 22/40\n",
      "10000/10000 [==============================] - 214s 21ms/step - loss: 12863.6914 - acc: 0.9906\n",
      "Epoch 23/40\n",
      "10000/10000 [==============================] - 213s 21ms/step - loss: 12776.9863 - acc: 0.9907\n",
      "Epoch 24/40\n",
      "10000/10000 [==============================] - 216s 22ms/step - loss: 12794.1289 - acc: 0.9908\n",
      "Epoch 25/40\n",
      "10000/10000 [==============================] - 219s 22ms/step - loss: 12779.6475 - acc: 0.9907\n",
      "Epoch 26/40\n",
      "10000/10000 [==============================] - 217s 22ms/step - loss: 12620.8691 - acc: 0.9909\n",
      "Epoch 27/40\n",
      "10000/10000 [==============================] - 217s 22ms/step - loss: 12825.0557 - acc: 0.9906\n",
      "Epoch 28/40\n",
      "10000/10000 [==============================] - 217s 22ms/step - loss: 13119.3721 - acc: 0.9906\n",
      "Epoch 29/40\n",
      "10000/10000 [==============================] - 215s 22ms/step - loss: 12112.6729 - acc: 0.9910\n",
      "Epoch 30/40\n",
      "10000/10000 [==============================] - 216s 22ms/step - loss: 11898.3672 - acc: 0.9912\n",
      "Epoch 31/40\n",
      "10000/10000 [==============================] - 216s 22ms/step - loss: 11829.4775 - acc: 0.9912\n",
      "Epoch 32/40\n",
      "10000/10000 [==============================] - 218s 22ms/step - loss: 11844.3760 - acc: 0.9912\n",
      "Epoch 33/40\n",
      "10000/10000 [==============================] - 218s 22ms/step - loss: 11858.0430 - acc: 0.9913\n",
      "Epoch 34/40\n",
      "10000/10000 [==============================] - 217s 22ms/step - loss: 12608.0469 - acc: 0.9908\n",
      "Epoch 35/40\n",
      "10000/10000 [==============================] - 217s 22ms/step - loss: 12100.6270 - acc: 0.9911\n",
      "Epoch 36/40\n",
      "10000/10000 [==============================] - 217s 22ms/step - loss: 11693.5869 - acc: 0.9913\n",
      "Epoch 37/40\n",
      "10000/10000 [==============================] - 219s 22ms/step - loss: 11284.7852 - acc: 0.9916\n",
      "Epoch 38/40\n",
      "10000/10000 [==============================] - 218s 22ms/step - loss: 11049.4023 - acc: 0.9917\n",
      "Epoch 39/40\n",
      "10000/10000 [==============================] - 220s 22ms/step - loss: 10863.3789 - acc: 0.9918\n",
      "Epoch 40/40\n",
      "10000/10000 [==============================] - 217s 22ms/step - loss: 10685.7412 - acc: 0.9919\n",
      "CPU times: user 2h 53min 30s, sys: 20min 42s, total: 3h 14min 12s\n",
      "Wall time: 2h 24min 54s\n"
     ]
    }
   ],
   "source": [
    "%%time\n",
    "history = model.fit([encoder_input_data, decoder_input_data], decoder_target_data,\n",
    "          batch_size=batch_size,\n",
    "          epochs=epochs,\n",
    "          #validation_split=0.1,\n",
    "          callbacks=callbacks,\n",
    "          verbose=1)\n",
    "#  class_weight={0: 1.0, 1: 1000}"
   ]
  },
  {
   "cell_type": "code",
   "execution_count": 44,
   "metadata": {
    "colab": {
     "base_uri": "https://localhost:8080/",
     "height": 134
    },
    "colab_type": "code",
    "executionInfo": {
     "elapsed": 507,
     "status": "ok",
     "timestamp": 1544420273636,
     "user": {
      "displayName": "Виктор Оверко",
      "photoUrl": "https://lh6.googleusercontent.com/-_I9YbAF9z5o/AAAAAAAAAAI/AAAAAAAAABA/NUb59sonytE/s64/photo.jpg",
      "userId": "04713510988786792129"
     },
     "user_tz": -120
    },
    "id": "zHp-52ETi9u9",
    "outputId": "e6896567-33af-4951-8b8f-da7a85e54ae4"
   },
   "outputs": [
    {
     "data": {
      "text/plain": [
       "[<keras.engine.input_layer.InputLayer at 0x7f52ef72d748>,\n",
       " <keras.layers.wrappers.Bidirectional at 0x7f52ef72d908>,\n",
       " <keras.engine.input_layer.InputLayer at 0x7f52ef72dcf8>,\n",
       " <keras.layers.merge.Concatenate at 0x7f52ef72dc18>,\n",
       " <keras.layers.merge.Concatenate at 0x7f52ef721358>,\n",
       " <keras.layers.recurrent.LSTM at 0x7f52ef72dbe0>,\n",
       " <keras.layers.core.Dense at 0x7f52ef7b4f60>]"
      ]
     },
     "execution_count": 44,
     "metadata": {
      "tags": []
     },
     "output_type": "execute_result"
    }
   ],
   "source": [
    "model.layers"
   ]
  },
  {
   "cell_type": "code",
   "execution_count": 0,
   "metadata": {
    "colab": {},
    "colab_type": "code",
    "id": "NWxOZ9NEjgYs"
   },
   "outputs": [],
   "source": [
    "\n",
    "#encoder_inputs = model.layers[0]\n",
    "#encoder_states = model.layers[3: 5]\n",
    "#decoder_inputs = model.layers[2]\n",
    "\n",
    "#decoder_lstm = LSTM(latent_dim, return_sequences=True, return_state=True)\n",
    "\n"
   ]
  },
  {
   "cell_type": "code",
   "execution_count": 0,
   "metadata": {
    "colab": {},
    "colab_type": "code",
    "id": "GUdRsBRZp18w"
   },
   "outputs": [],
   "source": [
    "encoder_model = Model(encoder_inputs, encoder_states)\n",
    "\n",
    "decoder_state_input_h = Input(shape=(latent_dim,))\n",
    "decoder_state_input_c = Input(shape=(latent_dim,))\n",
    "decoder_states_inputs = [decoder_state_input_h, decoder_state_input_c]\n",
    "decoder_outputs, state_h, state_c = decoder_lstm(\n",
    "    decoder_inputs, initial_state=decoder_states_inputs)\n",
    "decoder_states = [state_h, state_c]\n",
    "decoder_outputs = decoder_dense(decoder_outputs)\n",
    "decoder_model = Model(\n",
    "    [decoder_inputs] + decoder_states_inputs,\n",
    "    [decoder_outputs] + decoder_states)"
   ]
  },
  {
   "cell_type": "code",
   "execution_count": 0,
   "metadata": {
    "colab": {},
    "colab_type": "code",
    "id": "YqbUFhdyeMFT"
   },
   "outputs": [],
   "source": [
    "def decode_sequence(input_seq):\n",
    "    # Encode the input as state vectors.\n",
    "    states_value = encoder_model.predict(input_seq)\n",
    "\n",
    "    # Generate empty target sequence of length 1.\n",
    "    target_seq = np.zeros((1, 1, num_decoder_tokens))\n",
    "    # Populate the first character of target sequence with the start character.\n",
    "    target_seq[0, 0, 0] = 1.\n",
    "\n",
    "    # Sampling loop for a batch of sequences\n",
    "    # (to simplify, here we assume a batch of size 1).\n",
    "    stop_condition = False\n",
    "    decoded_sentence = []\n",
    "    while not stop_condition:\n",
    "        output_tokens, h, c = decoder_model.predict(\n",
    "            [target_seq] + states_value)\n",
    "\n",
    "        # Sample a token\n",
    "        sampled_token_index = np.argmax(output_tokens[0, -1, :])\n",
    "        \"\"\"sampled_char = reverse_target_char_index[sampled_token_index]\"\"\"\n",
    "        decoded_sentence.append(sampled_token_index)\n",
    "\n",
    "        # Exit condition: either hit max length\n",
    "        # or find stop character.\n",
    "        if (len(decoded_sentence) == max_decoder_seq_length) or \\\n",
    "        (len(decoded_sentence) > max_decoder_seq_length):\n",
    "            stop_condition = True\n",
    "\n",
    "        # Update the target sequence (of length 1).\n",
    "        target_seq = np.zeros((1, 1, num_decoder_tokens))\n",
    "        target_seq[0, 0, sampled_token_index] = 1.\n",
    "\n",
    "        # Update states\n",
    "        states_value = [h, c]\n",
    "\n",
    "    return decoded_sentence"
   ]
  },
  {
   "cell_type": "markdown",
   "metadata": {
    "colab_type": "text",
    "id": "FiuuXtj3nrtZ"
   },
   "source": [
    "### Save model"
   ]
  },
  {
   "cell_type": "code",
   "execution_count": 57,
   "metadata": {
    "colab": {
     "base_uri": "https://localhost:8080/",
     "height": 70
    },
    "colab_type": "code",
    "executionInfo": {
     "elapsed": 8637456,
     "status": "ok",
     "timestamp": 1544429079925,
     "user": {
      "displayName": "Виктор Оверко",
      "photoUrl": "https://lh6.googleusercontent.com/-_I9YbAF9z5o/AAAAAAAAAAI/AAAAAAAAABA/NUb59sonytE/s64/photo.jpg",
      "userId": "04713510988786792129"
     },
     "user_tz": -120
    },
    "id": "aJOshA2zpi4Y",
    "outputId": "db171045-02ac-4f5e-a3f9-ad1f80502e64"
   },
   "outputs": [
    {
     "name": "stderr",
     "output_type": "stream",
     "text": [
      "/usr/local/lib/python3.6/dist-packages/keras/engine/network.py:877: UserWarning: Layer lstm_3 was passed non-serializable keyword arguments: {'initial_state': [<tf.Tensor 'input_5:0' shape=(?, 400) dtype=float32>, <tf.Tensor 'input_6:0' shape=(?, 400) dtype=float32>]}. They will not be included in the serialized model (and thus will be missing at deserialization time).\n",
      "  '. They will not be included '\n"
     ]
    }
   ],
   "source": [
    "with open(os.path.join(weights_dir, 'encoder_model.json'), 'w', encoding='utf8') as f:\n",
    "    f.write(encoder_model.to_json())\n",
    "encoder_model.save_weights(os.path.join(weights_dir,'encoder_model_weights.h5'))\n",
    "\n",
    "with open(os.path.join(weights_dir,'decoder_model.json'), 'w', encoding='utf8') as f:\n",
    "    f.write(decoder_model.to_json())\n",
    "decoder_model.save_weights(os.path.join(weights_dir, 'decoder_model_weights.h5'))\n",
    "        "
   ]
  },
  {
   "cell_type": "code",
   "execution_count": 0,
   "metadata": {
    "colab": {},
    "colab_type": "code",
    "id": "UU_MhzMtuJFb"
   },
   "outputs": [],
   "source": [
    "del X\n",
    "del Y"
   ]
  },
  {
   "cell_type": "code",
   "execution_count": 0,
   "metadata": {
    "colab": {},
    "colab_type": "code",
    "id": "CgrPZm7Ia_w2"
   },
   "outputs": [],
   "source": [
    "files.download(\"encoder_model.json\")\n",
    "files.download(\"decoder_model.json\")\n",
    "files.download(\"encoder_model_weights.h5\")\n",
    "files.download(\"decoder_model_weights.h5\")"
   ]
  },
  {
   "cell_type": "markdown",
   "metadata": {
    "colab_type": "text",
    "id": "RG_Tzx37cBoO"
   },
   "source": [
    "### Load model from file to test"
   ]
  },
  {
   "cell_type": "code",
   "execution_count": 0,
   "metadata": {
    "colab": {
     "base_uri": "https://localhost:8080/",
     "height": 56,
     "resources": {
      "http://localhost:8080/nbextensions/google.colab/files.js": {
       "data": "Ly8gQ29weXJpZ2h0IDIwMTcgR29vZ2xlIExMQwovLwovLyBMaWNlbnNlZCB1bmRlciB0aGUgQXBhY2hlIExpY2Vuc2UsIFZlcnNpb24gMi4wICh0aGUgIkxpY2Vuc2UiKTsKLy8geW91IG1heSBub3QgdXNlIHRoaXMgZmlsZSBleGNlcHQgaW4gY29tcGxpYW5jZSB3aXRoIHRoZSBMaWNlbnNlLgovLyBZb3UgbWF5IG9idGFpbiBhIGNvcHkgb2YgdGhlIExpY2Vuc2UgYXQKLy8KLy8gICAgICBodHRwOi8vd3d3LmFwYWNoZS5vcmcvbGljZW5zZXMvTElDRU5TRS0yLjAKLy8KLy8gVW5sZXNzIHJlcXVpcmVkIGJ5IGFwcGxpY2FibGUgbGF3IG9yIGFncmVlZCB0byBpbiB3cml0aW5nLCBzb2Z0d2FyZQovLyBkaXN0cmlidXRlZCB1bmRlciB0aGUgTGljZW5zZSBpcyBkaXN0cmlidXRlZCBvbiBhbiAiQVMgSVMiIEJBU0lTLAovLyBXSVRIT1VUIFdBUlJBTlRJRVMgT1IgQ09ORElUSU9OUyBPRiBBTlkgS0lORCwgZWl0aGVyIGV4cHJlc3Mgb3IgaW1wbGllZC4KLy8gU2VlIHRoZSBMaWNlbnNlIGZvciB0aGUgc3BlY2lmaWMgbGFuZ3VhZ2UgZ292ZXJuaW5nIHBlcm1pc3Npb25zIGFuZAovLyBsaW1pdGF0aW9ucyB1bmRlciB0aGUgTGljZW5zZS4KCi8qKgogKiBAZmlsZW92ZXJ2aWV3IEhlbHBlcnMgZm9yIGdvb2dsZS5jb2xhYiBQeXRob24gbW9kdWxlLgogKi8KKGZ1bmN0aW9uKHNjb3BlKSB7CmZ1bmN0aW9uIHNwYW4odGV4dCwgc3R5bGVBdHRyaWJ1dGVzID0ge30pIHsKICBjb25zdCBlbGVtZW50ID0gZG9jdW1lbnQuY3JlYXRlRWxlbWVudCgnc3BhbicpOwogIGVsZW1lbnQudGV4dENvbnRlbnQgPSB0ZXh0OwogIGZvciAoY29uc3Qga2V5IG9mIE9iamVjdC5rZXlzKHN0eWxlQXR0cmlidXRlcykpIHsKICAgIGVsZW1lbnQuc3R5bGVba2V5XSA9IHN0eWxlQXR0cmlidXRlc1trZXldOwogIH0KICByZXR1cm4gZWxlbWVudDsKfQoKLy8gTWF4IG51bWJlciBvZiBieXRlcyB3aGljaCB3aWxsIGJlIHVwbG9hZGVkIGF0IGEgdGltZS4KY29uc3QgTUFYX1BBWUxPQURfU0laRSA9IDEwMCAqIDEwMjQ7Ci8vIE1heCBhbW91bnQgb2YgdGltZSB0byBibG9jayB3YWl0aW5nIGZvciB0aGUgdXNlci4KY29uc3QgRklMRV9DSEFOR0VfVElNRU9VVF9NUyA9IDMwICogMTAwMDsKCmZ1bmN0aW9uIF91cGxvYWRGaWxlcyhpbnB1dElkLCBvdXRwdXRJZCkgewogIGNvbnN0IHN0ZXBzID0gdXBsb2FkRmlsZXNTdGVwKGlucHV0SWQsIG91dHB1dElkKTsKICBjb25zdCBvdXRwdXRFbGVtZW50ID0gZG9jdW1lbnQuZ2V0RWxlbWVudEJ5SWQob3V0cHV0SWQpOwogIC8vIENhY2hlIHN0ZXBzIG9uIHRoZSBvdXRwdXRFbGVtZW50IHRvIG1ha2UgaXQgYXZhaWxhYmxlIGZvciB0aGUgbmV4dCBjYWxsCiAgLy8gdG8gdXBsb2FkRmlsZXNDb250aW51ZSBmcm9tIFB5dGhvbi4KICBvdXRwdXRFbGVtZW50LnN0ZXBzID0gc3RlcHM7CgogIHJldHVybiBfdXBsb2FkRmlsZXNDb250aW51ZShvdXRwdXRJZCk7Cn0KCi8vIFRoaXMgaXMgcm91Z2hseSBhbiBhc3luYyBnZW5lcmF0b3IgKG5vdCBzdXBwb3J0ZWQgaW4gdGhlIGJyb3dzZXIgeWV0KSwKLy8gd2hlcmUgdGhlcmUgYXJlIG11bHRpcGxlIGFzeW5jaHJvbm91cyBzdGVwcyBhbmQgdGhlIFB5dGhvbiBzaWRlIGlzIGdvaW5nCi8vIHRvIHBvbGwgZm9yIGNvbXBsZXRpb24gb2YgZWFjaCBzdGVwLgovLyBUaGlzIHVzZXMgYSBQcm9taXNlIHRvIGJsb2NrIHRoZSBweXRob24gc2lkZSBvbiBjb21wbGV0aW9uIG9mIGVhY2ggc3RlcCwKLy8gdGhlbiBwYXNzZXMgdGhlIHJlc3VsdCBvZiB0aGUgcHJldmlvdXMgc3RlcCBhcyB0aGUgaW5wdXQgdG8gdGhlIG5leHQgc3RlcC4KZnVuY3Rpb24gX3VwbG9hZEZpbGVzQ29udGludWUob3V0cHV0SWQpIHsKICBjb25zdCBvdXRwdXRFbGVtZW50ID0gZG9jdW1lbnQuZ2V0RWxlbWVudEJ5SWQob3V0cHV0SWQpOwogIGNvbnN0IHN0ZXBzID0gb3V0cHV0RWxlbWVudC5zdGVwczsKCiAgY29uc3QgbmV4dCA9IHN0ZXBzLm5leHQob3V0cHV0RWxlbWVudC5sYXN0UHJvbWlzZVZhbHVlKTsKICByZXR1cm4gUHJvbWlzZS5yZXNvbHZlKG5leHQudmFsdWUucHJvbWlzZSkudGhlbigodmFsdWUpID0+IHsKICAgIC8vIENhY2hlIHRoZSBsYXN0IHByb21pc2UgdmFsdWUgdG8gbWFrZSBpdCBhdmFpbGFibGUgdG8gdGhlIG5leHQKICAgIC8vIHN0ZXAgb2YgdGhlIGdlbmVyYXRvci4KICAgIG91dHB1dEVsZW1lbnQubGFzdFByb21pc2VWYWx1ZSA9IHZhbHVlOwogICAgcmV0dXJuIG5leHQudmFsdWUucmVzcG9uc2U7CiAgfSk7Cn0KCi8qKgogKiBHZW5lcmF0b3IgZnVuY3Rpb24gd2hpY2ggaXMgY2FsbGVkIGJldHdlZW4gZWFjaCBhc3luYyBzdGVwIG9mIHRoZSB1cGxvYWQKICogcHJvY2Vzcy4KICogQHBhcmFtIHtzdHJpbmd9IGlucHV0SWQgRWxlbWVudCBJRCBvZiB0aGUgaW5wdXQgZmlsZSBwaWNrZXIgZWxlbWVudC4KICogQHBhcmFtIHtzdHJpbmd9IG91dHB1dElkIEVsZW1lbnQgSUQgb2YgdGhlIG91dHB1dCBkaXNwbGF5LgogKiBAcmV0dXJuIHshSXRlcmFibGU8IU9iamVjdD59IEl0ZXJhYmxlIG9mIG5leHQgc3RlcHMuCiAqLwpmdW5jdGlvbiogdXBsb2FkRmlsZXNTdGVwKGlucHV0SWQsIG91dHB1dElkKSB7CiAgY29uc3QgaW5wdXRFbGVtZW50ID0gZG9jdW1lbnQuZ2V0RWxlbWVudEJ5SWQoaW5wdXRJZCk7CiAgaW5wdXRFbGVtZW50LmRpc2FibGVkID0gZmFsc2U7CgogIGNvbnN0IG91dHB1dEVsZW1lbnQgPSBkb2N1bWVudC5nZXRFbGVtZW50QnlJZChvdXRwdXRJZCk7CiAgb3V0cHV0RWxlbWVudC5pbm5lckhUTUwgPSAnJzsKCiAgY29uc3QgcGlja2VkUHJvbWlzZSA9IG5ldyBQcm9taXNlKChyZXNvbHZlKSA9PiB7CiAgICBpbnB1dEVsZW1lbnQuYWRkRXZlbnRMaXN0ZW5lcignY2hhbmdlJywgKGUpID0+IHsKICAgICAgcmVzb2x2ZShlLnRhcmdldC5maWxlcyk7CiAgICB9KTsKICB9KTsKCiAgY29uc3QgY2FuY2VsID0gZG9jdW1lbnQuY3JlYXRlRWxlbWVudCgnYnV0dG9uJyk7CiAgaW5wdXRFbGVtZW50LnBhcmVudEVsZW1lbnQuYXBwZW5kQ2hpbGQoY2FuY2VsKTsKICBjYW5jZWwudGV4dENvbnRlbnQgPSAnQ2FuY2VsIHVwbG9hZCc7CiAgY29uc3QgY2FuY2VsUHJvbWlzZSA9IG5ldyBQcm9taXNlKChyZXNvbHZlKSA9PiB7CiAgICBjYW5jZWwub25jbGljayA9ICgpID0+IHsKICAgICAgcmVzb2x2ZShudWxsKTsKICAgIH07CiAgfSk7CgogIC8vIENhbmNlbCB1cGxvYWQgaWYgdXNlciBoYXNuJ3QgcGlja2VkIGFueXRoaW5nIGluIHRpbWVvdXQuCiAgY29uc3QgdGltZW91dFByb21pc2UgPSBuZXcgUHJvbWlzZSgocmVzb2x2ZSkgPT4gewogICAgc2V0VGltZW91dCgoKSA9PiB7CiAgICAgIHJlc29sdmUobnVsbCk7CiAgICB9LCBGSUxFX0NIQU5HRV9USU1FT1VUX01TKTsKICB9KTsKCiAgLy8gV2FpdCBmb3IgdGhlIHVzZXIgdG8gcGljayB0aGUgZmlsZXMuCiAgY29uc3QgZmlsZXMgPSB5aWVsZCB7CiAgICBwcm9taXNlOiBQcm9taXNlLnJhY2UoW3BpY2tlZFByb21pc2UsIHRpbWVvdXRQcm9taXNlLCBjYW5jZWxQcm9taXNlXSksCiAgICByZXNwb25zZTogewogICAgICBhY3Rpb246ICdzdGFydGluZycsCiAgICB9CiAgfTsKCiAgaWYgKCFmaWxlcykgewogICAgcmV0dXJuIHsKICAgICAgcmVzcG9uc2U6IHsKICAgICAgICBhY3Rpb246ICdjb21wbGV0ZScsCiAgICAgIH0KICAgIH07CiAgfQoKICBjYW5jZWwucmVtb3ZlKCk7CgogIC8vIERpc2FibGUgdGhlIGlucHV0IGVsZW1lbnQgc2luY2UgZnVydGhlciBwaWNrcyBhcmUgbm90IGFsbG93ZWQuCiAgaW5wdXRFbGVtZW50LmRpc2FibGVkID0gdHJ1ZTsKCiAgZm9yIChjb25zdCBmaWxlIG9mIGZpbGVzKSB7CiAgICBjb25zdCBsaSA9IGRvY3VtZW50LmNyZWF0ZUVsZW1lbnQoJ2xpJyk7CiAgICBsaS5hcHBlbmQoc3BhbihmaWxlLm5hbWUsIHtmb250V2VpZ2h0OiAnYm9sZCd9KSk7CiAgICBsaS5hcHBlbmQoc3BhbigKICAgICAgICBgKCR7ZmlsZS50eXBlIHx8ICduL2EnfSkgLSAke2ZpbGUuc2l6ZX0gYnl0ZXMsIGAgKwogICAgICAgIGBsYXN0IG1vZGlmaWVkOiAkewogICAgICAgICAgICBmaWxlLmxhc3RNb2RpZmllZERhdGUgPyBmaWxlLmxhc3RNb2RpZmllZERhdGUudG9Mb2NhbGVEYXRlU3RyaW5nKCkgOgogICAgICAgICAgICAgICAgICAgICAgICAgICAgICAgICAgICAnbi9hJ30gLSBgKSk7CiAgICBjb25zdCBwZXJjZW50ID0gc3BhbignMCUgZG9uZScpOwogICAgbGkuYXBwZW5kQ2hpbGQocGVyY2VudCk7CgogICAgb3V0cHV0RWxlbWVudC5hcHBlbmRDaGlsZChsaSk7CgogICAgY29uc3QgZmlsZURhdGFQcm9taXNlID0gbmV3IFByb21pc2UoKHJlc29sdmUpID0+IHsKICAgICAgY29uc3QgcmVhZGVyID0gbmV3IEZpbGVSZWFkZXIoKTsKICAgICAgcmVhZGVyLm9ubG9hZCA9IChlKSA9PiB7CiAgICAgICAgcmVzb2x2ZShlLnRhcmdldC5yZXN1bHQpOwogICAgICB9OwogICAgICByZWFkZXIucmVhZEFzQXJyYXlCdWZmZXIoZmlsZSk7CiAgICB9KTsKICAgIC8vIFdhaXQgZm9yIHRoZSBkYXRhIHRvIGJlIHJlYWR5LgogICAgbGV0IGZpbGVEYXRhID0geWllbGQgewogICAgICBwcm9taXNlOiBmaWxlRGF0YVByb21pc2UsCiAgICAgIHJlc3BvbnNlOiB7CiAgICAgICAgYWN0aW9uOiAnY29udGludWUnLAogICAgICB9CiAgICB9OwoKICAgIC8vIFVzZSBhIGNodW5rZWQgc2VuZGluZyB0byBhdm9pZCBtZXNzYWdlIHNpemUgbGltaXRzLiBTZWUgYi82MjExNTY2MC4KICAgIGxldCBwb3NpdGlvbiA9IDA7CiAgICB3aGlsZSAocG9zaXRpb24gPCBmaWxlRGF0YS5ieXRlTGVuZ3RoKSB7CiAgICAgIGNvbnN0IGxlbmd0aCA9IE1hdGgubWluKGZpbGVEYXRhLmJ5dGVMZW5ndGggLSBwb3NpdGlvbiwgTUFYX1BBWUxPQURfU0laRSk7CiAgICAgIGNvbnN0IGNodW5rID0gbmV3IFVpbnQ4QXJyYXkoZmlsZURhdGEsIHBvc2l0aW9uLCBsZW5ndGgpOwogICAgICBwb3NpdGlvbiArPSBsZW5ndGg7CgogICAgICBjb25zdCBiYXNlNjQgPSBidG9hKFN0cmluZy5mcm9tQ2hhckNvZGUuYXBwbHkobnVsbCwgY2h1bmspKTsKICAgICAgeWllbGQgewogICAgICAgIHJlc3BvbnNlOiB7CiAgICAgICAgICBhY3Rpb246ICdhcHBlbmQnLAogICAgICAgICAgZmlsZTogZmlsZS5uYW1lLAogICAgICAgICAgZGF0YTogYmFzZTY0LAogICAgICAgIH0sCiAgICAgIH07CiAgICAgIHBlcmNlbnQudGV4dENvbnRlbnQgPQogICAgICAgICAgYCR7TWF0aC5yb3VuZCgocG9zaXRpb24gLyBmaWxlRGF0YS5ieXRlTGVuZ3RoKSAqIDEwMCl9JSBkb25lYDsKICAgIH0KICB9CgogIC8vIEFsbCBkb25lLgogIHlpZWxkIHsKICAgIHJlc3BvbnNlOiB7CiAgICAgIGFjdGlvbjogJ2NvbXBsZXRlJywKICAgIH0KICB9Owp9CgpzY29wZS5nb29nbGUgPSBzY29wZS5nb29nbGUgfHwge307CnNjb3BlLmdvb2dsZS5jb2xhYiA9IHNjb3BlLmdvb2dsZS5jb2xhYiB8fCB7fTsKc2NvcGUuZ29vZ2xlLmNvbGFiLl9maWxlcyA9IHsKICBfdXBsb2FkRmlsZXMsCiAgX3VwbG9hZEZpbGVzQ29udGludWUsCn07Cn0pKHNlbGYpOwo=",
       "headers": [
        [
         "content-type",
         "application/javascript"
        ]
       ],
       "ok": true,
       "status": 200,
       "status_text": ""
      }
     }
    },
    "colab_type": "code",
    "executionInfo": {
     "elapsed": 104684,
     "status": "ok",
     "timestamp": 1544390514744,
     "user": {
      "displayName": "Виктор Оверко",
      "photoUrl": "https://lh6.googleusercontent.com/-_I9YbAF9z5o/AAAAAAAAAAI/AAAAAAAAABA/NUb59sonytE/s64/photo.jpg",
      "userId": "04713510988786792129"
     },
     "user_tz": -120
    },
    "id": "FUglLAfkbEGp",
    "outputId": "e502a583-0358-4bb5-9407-4ec5931e35cc"
   },
   "outputs": [
    {
     "data": {
      "text/html": [
       "\n",
       "     <input type=\"file\" id=\"files-97d579c8-797a-4c2b-a25e-d2aa4efc6310\" name=\"files[]\" multiple disabled />\n",
       "     <output id=\"result-97d579c8-797a-4c2b-a25e-d2aa4efc6310\">\n",
       "      Upload widget is only available when the cell has been executed in the\n",
       "      current browser session. Please rerun this cell to enable.\n",
       "      </output>\n",
       "      <script src=\"/nbextensions/google.colab/files.js\"></script> "
      ],
      "text/plain": [
       "<IPython.core.display.HTML object>"
      ]
     },
     "metadata": {
      "tags": []
     },
     "output_type": "display_data"
    },
    {
     "data": {
      "text/plain": [
       "{}"
      ]
     },
     "execution_count": 14,
     "metadata": {
      "tags": []
     },
     "output_type": "execute_result"
    }
   ],
   "source": [
    "#files.upload()\n"
   ]
  },
  {
   "cell_type": "code",
   "execution_count": 0,
   "metadata": {
    "colab": {},
    "colab_type": "code",
    "id": "6w_juSU-qkJ3"
   },
   "outputs": [],
   "source": [
    "#def load_model(model_filename, model_weights_filename):\n",
    "#    with open(model_filename, 'r', encoding='utf8') as f:\n",
    "#        model = model_from_json(f.read())\n",
    "#    model.load_weights(model_weights_filename)\n",
    "#    return model\n",
    "#\n",
    "#encoder_model = load_model('encoder_model.json', 'encoder_model_weights.h5')\n",
    "#decoder_model = load_model('decoder_model.json', 'decoder_model_weights.h5')"
   ]
  },
  {
   "cell_type": "code",
   "execution_count": 0,
   "metadata": {
    "colab": {},
    "colab_type": "code",
    "id": "DEzrv0IAbgiO"
   },
   "outputs": [],
   "source": [
    "def decode_sequence(input_seq):\n",
    "    # Encode the input as state vectors.\n",
    "    states_value = encoder_model.predict(input_seq)\n",
    "\n",
    "    # Generate empty target sequence of length 1.\n",
    "    target_seq = np.zeros((1, 1, num_decoder_tokens))\n",
    "    # Populate the first character of target sequence with the start character.\n",
    "    target_seq[0, 0, 0] = 1.\n",
    "\n",
    "    # Sampling loop for a batch of sequences\n",
    "    # (to simplify, here we assume a batch of size 1).\n",
    "    stop_condition = False\n",
    "    decoded_sentence = []\n",
    "    while not stop_condition:\n",
    "        output_tokens, h, c = decoder_model.predict(\n",
    "            [target_seq] + states_value)\n",
    "\n",
    "        # Sample a token\n",
    "        sampled_token_index = np.argmax(output_tokens[0, -1, :])\n",
    "        \"\"\"sampled_char = reverse_target_char_index[sampled_token_index]\"\"\"\n",
    "        decoded_sentence.append(sampled_token_index)\n",
    "\n",
    "        # Exit condition: either hit max length\n",
    "        # or find stop character.\n",
    "        if (len(decoded_sentence) == max_decoder_seq_length) or \\\n",
    "        (len(decoded_sentence) > max_decoder_seq_length):\n",
    "            stop_condition = True\n",
    "\n",
    "        # Update the target sequence (of length 1).\n",
    "        target_seq = np.zeros((1, 1, num_decoder_tokens))\n",
    "        target_seq[0, 0, sampled_token_index] = 1.\n",
    "\n",
    "        # Update states\n",
    "        states_value = [h, c]\n",
    "\n",
    "    return decoded_sentence"
   ]
  },
  {
   "cell_type": "code",
   "execution_count": 0,
   "metadata": {
    "colab": {},
    "colab_type": "code",
    "id": "0n1KS7xndJcZ"
   },
   "outputs": [],
   "source": [
    "index = 12001"
   ]
  },
  {
   "cell_type": "code",
   "execution_count": 95,
   "metadata": {
    "colab": {
     "base_uri": "https://localhost:8080/",
     "height": 50
    },
    "colab_type": "code",
    "executionInfo": {
     "elapsed": 872,
     "status": "ok",
     "timestamp": 1544440722628,
     "user": {
      "displayName": "Виктор Оверко",
      "photoUrl": "https://lh6.googleusercontent.com/-_I9YbAF9z5o/AAAAAAAAAAI/AAAAAAAAABA/NUb59sonytE/s64/photo.jpg",
      "userId": "04713510988786792129"
     },
     "user_tz": -120
    },
    "id": "0GGvfTBRmqql",
    "outputId": "9375aa5e-70f7-45b2-9195-4c8747bc1881"
   },
   "outputs": [
    {
     "name": "stdout",
     "output_type": "stream",
     "text": [
      "CPU times: user 4.71 ms, sys: 939 µs, total: 5.65 ms\n",
      "Wall time: 7.04 ms\n"
     ]
    }
   ],
   "source": [
    "%%time\n",
    "x, y = get_one_sample(dataset_hh.loc[index])"
   ]
  },
  {
   "cell_type": "code",
   "execution_count": 96,
   "metadata": {
    "colab": {
     "base_uri": "https://localhost:8080/",
     "height": 50
    },
    "colab_type": "code",
    "executionInfo": {
     "elapsed": 1367,
     "status": "ok",
     "timestamp": 1544440723512,
     "user": {
      "displayName": "Виктор Оверко",
      "photoUrl": "https://lh6.googleusercontent.com/-_I9YbAF9z5o/AAAAAAAAAAI/AAAAAAAAABA/NUb59sonytE/s64/photo.jpg",
      "userId": "04713510988786792129"
     },
     "user_tz": -120
    },
    "id": "lYc539OZcUsV",
    "outputId": "60725673-7493-4690-e611-5b2fddff4332"
   },
   "outputs": [
    {
     "name": "stdout",
     "output_type": "stream",
     "text": [
      "CPU times: user 870 ms, sys: 140 ms, total: 1.01 s\n",
      "Wall time: 812 ms\n"
     ]
    }
   ],
   "source": [
    "%%time\n",
    "predict = decode_sequence(x)"
   ]
  },
  {
   "cell_type": "code",
   "execution_count": 97,
   "metadata": {
    "colab": {
     "base_uri": "https://localhost:8080/",
     "height": 120
    },
    "colab_type": "code",
    "executionInfo": {
     "elapsed": 895,
     "status": "ok",
     "timestamp": 1544440723514,
     "user": {
      "displayName": "Виктор Оверко",
      "photoUrl": "https://lh6.googleusercontent.com/-_I9YbAF9z5o/AAAAAAAAAAI/AAAAAAAAABA/NUb59sonytE/s64/photo.jpg",
      "userId": "04713510988786792129"
     },
     "user_tz": -120
    },
    "id": "OJgEG4VKciIV",
    "outputId": "3203fdba-d47a-4244-c7d5-55494cf9bd05"
   },
   "outputs": [
    {
     "name": "stdout",
     "output_type": "stream",
     "text": [
      "Курьер\n",
      "\n",
      "пунктуальность четкий выполнение ставить задача опыт объяснить весь научить желание иметь стабильный заработок\n",
      "работа закрепленный участок выбор оформление документ заполнение накладной\n",
      "ооо премьеравто приглашать сотрудничество пеший курьер постоянный основа временный заработок выплата возможный ежедневный еженедельный условие работа закреплять участок выбор оплата проезд питание требование пунктуальность четкий выполнение ставить задача опыт объяснить весь научить желание иметь стабильный заработок обязанность доставка корреспонденция возможный зависимость закреплять территория оформление документ заполнение накладной прием оплата доставка прямой работодатель набирать большой штат сотрудник самый надежный человек готовый работать постоянный основа труд поощрять премия различный бонус\n"
     ]
    }
   ],
   "source": [
    "print(dataset_hh.loc[index, \"title\"])\n",
    "print()\n",
    "print(dataset_hh.loc[index, \"requirement_lemmas\"])\n",
    "print(dataset_hh.loc[index, \"responsibility_lemmas\"])\n",
    "print(dataset_hh.loc[index, \"text_lemmas\"])"
   ]
  },
  {
   "cell_type": "code",
   "execution_count": 98,
   "metadata": {
    "colab": {
     "base_uri": "https://localhost:8080/",
     "height": 1689
    },
    "colab_type": "code",
    "executionInfo": {
     "elapsed": 786,
     "status": "ok",
     "timestamp": 1544440725290,
     "user": {
      "displayName": "Виктор Оверко",
      "photoUrl": "https://lh6.googleusercontent.com/-_I9YbAF9z5o/AAAAAAAAAAI/AAAAAAAAABA/NUb59sonytE/s64/photo.jpg",
      "userId": "04713510988786792129"
     },
     "user_tz": -120
    },
    "id": "O-NcSbMacXwn",
    "outputId": "1128ca27-1868-44d4-ae7d-f65ccef65d8d"
   },
   "outputs": [
    {
     "name": "stdout",
     "output_type": "stream",
     "text": [
      "0 Expected: 0 Predicted 0 ооо\n",
      "1 Expected: 0 Predicted 0 премьеравто\n",
      "2 Expected: 0 Predicted 0 приглашать\n",
      "3 Expected: 0 Predicted 0 сотрудничество\n",
      "4 Expected: 0 Predicted 0 пеший\n",
      "5 Expected: 0 Predicted 0 курьер\n",
      "6 Expected: 0 Predicted 0 постоянный\n",
      "7 Expected: 0 Predicted 0 основа\n",
      "8 Expected: 0 Predicted 0 временный\n",
      "9 Expected: 0 Predicted 0 заработок\n",
      "10 Expected: 0 Predicted 0 выплата\n",
      "11 Expected: 0 Predicted 0 возможный\n",
      "12 Expected: 0 Predicted 0 ежедневный\n",
      "13 Expected: 0 Predicted 0 еженедельный\n",
      "14 Expected: 0 Predicted 0 условие\n",
      "15 Expected: 0 Predicted 0 работа\n",
      "16 Expected: 0 Predicted 0 закреплять\n",
      "17 Expected: 0 Predicted 0 участок\n",
      "18 Expected: 0 Predicted 0 выбор\n",
      "19 Expected: 0 Predicted 0 оплата\n",
      "20 Expected: 0 Predicted 0 проезд\n",
      "21 Expected: 0 Predicted 0 питание\n",
      "22 Expected: 0 Predicted 1 требование\n",
      "23 Expected: 1 Predicted 1 пунктуальность\n",
      "24 Expected: 1 Predicted 1 четкий\n",
      "25 Expected: 1 Predicted 1 выполнение\n",
      "26 Expected: 1 Predicted 1 ставить\n",
      "27 Expected: 1 Predicted 1 задача\n",
      "28 Expected: 1 Predicted 1 опыт\n",
      "29 Expected: 1 Predicted 1 объяснить\n",
      "30 Expected: 1 Predicted 1 весь\n",
      "31 Expected: 1 Predicted 1 научить\n",
      "32 Expected: 1 Predicted 1 желание\n",
      "33 Expected: 1 Predicted 1 иметь\n",
      "34 Expected: 1 Predicted 1 стабильный\n",
      "35 Expected: 1 Predicted 0 заработок\n",
      "36 Expected: 0 Predicted 1 обязанность\n",
      "37 Expected: 0 Predicted 1 доставка\n",
      "38 Expected: 0 Predicted 1 корреспонденция\n",
      "39 Expected: 0 Predicted 1 возможный\n",
      "40 Expected: 0 Predicted 1 зависимость\n",
      "41 Expected: 0 Predicted 1 закреплять\n",
      "42 Expected: 0 Predicted 1 территория\n",
      "43 Expected: 0 Predicted 1 оформление\n",
      "44 Expected: 0 Predicted 1 документ\n",
      "45 Expected: 0 Predicted 0 заполнение\n",
      "46 Expected: 0 Predicted 0 накладной\n",
      "47 Expected: 0 Predicted 0 прием\n",
      "48 Expected: 0 Predicted 0 оплата\n",
      "49 Expected: 0 Predicted 0 доставка\n",
      "50 Expected: 0 Predicted 0 прямой\n",
      "51 Expected: 0 Predicted 0 работодатель\n",
      "52 Expected: 0 Predicted 0 набирать\n",
      "53 Expected: 0 Predicted 0 большой\n",
      "54 Expected: 0 Predicted 0 штат\n",
      "55 Expected: 0 Predicted 0 сотрудник\n",
      "56 Expected: 0 Predicted 0 самый\n",
      "57 Expected: 0 Predicted 0 надежный\n",
      "58 Expected: 0 Predicted 0 человек\n",
      "59 Expected: 0 Predicted 0 готовый\n",
      "60 Expected: 0 Predicted 0 работать\n",
      "61 Expected: 0 Predicted 0 постоянный\n",
      "62 Expected: 0 Predicted 0 основа\n",
      "63 Expected: 0 Predicted 0 труд\n",
      "64 Expected: 0 Predicted 0 поощрять\n",
      "65 Expected: 0 Predicted 0 премия\n",
      "66 Expected: 0 Predicted 0 различный\n",
      "67 Expected: 0 Predicted 0 бонус\n",
      "68 Expected: 0 Predicted 0 END\n",
      "69 Expected: 0 Predicted 0 END\n",
      "70 Expected: 0 Predicted 0 END\n",
      "71 Expected: 0 Predicted 0 END\n",
      "72 Expected: 0 Predicted 0 END\n",
      "73 Expected: 0 Predicted 0 END\n",
      "74 Expected: 0 Predicted 0 END\n",
      "75 Expected: 0 Predicted 0 END\n",
      "76 Expected: 0 Predicted 0 END\n",
      "77 Expected: 0 Predicted 0 END\n",
      "78 Expected: 0 Predicted 0 END\n",
      "79 Expected: 0 Predicted 0 END\n",
      "80 Expected: 0 Predicted 0 END\n",
      "81 Expected: 0 Predicted 0 END\n",
      "82 Expected: 0 Predicted 0 END\n",
      "83 Expected: 0 Predicted 0 END\n",
      "84 Expected: 0 Predicted 0 END\n",
      "85 Expected: 0 Predicted 0 END\n",
      "86 Expected: 0 Predicted 0 END\n",
      "87 Expected: 0 Predicted 0 END\n",
      "88 Expected: 0 Predicted 0 END\n",
      "89 Expected: 0 Predicted 0 END\n",
      "90 Expected: 0 Predicted 0 END\n",
      "91 Expected: 0 Predicted 0 END\n",
      "92 Expected: 0 Predicted 0 END\n",
      "93 Expected: 0 Predicted 0 END\n",
      "94 Expected: 0 Predicted 0 END\n",
      "95 Expected: 0 Predicted 0 END\n",
      "96 Expected: 0 Predicted 0 END\n",
      "97 Expected: 0 Predicted 0 END\n",
      "98 Expected: 0 Predicted 0 END\n",
      "99 Expected: 0 Predicted 0 END\n"
     ]
    }
   ],
   "source": [
    "words = dataset_hh.loc[index, \"text_lemmas\"].split(\" \")\n",
    "for i in range(0, 100):\n",
    "  if len(words) > i:\n",
    "    word = words[i]\n",
    "  else:\n",
    "    word = \"END\"\n",
    "  print(i, 'Expected:', np.argmax(y[0, i]), 'Predicted', predict[i], word)"
   ]
  },
  {
   "cell_type": "markdown",
   "metadata": {
    "colab_type": "text",
    "id": "fESe3tXxpvHx"
   },
   "source": [
    "### Text on jooble data"
   ]
  },
  {
   "cell_type": "code",
   "execution_count": 99,
   "metadata": {
    "colab": {
     "base_uri": "https://localhost:8080/",
     "height": 351
    },
    "colab_type": "code",
    "executionInfo": {
     "elapsed": 1255,
     "status": "ok",
     "timestamp": 1544440745693,
     "user": {
      "displayName": "Виктор Оверко",
      "photoUrl": "https://lh6.googleusercontent.com/-_I9YbAF9z5o/AAAAAAAAAAI/AAAAAAAAABA/NUb59sonytE/s64/photo.jpg",
      "userId": "04713510988786792129"
     },
     "user_tz": -120
    },
    "id": "2EobS2jMp6II",
    "outputId": "98eb6047-f7f3-4af1-bfe9-24ea3c447e03"
   },
   "outputs": [
    {
     "name": "stdout",
     "output_type": "stream",
     "text": [
      "<class 'pandas.core.frame.DataFrame'>\n",
      "RangeIndex: 9237 entries, 0 to 9236\n",
      "Data columns (total 14 columns):\n",
      "id                   9237 non-null int64\n",
      "title                9237 non-null object\n",
      "lang_title           9237 non-null object\n",
      "title_normalized     8285 non-null object\n",
      "title_lemmas         8285 non-null object\n",
      "title_lemmas_tags    8285 non-null object\n",
      "title_tokens         8285 non-null object\n",
      "text                 9237 non-null object\n",
      "lang_text            9237 non-null object\n",
      "text_normalized      9236 non-null object\n",
      "text_lemmas          9236 non-null object\n",
      "text_lemmas_tags     9236 non-null object\n",
      "text_tokens          9236 non-null object\n",
      "url                  9237 non-null object\n",
      "dtypes: int64(1), object(13)\n",
      "memory usage: 1010.4+ KB\n",
      "None\n"
     ]
    }
   ],
   "source": [
    "dataset_jooble = pd.read_csv(jooble_data_path, sep=\"\\t\")\n",
    "dataset_jooble = dataset_jooble.loc[dataset_jooble[\"lang_text\"] == \"russian\"]\n",
    "#dataset_hh.dropna(inplace=True)\n",
    "#dataset_hh = dataset_hh.loc[isinstance(dataset_hh[\"responsibility\"], str)]\n",
    "#dataset_hh.drop(dataset_hh.index[dataset_hh[\"lang_text\"] == \"english\"], inplace=True)\n",
    "dataset_jooble.reset_index(drop=True, inplace=True)\n",
    "print(dataset_jooble.info())\n",
    "#dataset_jooble.head()"
   ]
  },
  {
   "cell_type": "code",
   "execution_count": 0,
   "metadata": {
    "colab": {},
    "colab_type": "code",
    "id": "SgTTv962puoB"
   },
   "outputs": [],
   "source": [
    "maxlen = 200\n",
    "def get_sample_nonlabeled(row):\n",
    "\n",
    "  text = row[\"text_lemmas_tags\"]\n",
    "  x_sample = get_training_sample(vectorizer, text)\n",
    "  x_sample = sequence.pad_sequences([x_sample], maxlen=max_len, dtype='float', padding=\"post\", truncating=\"post\")\n",
    "  x_sample = np.array(x_sample)\n",
    "  \n",
    "  #print(\"x shape =\", x_sample.shape)\n",
    "  \n",
    "  return x_sample\n",
    "  "
   ]
  },
  {
   "cell_type": "code",
   "execution_count": 101,
   "metadata": {
    "colab": {
     "base_uri": "https://localhost:8080/",
     "height": 134
    },
    "colab_type": "code",
    "executionInfo": {
     "elapsed": 80757,
     "status": "ok",
     "timestamp": 1544440851732,
     "user": {
      "displayName": "Виктор Оверко",
      "photoUrl": "https://lh6.googleusercontent.com/-_I9YbAF9z5o/AAAAAAAAAAI/AAAAAAAAABA/NUb59sonytE/s64/photo.jpg",
      "userId": "04713510988786792129"
     },
     "user_tz": -120
    },
    "id": "s2c4UKYFtrJD",
    "outputId": "38750703-087f-4597-9391-b5ab7eb93899"
   },
   "outputs": [
    {
     "name": "stdout",
     "output_type": "stream",
     "text": [
      "0\n",
      "100\n",
      "\n",
      "Total:\n",
      "13\n",
      "CPU times: user 1min 27s, sys: 12.7 s, total: 1min 40s\n",
      "Wall time: 1min 19s\n"
     ]
    }
   ],
   "source": [
    "%%time\n",
    "indexes_labeled = []\n",
    "n_test = 100\n",
    "\n",
    "for i, row in dataset_jooble.loc[: n_test].iterrows():\n",
    "  x = get_sample_nonlabeled(dataset_jooble.loc[i])\n",
    "  predict = decode_sequence(x)\n",
    "  \n",
    "  if np.sum(predict) > 0:\n",
    "    indexes_labeled.append(i)\n",
    "    \n",
    "  if i % 100 == 0:\n",
    "    print(i)\n",
    "  \n",
    "print()\n",
    "print(\"Total:\")\n",
    "print(len(indexes_labeled))"
   ]
  },
  {
   "cell_type": "markdown",
   "metadata": {
    "colab_type": "text",
    "id": "3_kFxa7G1cb_"
   },
   "source": [
    "80 epochs\n",
    "Total:\n",
    "15"
   ]
  },
  {
   "cell_type": "code",
   "execution_count": 102,
   "metadata": {
    "colab": {
     "base_uri": "https://localhost:8080/",
     "height": 33
    },
    "colab_type": "code",
    "executionInfo": {
     "elapsed": 450,
     "status": "ok",
     "timestamp": 1544441059174,
     "user": {
      "displayName": "Виктор Оверко",
      "photoUrl": "https://lh6.googleusercontent.com/-_I9YbAF9z5o/AAAAAAAAAAI/AAAAAAAAABA/NUb59sonytE/s64/photo.jpg",
      "userId": "04713510988786792129"
     },
     "user_tz": -120
    },
    "id": "D-2AUnH9ukun",
    "outputId": "9c292819-e22c-4d3e-8ad2-7149d6a1d8d7"
   },
   "outputs": [
    {
     "name": "stdout",
     "output_type": "stream",
     "text": [
      "[8, 9, 18, 27, 36, 41, 57, 61, 65, 68, 69, 85, 97]\n"
     ]
    }
   ],
   "source": [
    "print(indexes_labeled)"
   ]
  },
  {
   "cell_type": "markdown",
   "metadata": {
    "colab_type": "text",
    "id": "UWlQC2b91XZj"
   },
   "source": [
    "80 epoch\n",
    "[8, 9, 18, 27, 36, 57, 61, 63, 68, 70, 71, 85, 87, 97, 100]\n",
    "\n",
    "new(best):\n",
    "[8, 9, 18, 27, 36, 41, 57, 61, 65, 68, 69, 85, 97]"
   ]
  },
  {
   "cell_type": "code",
   "execution_count": 118,
   "metadata": {
    "colab": {
     "base_uri": "https://localhost:8080/",
     "height": 418
    },
    "colab_type": "code",
    "executionInfo": {
     "elapsed": 1268,
     "status": "ok",
     "timestamp": 1544441473516,
     "user": {
      "displayName": "Виктор Оверко",
      "photoUrl": "https://lh6.googleusercontent.com/-_I9YbAF9z5o/AAAAAAAAAAI/AAAAAAAAABA/NUb59sonytE/s64/photo.jpg",
      "userId": "04713510988786792129"
     },
     "user_tz": -120
    },
    "id": "vAFL4yxZq8yi",
    "outputId": "dfc7555e-92fe-4c6d-f085-dfe7d5e2c4e2"
   },
   "outputs": [
    {
     "name": "stdout",
     "output_type": "stream",
     "text": [
      "14\n",
      "Швея трикотажных и корсетных изделий с опытом работы\n",
      "\n",
      "\r",
      "\r\n",
      " Производитель женского белья из хлопка ООО «МедеяСтиль» ищет швею с опытом работы. \r",
      "\r\n",
      " Город: Минск \r",
      "\r\n",
      " Характер работы: на территории работодателя \r",
      "\r\n",
      " График работы: фиксированный, сменный \r",
      "\r\n",
      " Занятость: полная \r",
      "\r\n",
      " Требования к кандидату: \r",
      "\r\n",
      "* Опыт работы от 1 года \r",
      "\r\n",
      "* Образование не имеет значения \r",
      "\r\n",
      "* Не студент \r",
      "\r\n",
      "* С опытом работы швеей трикотажных и корсетных изделий. \r",
      "\r\n",
      " Компания предлагает: \r",
      "\r\n",
      "* Полный социальный пакет \r",
      "\r\n",
      "* Хорошие условия труда \r",
      "\r\n",
      "* Стабильная работа. \r",
      "\r\n",
      " Место работы: Минск, Лынькова, 123\r",
      "\r\n",
      "375445952905, Лилия Евгеньевна \r",
      "\r\n",
      " \r",
      "\r\n",
      "\n",
      "CPU times: user 824 ms, sys: 155 ms, total: 979 ms\n",
      "Wall time: 809 ms\n"
     ]
    }
   ],
   "source": [
    "%%time\n",
    "index = 65\n",
    "\n",
    "x = get_sample_nonlabeled(dataset_jooble.loc[index])\n",
    "\n",
    "predict = decode_sequence(x)\n",
    "\n",
    "print(np.sum(predict))\n",
    "\n",
    "print(dataset_jooble.loc[index, \"title\"])\n",
    "print()\n",
    "print(dataset_jooble.loc[index, \"text\"])"
   ]
  },
  {
   "cell_type": "code",
   "execution_count": 119,
   "metadata": {
    "colab": {
     "base_uri": "https://localhost:8080/",
     "height": 870
    },
    "colab_type": "code",
    "executionInfo": {
     "elapsed": 490,
     "status": "ok",
     "timestamp": 1544441477997,
     "user": {
      "displayName": "Виктор Оверко",
      "photoUrl": "https://lh6.googleusercontent.com/-_I9YbAF9z5o/AAAAAAAAAAI/AAAAAAAAABA/NUb59sonytE/s64/photo.jpg",
      "userId": "04713510988786792129"
     },
     "user_tz": -120
    },
    "id": "HkZZK2DwrdFF",
    "outputId": "ba6eb071-06d8-4cbc-bd65-1193f8c5aeee"
   },
   "outputs": [
    {
     "name": "stdout",
     "output_type": "stream",
     "text": [
      "14\n",
      "0 Predicted 0  -  производитель\n",
      "1 Predicted 0  -  женский\n",
      "2 Predicted 0  -  белье\n",
      "3 Predicted 0  -  хлопок\n",
      "4 Predicted 0  -  ооо\n",
      "5 Predicted 0  -  медеястиль\n",
      "6 Predicted 0  -  искать\n",
      "7 Predicted 0  -  шветь\n",
      "8 Predicted 0  -  опыт\n",
      "9 Predicted 0  -  работа\n",
      "10 Predicted 0  -  город\n",
      "11 Predicted 0  -  минскать\n",
      "12 Predicted 0  -  характер\n",
      "13 Predicted 0  -  работа\n",
      "14 Predicted 0  -  территория\n",
      "15 Predicted 0  -  работодатель\n",
      "16 Predicted 0  -  график\n",
      "17 Predicted 0  -  работа\n",
      "18 Predicted 0  -  фиксированный\n",
      "19 Predicted 0  -  сменный\n",
      "20 Predicted 0  -  занятость\n",
      "21 Predicted 0  -  полный\n",
      "22 Predicted 0  -  требование\n",
      "23 Predicted 1  -  кандидат\n",
      "24 Predicted 1  -  опыт\n",
      "25 Predicted 1  -  работа\n",
      "26 Predicted 1  -  год\n",
      "27 Predicted 1  -  образование\n",
      "28 Predicted 1  -  иметь\n",
      "29 Predicted 1  -  значение\n",
      "30 Predicted 1  -  студент\n",
      "31 Predicted 1  -  опыт\n",
      "32 Predicted 1  -  работа\n",
      "33 Predicted 1  -  швеий\n",
      "34 Predicted 1  -  трикотажный\n",
      "35 Predicted 1  -  корсетный\n",
      "36 Predicted 1  -  изделие\n",
      "37 Predicted 0  -  компания\n",
      "38 Predicted 0  -  предлагать\n",
      "39 Predicted 0  -  полный\n",
      "40 Predicted 0  -  социальный\n",
      "41 Predicted 0  -  пакет\n",
      "42 Predicted 0  -  хороший\n",
      "43 Predicted 0  -  условие\n",
      "44 Predicted 0  -  труд\n",
      "45 Predicted 0  -  стабильный\n",
      "46 Predicted 0  -  работа\n",
      "47 Predicted 0  -  место\n",
      "48 Predicted 0  -  работа\n",
      "49 Predicted 0  -  минскать\n"
     ]
    }
   ],
   "source": [
    "print(np.sum(predict))\n",
    "words = dataset_jooble.loc[index, \"text_lemmas\"].split(\" \")\n",
    "for i in range(0, 50):\n",
    "  if len(words) > i:\n",
    "    word = words[i]\n",
    "  else:\n",
    "    word = \"END\"\n",
    "  print(i, 'Predicted', predict[i], \" - \", word)\n",
    "  "
   ]
  },
  {
   "cell_type": "markdown",
   "metadata": {
    "colab_type": "text",
    "id": "6FDWq1s2uTaO"
   },
   "source": [
    "### Test"
   ]
  },
  {
   "cell_type": "code",
   "execution_count": 70,
   "metadata": {
    "colab": {
     "base_uri": "https://localhost:8080/",
     "height": 84
    },
    "colab_type": "code",
    "executionInfo": {
     "elapsed": 8860661,
     "status": "ok",
     "timestamp": 1544429475262,
     "user": {
      "displayName": "Виктор Оверко",
      "photoUrl": "https://lh6.googleusercontent.com/-_I9YbAF9z5o/AAAAAAAAAAI/AAAAAAAAABA/NUb59sonytE/s64/photo.jpg",
      "userId": "04713510988786792129"
     },
     "user_tz": -120
    },
    "id": "y7ZST_wCwwy-",
    "outputId": "b2bb9a04-96ad-401a-8a1c-70935fe1b835"
   },
   "outputs": [
    {
     "name": "stdout",
     "output_type": "stream",
     "text": [
      "Max len real= 819\n",
      "Max len to reshape = 200\n",
      "CPU times: user 2.19 s, sys: 8.63 s, total: 10.8 s\n",
      "Wall time: 10.8 s\n"
     ]
    }
   ],
   "source": [
    "%%time\n",
    "X = []\n",
    "Y = []\n",
    "max_len_real = 0\n",
    "max_len = 200\n",
    "n_samples = 10_709\n",
    "# 10_000: 12_000 - for text\n",
    "for i, row in dataset_hh.loc[10_000: 13_000].iterrows():\n",
    "  if not isinstance(row[\"requirement_norm\"], str) or not isinstance(row[\"responsibility_norm\"], str) :\n",
    "    continue\n",
    "  text = row[\"text_lemmas_tags\"]\n",
    "  x_sample = get_training_sample(vectorizer, text)\n",
    "\n",
    "  text = row[\"text_lemmas\"]\n",
    "  sub_text = row[\"requirement_lemmas\"]\n",
    "  sub_text2 = row[\"responsibility_lemmas\"]\n",
    "  \n",
    "  y1 = get_mask(text, sub_text)\n",
    "  y2 = get_mask(text, sub_text2) \n",
    "  y_sample = np.logical_or(y1, y2).astype(int)\n",
    "  \n",
    "  Y.append(y_sample)\n",
    "  X.append(x_sample)\n",
    "  \n",
    "  if (len(x_sample) != len(y_sample)):\n",
    "    print(len(x_sample))\n",
    "    print(len(y_sample))\n",
    "    print(len(row[\"text_normalized\"].split(\" \")))\n",
    "    print(y_sample)\n",
    "    print(i)\n",
    "  assert(len(x_sample) == len(y_sample))\n",
    "  \n",
    "  if len(y_sample) > max_len_real:\n",
    "    max_len_real = len(y_sample)\n",
    "    \n",
    "X = sequence.pad_sequences(X, maxlen=max_len, dtype='float', padding=\"post\", truncating=\"post\")\n",
    "Y = sequence.pad_sequences(Y, maxlen=max_len, dtype='float', padding=\"post\", truncating=\"post\")\n",
    "       \n",
    "Y = np.array(Y)\n",
    "Y = np.reshape(Y, (Y.shape[0], Y.shape[1], -1))\n",
    "X = np.array(X)\n",
    "print(\"Max len real=\", max_len_real)\n",
    "print(\"Max len to reshape =\", max_len)"
   ]
  },
  {
   "cell_type": "code",
   "execution_count": 71,
   "metadata": {
    "colab": {
     "base_uri": "https://localhost:8080/",
     "height": 518
    },
    "colab_type": "code",
    "executionInfo": {
     "elapsed": 10951884,
     "status": "ok",
     "timestamp": 1544431573563,
     "user": {
      "displayName": "Виктор Оверко",
      "photoUrl": "https://lh6.googleusercontent.com/-_I9YbAF9z5o/AAAAAAAAAAI/AAAAAAAAABA/NUb59sonytE/s64/photo.jpg",
      "userId": "04713510988786792129"
     },
     "user_tz": -120
    },
    "id": "QWMRsUYwuDdO",
    "outputId": "14caa6e6-e2c6-4d6c-829f-cd2b73dafa5e"
   },
   "outputs": [
    {
     "name": "stdout",
     "output_type": "stream",
     "text": [
      "0\n",
      "100\n",
      "200\n",
      "300\n",
      "400\n",
      "500\n",
      "600\n",
      "700\n",
      "800\n",
      "900\n",
      "1000\n",
      "1100\n",
      "1200\n",
      "1300\n",
      "1400\n",
      "1500\n",
      "1600\n",
      "1700\n",
      "1800\n",
      "1900\n",
      "2000\n",
      "2100\n",
      "2200\n",
      "2300\n",
      "2400\n",
      "2500\n",
      "2600\n",
      "2700\n",
      "CPU times: user 38min 26s, sys: 5min 34s, total: 44min\n",
      "Wall time: 34min 58s\n"
     ]
    }
   ],
   "source": [
    "%%time\n",
    "#X.shape[0]\n",
    "Y_predict = []\n",
    "for i in range(X.shape[0]):\n",
    "  predict = decode_sequence(X[i].reshape((1, max_len, 300)))\n",
    "  Y_predict.append(predict)\n",
    "  \n",
    "  if i % 100 == 0:\n",
    "    print(i)\n",
    "  "
   ]
  },
  {
   "cell_type": "code",
   "execution_count": 72,
   "metadata": {
    "colab": {
     "base_uri": "https://localhost:8080/",
     "height": 33
    },
    "colab_type": "code",
    "executionInfo": {
     "elapsed": 10948313,
     "status": "ok",
     "timestamp": 1544431573564,
     "user": {
      "displayName": "Виктор Оверко",
      "photoUrl": "https://lh6.googleusercontent.com/-_I9YbAF9z5o/AAAAAAAAAAI/AAAAAAAAABA/NUb59sonytE/s64/photo.jpg",
      "userId": "04713510988786792129"
     },
     "user_tz": -120
    },
    "id": "tJWfmi9RuiTK",
    "outputId": "11a988db-49f3-42a8-e302-e9541aadcb7b"
   },
   "outputs": [
    {
     "data": {
      "text/plain": [
       "(2788, 200)"
      ]
     },
     "execution_count": 72,
     "metadata": {
      "tags": []
     },
     "output_type": "execute_result"
    }
   ],
   "source": [
    "Y_predict = np.array(Y_predict)\n",
    "Y_predict.shape"
   ]
  },
  {
   "cell_type": "code",
   "execution_count": 73,
   "metadata": {
    "colab": {
     "base_uri": "https://localhost:8080/",
     "height": 33
    },
    "colab_type": "code",
    "executionInfo": {
     "elapsed": 10943411,
     "status": "ok",
     "timestamp": 1544431573564,
     "user": {
      "displayName": "Виктор Оверко",
      "photoUrl": "https://lh6.googleusercontent.com/-_I9YbAF9z5o/AAAAAAAAAAI/AAAAAAAAABA/NUb59sonytE/s64/photo.jpg",
      "userId": "04713510988786792129"
     },
     "user_tz": -120
    },
    "id": "cqTLqPhAthG-",
    "outputId": "ca3d8fb5-871a-4dc0-95ee-3c2c9ddf83ff"
   },
   "outputs": [
    {
     "data": {
      "text/plain": [
       "(2788, 200, 1)"
      ]
     },
     "execution_count": 73,
     "metadata": {
      "tags": []
     },
     "output_type": "execute_result"
    }
   ],
   "source": [
    "Y.shape"
   ]
  },
  {
   "cell_type": "code",
   "execution_count": 75,
   "metadata": {
    "colab": {
     "base_uri": "https://localhost:8080/",
     "height": 33
    },
    "colab_type": "code",
    "executionInfo": {
     "elapsed": 10855708,
     "status": "ok",
     "timestamp": 1544431573568,
     "user": {
      "displayName": "Виктор Оверко",
      "photoUrl": "https://lh6.googleusercontent.com/-_I9YbAF9z5o/AAAAAAAAAAI/AAAAAAAAABA/NUb59sonytE/s64/photo.jpg",
      "userId": "04713510988786792129"
     },
     "user_tz": -120
    },
    "id": "xnXCxx4m00Nk",
    "outputId": "bc9c76e3-0ebf-448c-85e6-9bbefaaddc1c"
   },
   "outputs": [
    {
     "data": {
      "text/plain": [
       "58027.0"
      ]
     },
     "execution_count": 75,
     "metadata": {
      "tags": []
     },
     "output_type": "execute_result"
    }
   ],
   "source": [
    "np.sum(Y[:, :, 0])"
   ]
  },
  {
   "cell_type": "code",
   "execution_count": 76,
   "metadata": {
    "colab": {
     "base_uri": "https://localhost:8080/",
     "height": 33
    },
    "colab_type": "code",
    "executionInfo": {
     "elapsed": 10854753,
     "status": "ok",
     "timestamp": 1544431573570,
     "user": {
      "displayName": "Виктор Оверко",
      "photoUrl": "https://lh6.googleusercontent.com/-_I9YbAF9z5o/AAAAAAAAAAI/AAAAAAAAABA/NUb59sonytE/s64/photo.jpg",
      "userId": "04713510988786792129"
     },
     "user_tz": -120
    },
    "id": "w0qQ5cn40veQ",
    "outputId": "afc74a06-ea75-4eba-8664-6fd6bde43804"
   },
   "outputs": [
    {
     "data": {
      "text/plain": [
       "62913"
      ]
     },
     "execution_count": 76,
     "metadata": {
      "tags": []
     },
     "output_type": "execute_result"
    }
   ],
   "source": [
    "np.sum(Y_predict)"
   ]
  },
  {
   "cell_type": "code",
   "execution_count": 0,
   "metadata": {
    "colab": {},
    "colab_type": "code",
    "id": "xVwPYQWUp9n3"
   },
   "outputs": [],
   "source": [
    "from sklearn import metrics"
   ]
  },
  {
   "cell_type": "code",
   "execution_count": 77,
   "metadata": {
    "colab": {
     "base_uri": "https://localhost:8080/",
     "height": 33
    },
    "colab_type": "code",
    "executionInfo": {
     "elapsed": 10853117,
     "status": "ok",
     "timestamp": 1544431574611,
     "user": {
      "displayName": "Виктор Оверко",
      "photoUrl": "https://lh6.googleusercontent.com/-_I9YbAF9z5o/AAAAAAAAAAI/AAAAAAAAABA/NUb59sonytE/s64/photo.jpg",
      "userId": "04713510988786792129"
     },
     "user_tz": -120
    },
    "id": "2zGybev0n1HP",
    "outputId": "70846d04-37de-4f13-c5e5-af16bf0af20b"
   },
   "outputs": [
    {
     "name": "stdout",
     "output_type": "stream",
     "text": [
      "Accuracy = 94.28156384505021\n"
     ]
    }
   ],
   "source": [
    "tp = 0\n",
    "\n",
    "for i in range(Y.shape[0]):\n",
    "  for j in range(Y.shape[1]):\n",
    "    if Y_predict[i, j] == Y[i, j]:\n",
    "      tp += 1\n",
    "      \n",
    "accuracy = tp / (Y.shape[0] * Y.shape[1]) * 100\n",
    "\n",
    "\n",
    "print(\"Accuracy =\", accuracy)\n",
    "  "
   ]
  },
  {
   "cell_type": "markdown",
   "metadata": {
    "colab_type": "text",
    "id": "h9RUG7qy3Aqh"
   },
   "source": [
    "60 epochs\n",
    "Accuracy = 97.1189866939611"
   ]
  },
  {
   "cell_type": "code",
   "execution_count": 78,
   "metadata": {
    "colab": {
     "base_uri": "https://localhost:8080/",
     "height": 33
    },
    "colab_type": "code",
    "executionInfo": {
     "elapsed": 10846377,
     "status": "ok",
     "timestamp": 1544431574814,
     "user": {
      "displayName": "Виктор Оверко",
      "photoUrl": "https://lh6.googleusercontent.com/-_I9YbAF9z5o/AAAAAAAAAAI/AAAAAAAAABA/NUb59sonytE/s64/photo.jpg",
      "userId": "04713510988786792129"
     },
     "user_tz": -120
    },
    "id": "5pKSglYUs1oL",
    "outputId": "3db70e2b-4f38-4214-8dc4-790d6f3e2c1c"
   },
   "outputs": [
    {
     "name": "stdout",
     "output_type": "stream",
     "text": [
      "F1-score = 0.7363486026128658\n"
     ]
    }
   ],
   "source": [
    "f1_score = metrics.f1_score(Y.reshape(-1), Y_predict.reshape(-1))\n",
    "print(\"F1-score =\", f1_score)"
   ]
  },
  {
   "cell_type": "code",
   "execution_count": 79,
   "metadata": {
    "colab": {
     "base_uri": "https://localhost:8080/",
     "height": 33
    },
    "colab_type": "code",
    "executionInfo": {
     "elapsed": 10837850,
     "status": "ok",
     "timestamp": 1544431575086,
     "user": {
      "displayName": "Виктор Оверко",
      "photoUrl": "https://lh6.googleusercontent.com/-_I9YbAF9z5o/AAAAAAAAAAI/AAAAAAAAABA/NUb59sonytE/s64/photo.jpg",
      "userId": "04713510988786792129"
     },
     "user_tz": -120
    },
    "id": "Nv3PcgM-7yXl",
    "outputId": "554b1577-01a7-4215-9751-40c8c9c3904f"
   },
   "outputs": [
    {
     "name": "stdout",
     "output_type": "stream",
     "text": [
      "F1-score = 0.9438302603171191\n"
     ]
    }
   ],
   "source": [
    "f1_score = metrics.f1_score(Y.reshape(-1), Y_predict.reshape(-1), average='weighted')\n",
    "print(\"F1-score =\", f1_score)"
   ]
  },
  {
   "cell_type": "markdown",
   "metadata": {
    "colab_type": "text",
    "id": "PSfxowdS0kWN"
   },
   "source": [
    "F1-score = 0.8140268578318826"
   ]
  },
  {
   "cell_type": "code",
   "execution_count": 80,
   "metadata": {
    "colab": {
     "base_uri": "https://localhost:8080/",
     "height": 184
    },
    "colab_type": "code",
    "executionInfo": {
     "elapsed": 10833372,
     "status": "ok",
     "timestamp": 1544431576863,
     "user": {
      "displayName": "Виктор Оверко",
      "photoUrl": "https://lh6.googleusercontent.com/-_I9YbAF9z5o/AAAAAAAAAAI/AAAAAAAAABA/NUb59sonytE/s64/photo.jpg",
      "userId": "04713510988786792129"
     },
     "user_tz": -120
    },
    "id": "_Kt1FBV9ygFo",
    "outputId": "5939614d-f88b-42d7-eed0-ff824b7a2448"
   },
   "outputs": [
    {
     "name": "stdout",
     "output_type": "stream",
     "text": [
      "             precision    recall  f1-score   support\n",
      "\n",
      "        0.0       0.97      0.96      0.97    499573\n",
      "        1.0       0.71      0.77      0.74     58027\n",
      "\n",
      "avg / total       0.95      0.94      0.94    557600\n",
      "\n",
      "Confussion matrix: \n",
      " [[481187  18386]\n",
      " [ 13500  44527]]\n"
     ]
    }
   ],
   "source": [
    "print(metrics.classification_report(Y.reshape(-1), Y_predict.reshape(-1)))\n",
    "print(\"Confussion matrix: \\n\", metrics.confusion_matrix(Y.reshape(-1), Y_predict.reshape(-1), labels=[0, 1]))"
   ]
  },
  {
   "cell_type": "markdown",
   "metadata": {
    "colab_type": "text",
    "id": "EGeNeX4V0nLx"
   },
   "source": [
    "80 epochs\n",
    "\n",
    "precision    recall  f1-score   support\n",
    "\n",
    "        0.0       0.98      0.99      0.98    359547\n",
    "        1.0       0.84      0.79      0.81     31253\n",
    "\n",
    "avg / total       0.97      0.97      0.97    390800\n",
    "\n",
    "Confussion matrix: \n",
    "\n",
    " [[354900   4647]\n",
    " \n",
    " [  6612  24641]]"
   ]
  },
  {
   "cell_type": "code",
   "execution_count": 0,
   "metadata": {
    "colab": {},
    "colab_type": "code",
    "id": "U-Y9dHf_v7HS"
   },
   "outputs": [],
   "source": [
    "#count = 0 \n",
    "#for i in range(Y_predict.shape[0]):\n",
    "#  if np.sum(Y_predict[i, :]) != 0:\n",
    "#    print(\" I =\", i, \"____________\")\n",
    "#    print(Y_predict[i])\n",
    "#    count += 1\n",
    "#print(\"total =\", count)"
   ]
  },
  {
   "cell_type": "code",
   "execution_count": 0,
   "metadata": {
    "colab": {},
    "colab_type": "code",
    "id": "Bmo7DteQv9iN"
   },
   "outputs": [],
   "source": [
    "files.download(\"encoder_model.json\")\n",
    "files.download(\"decoder_model.json\")\n",
    "files.download(\"encoder_model_weights.h5\")\n",
    "files.download(\"decoder_model_weights.h5\")\n"
   ]
  },
  {
   "cell_type": "code",
   "execution_count": 0,
   "metadata": {
    "colab": {},
    "colab_type": "code",
    "id": "iyNar7YXwGRN"
   },
   "outputs": [],
   "source": []
  }
 ],
 "metadata": {
  "accelerator": "GPU",
  "colab": {
   "collapsed_sections": [],
   "name": "seq2seq.ipynb",
   "provenance": [],
   "version": "0.3.2"
  },
  "kernelspec": {
   "display_name": "Python 3",
   "language": "python",
   "name": "python3"
  },
  "language_info": {
   "codemirror_mode": {
    "name": "ipython",
    "version": 3
   },
   "file_extension": ".py",
   "mimetype": "text/x-python",
   "name": "python",
   "nbconvert_exporter": "python",
   "pygments_lexer": "ipython3",
   "version": "3.6.5"
  }
 },
 "nbformat": 4,
 "nbformat_minor": 1
}
