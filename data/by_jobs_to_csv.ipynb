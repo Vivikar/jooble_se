{
 "cells": [
  {
   "cell_type": "code",
   "execution_count": 2,
   "metadata": {},
   "outputs": [],
   "source": [
    "import json\n",
    "import gzip\n",
    "import os\n",
    "\n",
    "import pandas as pd\n",
    "import numpy as np\n",
    "import requests\n",
    "\n",
    "import config\n",
    "\n",
    "data_path = os.path.join(\"by_jobs\")\n",
    "text_processing_url = config.text_processing_url\n",
    "n_vacancies_to_save = 10_000\n",
    "\n",
    "pd.options.display.max_rows = 20\n",
    "pd.set_option('display.max_columns', None)"
   ]
  },
  {
   "cell_type": "markdown",
   "metadata": {},
   "source": [
    "### Read data from \"by_jobs\" folder"
   ]
  },
  {
   "cell_type": "code",
   "execution_count": 3,
   "metadata": {},
   "outputs": [],
   "source": [
    "def load_data(data_path):\n",
    "    \"\"\"\n",
    "    Load all data to pandas.DataFrame\n",
    "    \n",
    "    :param str data_path: Path to folder with data \n",
    "    :return pd.DataFrame data:\n",
    "    \"\"\"\n",
    "    docs_info = []\n",
    "    docs_text = []\n",
    "    file_names = os.listdir(data_path)\n",
    "\n",
    "    for file in file_names:\n",
    "        if \"text\" in file:\n",
    "            with gzip.open(os.path.join(data_path, file), \"rb\") as f:\n",
    "                for line in f:\n",
    "                    vacancy = json.loads(line)\n",
    "                    docs_text.append(vacancy)\n",
    "        else:\n",
    "            with gzip.open(os.path.join(data_path, file), \"rb\") as inf:\n",
    "                for line in inf:\n",
    "                    vacancy = json.loads(line)\n",
    "                    docs_info.append(vacancy)\n",
    "\n",
    "    assert len(docs_info) == len(docs_text)\n",
    "    assert \"id\" in docs_info[0].keys()\n",
    "    assert \"id_job\" in docs_text[0].keys()\n",
    "\n",
    "    docs_info = pd.DataFrame(docs_info)\n",
    "    docs_text = pd.DataFrame(docs_text)\n",
    "    docs_info.drop_duplicates([\"id\"], inplace=True)\n",
    "    docs_text.drop_duplicates([\"id_job\"], inplace=True)\n",
    "    data = docs_info.merge(docs_text, left_on='id', right_on='id_job', how='outer')\n",
    "    \n",
    "    return data"
   ]
  },
  {
   "cell_type": "code",
   "execution_count": 21,
   "metadata": {},
   "outputs": [
    {
     "name": "stdout",
     "output_type": "stream",
     "text": [
      "<class 'pandas.core.frame.DataFrame'>\n",
      "Int64Index: 90081 entries, 0 to 90080\n",
      "Data columns (total 41 columns):\n",
      "campaigns              0 non-null object\n",
      "checksum               90081 non-null object\n",
      "company_name           90081 non-null object\n",
      "company_name_hash64    90081 non-null object\n",
      "date_created_x         90081 non-null object\n",
      "date_expired           90081 non-null object\n",
      "date_updated           90081 non-null object\n",
      "emails                 90081 non-null object\n",
      "emails_src             90081 non-null object\n",
      "html_desc_mode         90081 non-null object\n",
      "id                     90081 non-null object\n",
      "id_campaign            90081 non-null object\n",
      "id_currency            90081 non-null object\n",
      "id_language            90081 non-null object\n",
      "id_project             90081 non-null object\n",
      "id_region              90081 non-null object\n",
      "id_salary_rate         90081 non-null object\n",
      "id_similar_group       90081 non-null object\n",
      "inactive               90081 non-null object\n",
      "is_active              90081 non-null object\n",
      "is_group_creator       90081 non-null object\n",
      "is_pdf                 90081 non-null object\n",
      "job_type1              90081 non-null object\n",
      "job_type2              90081 non-null object\n",
      "lang_text              90081 non-null object\n",
      "lang_title             90081 non-null object\n",
      "partial_update         0 non-null object\n",
      "rel_bonus              90081 non-null object\n",
      "salary_val1            90081 non-null object\n",
      "salary_val2            90081 non-null object\n",
      "telephones             0 non-null object\n",
      "title                  90081 non-null object\n",
      "title_normalized       90081 non-null object\n",
      "uid                    90081 non-null object\n",
      "url                    90081 non-null object\n",
      "date_created_y         90081 non-null object\n",
      "id_job                 90081 non-null object\n",
      "text                   90081 non-null object\n",
      "text_hash64            90081 non-null object\n",
      "text_word_count        90081 non-null object\n",
      "title_hash64           90081 non-null object\n",
      "dtypes: object(41)\n",
      "memory usage: 28.9+ MB\n",
      "None\n"
     ]
    }
   ],
   "source": [
    "full_df = load_data(data_path)\n",
    "print(full_df.info())"
   ]
  },
  {
   "cell_type": "code",
   "execution_count": 22,
   "metadata": {},
   "outputs": [],
   "source": [
    "full_df.to_csv(\"by_jobs_full.csv\", sep='\\t', header=True, index=False)"
   ]
  },
  {
   "cell_type": "code",
   "execution_count": 23,
   "metadata": {},
   "outputs": [],
   "source": [
    "nessesary_df = full_df.reindex(columns=[\"id\",\n",
    "                                        \"title\",\n",
    "                                        \"lang_title\",\n",
    "                                        \"title_normalized\",\n",
    "                                        \"title_lemmas\",\n",
    "                                        \"title_lemmas_tags\",\n",
    "                                        \"title_tokens\",                    \n",
    "                                        \"text\", \n",
    "                                        \"lang_text\",\n",
    "                                        \"text_normalized\",\n",
    "                                        \"text_lemmas\",\n",
    "                                        \"text_lemmas_tags\",\n",
    "                                        \"text_tokens\",\n",
    "                                        \"url\"])"
   ]
  },
  {
   "cell_type": "code",
   "execution_count": 24,
   "metadata": {},
   "outputs": [
    {
     "name": "stdout",
     "output_type": "stream",
     "text": [
      "<class 'pandas.core.frame.DataFrame'>\n",
      "Int64Index: 90081 entries, 0 to 90080\n",
      "Data columns (total 14 columns):\n",
      "id                   90081 non-null object\n",
      "title                90081 non-null object\n",
      "lang_title           90081 non-null object\n",
      "title_normalized     90081 non-null object\n",
      "title_lemmas         0 non-null float64\n",
      "title_lemmas_tags    0 non-null float64\n",
      "title_tokens         0 non-null float64\n",
      "text                 90081 non-null object\n",
      "lang_text            90081 non-null object\n",
      "text_normalized      0 non-null float64\n",
      "text_lemmas          0 non-null float64\n",
      "text_lemmas_tags     0 non-null float64\n",
      "text_tokens          0 non-null float64\n",
      "url                  90081 non-null object\n",
      "dtypes: float64(7), object(7)\n",
      "memory usage: 10.3+ MB\n",
      "None\n"
     ]
    }
   ],
   "source": [
    "print(nessesary_df.info())"
   ]
  },
  {
   "cell_type": "markdown",
   "metadata": {},
   "source": [
    "### Normalize text and title using text_preprocessing service"
   ]
  },
  {
   "cell_type": "code",
   "execution_count": 25,
   "metadata": {},
   "outputs": [],
   "source": [
    "# drop prepared data\n",
    "nessesary_df = nessesary_df.loc[10_000: ]"
   ]
  },
  {
   "cell_type": "code",
   "execution_count": null,
   "metadata": {},
   "outputs": [],
   "source": [
    "%%time\n",
    "for index, row in nessesary_df.iterrows():\n",
    "    \n",
    "    fields = [\"title\", \"text\"]\n",
    "    for field in fields:\n",
    "        text = row[field]\n",
    "        r = requests.post(text_processing_url + config.STEM_TEXT_PATH,\n",
    "                          json=text)\n",
    "        nessesary_df.loc[index, field + \"_normalized\"] = r.text\n",
    "        \n",
    "        r = requests.post(text_processing_url + config.LEMM_TEXT_PATH,\n",
    "                          json=text)\n",
    "        nessesary_df.loc[index, field + \"_lemmas\"] = r.text\n",
    "        \n",
    "        r = requests.post(text_processing_url + config.TAG_TEXT_PATH,\n",
    "                          json=text)\n",
    "        nessesary_df.loc[index, field + \"_lemmas_tags\"] = r.text\n",
    "        \n",
    "        r = requests.post(text_processing_url + config.TOKEN_TEXT_PATH,\n",
    "                          json=text)\n",
    "        nessesary_df.loc[index, field + \"_tokens\"] = r.text\n",
    "        \n",
    "        r = requests.post(text_processing_url + config.DETECT_LANG_PATH ,\n",
    "                          json=text)\n",
    "        nessesary_df.loc[index, \"lang_\" + field] = r.text\n",
    "        \n",
    "    \n",
    "    if index % 1000 == 0:\n",
    "        file_name = \"by_jobs_10K_to_\" + str(index) + \".csv\"\n",
    "        print(index)\n",
    "        nessesary_df.to_csv(file_name, sep='\\t', header=True, index=None)\n",
    "  "
   ]
  },
  {
   "cell_type": "code",
   "execution_count": 33,
   "metadata": {},
   "outputs": [],
   "source": [
    "nessesary_df = nessesary_df[np.logical_or(nessesary_df[\"lang_text\"]==\"russian\",\n",
    "                                          nessesary_df[\"lang_text\"]==\"english\")]"
   ]
  },
  {
   "cell_type": "code",
   "execution_count": 34,
   "metadata": {},
   "outputs": [
    {
     "name": "stdout",
     "output_type": "stream",
     "text": [
      "50809\n",
      "<class 'pandas.core.frame.DataFrame'>\n",
      "Int64Index: 50809 entries, 10000 to 60808\n",
      "Data columns (total 14 columns):\n",
      "id                   50809 non-null object\n",
      "title                50809 non-null object\n",
      "lang_title           50809 non-null object\n",
      "title_normalized     50809 non-null object\n",
      "title_lemmas         50809 non-null object\n",
      "title_lemmas_tags    50809 non-null object\n",
      "title_tokens         50809 non-null object\n",
      "text                 50809 non-null object\n",
      "lang_text            50809 non-null object\n",
      "text_normalized      50809 non-null object\n",
      "text_lemmas          50809 non-null object\n",
      "text_lemmas_tags     50809 non-null object\n",
      "text_tokens          50809 non-null object\n",
      "url                  50809 non-null object\n",
      "dtypes: object(14)\n",
      "memory usage: 5.8+ MB\n",
      "None\n"
     ]
    }
   ],
   "source": [
    "print(len(nessesary_df))\n",
    "print(nessesary_df.info())"
   ]
  },
  {
   "cell_type": "code",
   "execution_count": 35,
   "metadata": {},
   "outputs": [
    {
     "data": {
      "text/html": [
       "<div>\n",
       "<style scoped>\n",
       "    .dataframe tbody tr th:only-of-type {\n",
       "        vertical-align: middle;\n",
       "    }\n",
       "\n",
       "    .dataframe tbody tr th {\n",
       "        vertical-align: top;\n",
       "    }\n",
       "\n",
       "    .dataframe thead th {\n",
       "        text-align: right;\n",
       "    }\n",
       "</style>\n",
       "<table border=\"1\" class=\"dataframe\">\n",
       "  <thead>\n",
       "    <tr style=\"text-align: right;\">\n",
       "      <th></th>\n",
       "      <th>id</th>\n",
       "      <th>title</th>\n",
       "      <th>lang_title</th>\n",
       "      <th>title_normalized</th>\n",
       "      <th>title_lemmas</th>\n",
       "      <th>title_lemmas_tags</th>\n",
       "      <th>title_tokens</th>\n",
       "      <th>text</th>\n",
       "      <th>lang_text</th>\n",
       "      <th>text_normalized</th>\n",
       "      <th>text_lemmas</th>\n",
       "      <th>text_lemmas_tags</th>\n",
       "      <th>text_tokens</th>\n",
       "      <th>url</th>\n",
       "    </tr>\n",
       "  </thead>\n",
       "  <tbody>\n",
       "    <tr>\n",
       "      <th>60804</th>\n",
       "      <td>-6380895435018986256</td>\n",
       "      <td>Художник векторной графики. Отрисовать из jpg ...</td>\n",
       "      <td>russian</td>\n",
       "      <td>художник векторн график отрисова jpg a удален</td>\n",
       "      <td>художник векторный график рисовать jpg ai удал...</td>\n",
       "      <td>художник_NOUN векторный_ADJ график_NOUN рисова...</td>\n",
       "      <td>художник векторной графики отрисовать jpg ai у...</td>\n",
       "      <td>Необходимо отрисовать рисунок jpg в ai (2-3 шт)</td>\n",
       "      <td>russian</td>\n",
       "      <td>необходим отрисова рисунок jpg a шт</td>\n",
       "      <td>необходимый рисовать рисунок jpg ai штука</td>\n",
       "      <td>необходимый_ADJ рисовать_VERB рисунок_NOUN jpg...</td>\n",
       "      <td>необходимо отрисовать рисунок jpg ai шт</td>\n",
       "      <td>https://www.fl.ru/projects/3107090/otrisovat-i...</td>\n",
       "    </tr>\n",
       "    <tr>\n",
       "      <th>60805</th>\n",
       "      <td>-5127522319541783233</td>\n",
       "      <td>Музыкальный руководитель</td>\n",
       "      <td>russian</td>\n",
       "      <td>музыкальн руководител</td>\n",
       "      <td>музыкальный руководитель</td>\n",
       "      <td>музыкальный_ADJ руководитель_NOUN</td>\n",
       "      <td>музыкальный руководитель</td>\n",
       "      <td>Режим работы:Полный рабочий деньЗарплата:320.0...</td>\n",
       "      <td>russian</td>\n",
       "      <td>реж работ полн рабоч музыкальн руководител спе...</td>\n",
       "      <td>режим работа полный рабочий музыкальный руково...</td>\n",
       "      <td>режим_NOUN работа_NOUN полный_ADJ рабочий_ADJ ...</td>\n",
       "      <td>режим работы полный рабочий музыкальный руково...</td>\n",
       "      <td>http://minsk.regiony.by/работа/вакансии/#!jobs...</td>\n",
       "    </tr>\n",
       "    <tr>\n",
       "      <th>60806</th>\n",
       "      <td>-2700786999414105615</td>\n",
       "      <td>Грузчик-комплектовщик</td>\n",
       "      <td>russian</td>\n",
       "      <td></td>\n",
       "      <td></td>\n",
       "      <td></td>\n",
       "      <td></td>\n",
       "      <td>работа на складе или на производстве (в цеху),...</td>\n",
       "      <td>russian</td>\n",
       "      <td>работ склад производств цех машин комплектац п...</td>\n",
       "      <td>работа склад производство цех машина комплекта...</td>\n",
       "      <td>работа_NOUN склад_NOUN производство_NOUN цех_N...</td>\n",
       "      <td>работа складе производстве цеху машин комплект...</td>\n",
       "      <td>http://rdw.by/vakansii/gruzchik-komplektovshch...</td>\n",
       "    </tr>\n",
       "    <tr>\n",
       "      <th>60807</th>\n",
       "      <td>3725440889222302714</td>\n",
       "      <td>Создание бота для сообщества в социальной сети...</td>\n",
       "      <td>russian</td>\n",
       "      <td>создан бот сообществ социальн сет контакт удален</td>\n",
       "      <td>создание бовать сообщество социальный сеть кон...</td>\n",
       "      <td>создание_NOUN бовать_NOUN сообщество_NOUN соци...</td>\n",
       "      <td>создание бота сообщества социальной сети конта...</td>\n",
       "      <td>Я занимаюсь преподаванием и разработал некотор...</td>\n",
       "      <td>russian</td>\n",
       "      <td>занима преподаван разработа некотор количеств ...</td>\n",
       "      <td>заниматься преподавание разрабатывать некоторы...</td>\n",
       "      <td>заниматься_VERB преподавание_NOUN разрабатыват...</td>\n",
       "      <td>занимаюсь преподаванием разработал некоторое к...</td>\n",
       "      <td>https://www.fl.ru/projects/3106788/sozdanie-bo...</td>\n",
       "    </tr>\n",
       "    <tr>\n",
       "      <th>60808</th>\n",
       "      <td>3209976227911552970</td>\n",
       "      <td>Operations - Junior Specialist with Scandinavi...</td>\n",
       "      <td>english</td>\n",
       "      <td>oper junior specialist scandinavian languag</td>\n",
       "      <td>operation junior specialist scandinavian language</td>\n",
       "      <td>operation junior specialist scandinavian language</td>\n",
       "      <td>operations junior specialist scandinavian lang...</td>\n",
       "      <td>Accenture is a global management consulting, t...</td>\n",
       "      <td>english</td>\n",
       "      <td>accentur global manag consult technolog servic...</td>\n",
       "      <td>accenture global management consulting technol...</td>\n",
       "      <td>accenture global management consulting technol...</td>\n",
       "      <td>accenture global management consulting technol...</td>\n",
       "      <td>https://www.careersinpoland.com/job/accenture/...</td>\n",
       "    </tr>\n",
       "  </tbody>\n",
       "</table>\n",
       "</div>"
      ],
      "text/plain": [
       "                         id  \\\n",
       "60804  -6380895435018986256   \n",
       "60805  -5127522319541783233   \n",
       "60806  -2700786999414105615   \n",
       "60807   3725440889222302714   \n",
       "60808   3209976227911552970   \n",
       "\n",
       "                                                   title lang_title  \\\n",
       "60804  Художник векторной графики. Отрисовать из jpg ...    russian   \n",
       "60805                           Музыкальный руководитель    russian   \n",
       "60806                              Грузчик-комплектовщик    russian   \n",
       "60807  Создание бота для сообщества в социальной сети...    russian   \n",
       "60808  Operations - Junior Specialist with Scandinavi...    english   \n",
       "\n",
       "                                       title_normalized  \\\n",
       "60804     художник векторн график отрисова jpg a удален   \n",
       "60805                             музыкальн руководител   \n",
       "60806                                                     \n",
       "60807  создан бот сообществ социальн сет контакт удален   \n",
       "60808       oper junior specialist scandinavian languag   \n",
       "\n",
       "                                            title_lemmas  \\\n",
       "60804  художник векторный график рисовать jpg ai удал...   \n",
       "60805                           музыкальный руководитель   \n",
       "60806                                                      \n",
       "60807  создание бовать сообщество социальный сеть кон...   \n",
       "60808  operation junior specialist scandinavian language   \n",
       "\n",
       "                                       title_lemmas_tags  \\\n",
       "60804  художник_NOUN векторный_ADJ график_NOUN рисова...   \n",
       "60805                  музыкальный_ADJ руководитель_NOUN   \n",
       "60806                                                      \n",
       "60807  создание_NOUN бовать_NOUN сообщество_NOUN соци...   \n",
       "60808  operation junior specialist scandinavian language   \n",
       "\n",
       "                                            title_tokens  \\\n",
       "60804  художник векторной графики отрисовать jpg ai у...   \n",
       "60805                           музыкальный руководитель   \n",
       "60806                                                      \n",
       "60807  создание бота сообщества социальной сети конта...   \n",
       "60808  operations junior specialist scandinavian lang...   \n",
       "\n",
       "                                                    text lang_text  \\\n",
       "60804    Необходимо отрисовать рисунок jpg в ai (2-3 шт)   russian   \n",
       "60805  Режим работы:Полный рабочий деньЗарплата:320.0...   russian   \n",
       "60806  работа на складе или на производстве (в цеху),...   russian   \n",
       "60807  Я занимаюсь преподаванием и разработал некотор...   russian   \n",
       "60808  Accenture is a global management consulting, t...   english   \n",
       "\n",
       "                                         text_normalized  \\\n",
       "60804                необходим отрисова рисунок jpg a шт   \n",
       "60805  реж работ полн рабоч музыкальн руководител спе...   \n",
       "60806  работ склад производств цех машин комплектац п...   \n",
       "60807  занима преподаван разработа некотор количеств ...   \n",
       "60808  accentur global manag consult technolog servic...   \n",
       "\n",
       "                                             text_lemmas  \\\n",
       "60804          необходимый рисовать рисунок jpg ai штука   \n",
       "60805  режим работа полный рабочий музыкальный руково...   \n",
       "60806  работа склад производство цех машина комплекта...   \n",
       "60807  заниматься преподавание разрабатывать некоторы...   \n",
       "60808  accenture global management consulting technol...   \n",
       "\n",
       "                                        text_lemmas_tags  \\\n",
       "60804  необходимый_ADJ рисовать_VERB рисунок_NOUN jpg...   \n",
       "60805  режим_NOUN работа_NOUN полный_ADJ рабочий_ADJ ...   \n",
       "60806  работа_NOUN склад_NOUN производство_NOUN цех_N...   \n",
       "60807  заниматься_VERB преподавание_NOUN разрабатыват...   \n",
       "60808  accenture global management consulting technol...   \n",
       "\n",
       "                                             text_tokens  \\\n",
       "60804            необходимо отрисовать рисунок jpg ai шт   \n",
       "60805  режим работы полный рабочий музыкальный руково...   \n",
       "60806  работа складе производстве цеху машин комплект...   \n",
       "60807  занимаюсь преподаванием разработал некоторое к...   \n",
       "60808  accenture global management consulting technol...   \n",
       "\n",
       "                                                     url  \n",
       "60804  https://www.fl.ru/projects/3107090/otrisovat-i...  \n",
       "60805  http://minsk.regiony.by/работа/вакансии/#!jobs...  \n",
       "60806  http://rdw.by/vakansii/gruzchik-komplektovshch...  \n",
       "60807  https://www.fl.ru/projects/3106788/sozdanie-bo...  \n",
       "60808  https://www.careersinpoland.com/job/accenture/...  "
      ]
     },
     "execution_count": 35,
     "metadata": {},
     "output_type": "execute_result"
    }
   ],
   "source": [
    "nessesary_df.tail()"
   ]
  },
  {
   "cell_type": "code",
   "execution_count": 37,
   "metadata": {},
   "outputs": [
    {
     "name": "stdout",
     "output_type": "stream",
     "text": [
      "<class 'pandas.core.frame.DataFrame'>\n",
      "RangeIndex: 10001 entries, 0 to 10000\n",
      "Data columns (total 14 columns):\n",
      "id                   10001 non-null int64\n",
      "title                10001 non-null object\n",
      "lang_title           10001 non-null object\n",
      "title_normalized     9048 non-null object\n",
      "title_lemmas         9048 non-null object\n",
      "title_lemmas_tags    9048 non-null object\n",
      "title_tokens         9048 non-null object\n",
      "text                 10001 non-null object\n",
      "lang_text            10001 non-null object\n",
      "text_normalized      10000 non-null object\n",
      "text_lemmas          10000 non-null object\n",
      "text_lemmas_tags     10000 non-null object\n",
      "text_tokens          10000 non-null object\n",
      "url                  10001 non-null object\n",
      "dtypes: int64(1), object(13)\n",
      "memory usage: 1.1+ MB\n",
      "None\n"
     ]
    }
   ],
   "source": [
    "exist_df = pd.read_csv(os.path.join(\"headHunter_data\", \"by_jobs.csv\"), sep='\\t')\n",
    "exist_df = exist_df.loc[np.logical_or(exist_df[\"lang_text\"]==\"russian\",\n",
    "                                      exist_df[\"lang_text\"]==\"english\")]\n",
    "exist_df.reset_index(drop=True, inplace=True)\n",
    "print(exist_df.info())"
   ]
  },
  {
   "cell_type": "code",
   "execution_count": 38,
   "metadata": {},
   "outputs": [
    {
     "name": "stdout",
     "output_type": "stream",
     "text": [
      "<class 'pandas.core.frame.DataFrame'>\n",
      "Int64Index: 50809 entries, 10000 to 60808\n",
      "Data columns (total 14 columns):\n",
      "id                   50809 non-null object\n",
      "title                50809 non-null object\n",
      "lang_title           50809 non-null object\n",
      "title_normalized     50809 non-null object\n",
      "title_lemmas         50809 non-null object\n",
      "title_lemmas_tags    50809 non-null object\n",
      "title_tokens         50809 non-null object\n",
      "text                 50809 non-null object\n",
      "lang_text            50809 non-null object\n",
      "text_normalized      50809 non-null object\n",
      "text_lemmas          50809 non-null object\n",
      "text_lemmas_tags     50809 non-null object\n",
      "text_tokens          50809 non-null object\n",
      "url                  50809 non-null object\n",
      "dtypes: object(14)\n",
      "memory usage: 5.8+ MB\n"
     ]
    }
   ],
   "source": [
    "nessesary_df.info()"
   ]
  },
  {
   "cell_type": "code",
   "execution_count": 40,
   "metadata": {},
   "outputs": [
    {
     "name": "stdout",
     "output_type": "stream",
     "text": [
      "Final size of dataset = 60810\n"
     ]
    }
   ],
   "source": [
    "exist_df = exist_df.append(nessesary_df, ignore_index=True, sort=True)\n",
    "print(\"Final size of dataset =\", len(exist_df))"
   ]
  },
  {
   "cell_type": "code",
   "execution_count": 42,
   "metadata": {},
   "outputs": [],
   "source": [
    "exist_df.to_csv(\"by_jobs.csv\", sep='\\t', header=True, index=None)"
   ]
  },
  {
   "cell_type": "markdown",
   "metadata": {},
   "source": [
    "### Check saved data"
   ]
  },
  {
   "cell_type": "code",
   "execution_count": 30,
   "metadata": {},
   "outputs": [
    {
     "name": "stderr",
     "output_type": "stream",
     "text": [
      "C:\\My_programs\\Miniconda3\\lib\\site-packages\\IPython\\core\\interactiveshell.py:2785: DtypeWarning: Columns (4,5,6,9,10,11,12) have mixed types. Specify dtype option on import or set low_memory=False.\n",
      "  interactivity=interactivity, compiler=compiler, result=result)\n"
     ]
    },
    {
     "name": "stdout",
     "output_type": "stream",
     "text": [
      "<class 'pandas.core.frame.DataFrame'>\n",
      "RangeIndex: 80081 entries, 0 to 80080\n",
      "Data columns (total 14 columns):\n",
      "id                   80081 non-null int64\n",
      "title                80081 non-null object\n",
      "lang_title           80081 non-null object\n",
      "title_normalized     75770 non-null object\n",
      "title_lemmas         46496 non-null object\n",
      "title_lemmas_tags    46496 non-null object\n",
      "title_tokens         46499 non-null object\n",
      "text                 80081 non-null object\n",
      "lang_text            80081 non-null object\n",
      "text_normalized      50800 non-null object\n",
      "text_lemmas          50800 non-null object\n",
      "text_lemmas_tags     50800 non-null object\n",
      "text_tokens          50800 non-null object\n",
      "url                  80081 non-null object\n",
      "dtypes: int64(1), object(13)\n",
      "memory usage: 8.6+ MB\n"
     ]
    }
   ],
   "source": [
    "exist_df = pd.read_csv(\"by_jobs.csv\", sep='\\t')\n",
    "exist_df.info()                   "
   ]
  },
  {
   "cell_type": "code",
   "execution_count": 31,
   "metadata": {},
   "outputs": [],
   "source": [
    "del  exist_df"
   ]
  }
 ],
 "metadata": {
  "kernelspec": {
   "display_name": "Python 3",
   "language": "python",
   "name": "python3"
  },
  "language_info": {
   "codemirror_mode": {
    "name": "ipython",
    "version": 3
   },
   "file_extension": ".py",
   "mimetype": "text/x-python",
   "name": "python",
   "nbconvert_exporter": "python",
   "pygments_lexer": "ipython3",
   "version": "3.6.5"
  }
 },
 "nbformat": 4,
 "nbformat_minor": 2
}
