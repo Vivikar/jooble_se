{
 "cells": [
  {
   "cell_type": "code",
   "execution_count": 111,
   "metadata": {
    "collapsed": true
   },
   "outputs": [],
   "source": [
    "import json\n",
    "import time\n",
    "import pickle\n",
    "\n",
    "import requests\n",
    "import pandas as pd\n",
    "\n",
    "url_main = 'https://api.hh.ru/vacancies'\n",
    "param = \"?\"\n",
    "hosts = [\"host=hh.ua\", \"host=hh.ru\", \"host=career.ru\", \"host=jobs.tut.by\",\n",
    "        \"host=jobs.day.az\", \"host=hh.uz\", \"host=hh.kz\", \"host=headhunter.ge\",\n",
    "       \"host=headhunter.kg\"]\n",
    "an = \"&\"\n",
    "per_p = \"per_page=\"\n",
    "page = \"page=\"\n",
    "url =  'https://api.hh.ru/vacancies?host=hh.ua&per_page=100&page='"
   ]
  },
  {
   "cell_type": "code",
   "execution_count": 51,
   "metadata": {},
   "outputs": [
    {
     "name": "stdout",
     "output_type": "stream",
     "text": [
      "200\n"
     ]
    },
    {
     "data": {
      "text/plain": [
       "100"
      ]
     },
     "execution_count": 51,
     "metadata": {},
     "output_type": "execute_result"
    }
   ],
   "source": [
    "r = requests.get('https://api.hh.ru/vacancies?host=hh.ua&per_page=100&page=0')\n",
    "print(r.status_code)\n",
    "#print(r.text)\n",
    "#vacancies = json.loads(r.text)\n",
    "#print(json.loads(r.text)[\"items\"][0])\n",
    "#print()\n",
    "#print(json.loads(r.text)[\"items\"][0][\"snippet\"])\n",
    "len(json.loads(r.text)[\"items\"])"
   ]
  },
  {
   "cell_type": "code",
   "execution_count": 159,
   "metadata": {},
   "outputs": [],
   "source": [
    "\n",
    "\n",
    "def load_vacancies_ids(url, hosts):\n",
    "    vacancies = []\n",
    "    vac_ids = []\n",
    "    param = \"?\"\n",
    "    an = \"&\"\n",
    "    per_page = \"per_page=100\"\n",
    "    page = \"page=\"\n",
    "    for host in hosts:\n",
    "        for i in range(20):\n",
    "            url_mod = url + param + host\n",
    "            url_mod = url_mod + an + per_page + an + page + str(i)\n",
    "            r = requests.get(url_mod)\n",
    "            vac = json.loads(r.text)\n",
    "            vacancies = vacancies + vac[\"items\"]\n",
    "            vac_ids = vac_ids + [i[\"id\"] for i in vac[\"items\"]]\n",
    "    return vac_ids, vacancies\n",
    "\n"
   ]
  },
  {
   "cell_type": "code",
   "execution_count": 160,
   "metadata": {},
   "outputs": [
    {
     "name": "stdout",
     "output_type": "stream",
     "text": [
      "CPU times: user 8.75 s, sys: 2.24 s, total: 11 s\n",
      "Wall time: 2min 6s\n"
     ]
    }
   ],
   "source": [
    "%%time\n",
    "vac_ids, vacancies = load_vacancies_ids(url_main, hosts)"
   ]
  },
  {
   "cell_type": "code",
   "execution_count": 161,
   "metadata": {},
   "outputs": [
    {
     "data": {
      "text/plain": [
       "18000"
      ]
     },
     "execution_count": 161,
     "metadata": {},
     "output_type": "execute_result"
    }
   ],
   "source": [
    "len(vac_ids)"
   ]
  },
  {
   "cell_type": "code",
   "execution_count": 162,
   "metadata": {
    "collapsed": true
   },
   "outputs": [],
   "source": [
    "ids_set = set(vac_ids)"
   ]
  },
  {
   "cell_type": "code",
   "execution_count": 163,
   "metadata": {},
   "outputs": [
    {
     "data": {
      "text/plain": [
       "3653"
      ]
     },
     "execution_count": 163,
     "metadata": {},
     "output_type": "execute_result"
    }
   ],
   "source": [
    "len(ids_set)"
   ]
  },
  {
   "cell_type": "code",
   "execution_count": 164,
   "metadata": {},
   "outputs": [
    {
     "data": {
      "text/plain": [
       "'28298956'"
      ]
     },
     "execution_count": 164,
     "metadata": {},
     "output_type": "execute_result"
    }
   ],
   "source": [
    "list(ids_set)[100]"
   ]
  },
  {
   "cell_type": "code",
   "execution_count": 128,
   "metadata": {},
   "outputs": [],
   "source": [
    "with open(\"hh_ids.dat\", \"wb\") as ouf:\n",
    "    pickle.dump(list(ids_set), ouf)"
   ]
  },
  {
   "cell_type": "code",
   "execution_count": 129,
   "metadata": {
    "collapsed": true
   },
   "outputs": [],
   "source": [
    "with open(\"hh_vacancies.dat\", \"wb\") as ouf:\n",
    "    pickle.dump(list(vacancies), ouf)"
   ]
  },
  {
   "cell_type": "code",
   "execution_count": 166,
   "metadata": {
    "collapsed": true
   },
   "outputs": [],
   "source": [
    "\n",
    "def load_vacancies_extended(url, ids):\n",
    "    vacancies_ext = []\n",
    "    count = 0\n",
    "    for i in ids:\n",
    "        url_mod = url + \"/\" + str(i)\n",
    "        r = requests.get(url_mod)\n",
    "        vacancy = json.loads(r.text)\n",
    "        vacancies_ext.append(vacancy)\n",
    "        count += 1\n",
    "        \n",
    "        if count % 500 == 0:\n",
    "            print(count)\n",
    "    return vacancies_ext\n"
   ]
  },
  {
   "cell_type": "code",
   "execution_count": 167,
   "metadata": {},
   "outputs": [
    {
     "name": "stdout",
     "output_type": "stream",
     "text": [
      "500\n",
      "1000\n",
      "1500\n",
      "2000\n",
      "2500\n",
      "3000\n",
      "3500\n",
      "CPU times: user 1min 59s, sys: 13.2 s, total: 2min 13s\n",
      "Wall time: 15min 52s\n"
     ]
    }
   ],
   "source": [
    "%%time\n",
    "vacancies_ext = load_vacancies_extended(url_main, list(ids_set))"
   ]
  },
  {
   "cell_type": "code",
   "execution_count": 168,
   "metadata": {
    "collapsed": true
   },
   "outputs": [],
   "source": [
    "with open(\"hh_vacancies_ext.dat\", \"wb\") as ouf:\n",
    "    pickle.dump(list(vacancies), ouf)"
   ]
  },
  {
   "cell_type": "code",
   "execution_count": 169,
   "metadata": {},
   "outputs": [
    {
     "name": "stdout",
     "output_type": "stream",
     "text": [
      "{'id': '29103664', 'premium': False, 'billing_type': {'id': 'standard', 'name': 'Стандарт'}, 'relations': [], 'name': 'Дизайнер', 'insider_interview': None, 'response_letter_required': False, 'area': {'id': '1002', 'name': 'Минск', 'url': 'https://api.hh.ru/areas/1002'}, 'salary': None, 'type': {'id': 'open', 'name': 'Открытая'}, 'address': {'city': 'Минск', 'street': 'пр. Дзержинского', 'building': '126', 'description': None, 'lat': 53.847395, 'lng': 27.471236, 'raw': None, 'metro': {'station_name': 'Малиновка', 'line_name': 'Московская', 'station_id': '62.472', 'line_id': '62', 'lat': 53.849722, 'lng': 27.474722}, 'metro_stations': [{'station_name': 'Малиновка', 'line_name': 'Московская', 'station_id': '62.472', 'line_id': '62', 'lat': 53.849722, 'lng': 27.474722}]}, 'allow_messages': True, 'site': {'id': 'hh', 'name': 'hh.ru'}, 'experience': {'id': 'between1And3', 'name': 'От 1 года до 3 лет'}, 'schedule': {'id': 'fullDay', 'name': 'Полный день'}, 'employment': {'id': 'full', 'name': 'Полная занятость'}, 'department': None, 'contacts': None, 'description': '<p><strong>Сеть гипермаркетов ProStore приглашает на постоянную работу дизайнера!</strong></p> <p> </p> <p><strong>Задачи для Вас:</strong></p> <ul> <li>Дизайн и верстка еженедельного акционного буклета</li> <li>Разработка макетов и адаптация для размещения в различных каналах коммуникаций</li> <li>Дизайн различной полиграфической продукции (борды, плакаты, флаера и т.д)</li> <li>Подготовка файлов под различные способы печати (офсет, цифра, широкоформатная печать, шелкография и т.д)</li> </ul> <p><strong>Вам понадобится:</strong></p> <ul> <li>Профильное высшее образование (Художественное/дизайн)</li> <li>Креативность, нестандартное мышление, усидчивость, автономность, высокая скорость работы, аккуратность исполнения, терпеливость, стрессоустойчивость</li> <li>Развитые коммуникативные навыки</li> <li>Знание основных принципов допечатной подготовки всех видов печатной продукции</li> <li>Профессиональное владение программными пакетами PhotoShop и CorelDraw - <strong>ОБЯЗАТЕЛЬНО</strong>; Adobe Illustrator, InDesign - желательно.</li> <li>Опыт работы от 2-х лет. Предпочтение отдается кандидатам с опытом работы в типографии.</li> </ul> <p> </p> <p><strong>Условия:</strong></p> <ul> <li>Работа в молодом и дружном коллективе</li> <li>Официальное трудоустройство и полный социальный пакет</li> </ul> <p> </p>', 'branded_description': None, 'key_skills': [{'name': 'Верстка'}, {'name': 'CorelDRAW'}, {'name': 'Полиграфический дизайн'}, {'name': 'Adobe Photoshop'}, {'name': 'Дизайн полиграфии'}, {'name': 'Дизайн'}, {'name': 'Фотография'}], 'accept_handicapped': False, 'accept_kids': False, 'archived': False, 'response_url': None, 'specializations': [{'id': '11.62', 'name': 'Дизайн, графика, живопись', 'profarea_id': '11', 'profarea_name': 'Искусство, развлечения, масс-медиа'}, {'id': '3.64', 'name': 'Дизайнер', 'profarea_id': '3', 'profarea_name': 'Маркетинг, реклама, PR'}], 'code': None, 'hidden': False, 'quick_responses_allowed': False, 'driver_license_types': [], 'accept_incomplete_resumes': False, 'employer': {'id': '746617', 'name': 'ProStore', 'url': 'https://api.hh.ru/employers/746617', 'alternate_url': 'https://hh.ru/employer/746617', 'logo_urls': {'240': 'https://hhcdn.ru/employer-logo/516795.png', 'original': 'https://hhcdn.ru/employer-logo-original/143146.bmp', '90': 'https://hhcdn.ru/employer-logo/516794.png'}, 'vacancies_url': 'https://api.hh.ru/vacancies?employer_id=746617', 'trusted': True}, 'published_at': '2018-11-29T19:55:57+0300', 'created_at': '2018-11-29T19:55:57+0300', 'negotiations_url': None, 'suitable_resumes_url': None, 'apply_alternate_url': 'https://hh.ru/applicant/vacancy_response?vacancyId=29103664', 'has_test': False, 'test': None, 'alternate_url': 'https://hh.ru/vacancy/29103664'}\n"
     ]
    }
   ],
   "source": [
    "print(vacancies_ext[10])"
   ]
  },
  {
   "cell_type": "code",
   "execution_count": 170,
   "metadata": {
    "collapsed": true
   },
   "outputs": [],
   "source": [
    "\n",
    "with open(\"hh_ids.json\", \"w\") as ouf:\n",
    "    json.dump(list(ids_set), ouf, ensure_ascii=False)\n",
    "    \n",
    "with open(\"hh_vacancies.json\", \"w\") as ouf:\n",
    "    json.dump(vacancies, ouf, ensure_ascii=False)\n",
    "    \n",
    "with open(\"hh_vacancies_ext.json\", \"w\") as ouf:\n",
    "    json.dump(vacancies_ext, ouf, ensure_ascii=False)\n",
    "    "
   ]
  },
  {
   "cell_type": "code",
   "execution_count": 171,
   "metadata": {
    "collapsed": true
   },
   "outputs": [],
   "source": [
    "df = pd.DataFrame(vacancies)"
   ]
  },
  {
   "cell_type": "code",
   "execution_count": 172,
   "metadata": {},
   "outputs": [
    {
     "data": {
      "text/html": [
       "<div>\n",
       "<style scoped>\n",
       "    .dataframe tbody tr th:only-of-type {\n",
       "        vertical-align: middle;\n",
       "    }\n",
       "\n",
       "    .dataframe tbody tr th {\n",
       "        vertical-align: top;\n",
       "    }\n",
       "\n",
       "    .dataframe thead th {\n",
       "        text-align: right;\n",
       "    }\n",
       "</style>\n",
       "<table border=\"1\" class=\"dataframe\">\n",
       "  <thead>\n",
       "    <tr style=\"text-align: right;\">\n",
       "      <th></th>\n",
       "      <th>address</th>\n",
       "      <th>alternate_url</th>\n",
       "      <th>apply_alternate_url</th>\n",
       "      <th>archived</th>\n",
       "      <th>area</th>\n",
       "      <th>contacts</th>\n",
       "      <th>created_at</th>\n",
       "      <th>department</th>\n",
       "      <th>employer</th>\n",
       "      <th>has_test</th>\n",
       "      <th>...</th>\n",
       "      <th>premium</th>\n",
       "      <th>published_at</th>\n",
       "      <th>relations</th>\n",
       "      <th>response_letter_required</th>\n",
       "      <th>response_url</th>\n",
       "      <th>salary</th>\n",
       "      <th>snippet</th>\n",
       "      <th>sort_point_distance</th>\n",
       "      <th>type</th>\n",
       "      <th>url</th>\n",
       "    </tr>\n",
       "  </thead>\n",
       "  <tbody>\n",
       "    <tr>\n",
       "      <th>0</th>\n",
       "      <td>{'city': 'Шклов', 'street': 'Интернациональная...</td>\n",
       "      <td>https://hh.ua/vacancy/29103667</td>\n",
       "      <td>https://hh.ua/applicant/vacancy_response?vacan...</td>\n",
       "      <td>False</td>\n",
       "      <td>{'id': '2352', 'name': 'Шклов', 'url': 'https:...</td>\n",
       "      <td>{'name': 'Фомина Юлия', 'email': 'yuliya.fomin...</td>\n",
       "      <td>2018-11-29T19:56:43+0300</td>\n",
       "      <td>None</td>\n",
       "      <td>{'id': '619035', 'name': 'Danone Belarus', 'ur...</td>\n",
       "      <td>False</td>\n",
       "      <td>...</td>\n",
       "      <td>False</td>\n",
       "      <td>2018-11-29T19:56:43+0300</td>\n",
       "      <td>[]</td>\n",
       "      <td>False</td>\n",
       "      <td>None</td>\n",
       "      <td>None</td>\n",
       "      <td>{'requirement': 'Высшее (желательно техническо...</td>\n",
       "      <td>None</td>\n",
       "      <td>{'id': 'open', 'name': 'Открытая'}</td>\n",
       "      <td>https://api.hh.ru/vacancies/29103667?host=hh.ua</td>\n",
       "    </tr>\n",
       "    <tr>\n",
       "      <th>1</th>\n",
       "      <td>None</td>\n",
       "      <td>https://hh.ua/vacancy/29103666</td>\n",
       "      <td>https://hh.ua/applicant/vacancy_response?vacan...</td>\n",
       "      <td>False</td>\n",
       "      <td>{'id': '90', 'name': 'Томск', 'url': 'https://...</td>\n",
       "      <td>None</td>\n",
       "      <td>2018-11-29T19:56:41+0300</td>\n",
       "      <td>None</td>\n",
       "      <td>{'id': '3637261', 'name': 'СИБ-ТОМ', 'url': 'h...</td>\n",
       "      <td>False</td>\n",
       "      <td>...</td>\n",
       "      <td>False</td>\n",
       "      <td>2018-11-29T19:56:41+0300</td>\n",
       "      <td>[]</td>\n",
       "      <td>False</td>\n",
       "      <td>None</td>\n",
       "      <td>{'from': 60000, 'to': 80000, 'currency': 'RUR'...</td>\n",
       "      <td>{'requirement': 'Умение работать в коллективе....</td>\n",
       "      <td>None</td>\n",
       "      <td>{'id': 'open', 'name': 'Открытая'}</td>\n",
       "      <td>https://api.hh.ru/vacancies/29103666?host=hh.ua</td>\n",
       "    </tr>\n",
       "    <tr>\n",
       "      <th>2</th>\n",
       "      <td>{'city': 'Киев', 'street': 'улица Казимира Мал...</td>\n",
       "      <td>https://hh.ua/vacancy/29103665</td>\n",
       "      <td>https://hh.ua/applicant/vacancy_response?vacan...</td>\n",
       "      <td>False</td>\n",
       "      <td>{'id': '115', 'name': 'Киев', 'url': 'https://...</td>\n",
       "      <td>None</td>\n",
       "      <td>2018-11-29T19:55:59+0300</td>\n",
       "      <td>None</td>\n",
       "      <td>{'id': '3150328', 'name': 'Qubit Labs', 'url':...</td>\n",
       "      <td>False</td>\n",
       "      <td>...</td>\n",
       "      <td>False</td>\n",
       "      <td>2018-11-29T19:55:59+0300</td>\n",
       "      <td>[]</td>\n",
       "      <td>False</td>\n",
       "      <td>None</td>\n",
       "      <td>{'from': 1500, 'to': 2500, 'currency': 'USD', ...</td>\n",
       "      <td>{'requirement': 'At least a bachelor degree in...</td>\n",
       "      <td>None</td>\n",
       "      <td>{'id': 'open', 'name': 'Открытая'}</td>\n",
       "      <td>https://api.hh.ru/vacancies/29103665?host=hh.ua</td>\n",
       "    </tr>\n",
       "    <tr>\n",
       "      <th>3</th>\n",
       "      <td>{'city': 'Минск', 'street': 'пр. Дзержинского'...</td>\n",
       "      <td>https://hh.ua/vacancy/29103664</td>\n",
       "      <td>https://hh.ua/applicant/vacancy_response?vacan...</td>\n",
       "      <td>False</td>\n",
       "      <td>{'id': '1002', 'name': 'Минск', 'url': 'https:...</td>\n",
       "      <td>None</td>\n",
       "      <td>2018-11-29T19:55:57+0300</td>\n",
       "      <td>None</td>\n",
       "      <td>{'id': '746617', 'name': 'ProStore', 'url': 'h...</td>\n",
       "      <td>False</td>\n",
       "      <td>...</td>\n",
       "      <td>False</td>\n",
       "      <td>2018-11-29T19:55:57+0300</td>\n",
       "      <td>[]</td>\n",
       "      <td>False</td>\n",
       "      <td>None</td>\n",
       "      <td>None</td>\n",
       "      <td>{'requirement': 'Профильное высшее образование...</td>\n",
       "      <td>None</td>\n",
       "      <td>{'id': 'open', 'name': 'Открытая'}</td>\n",
       "      <td>https://api.hh.ru/vacancies/29103664?host=hh.ua</td>\n",
       "    </tr>\n",
       "    <tr>\n",
       "      <th>4</th>\n",
       "      <td>{'city': 'Смоленск', 'street': 'Чуриловский пе...</td>\n",
       "      <td>https://hh.ua/vacancy/29103661</td>\n",
       "      <td>https://hh.ua/applicant/vacancy_response?vacan...</td>\n",
       "      <td>False</td>\n",
       "      <td>{'id': '83', 'name': 'Смоленск', 'url': 'https...</td>\n",
       "      <td>None</td>\n",
       "      <td>2018-11-29T19:55:48+0300</td>\n",
       "      <td>None</td>\n",
       "      <td>{'id': '2688299', 'name': 'Интернет-студия Вре...</td>\n",
       "      <td>False</td>\n",
       "      <td>...</td>\n",
       "      <td>False</td>\n",
       "      <td>2018-11-29T19:55:48+0300</td>\n",
       "      <td>[]</td>\n",
       "      <td>False</td>\n",
       "      <td>None</td>\n",
       "      <td>{'from': 35000, 'to': None, 'currency': 'RUR',...</td>\n",
       "      <td>{'requirement': '1. Высшее образование ( в при...</td>\n",
       "      <td>None</td>\n",
       "      <td>{'id': 'open', 'name': 'Открытая'}</td>\n",
       "      <td>https://api.hh.ru/vacancies/29103661?host=hh.ua</td>\n",
       "    </tr>\n",
       "  </tbody>\n",
       "</table>\n",
       "<p>5 rows × 23 columns</p>\n",
       "</div>"
      ],
      "text/plain": [
       "                                             address  \\\n",
       "0  {'city': 'Шклов', 'street': 'Интернациональная...   \n",
       "1                                               None   \n",
       "2  {'city': 'Киев', 'street': 'улица Казимира Мал...   \n",
       "3  {'city': 'Минск', 'street': 'пр. Дзержинского'...   \n",
       "4  {'city': 'Смоленск', 'street': 'Чуриловский пе...   \n",
       "\n",
       "                    alternate_url  \\\n",
       "0  https://hh.ua/vacancy/29103667   \n",
       "1  https://hh.ua/vacancy/29103666   \n",
       "2  https://hh.ua/vacancy/29103665   \n",
       "3  https://hh.ua/vacancy/29103664   \n",
       "4  https://hh.ua/vacancy/29103661   \n",
       "\n",
       "                                 apply_alternate_url  archived  \\\n",
       "0  https://hh.ua/applicant/vacancy_response?vacan...     False   \n",
       "1  https://hh.ua/applicant/vacancy_response?vacan...     False   \n",
       "2  https://hh.ua/applicant/vacancy_response?vacan...     False   \n",
       "3  https://hh.ua/applicant/vacancy_response?vacan...     False   \n",
       "4  https://hh.ua/applicant/vacancy_response?vacan...     False   \n",
       "\n",
       "                                                area  \\\n",
       "0  {'id': '2352', 'name': 'Шклов', 'url': 'https:...   \n",
       "1  {'id': '90', 'name': 'Томск', 'url': 'https://...   \n",
       "2  {'id': '115', 'name': 'Киев', 'url': 'https://...   \n",
       "3  {'id': '1002', 'name': 'Минск', 'url': 'https:...   \n",
       "4  {'id': '83', 'name': 'Смоленск', 'url': 'https...   \n",
       "\n",
       "                                            contacts  \\\n",
       "0  {'name': 'Фомина Юлия', 'email': 'yuliya.fomin...   \n",
       "1                                               None   \n",
       "2                                               None   \n",
       "3                                               None   \n",
       "4                                               None   \n",
       "\n",
       "                 created_at department  \\\n",
       "0  2018-11-29T19:56:43+0300       None   \n",
       "1  2018-11-29T19:56:41+0300       None   \n",
       "2  2018-11-29T19:55:59+0300       None   \n",
       "3  2018-11-29T19:55:57+0300       None   \n",
       "4  2018-11-29T19:55:48+0300       None   \n",
       "\n",
       "                                            employer  has_test  \\\n",
       "0  {'id': '619035', 'name': 'Danone Belarus', 'ur...     False   \n",
       "1  {'id': '3637261', 'name': 'СИБ-ТОМ', 'url': 'h...     False   \n",
       "2  {'id': '3150328', 'name': 'Qubit Labs', 'url':...     False   \n",
       "3  {'id': '746617', 'name': 'ProStore', 'url': 'h...     False   \n",
       "4  {'id': '2688299', 'name': 'Интернет-студия Вре...     False   \n",
       "\n",
       "                        ...                        premium  \\\n",
       "0                       ...                          False   \n",
       "1                       ...                          False   \n",
       "2                       ...                          False   \n",
       "3                       ...                          False   \n",
       "4                       ...                          False   \n",
       "\n",
       "               published_at relations  response_letter_required response_url  \\\n",
       "0  2018-11-29T19:56:43+0300        []                     False         None   \n",
       "1  2018-11-29T19:56:41+0300        []                     False         None   \n",
       "2  2018-11-29T19:55:59+0300        []                     False         None   \n",
       "3  2018-11-29T19:55:57+0300        []                     False         None   \n",
       "4  2018-11-29T19:55:48+0300        []                     False         None   \n",
       "\n",
       "                                              salary  \\\n",
       "0                                               None   \n",
       "1  {'from': 60000, 'to': 80000, 'currency': 'RUR'...   \n",
       "2  {'from': 1500, 'to': 2500, 'currency': 'USD', ...   \n",
       "3                                               None   \n",
       "4  {'from': 35000, 'to': None, 'currency': 'RUR',...   \n",
       "\n",
       "                                             snippet sort_point_distance  \\\n",
       "0  {'requirement': 'Высшее (желательно техническо...                None   \n",
       "1  {'requirement': 'Умение работать в коллективе....                None   \n",
       "2  {'requirement': 'At least a bachelor degree in...                None   \n",
       "3  {'requirement': 'Профильное высшее образование...                None   \n",
       "4  {'requirement': '1. Высшее образование ( в при...                None   \n",
       "\n",
       "                                 type  \\\n",
       "0  {'id': 'open', 'name': 'Открытая'}   \n",
       "1  {'id': 'open', 'name': 'Открытая'}   \n",
       "2  {'id': 'open', 'name': 'Открытая'}   \n",
       "3  {'id': 'open', 'name': 'Открытая'}   \n",
       "4  {'id': 'open', 'name': 'Открытая'}   \n",
       "\n",
       "                                               url  \n",
       "0  https://api.hh.ru/vacancies/29103667?host=hh.ua  \n",
       "1  https://api.hh.ru/vacancies/29103666?host=hh.ua  \n",
       "2  https://api.hh.ru/vacancies/29103665?host=hh.ua  \n",
       "3  https://api.hh.ru/vacancies/29103664?host=hh.ua  \n",
       "4  https://api.hh.ru/vacancies/29103661?host=hh.ua  \n",
       "\n",
       "[5 rows x 23 columns]"
      ]
     },
     "execution_count": 172,
     "metadata": {},
     "output_type": "execute_result"
    }
   ],
   "source": [
    "df.head()"
   ]
  },
  {
   "cell_type": "code",
   "execution_count": null,
   "metadata": {
    "collapsed": true
   },
   "outputs": [],
   "source": []
  },
  {
   "cell_type": "code",
   "execution_count": 32,
   "metadata": {
    "collapsed": true
   },
   "outputs": [],
   "source": [
    "with open(\"hh_ids.dat\", \"rb\") as inf:\n",
    "    t = pickle.load(inf)"
   ]
  },
  {
   "cell_type": "code",
   "execution_count": null,
   "metadata": {},
   "outputs": [],
   "source": [
    "with open(\"hh_ids.json\", \"wb\") as ouf:\n",
    "    pickle.dump(list(ids_set), ouf)"
   ]
  },
  {
   "cell_type": "code",
   "execution_count": null,
   "metadata": {
    "collapsed": true
   },
   "outputs": [],
   "source": []
  }
 ],
 "metadata": {
  "kernelspec": {
   "display_name": "Python 3",
   "language": "python",
   "name": "python3"
  },
  "language_info": {
   "codemirror_mode": {
    "name": "ipython",
    "version": 3
   },
   "file_extension": ".py",
   "mimetype": "text/x-python",
   "name": "python",
   "nbconvert_exporter": "python",
   "pygments_lexer": "ipython3",
   "version": "3.6.5"
  }
 },
 "nbformat": 4,
 "nbformat_minor": 2
}
