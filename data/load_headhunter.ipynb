{
 "cells": [
  {
   "cell_type": "code",
   "execution_count": null,
   "metadata": {},
   "outputs": [],
   "source": [
    "import json\n",
    "import time\n",
    "import pickle\n",
    "\n",
    "import requests\n",
    "import pandas as pd\n",
    "\n",
    "url_main = 'https://api.hh.ru/vacancies'\n",
    "param = \"?\"\n",
    "hosts = [\"host=hh.ua\", \"host=hh.ru\", \"host=career.ru\", \"host=jobs.tut.by\",\n",
    "        \"host=jobs.day.az\", \"host=hh.uz\", \"host=hh.kz\", \"host=headhunter.ge\",\n",
    "       \"host=headhunter.kg\"]\n",
    "an = \"&\"\n",
    "per_p = \"per_page=\"\n",
    "page = \"page=\"\n",
    "url =  'https://api.hh.ru/vacancies?host=hh.ua&per_page=100&page='"
   ]
  },
  {
   "cell_type": "code",
   "execution_count": null,
   "metadata": {},
   "outputs": [],
   "source": [
    "r = requests.get('https://api.hh.ru/vacancies?host=hh.ua&per_page=100&page=0')\n",
    "print(r.status_code)\n",
    "#print(r.text)\n",
    "#vacancies = json.loads(r.text)\n",
    "#print(json.loads(r.text)[\"items\"][0])\n",
    "#print()\n",
    "#print(json.loads(r.text)[\"items\"][0][\"snippet\"])\n",
    "len(json.loads(r.text)[\"items\"])"
   ]
  },
  {
   "cell_type": "code",
   "execution_count": null,
   "metadata": {},
   "outputs": [],
   "source": [
    "\n",
    "\n",
    "def load_vacancies_ids(url, hosts):\n",
    "    vacancies = []\n",
    "    vac_ids = []\n",
    "    param = \"?\"\n",
    "    an = \"&\"\n",
    "    per_page = \"per_page=100\"\n",
    "    page = \"page=\"\n",
    "    for host in hosts:\n",
    "        for i in range(20):\n",
    "            url_mod = url + param + host\n",
    "            url_mod = url_mod + an + per_page + an + page + str(i)\n",
    "            r = requests.get(url_mod)\n",
    "            vac = json.loads(r.text)\n",
    "            vacancies = vacancies + vac[\"items\"]\n",
    "            vac_ids = vac_ids + [i[\"id\"] for i in vac[\"items\"]]\n",
    "    return vac_ids, vacancies\n",
    "\n"
   ]
  },
  {
   "cell_type": "code",
   "execution_count": null,
   "metadata": {},
   "outputs": [],
   "source": [
    "%%time\n",
    "vac_ids, vacancies = load_vacancies_ids(url_main, hosts)"
   ]
  },
  {
   "cell_type": "code",
   "execution_count": null,
   "metadata": {},
   "outputs": [],
   "source": [
    "len(vac_ids)"
   ]
  },
  {
   "cell_type": "code",
   "execution_count": null,
   "metadata": {},
   "outputs": [],
   "source": [
    "ids_set = set(vac_ids)"
   ]
  },
  {
   "cell_type": "code",
   "execution_count": null,
   "metadata": {},
   "outputs": [],
   "source": [
    "len(ids_set)"
   ]
  },
  {
   "cell_type": "code",
   "execution_count": null,
   "metadata": {},
   "outputs": [],
   "source": [
    "list(ids_set)[100]"
   ]
  },
  {
   "cell_type": "code",
   "execution_count": null,
   "metadata": {},
   "outputs": [],
   "source": [
    "with open(\"hh_ids.dat\", \"wb\") as ouf:\n",
    "    pickle.dump(list(ids_set), ouf)"
   ]
  },
  {
   "cell_type": "code",
   "execution_count": null,
   "metadata": {},
   "outputs": [],
   "source": [
    "with open(\"hh_vacancies.dat\", \"wb\") as ouf:\n",
    "    pickle.dump(list(vacancies), ouf)"
   ]
  },
  {
   "cell_type": "code",
   "execution_count": null,
   "metadata": {},
   "outputs": [],
   "source": [
    "\n",
    "def load_vacancies_extended(url, ids):\n",
    "    vacancies_ext = []\n",
    "    count = 0\n",
    "    for i in ids:\n",
    "        url_mod = url + \"/\" + str(i)\n",
    "        r = requests.get(url_mod)\n",
    "        vacancy = json.loads(r.text)\n",
    "        vacancies_ext.append(vacancy)\n",
    "        count += 1\n",
    "        \n",
    "        if count % 500 == 0:\n",
    "            print(count)\n",
    "    return vacancies_ext\n"
   ]
  },
  {
   "cell_type": "code",
   "execution_count": null,
   "metadata": {},
   "outputs": [],
   "source": [
    "%%time\n",
    "vacancies_ext = load_vacancies_extended(url_main, list(ids_set))"
   ]
  },
  {
   "cell_type": "code",
   "execution_count": null,
   "metadata": {},
   "outputs": [],
   "source": [
    "with open(\"hh_vacancies_ext.dat\", \"wb\") as ouf:\n",
    "    pickle.dump(list(vacancies), ouf)"
   ]
  },
  {
   "cell_type": "code",
   "execution_count": null,
   "metadata": {},
   "outputs": [],
   "source": [
    "print(vacancies_ext[10])"
   ]
  },
  {
   "cell_type": "code",
   "execution_count": null,
   "metadata": {},
   "outputs": [],
   "source": [
    "\n",
    "with open(\"hh_ids.json\", \"w\") as ouf:\n",
    "    json.dump(list(ids_set), ouf, ensure_ascii=False)\n",
    "    \n",
    "with open(\"hh_vacancies.json\", \"w\") as ouf:\n",
    "    json.dump(vacancies, ouf, ensure_ascii=False)\n",
    "    \n",
    "with open(\"hh_vacancies_ext.json\", \"w\") as ouf:\n",
    "    json.dump(vacancies_ext, ouf, ensure_ascii=False)\n",
    "    "
   ]
  },
  {
   "cell_type": "code",
   "execution_count": null,
   "metadata": {},
   "outputs": [],
   "source": [
    "df = pd.DataFrame(vacancies)"
   ]
  },
  {
   "cell_type": "code",
   "execution_count": null,
   "metadata": {
    "scrolled": true
   },
   "outputs": [],
   "source": [
    "df.head()"
   ]
  },
  {
   "cell_type": "code",
   "execution_count": null,
   "metadata": {},
   "outputs": [],
   "source": []
  },
  {
   "cell_type": "code",
   "execution_count": null,
   "metadata": {},
   "outputs": [],
   "source": [
    "with open(\"hh_ids.dat\", \"rb\") as inf:\n",
    "    t = pickle.load(inf)"
   ]
  },
  {
   "cell_type": "code",
   "execution_count": null,
   "metadata": {},
   "outputs": [],
   "source": [
    "with open(\"hh_ids.json\", \"wb\") as ouf:\n",
    "    pickle.dump(list(ids_set), ouf)"
   ]
  },
  {
   "cell_type": "code",
   "execution_count": null,
   "metadata": {},
   "outputs": [],
   "source": []
  }
 ],
 "metadata": {
  "kernelspec": {
   "display_name": "Python 3",
   "language": "python",
   "name": "python3"
  },
  "language_info": {
   "codemirror_mode": {
    "name": "ipython",
    "version": 3
   },
   "file_extension": ".py",
   "mimetype": "text/x-python",
   "name": "python",
   "nbconvert_exporter": "python",
   "pygments_lexer": "ipython3",
   "version": "3.6.5"
  }
 },
 "nbformat": 4,
 "nbformat_minor": 2
}
